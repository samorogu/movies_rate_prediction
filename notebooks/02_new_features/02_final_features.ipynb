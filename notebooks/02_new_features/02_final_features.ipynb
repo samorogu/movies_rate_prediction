{
 "metadata": {
  "language_info": {
   "codemirror_mode": {
    "name": "ipython",
    "version": 3
   },
   "file_extension": ".py",
   "mimetype": "text/x-python",
   "name": "python",
   "nbconvert_exporter": "python",
   "pygments_lexer": "ipython3",
   "version": "3.7.10-final"
  },
  "orig_nbformat": 2,
  "kernelspec": {
   "name": "python3",
   "display_name": "Python 3.7.10 64-bit ('kueski': conda)",
   "metadata": {
    "interpreter": {
     "hash": "d71a70adb802aa27b8e47a8ed81da61200db36da63030ab7f03f3de50f141ea6"
    }
   }
  }
 },
 "nbformat": 4,
 "nbformat_minor": 2,
 "cells": [
  {
   "cell_type": "code",
   "execution_count": 7,
   "metadata": {},
   "outputs": [],
   "source": [
    "import pandas as pd\n",
    "import numpy as np\n",
    "import plotly.express as px\n",
    "from wordcloud import WordCloud\n",
    "import re\n",
    "from nltk.stem import WordNetLemmatizer\n",
    "from nltk.corpus import stopwords\n",
    "import datetime\n",
    "\n",
    "import os \n",
    "\n",
    "k_colors = ['rgb(0,127,206)','rgb(62,196,4)','rgb(255,125,16)','rgb(253,99,90)']#blue,gree,orange,red\n",
    "plotly_themes = [\"plotly\", \"plotly_white\", \"plotly_dark\", \"ggplot2\", \"seaborn\", \"simple_white\", \"none\"]#plotly_white plotly_dark\n",
    "theme = plotly_themes[1]\n"
   ]
  },
  {
   "cell_type": "code",
   "execution_count": 1,
   "metadata": {},
   "outputs": [],
   "source": [
    "#path to data files\n",
    "notebook_path = os.getcwd()\n",
    "project_path = notebook_path[0:len(notebook_path)-25]+\"data/\"\n",
    "project_code_path = notebook_path[0:len(notebook_path)-25]+\"code/\"\n",
    "\n",
    "import sys\n",
    "sys.path.insert(1, project_code_path)\n",
    "\n",
    "from movies import Movies\n",
    "from genres import Genres\n",
    "from tags import Tags\n",
    "from users import Users"
   ]
  },
  {
   "source": [
    "## Reading the data"
   ],
   "cell_type": "markdown",
   "metadata": {}
  },
  {
   "cell_type": "code",
   "execution_count": 4,
   "metadata": {},
   "outputs": [
    {
     "output_type": "execute_result",
     "data": {
      "text/plain": [
       "   movieId             title                                       genres\n",
       "0        1  Toy Story (1995)  Adventure|Animation|Children|Comedy|Fantasy"
      ],
      "text/html": "<div>\n<style scoped>\n    .dataframe tbody tr th:only-of-type {\n        vertical-align: middle;\n    }\n\n    .dataframe tbody tr th {\n        vertical-align: top;\n    }\n\n    .dataframe thead th {\n        text-align: right;\n    }\n</style>\n<table border=\"1\" class=\"dataframe\">\n  <thead>\n    <tr style=\"text-align: right;\">\n      <th></th>\n      <th>movieId</th>\n      <th>title</th>\n      <th>genres</th>\n    </tr>\n  </thead>\n  <tbody>\n    <tr>\n      <th>0</th>\n      <td>1</td>\n      <td>Toy Story (1995)</td>\n      <td>Adventure|Animation|Children|Comedy|Fantasy</td>\n    </tr>\n  </tbody>\n</table>\n</div>"
     },
     "metadata": {},
     "execution_count": 4
    }
   ],
   "source": [
    "movies = pd.read_csv(project_path+'movie.csv')\n",
    "movies.head(1)"
   ]
  },
  {
   "cell_type": "code",
   "execution_count": 5,
   "metadata": {},
   "outputs": [
    {
     "output_type": "execute_result",
     "data": {
      "text/plain": [
       "   userId  movieId        tag            timestamp  year_month processed_tag\n",
       "0      65      208  dark hero  2013-05-10 01:41:18      201305     dark hero"
      ],
      "text/html": "<div>\n<style scoped>\n    .dataframe tbody tr th:only-of-type {\n        vertical-align: middle;\n    }\n\n    .dataframe tbody tr th {\n        vertical-align: top;\n    }\n\n    .dataframe thead th {\n        text-align: right;\n    }\n</style>\n<table border=\"1\" class=\"dataframe\">\n  <thead>\n    <tr style=\"text-align: right;\">\n      <th></th>\n      <th>userId</th>\n      <th>movieId</th>\n      <th>tag</th>\n      <th>timestamp</th>\n      <th>year_month</th>\n      <th>processed_tag</th>\n    </tr>\n  </thead>\n  <tbody>\n    <tr>\n      <th>0</th>\n      <td>65</td>\n      <td>208</td>\n      <td>dark hero</td>\n      <td>2013-05-10 01:41:18</td>\n      <td>201305</td>\n      <td>dark hero</td>\n    </tr>\n  </tbody>\n</table>\n</div>"
     },
     "metadata": {},
     "execution_count": 5
    }
   ],
   "source": [
    "tag = pd.read_csv(project_path+'tag_filtered.csv')\n",
    "tag.head(1)"
   ]
  },
  {
   "cell_type": "code",
   "execution_count": 6,
   "metadata": {},
   "outputs": [
    {
     "output_type": "execute_result",
     "data": {
      "text/plain": [
       "   userId  movieId  rating            timestamp  year_month\n",
       "0      31        1     3.0  2015-02-23 23:18:07      201502"
      ],
      "text/html": "<div>\n<style scoped>\n    .dataframe tbody tr th:only-of-type {\n        vertical-align: middle;\n    }\n\n    .dataframe tbody tr th {\n        vertical-align: top;\n    }\n\n    .dataframe thead th {\n        text-align: right;\n    }\n</style>\n<table border=\"1\" class=\"dataframe\">\n  <thead>\n    <tr style=\"text-align: right;\">\n      <th></th>\n      <th>userId</th>\n      <th>movieId</th>\n      <th>rating</th>\n      <th>timestamp</th>\n      <th>year_month</th>\n    </tr>\n  </thead>\n  <tbody>\n    <tr>\n      <th>0</th>\n      <td>31</td>\n      <td>1</td>\n      <td>3.0</td>\n      <td>2015-02-23 23:18:07</td>\n      <td>201502</td>\n    </tr>\n  </tbody>\n</table>\n</div>"
     },
     "metadata": {},
     "execution_count": 6
    }
   ],
   "source": [
    "ratings = pd.read_csv(project_path+'ratings_filtered.csv')\n",
    "ratings[\"year_month\"]=pd.DatetimeIndex(ratings['timestamp']).year*100+\\\n",
    "pd.DatetimeIndex(ratings['timestamp']).month\n",
    "ratings.head(1)"
   ]
  },
  {
   "source": [
    "## Generating the movies general vars and history variables"
   ],
   "cell_type": "markdown",
   "metadata": {}
  },
  {
   "cell_type": "code",
   "execution_count": 8,
   "metadata": {},
   "outputs": [
    {
     "output_type": "stream",
     "name": "stdout",
     "text": [
      "CPU times: user 31.2 s, sys: 928 ms, total: 32.1 s\nWall time: 33.4 s\n"
     ]
    }
   ],
   "source": [
    "%time Movies_obj = Movies(movies,ratings)\n",
    "movies_vars = Movies_obj.df_movies.iloc[:, ~Movies_obj.df_movies.columns.isin([\"genres\", \"year\", \"genre_list\",\"title\"])]\n",
    "movies_history_vars = Movies_obj.df_movies_history_ratings.iloc[:, ~Movies_obj.df_movies_history_ratings.columns.isin([\"count\", \"mean_rating\", \"median_rating\"])]"
   ]
  },
  {
   "cell_type": "code",
   "execution_count": 9,
   "metadata": {},
   "outputs": [
    {
     "output_type": "execute_result",
     "data": {
      "text/plain": [
       "   movieId  Sci-Fi  Horror  Action  Musical  Documentary  Romance  Film-Noir  \\\n",
       "0        1       0       0       0        0            0        0          0   \n",
       "\n",
       "   Crime  Animation  Drama  Adventure  Mystery  Fantasy  War  IMAX  Comedy  \\\n",
       "0      0          1      0          1        0        1    0     0       1   \n",
       "\n",
       "   Children  Thriller  Western  \n",
       "0         1         0        0  "
      ],
      "text/html": "<div>\n<style scoped>\n    .dataframe tbody tr th:only-of-type {\n        vertical-align: middle;\n    }\n\n    .dataframe tbody tr th {\n        vertical-align: top;\n    }\n\n    .dataframe thead th {\n        text-align: right;\n    }\n</style>\n<table border=\"1\" class=\"dataframe\">\n  <thead>\n    <tr style=\"text-align: right;\">\n      <th></th>\n      <th>movieId</th>\n      <th>Sci-Fi</th>\n      <th>Horror</th>\n      <th>Action</th>\n      <th>Musical</th>\n      <th>Documentary</th>\n      <th>Romance</th>\n      <th>Film-Noir</th>\n      <th>Crime</th>\n      <th>Animation</th>\n      <th>Drama</th>\n      <th>Adventure</th>\n      <th>Mystery</th>\n      <th>Fantasy</th>\n      <th>War</th>\n      <th>IMAX</th>\n      <th>Comedy</th>\n      <th>Children</th>\n      <th>Thriller</th>\n      <th>Western</th>\n    </tr>\n  </thead>\n  <tbody>\n    <tr>\n      <th>0</th>\n      <td>1</td>\n      <td>0</td>\n      <td>0</td>\n      <td>0</td>\n      <td>0</td>\n      <td>0</td>\n      <td>0</td>\n      <td>0</td>\n      <td>0</td>\n      <td>1</td>\n      <td>0</td>\n      <td>1</td>\n      <td>0</td>\n      <td>1</td>\n      <td>0</td>\n      <td>0</td>\n      <td>1</td>\n      <td>1</td>\n      <td>0</td>\n      <td>0</td>\n    </tr>\n  </tbody>\n</table>\n</div>"
     },
     "metadata": {},
     "execution_count": 9
    }
   ],
   "source": [
    "movies_vars.head(1)"
   ]
  },
  {
   "cell_type": "code",
   "execution_count": 10,
   "metadata": {},
   "outputs": [
    {
     "output_type": "execute_result",
     "data": {
      "text/plain": [
       "   movieId  year_month  last_1_months_movie_rating  \\\n",
       "0        1      201301                         NaN   \n",
       "\n",
       "   last_1_months_movie_rating_counts  mean_3_months_movie_rating  \\\n",
       "0                                NaN                         NaN   \n",
       "\n",
       "   mean_6_months_movie_rating  last_1_month_per_3_months_movie_rating  \\\n",
       "0                         NaN                                     NaN   \n",
       "\n",
       "   last_1_month_per_6_months_movie_rating  \n",
       "0                                     NaN  "
      ],
      "text/html": "<div>\n<style scoped>\n    .dataframe tbody tr th:only-of-type {\n        vertical-align: middle;\n    }\n\n    .dataframe tbody tr th {\n        vertical-align: top;\n    }\n\n    .dataframe thead th {\n        text-align: right;\n    }\n</style>\n<table border=\"1\" class=\"dataframe\">\n  <thead>\n    <tr style=\"text-align: right;\">\n      <th></th>\n      <th>movieId</th>\n      <th>year_month</th>\n      <th>last_1_months_movie_rating</th>\n      <th>last_1_months_movie_rating_counts</th>\n      <th>mean_3_months_movie_rating</th>\n      <th>mean_6_months_movie_rating</th>\n      <th>last_1_month_per_3_months_movie_rating</th>\n      <th>last_1_month_per_6_months_movie_rating</th>\n    </tr>\n  </thead>\n  <tbody>\n    <tr>\n      <th>0</th>\n      <td>1</td>\n      <td>201301</td>\n      <td>NaN</td>\n      <td>NaN</td>\n      <td>NaN</td>\n      <td>NaN</td>\n      <td>NaN</td>\n      <td>NaN</td>\n    </tr>\n  </tbody>\n</table>\n</div>"
     },
     "metadata": {},
     "execution_count": 10
    }
   ],
   "source": [
    "movies_history_vars.head(1)"
   ]
  },
  {
   "source": [
    "## Generating the genre history variables"
   ],
   "cell_type": "markdown",
   "metadata": {}
  },
  {
   "cell_type": "code",
   "execution_count": 12,
   "metadata": {},
   "outputs": [
    {
     "output_type": "stream",
     "name": "stdout",
     "text": [
      "CPU times: user 985 ms, sys: 589 ms, total: 1.57 s\nWall time: 2.05 s\n"
     ]
    }
   ],
   "source": [
    "%time Genre_obj = Genres(Movies_obj.df_movies,Movies_obj.df_movies_history_ratings)\n",
    "genre_vars = Genre_obj.genres_df.iloc[:, ~Genre_obj.genres_df.columns.isin([\"count\", \"mean_rating\", \"median_rating\"])]"
   ]
  },
  {
   "cell_type": "code",
   "execution_count": 13,
   "metadata": {},
   "outputs": [
    {
     "output_type": "execute_result",
     "data": {
      "text/plain": [
       "   movieId  year_month  last_1_months_genre_rating  \\\n",
       "0        1      201301                         NaN   \n",
       "\n",
       "   last_1_months_genre_rating_counts  mean_3_months_genre_rating  \\\n",
       "0                                NaN                         NaN   \n",
       "\n",
       "   mean_6_months_genre_rating  last_1_month_per_3_months_genre_rating  \\\n",
       "0                         NaN                                     NaN   \n",
       "\n",
       "   last_1_month_per_6_months_genre_rating  \n",
       "0                                     NaN  "
      ],
      "text/html": "<div>\n<style scoped>\n    .dataframe tbody tr th:only-of-type {\n        vertical-align: middle;\n    }\n\n    .dataframe tbody tr th {\n        vertical-align: top;\n    }\n\n    .dataframe thead th {\n        text-align: right;\n    }\n</style>\n<table border=\"1\" class=\"dataframe\">\n  <thead>\n    <tr style=\"text-align: right;\">\n      <th></th>\n      <th>movieId</th>\n      <th>year_month</th>\n      <th>last_1_months_genre_rating</th>\n      <th>last_1_months_genre_rating_counts</th>\n      <th>mean_3_months_genre_rating</th>\n      <th>mean_6_months_genre_rating</th>\n      <th>last_1_month_per_3_months_genre_rating</th>\n      <th>last_1_month_per_6_months_genre_rating</th>\n    </tr>\n  </thead>\n  <tbody>\n    <tr>\n      <th>0</th>\n      <td>1</td>\n      <td>201301</td>\n      <td>NaN</td>\n      <td>NaN</td>\n      <td>NaN</td>\n      <td>NaN</td>\n      <td>NaN</td>\n      <td>NaN</td>\n    </tr>\n  </tbody>\n</table>\n</div>"
     },
     "metadata": {},
     "execution_count": 13
    }
   ],
   "source": [
    "genre_vars.head(1)"
   ]
  },
  {
   "source": [
    "## Generating the users history variables"
   ],
   "cell_type": "markdown",
   "metadata": {}
  },
  {
   "cell_type": "code",
   "execution_count": 14,
   "metadata": {},
   "outputs": [
    {
     "output_type": "stream",
     "name": "stdout",
     "text": [
      "CPU times: user 2.51 s, sys: 172 ms, total: 2.68 s\nWall time: 2.86 s\n"
     ]
    }
   ],
   "source": [
    "%time Users_obj = Users(ratings)\n",
    "users_vars = Users_obj.users_df.iloc[:, ~Users_obj.users_df.columns.isin([\"count\", \"mean_rating\", \"median_rating\"])]"
   ]
  },
  {
   "cell_type": "code",
   "execution_count": 15,
   "metadata": {},
   "outputs": [
    {
     "output_type": "execute_result",
     "data": {
      "text/plain": [
       "   userId  year_month  last_1_months_user_rating  \\\n",
       "0      31      201502                        NaN   \n",
       "\n",
       "   last_1_months_user_rating_counts  mean_3_months_user_rating  \\\n",
       "0                               NaN                        NaN   \n",
       "\n",
       "   mean_6_months_user_rating  last_1_month_per_3_months_user_rating  \\\n",
       "0                        NaN                                    NaN   \n",
       "\n",
       "   last_1_month_per_6_months_user_rating  \n",
       "0                                    NaN  "
      ],
      "text/html": "<div>\n<style scoped>\n    .dataframe tbody tr th:only-of-type {\n        vertical-align: middle;\n    }\n\n    .dataframe tbody tr th {\n        vertical-align: top;\n    }\n\n    .dataframe thead th {\n        text-align: right;\n    }\n</style>\n<table border=\"1\" class=\"dataframe\">\n  <thead>\n    <tr style=\"text-align: right;\">\n      <th></th>\n      <th>userId</th>\n      <th>year_month</th>\n      <th>last_1_months_user_rating</th>\n      <th>last_1_months_user_rating_counts</th>\n      <th>mean_3_months_user_rating</th>\n      <th>mean_6_months_user_rating</th>\n      <th>last_1_month_per_3_months_user_rating</th>\n      <th>last_1_month_per_6_months_user_rating</th>\n    </tr>\n  </thead>\n  <tbody>\n    <tr>\n      <th>0</th>\n      <td>31</td>\n      <td>201502</td>\n      <td>NaN</td>\n      <td>NaN</td>\n      <td>NaN</td>\n      <td>NaN</td>\n      <td>NaN</td>\n      <td>NaN</td>\n    </tr>\n  </tbody>\n</table>\n</div>"
     },
     "metadata": {},
     "execution_count": 15
    }
   ],
   "source": [
    "users_vars.head(1)"
   ]
  },
  {
   "source": [
    "## Generating the tags weighted rating variable"
   ],
   "cell_type": "markdown",
   "metadata": {}
  },
  {
   "cell_type": "code",
   "execution_count": 16,
   "metadata": {},
   "outputs": [
    {
     "output_type": "stream",
     "name": "stdout",
     "text": [
      "CPU times: user 2min 35s, sys: 2.97 s, total: 2min 38s\nWall time: 2min 43s\n"
     ]
    }
   ],
   "source": [
    "%time Tags_obj = Tags(tag,ratings)\n",
    "tags_vars = Tags_obj.tags_df"
   ]
  },
  {
   "cell_type": "code",
   "execution_count": 19,
   "metadata": {},
   "outputs": [
    {
     "output_type": "execute_result",
     "data": {
      "text/plain": [
       "   movieId  year_month  last_6_months_weighted_rating\n",
       "0        1      201405                       3.827056"
      ],
      "text/html": "<div>\n<style scoped>\n    .dataframe tbody tr th:only-of-type {\n        vertical-align: middle;\n    }\n\n    .dataframe tbody tr th {\n        vertical-align: top;\n    }\n\n    .dataframe thead th {\n        text-align: right;\n    }\n</style>\n<table border=\"1\" class=\"dataframe\">\n  <thead>\n    <tr style=\"text-align: right;\">\n      <th></th>\n      <th>movieId</th>\n      <th>year_month</th>\n      <th>last_6_months_weighted_rating</th>\n    </tr>\n  </thead>\n  <tbody>\n    <tr>\n      <th>0</th>\n      <td>1</td>\n      <td>201405</td>\n      <td>3.827056</td>\n    </tr>\n  </tbody>\n</table>\n</div>"
     },
     "metadata": {},
     "execution_count": 19
    }
   ],
   "source": [
    "tags_vars[\"year_month\"] = tags_vars[\"year_month\"].astype(int)\n",
    "tags_vars.head(1)"
   ]
  },
  {
   "source": [
    "## Merging all variables"
   ],
   "cell_type": "markdown",
   "metadata": {}
  },
  {
   "cell_type": "code",
   "execution_count": 22,
   "metadata": {},
   "outputs": [],
   "source": [
    "ratings_to_join = ratings[ratings[\"year_month\"]>201410]\n",
    "ratings_to_join['target_var'] = 0\n",
    "ratings_to_join.loc[ratings_to_join['rating']>= 4.0,\"target_var\"]=1\n",
    "ratings_to_join = ratings_to_join.iloc[:, ~ratings_to_join.columns.isin([\"timestamp\"])]\n",
    "\n",
    "ratings_to_train=ratings_to_join.merge(movies_vars,\"left\")\\\n",
    "    .merge(movies_history_vars,\"left\")\\\n",
    "    .merge(tags_vars,\"left\")\\\n",
    "    .merge(genre_vars,\"left\")\\\n",
    "    .merge(users_vars,\"left\")\n",
    "\n",
    "#caso informado users_vars[users_vars.userId==96]\n"
   ]
  },
  {
   "source": [
    "For any variable that was missing, lets substitute it with the mean in the month of the variable"
   ],
   "cell_type": "markdown",
   "metadata": {}
  },
  {
   "cell_type": "code",
   "execution_count": 23,
   "metadata": {},
   "outputs": [],
   "source": [
    "ratings_to_train = ratings_to_train.groupby(['year_month'], sort=False)\\\n",
    ".apply(lambda x: x.fillna(x.mean()))\\\n",
    ".reset_index(drop = True)"
   ]
  },
  {
   "cell_type": "code",
   "execution_count": 25,
   "metadata": {},
   "outputs": [
    {
     "output_type": "execute_result",
     "data": {
      "text/plain": [
       "userId                                      int64\n",
       "movieId                                     int64\n",
       "rating                                    float64\n",
       "year_month                                  int64\n",
       "target_var                                  int64\n",
       "Sci-Fi                                      int64\n",
       "Horror                                      int64\n",
       "Action                                      int64\n",
       "Musical                                     int64\n",
       "Documentary                                 int64\n",
       "Romance                                     int64\n",
       "Film-Noir                                   int64\n",
       "Crime                                       int64\n",
       "Animation                                   int64\n",
       "Drama                                       int64\n",
       "Adventure                                   int64\n",
       "Mystery                                     int64\n",
       "Fantasy                                     int64\n",
       "War                                         int64\n",
       "IMAX                                        int64\n",
       "Comedy                                      int64\n",
       "Children                                    int64\n",
       "Thriller                                    int64\n",
       "Western                                     int64\n",
       "last_1_months_movie_rating                float64\n",
       "last_1_months_movie_rating_counts         float64\n",
       "mean_3_months_movie_rating                float64\n",
       "mean_6_months_movie_rating                float64\n",
       "last_1_month_per_3_months_movie_rating    float64\n",
       "last_1_month_per_6_months_movie_rating    float64\n",
       "last_6_months_weighted_rating             float64\n",
       "last_1_months_genre_rating                float64\n",
       "last_1_months_genre_rating_counts         float64\n",
       "mean_3_months_genre_rating                float64\n",
       "mean_6_months_genre_rating                float64\n",
       "last_1_month_per_3_months_genre_rating    float64\n",
       "last_1_month_per_6_months_genre_rating    float64\n",
       "last_1_months_user_rating                 float64\n",
       "last_1_months_user_rating_counts          float64\n",
       "mean_3_months_user_rating                 float64\n",
       "mean_6_months_user_rating                 float64\n",
       "last_1_month_per_3_months_user_rating     float64\n",
       "last_1_month_per_6_months_user_rating     float64\n",
       "dtype: object"
      ]
     },
     "metadata": {},
     "execution_count": 25
    }
   ],
   "source": [
    "ratings_to_train.dtypes"
   ]
  },
  {
   "source": [
    "Lets save the dataset to start modeling"
   ],
   "cell_type": "markdown",
   "metadata": {}
  },
  {
   "cell_type": "code",
   "execution_count": 26,
   "metadata": {},
   "outputs": [],
   "source": [
    "ratings_to_train.to_pickle(\"../../data/clened_df_toTrain.pkl\")"
   ]
  },
  {
   "cell_type": "code",
   "execution_count": null,
   "metadata": {},
   "outputs": [],
   "source": []
  }
 ]
}