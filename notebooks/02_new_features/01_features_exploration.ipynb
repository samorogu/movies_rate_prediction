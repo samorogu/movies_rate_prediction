{
 "metadata": {
  "language_info": {
   "codemirror_mode": {
    "name": "ipython",
    "version": 3
   },
   "file_extension": ".py",
   "mimetype": "text/x-python",
   "name": "python",
   "nbconvert_exporter": "python",
   "pygments_lexer": "ipython3",
   "version": "3.7.10-final"
  },
  "orig_nbformat": 2,
  "kernelspec": {
   "name": "python3",
   "display_name": "Python 3.7.10 64-bit ('kueski': conda)",
   "metadata": {
    "interpreter": {
     "hash": "d71a70adb802aa27b8e47a8ed81da61200db36da63030ab7f03f3de50f141ea6"
    }
   }
  }
 },
 "nbformat": 4,
 "nbformat_minor": 2,
 "cells": [
  {
   "cell_type": "code",
   "execution_count": 2,
   "metadata": {},
   "outputs": [],
   "source": [
    "import pandas as pd\n",
    "import numpy as np\n",
    "import plotly.express as px\n",
    "from wordcloud import WordCloud\n",
    "import re\n",
    "from nltk.stem import WordNetLemmatizer\n",
    "from nltk.corpus import stopwords\n",
    "\n",
    "import os \n",
    "\n",
    "k_colors = ['rgb(0,127,206)','rgb(62,196,4)','rgb(255,125,16)','rgb(253,99,90)']#blue,gree,orange,red\n",
    "plotly_themes = [\"plotly\", \"plotly_white\", \"plotly_dark\", \"ggplot2\", \"seaborn\", \"simple_white\", \"none\"]#plotly_white plotly_dark\n",
    "theme = plotly_themes[1]\n"
   ]
  },
  {
   "source": [
    "## Reading the data"
   ],
   "cell_type": "markdown",
   "metadata": {}
  },
  {
   "cell_type": "code",
   "execution_count": 3,
   "metadata": {},
   "outputs": [],
   "source": [
    "#path to data files\n",
    "notebook_path = os.getcwd()\n",
    "project_path = notebook_path[0:len(notebook_path)-25]+\"data/\"\n",
    "project_code_path = notebook_path[0:len(notebook_path)-25]+\"code/\""
   ]
  },
  {
   "cell_type": "code",
   "execution_count": 4,
   "metadata": {},
   "outputs": [
    {
     "output_type": "execute_result",
     "data": {
      "text/plain": [
       "   movieId             title                                       genres\n",
       "0        1  Toy Story (1995)  Adventure|Animation|Children|Comedy|Fantasy"
      ],
      "text/html": "<div>\n<style scoped>\n    .dataframe tbody tr th:only-of-type {\n        vertical-align: middle;\n    }\n\n    .dataframe tbody tr th {\n        vertical-align: top;\n    }\n\n    .dataframe thead th {\n        text-align: right;\n    }\n</style>\n<table border=\"1\" class=\"dataframe\">\n  <thead>\n    <tr style=\"text-align: right;\">\n      <th></th>\n      <th>movieId</th>\n      <th>title</th>\n      <th>genres</th>\n    </tr>\n  </thead>\n  <tbody>\n    <tr>\n      <th>0</th>\n      <td>1</td>\n      <td>Toy Story (1995)</td>\n      <td>Adventure|Animation|Children|Comedy|Fantasy</td>\n    </tr>\n  </tbody>\n</table>\n</div>"
     },
     "metadata": {},
     "execution_count": 4
    }
   ],
   "source": [
    "movies = pd.read_csv(project_path+'movie.csv')\n",
    "movies.head(1)"
   ]
  },
  {
   "cell_type": "code",
   "execution_count": 5,
   "metadata": {},
   "outputs": [
    {
     "output_type": "execute_result",
     "data": {
      "text/plain": [
       "   userId  movieId          tag            timestamp\n",
       "0      18     4141  Mark Waters  2009-04-24 18:19:40"
      ],
      "text/html": "<div>\n<style scoped>\n    .dataframe tbody tr th:only-of-type {\n        vertical-align: middle;\n    }\n\n    .dataframe tbody tr th {\n        vertical-align: top;\n    }\n\n    .dataframe thead th {\n        text-align: right;\n    }\n</style>\n<table border=\"1\" class=\"dataframe\">\n  <thead>\n    <tr style=\"text-align: right;\">\n      <th></th>\n      <th>userId</th>\n      <th>movieId</th>\n      <th>tag</th>\n      <th>timestamp</th>\n    </tr>\n  </thead>\n  <tbody>\n    <tr>\n      <th>0</th>\n      <td>18</td>\n      <td>4141</td>\n      <td>Mark Waters</td>\n      <td>2009-04-24 18:19:40</td>\n    </tr>\n  </tbody>\n</table>\n</div>"
     },
     "metadata": {},
     "execution_count": 5
    }
   ],
   "source": [
    "tag = pd.read_csv(project_path+'tag.csv')\n",
    "tag.head(1)"
   ]
  },
  {
   "cell_type": "code",
   "execution_count": 6,
   "metadata": {},
   "outputs": [
    {
     "output_type": "execute_result",
     "data": {
      "text/plain": [
       "   userId  movieId  rating            timestamp  year_month\n",
       "0       1        2     3.5  2005-04-02 23:53:47      200504"
      ],
      "text/html": "<div>\n<style scoped>\n    .dataframe tbody tr th:only-of-type {\n        vertical-align: middle;\n    }\n\n    .dataframe tbody tr th {\n        vertical-align: top;\n    }\n\n    .dataframe thead th {\n        text-align: right;\n    }\n</style>\n<table border=\"1\" class=\"dataframe\">\n  <thead>\n    <tr style=\"text-align: right;\">\n      <th></th>\n      <th>userId</th>\n      <th>movieId</th>\n      <th>rating</th>\n      <th>timestamp</th>\n      <th>year_month</th>\n    </tr>\n  </thead>\n  <tbody>\n    <tr>\n      <th>0</th>\n      <td>1</td>\n      <td>2</td>\n      <td>3.5</td>\n      <td>2005-04-02 23:53:47</td>\n      <td>200504</td>\n    </tr>\n  </tbody>\n</table>\n</div>"
     },
     "metadata": {},
     "execution_count": 6
    }
   ],
   "source": [
    "ratings = pd.read_csv(project_path+'rating.csv')\n",
    "ratings[\"year_month\"]=pd.DatetimeIndex(ratings['timestamp']).year*100+\\\n",
    "pd.DatetimeIndex(ratings['timestamp']).month\n",
    "ratings.head(1)"
   ]
  },
  {
   "source": [
    "For time porpuse, we will have the information of the last 2 years"
   ],
   "cell_type": "markdown",
   "metadata": {}
  },
  {
   "cell_type": "code",
   "execution_count": 7,
   "metadata": {},
   "outputs": [],
   "source": [
    "ratings = ratings.loc[ratings.timestamp>'2013-01-01']\n",
    "ratings.to_csv(\"../../data/ratings_filtered.csv\",index = False)"
   ]
  },
  {
   "source": [
    "## Cleaning the year from the tittle movies"
   ],
   "cell_type": "markdown",
   "metadata": {}
  },
  {
   "cell_type": "code",
   "execution_count": 8,
   "metadata": {},
   "outputs": [
    {
     "output_type": "execute_result",
     "data": {
      "text/plain": [
       "   movieId             title                                       genres  \\\n",
       "0        1         Toy Story  Adventure|Animation|Children|Comedy|Fantasy   \n",
       "1        2           Jumanji                   Adventure|Children|Fantasy   \n",
       "2        3  Grumpier Old Men                               Comedy|Romance   \n",
       "\n",
       "   year                                         genre_list  Animation  \\\n",
       "0  1995  [Adventure, Animation, Children, Comedy, Fantasy]          1   \n",
       "1  1995                     [Adventure, Children, Fantasy]          0   \n",
       "2  1995                                  [Comedy, Romance]          0   \n",
       "\n",
       "   Documentary  Adventure  Romance  Comedy  ...  Children  Action  Western  \\\n",
       "0            0          1        0       1  ...         1       0        0   \n",
       "1            0          1        0       0  ...         1       0        0   \n",
       "2            0          0        1       1  ...         0       0        0   \n",
       "\n",
       "   Fantasy  Musical  Horror  Mystery  War  Thriller  Film-Noir  \n",
       "0        1        0       0        0    0         0          0  \n",
       "1        1        0       0        0    0         0          0  \n",
       "2        0        0       0        0    0         0          0  \n",
       "\n",
       "[3 rows x 24 columns]"
      ],
      "text/html": "<div>\n<style scoped>\n    .dataframe tbody tr th:only-of-type {\n        vertical-align: middle;\n    }\n\n    .dataframe tbody tr th {\n        vertical-align: top;\n    }\n\n    .dataframe thead th {\n        text-align: right;\n    }\n</style>\n<table border=\"1\" class=\"dataframe\">\n  <thead>\n    <tr style=\"text-align: right;\">\n      <th></th>\n      <th>movieId</th>\n      <th>title</th>\n      <th>genres</th>\n      <th>year</th>\n      <th>genre_list</th>\n      <th>Animation</th>\n      <th>Documentary</th>\n      <th>Adventure</th>\n      <th>Romance</th>\n      <th>Comedy</th>\n      <th>...</th>\n      <th>Children</th>\n      <th>Action</th>\n      <th>Western</th>\n      <th>Fantasy</th>\n      <th>Musical</th>\n      <th>Horror</th>\n      <th>Mystery</th>\n      <th>War</th>\n      <th>Thriller</th>\n      <th>Film-Noir</th>\n    </tr>\n  </thead>\n  <tbody>\n    <tr>\n      <th>0</th>\n      <td>1</td>\n      <td>Toy Story</td>\n      <td>Adventure|Animation|Children|Comedy|Fantasy</td>\n      <td>1995</td>\n      <td>[Adventure, Animation, Children, Comedy, Fantasy]</td>\n      <td>1</td>\n      <td>0</td>\n      <td>1</td>\n      <td>0</td>\n      <td>1</td>\n      <td>...</td>\n      <td>1</td>\n      <td>0</td>\n      <td>0</td>\n      <td>1</td>\n      <td>0</td>\n      <td>0</td>\n      <td>0</td>\n      <td>0</td>\n      <td>0</td>\n      <td>0</td>\n    </tr>\n    <tr>\n      <th>1</th>\n      <td>2</td>\n      <td>Jumanji</td>\n      <td>Adventure|Children|Fantasy</td>\n      <td>1995</td>\n      <td>[Adventure, Children, Fantasy]</td>\n      <td>0</td>\n      <td>0</td>\n      <td>1</td>\n      <td>0</td>\n      <td>0</td>\n      <td>...</td>\n      <td>1</td>\n      <td>0</td>\n      <td>0</td>\n      <td>1</td>\n      <td>0</td>\n      <td>0</td>\n      <td>0</td>\n      <td>0</td>\n      <td>0</td>\n      <td>0</td>\n    </tr>\n    <tr>\n      <th>2</th>\n      <td>3</td>\n      <td>Grumpier Old Men</td>\n      <td>Comedy|Romance</td>\n      <td>1995</td>\n      <td>[Comedy, Romance]</td>\n      <td>0</td>\n      <td>0</td>\n      <td>0</td>\n      <td>1</td>\n      <td>1</td>\n      <td>...</td>\n      <td>0</td>\n      <td>0</td>\n      <td>0</td>\n      <td>0</td>\n      <td>0</td>\n      <td>0</td>\n      <td>0</td>\n      <td>0</td>\n      <td>0</td>\n      <td>0</td>\n    </tr>\n  </tbody>\n</table>\n<p>3 rows × 24 columns</p>\n</div>"
     },
     "metadata": {},
     "execution_count": 8
    }
   ],
   "source": [
    "movies[\"year\"] = movies[\"title\"].str.extract('(\\(\\d\\d\\d\\d\\))', expand=False)\n",
    "movies['year'] = movies[\"year\"].str.extract('(\\d\\d\\d\\d)', expand=False)  # only numbers\n",
    "movies['title'] = movies.title.str.replace('(\\(\\d\\d\\d\\d\\))', '')  # replace numbers and parenthesis\n",
    "movies['title'] = movies['title'].apply(lambda x: x.strip())\n",
    "\n",
    "movies['genre_list'] = movies['genres'].str.split('|').tolist()\n",
    "flat_genre = [item for sublist in movies['genre_list']for item in sublist]  # flatten the list\n",
    "set_genre = set(flat_genre)  # convert to a set to make unique\n",
    "unique_genre = list(set_genre)  # back to list\n",
    "# remove NA\n",
    "unique_genre.remove(\"(no genres listed)\")\n",
    "\n",
    "# create columns by each unique genre\n",
    "movies = movies.reindex(\n",
    "movies.columns.tolist() + unique_genre, axis=1, fill_value=0)\n",
    "\n",
    "# for each value inside column, update the dummy\n",
    "for index, row in movies.iterrows():\n",
    "    for val in row[\"genres\"].split('|'):\n",
    "        if val != \"(no genres listed)\":\n",
    "            movies.loc[index, val] = 1\n",
    "\n",
    "movies.head(3)"
   ]
  },
  {
   "cell_type": "code",
   "execution_count": 9,
   "metadata": {},
   "outputs": [
    {
     "output_type": "execute_result",
     "data": {
      "text/plain": [
       "movieId         int64\n",
       "title          object\n",
       "genres         object\n",
       "year           object\n",
       "genre_list     object\n",
       "Animation       int64\n",
       "Documentary     int64\n",
       "Adventure       int64\n",
       "Romance         int64\n",
       "Comedy          int64\n",
       "Crime           int64\n",
       "Drama           int64\n",
       "IMAX            int64\n",
       "Sci-Fi          int64\n",
       "Children        int64\n",
       "Action          int64\n",
       "Western         int64\n",
       "Fantasy         int64\n",
       "Musical         int64\n",
       "Horror          int64\n",
       "Mystery         int64\n",
       "War             int64\n",
       "Thriller        int64\n",
       "Film-Noir       int64\n",
       "dtype: object"
      ]
     },
     "metadata": {},
     "execution_count": 9
    }
   ],
   "source": [
    "movies.dtypes"
   ]
  },
  {
   "source": [
    "## History variables from the rates of the movies"
   ],
   "cell_type": "markdown",
   "metadata": {}
  },
  {
   "source": [
    "Lets create the mean rating and count from the movies in the last 2 years"
   ],
   "cell_type": "markdown",
   "metadata": {}
  },
  {
   "cell_type": "code",
   "execution_count": 10,
   "metadata": {},
   "outputs": [
    {
     "output_type": "execute_result",
     "data": {
      "text/plain": [
       "   movieId  year_month  count  mean_rating\n",
       "0        1      201301    124     3.971774"
      ],
      "text/html": "<div>\n<style scoped>\n    .dataframe tbody tr th:only-of-type {\n        vertical-align: middle;\n    }\n\n    .dataframe tbody tr th {\n        vertical-align: top;\n    }\n\n    .dataframe thead th {\n        text-align: right;\n    }\n</style>\n<table border=\"1\" class=\"dataframe\">\n  <thead>\n    <tr style=\"text-align: right;\">\n      <th></th>\n      <th>movieId</th>\n      <th>year_month</th>\n      <th>count</th>\n      <th>mean_rating</th>\n    </tr>\n  </thead>\n  <tbody>\n    <tr>\n      <th>0</th>\n      <td>1</td>\n      <td>201301</td>\n      <td>124</td>\n      <td>3.971774</td>\n    </tr>\n  </tbody>\n</table>\n</div>"
     },
     "metadata": {},
     "execution_count": 10
    }
   ],
   "source": [
    "movies_ratings=ratings.groupby([\"movieId\",\"year_month\"]).agg({\"userId\":\"count\",\n",
    "                                \"rating\": \"mean\"})\\\n",
    ".reset_index()\n",
    "movies_ratings.columns = [\"movieId\",\"year_month\",\"count\",\"mean_rating\"]\n",
    "movies_ratings.head(1)"
   ]
  },
  {
   "source": [
    "With the mean rating lets create the history of movie ratings: \n",
    "\n",
    "* Last month mean movie rating\n",
    "* Last month count movie rating\n",
    "* Mean of the last 3 months of the rate of the movies\n",
    "* Mean of the last 6 months of the rate of the movies\n",
    "* The ratio of the last month mean movie rating and the mean of the last 3 months of the rate of the movies\n",
    "* The ratio of the last month mean movie rating and the mean of the last 6 months of the rate of the movies"
   ],
   "cell_type": "markdown",
   "metadata": {}
  },
  {
   "cell_type": "code",
   "execution_count": 76,
   "metadata": {},
   "outputs": [
    {
     "output_type": "execute_result",
     "data": {
      "text/plain": [
       "   movieId  year_month  last_1_months_movie_rating  \\\n",
       "0        1      201301                         NaN   \n",
       "1        1      201302                    3.971774   \n",
       "2        1      201303                    4.033654   \n",
       "3        1      201304                    3.974227   \n",
       "4        1      201305                    3.954082   \n",
       "5        1      201306                    3.825243   \n",
       "6        1      201307                    3.971591   \n",
       "7        1      201308                    4.100000   \n",
       "8        1      201309                    3.771429   \n",
       "9        1      201310                    3.818841   \n",
       "\n",
       "   last_1_months_movie_rating_counts  mean_3_months_movie_rating  \\\n",
       "0                                NaN                         NaN   \n",
       "1                              124.0                         NaN   \n",
       "2                              104.0                         NaN   \n",
       "3                               97.0                    3.993218   \n",
       "4                               98.0                    3.987321   \n",
       "5                              103.0                    3.917850   \n",
       "6                               88.0                    3.916972   \n",
       "7                              105.0                    3.965611   \n",
       "8                               70.0                    3.947673   \n",
       "9                              138.0                    3.896756   \n",
       "\n",
       "   mean_6_months_movie_rating  last_1_month_per_3_months_movie_rating  \\\n",
       "0                         NaN                                     NaN   \n",
       "1                         NaN                                     NaN   \n",
       "2                         NaN                                     NaN   \n",
       "3                         NaN                                0.995244   \n",
       "4                         NaN                                0.991664   \n",
       "5                         NaN                                0.976363   \n",
       "6                    3.955095                                1.013944   \n",
       "7                    3.976466                                1.033889   \n",
       "8                    3.932762                                0.955355   \n",
       "9                    3.906864                                0.980005   \n",
       "\n",
       "   last_1_month_per_6_months_movie_rating  \n",
       "0                                     NaN  \n",
       "1                                     NaN  \n",
       "2                                     NaN  \n",
       "3                                     NaN  \n",
       "4                                     NaN  \n",
       "5                                     NaN  \n",
       "6                                1.004171  \n",
       "7                                1.031066  \n",
       "8                                0.958977  \n",
       "9                                0.977470  "
      ],
      "text/html": "<div>\n<style scoped>\n    .dataframe tbody tr th:only-of-type {\n        vertical-align: middle;\n    }\n\n    .dataframe tbody tr th {\n        vertical-align: top;\n    }\n\n    .dataframe thead th {\n        text-align: right;\n    }\n</style>\n<table border=\"1\" class=\"dataframe\">\n  <thead>\n    <tr style=\"text-align: right;\">\n      <th></th>\n      <th>movieId</th>\n      <th>year_month</th>\n      <th>last_1_months_movie_rating</th>\n      <th>last_1_months_movie_rating_counts</th>\n      <th>mean_3_months_movie_rating</th>\n      <th>mean_6_months_movie_rating</th>\n      <th>last_1_month_per_3_months_movie_rating</th>\n      <th>last_1_month_per_6_months_movie_rating</th>\n    </tr>\n  </thead>\n  <tbody>\n    <tr>\n      <th>0</th>\n      <td>1</td>\n      <td>201301</td>\n      <td>NaN</td>\n      <td>NaN</td>\n      <td>NaN</td>\n      <td>NaN</td>\n      <td>NaN</td>\n      <td>NaN</td>\n    </tr>\n    <tr>\n      <th>1</th>\n      <td>1</td>\n      <td>201302</td>\n      <td>3.971774</td>\n      <td>124.0</td>\n      <td>NaN</td>\n      <td>NaN</td>\n      <td>NaN</td>\n      <td>NaN</td>\n    </tr>\n    <tr>\n      <th>2</th>\n      <td>1</td>\n      <td>201303</td>\n      <td>4.033654</td>\n      <td>104.0</td>\n      <td>NaN</td>\n      <td>NaN</td>\n      <td>NaN</td>\n      <td>NaN</td>\n    </tr>\n    <tr>\n      <th>3</th>\n      <td>1</td>\n      <td>201304</td>\n      <td>3.974227</td>\n      <td>97.0</td>\n      <td>3.993218</td>\n      <td>NaN</td>\n      <td>0.995244</td>\n      <td>NaN</td>\n    </tr>\n    <tr>\n      <th>4</th>\n      <td>1</td>\n      <td>201305</td>\n      <td>3.954082</td>\n      <td>98.0</td>\n      <td>3.987321</td>\n      <td>NaN</td>\n      <td>0.991664</td>\n      <td>NaN</td>\n    </tr>\n    <tr>\n      <th>5</th>\n      <td>1</td>\n      <td>201306</td>\n      <td>3.825243</td>\n      <td>103.0</td>\n      <td>3.917850</td>\n      <td>NaN</td>\n      <td>0.976363</td>\n      <td>NaN</td>\n    </tr>\n    <tr>\n      <th>6</th>\n      <td>1</td>\n      <td>201307</td>\n      <td>3.971591</td>\n      <td>88.0</td>\n      <td>3.916972</td>\n      <td>3.955095</td>\n      <td>1.013944</td>\n      <td>1.004171</td>\n    </tr>\n    <tr>\n      <th>7</th>\n      <td>1</td>\n      <td>201308</td>\n      <td>4.100000</td>\n      <td>105.0</td>\n      <td>3.965611</td>\n      <td>3.976466</td>\n      <td>1.033889</td>\n      <td>1.031066</td>\n    </tr>\n    <tr>\n      <th>8</th>\n      <td>1</td>\n      <td>201309</td>\n      <td>3.771429</td>\n      <td>70.0</td>\n      <td>3.947673</td>\n      <td>3.932762</td>\n      <td>0.955355</td>\n      <td>0.958977</td>\n    </tr>\n    <tr>\n      <th>9</th>\n      <td>1</td>\n      <td>201310</td>\n      <td>3.818841</td>\n      <td>138.0</td>\n      <td>3.896756</td>\n      <td>3.906864</td>\n      <td>0.980005</td>\n      <td>0.977470</td>\n    </tr>\n  </tbody>\n</table>\n</div>"
     },
     "metadata": {},
     "execution_count": 76
    }
   ],
   "source": [
    "movies_ratings[\"last_1_months_movie_rating\"] = movies_ratings.groupby(\"movieId\")['mean_rating'].shift(1)\\\n",
    ".reset_index()[\"mean_rating\"]\n",
    "movies_ratings[\"last_1_months_movie_rating_counts\"] = movies_ratings.groupby(\"movieId\")['count'].shift(1)\\\n",
    ".reset_index()[\"count\"]\n",
    "movies_ratings[\"mean_3_months_movie_rating\"] = movies_ratings.groupby(\"movieId\")['last_1_months_movie_rating'].rolling(3).mean()\\\n",
    ".reset_index()[\"last_1_months_movie_rating\"]\n",
    "movies_ratings[\"mean_6_months_movie_rating\"] = movies_ratings.groupby(\"movieId\")['last_1_months_movie_rating'].rolling(6).mean()\\\n",
    ".reset_index()[\"last_1_months_movie_rating\"]\n",
    "movies_ratings[\"last_1_month_per_3_months_movie_rating\"] = movies_ratings.last_1_months_movie_rating/movies_ratings.mean_3_months_movie_rating\n",
    "movies_ratings[\"last_1_month_per_6_months_movie_rating\"] = movies_ratings.last_1_months_movie_rating/movies_ratings.mean_6_months_movie_rating\n",
    "movies_ratings = movies_ratings.loc[:,~movies_ratings.columns.isin([\"count\",\"mean_rating\"])]\n",
    "movies_ratings.head(10)"
   ]
  },
  {
   "source": [
    "## History variables from the ratings of the genres of movies"
   ],
   "cell_type": "markdown",
   "metadata": {}
  },
  {
   "cell_type": "code",
   "execution_count": 12,
   "metadata": {},
   "outputs": [
    {
     "output_type": "execute_result",
     "data": {
      "text/plain": [
       "    genre_list  year_month  count  mean_rating\n",
       "204      Drama      201301   3638     3.520814\n",
       "205      Drama      201302   3256     3.547158\n",
       "206      Drama      201303   3158     3.628895\n",
       "207      Drama      201304   3531     3.351295\n",
       "208      Drama      201305   3543     3.448825"
      ],
      "text/html": "<div>\n<style scoped>\n    .dataframe tbody tr th:only-of-type {\n        vertical-align: middle;\n    }\n\n    .dataframe tbody tr th {\n        vertical-align: top;\n    }\n\n    .dataframe thead th {\n        text-align: right;\n    }\n</style>\n<table border=\"1\" class=\"dataframe\">\n  <thead>\n    <tr style=\"text-align: right;\">\n      <th></th>\n      <th>genre_list</th>\n      <th>year_month</th>\n      <th>count</th>\n      <th>mean_rating</th>\n    </tr>\n  </thead>\n  <tbody>\n    <tr>\n      <th>204</th>\n      <td>Drama</td>\n      <td>201301</td>\n      <td>3638</td>\n      <td>3.520814</td>\n    </tr>\n    <tr>\n      <th>205</th>\n      <td>Drama</td>\n      <td>201302</td>\n      <td>3256</td>\n      <td>3.547158</td>\n    </tr>\n    <tr>\n      <th>206</th>\n      <td>Drama</td>\n      <td>201303</td>\n      <td>3158</td>\n      <td>3.628895</td>\n    </tr>\n    <tr>\n      <th>207</th>\n      <td>Drama</td>\n      <td>201304</td>\n      <td>3531</td>\n      <td>3.351295</td>\n    </tr>\n    <tr>\n      <th>208</th>\n      <td>Drama</td>\n      <td>201305</td>\n      <td>3543</td>\n      <td>3.448825</td>\n    </tr>\n  </tbody>\n</table>\n</div>"
     },
     "metadata": {},
     "execution_count": 12
    }
   ],
   "source": [
    "movies_genre_gather = movies[[\"movieId\",\"genre_list\"]].explode(\"genre_list\")\n",
    "\n",
    "movies_ratings_genre=movies_ratings.merge(movies_genre_gather,how = \"left\")\n",
    "\n",
    "genre_ratings=movies_ratings_genre.groupby([\"genre_list\",\"year_month\"]).agg({\"movieId\":\"count\",\n",
    "                                \"mean_rating\": \"mean\"})\\\n",
    ".reset_index()\n",
    "\n",
    "genre_ratings.columns = [\"genre_list\",\"year_month\",\"count\",\"mean_rating\"]\n",
    "\n",
    "genre_ratings.loc[genre_ratings.genre_list==\"Drama\"].head(5)"
   ]
  },
  {
   "source": [
    "With the mean rating lets create the history of genre ratings: \n",
    "\n",
    "* Last month mean genre rating\n",
    "* Last month count genre rating\n",
    "* Mean of the last 3 months of the rate of the genre\n",
    "* Mean of the last 6 months of the rate of the genre\n",
    "* The ratio of the last month mean genre rating and the mean of the last 3 months of the rate of the genre\n",
    "* The ratio of the last month mean genre rating and the mean of the last 6 months of the rate of the genre"
   ],
   "cell_type": "markdown",
   "metadata": {}
  },
  {
   "cell_type": "code",
   "execution_count": 13,
   "metadata": {},
   "outputs": [
    {
     "output_type": "execute_result",
     "data": {
      "text/plain": [
       "    genre_list  year_month  count  mean_rating  last_1_months_genre_rating  \\\n",
       "204      Drama      201301   3638     3.520814                         NaN   \n",
       "205      Drama      201302   3256     3.547158                    3.520814   \n",
       "206      Drama      201303   3158     3.628895                    3.547158   \n",
       "207      Drama      201304   3531     3.351295                    3.628895   \n",
       "208      Drama      201305   3543     3.448825                    3.351295   \n",
       "209      Drama      201306   3064     3.367797                    3.448825   \n",
       "210      Drama      201307   3054     3.632905                    3.367797   \n",
       "\n",
       "     last_1_months_genre_rating_counts  mean_3_months_genre_rating  \\\n",
       "204                                NaN                         NaN   \n",
       "205                             3638.0                         NaN   \n",
       "206                             3256.0                         NaN   \n",
       "207                             3158.0                    3.565622   \n",
       "208                             3531.0                    3.509116   \n",
       "209                             3543.0                    3.476338   \n",
       "210                             3064.0                    3.389305   \n",
       "\n",
       "     mean_6_months_genre_rating  last_1_month_per_3_months_genre_rating  \\\n",
       "204                         NaN                                     NaN   \n",
       "205                         NaN                                     NaN   \n",
       "206                         NaN                                     NaN   \n",
       "207                         NaN                                1.017745   \n",
       "208                         NaN                                0.955025   \n",
       "209                         NaN                                0.992086   \n",
       "210                    3.477464                                0.993654   \n",
       "\n",
       "     last_1_month_per_6_months_genre_rating  \n",
       "204                                     NaN  \n",
       "205                                     NaN  \n",
       "206                                     NaN  \n",
       "207                                     NaN  \n",
       "208                                     NaN  \n",
       "209                                     NaN  \n",
       "210                                0.968463  "
      ],
      "text/html": "<div>\n<style scoped>\n    .dataframe tbody tr th:only-of-type {\n        vertical-align: middle;\n    }\n\n    .dataframe tbody tr th {\n        vertical-align: top;\n    }\n\n    .dataframe thead th {\n        text-align: right;\n    }\n</style>\n<table border=\"1\" class=\"dataframe\">\n  <thead>\n    <tr style=\"text-align: right;\">\n      <th></th>\n      <th>genre_list</th>\n      <th>year_month</th>\n      <th>count</th>\n      <th>mean_rating</th>\n      <th>last_1_months_genre_rating</th>\n      <th>last_1_months_genre_rating_counts</th>\n      <th>mean_3_months_genre_rating</th>\n      <th>mean_6_months_genre_rating</th>\n      <th>last_1_month_per_3_months_genre_rating</th>\n      <th>last_1_month_per_6_months_genre_rating</th>\n    </tr>\n  </thead>\n  <tbody>\n    <tr>\n      <th>204</th>\n      <td>Drama</td>\n      <td>201301</td>\n      <td>3638</td>\n      <td>3.520814</td>\n      <td>NaN</td>\n      <td>NaN</td>\n      <td>NaN</td>\n      <td>NaN</td>\n      <td>NaN</td>\n      <td>NaN</td>\n    </tr>\n    <tr>\n      <th>205</th>\n      <td>Drama</td>\n      <td>201302</td>\n      <td>3256</td>\n      <td>3.547158</td>\n      <td>3.520814</td>\n      <td>3638.0</td>\n      <td>NaN</td>\n      <td>NaN</td>\n      <td>NaN</td>\n      <td>NaN</td>\n    </tr>\n    <tr>\n      <th>206</th>\n      <td>Drama</td>\n      <td>201303</td>\n      <td>3158</td>\n      <td>3.628895</td>\n      <td>3.547158</td>\n      <td>3256.0</td>\n      <td>NaN</td>\n      <td>NaN</td>\n      <td>NaN</td>\n      <td>NaN</td>\n    </tr>\n    <tr>\n      <th>207</th>\n      <td>Drama</td>\n      <td>201304</td>\n      <td>3531</td>\n      <td>3.351295</td>\n      <td>3.628895</td>\n      <td>3158.0</td>\n      <td>3.565622</td>\n      <td>NaN</td>\n      <td>1.017745</td>\n      <td>NaN</td>\n    </tr>\n    <tr>\n      <th>208</th>\n      <td>Drama</td>\n      <td>201305</td>\n      <td>3543</td>\n      <td>3.448825</td>\n      <td>3.351295</td>\n      <td>3531.0</td>\n      <td>3.509116</td>\n      <td>NaN</td>\n      <td>0.955025</td>\n      <td>NaN</td>\n    </tr>\n    <tr>\n      <th>209</th>\n      <td>Drama</td>\n      <td>201306</td>\n      <td>3064</td>\n      <td>3.367797</td>\n      <td>3.448825</td>\n      <td>3543.0</td>\n      <td>3.476338</td>\n      <td>NaN</td>\n      <td>0.992086</td>\n      <td>NaN</td>\n    </tr>\n    <tr>\n      <th>210</th>\n      <td>Drama</td>\n      <td>201307</td>\n      <td>3054</td>\n      <td>3.632905</td>\n      <td>3.367797</td>\n      <td>3064.0</td>\n      <td>3.389305</td>\n      <td>3.477464</td>\n      <td>0.993654</td>\n      <td>0.968463</td>\n    </tr>\n  </tbody>\n</table>\n</div>"
     },
     "metadata": {},
     "execution_count": 13
    }
   ],
   "source": [
    "genre_ratings[\"last_1_months_genre_rating\"] = genre_ratings.groupby(\"genre_list\")['mean_rating'].shift(1)\\\n",
    ".reset_index()[\"mean_rating\"]\n",
    "genre_ratings[\"last_1_months_genre_rating_counts\"] = genre_ratings.groupby(\"genre_list\")['count'].shift(1)\\\n",
    ".reset_index()[\"count\"]\n",
    "genre_ratings[\"mean_3_months_genre_rating\"] = genre_ratings.groupby(\"genre_list\")['last_1_months_genre_rating'].rolling(3).mean()\\\n",
    ".reset_index()[\"last_1_months_genre_rating\"]\n",
    "genre_ratings[\"mean_6_months_genre_rating\"] = genre_ratings.groupby(\"genre_list\")['last_1_months_genre_rating'].rolling(6).mean()\\\n",
    ".reset_index()[\"last_1_months_genre_rating\"]\n",
    "genre_ratings[\"last_1_month_per_3_months_genre_rating\"] = genre_ratings.last_1_months_genre_rating/genre_ratings.mean_3_months_genre_rating\n",
    "genre_ratings[\"last_1_month_per_6_months_genre_rating\"] = genre_ratings.last_1_months_genre_rating/genre_ratings.mean_6_months_genre_rating\n",
    "\n",
    "genre_ratings.loc[genre_ratings.genre_list==\"Drama\"].head(7)"
   ]
  },
  {
   "cell_type": "code",
   "execution_count": 14,
   "metadata": {},
   "outputs": [],
   "source": [
    "#now we will paste the genre variables\n",
    "genre_variables = [\"genre_list\",\"year_month\",\"last_1_months_genre_rating\",\"mean_3_months_genre_rating\",\n",
    "                  \"mean_6_months_genre_rating\",\"last_1_month_per_3_months_genre_rating\",\n",
    "                  \"last_1_month_per_6_months_genre_rating\"]\n",
    "\n",
    "genre_ratings_to_join=genre_ratings[genre_ratings.year_month >= 201403][genre_variables]"
   ]
  },
  {
   "cell_type": "code",
   "execution_count": 15,
   "metadata": {},
   "outputs": [
    {
     "output_type": "execute_result",
     "data": {
      "text/plain": [
       "    genre_list  year_month  last_1_months_genre_rating  \\\n",
       "218      Drama      201403                    3.567098   \n",
       "219      Drama      201404                    3.497814   \n",
       "220      Drama      201405                    3.304345   \n",
       "221      Drama      201406                    3.538060   \n",
       "222      Drama      201407                    3.374054   \n",
       "223      Drama      201408                    3.595230   \n",
       "224      Drama      201409                    3.516486   \n",
       "225      Drama      201410                    3.510313   \n",
       "226      Drama      201411                    3.528179   \n",
       "227      Drama      201412                    3.530950   \n",
       "228      Drama      201501                    3.437095   \n",
       "229      Drama      201502                    3.387756   \n",
       "230      Drama      201503                    3.430982   \n",
       "\n",
       "     mean_3_months_genre_rating  mean_6_months_genre_rating  \\\n",
       "218                    3.538904                    3.542391   \n",
       "219                    3.541073                    3.538563   \n",
       "220                    3.456419                    3.494073   \n",
       "221                    3.446740                    3.492822   \n",
       "222                    3.405486                    3.473280   \n",
       "223                    3.502448                    3.479434   \n",
       "224                    3.495257                    3.470998   \n",
       "225                    3.540676                    3.473081   \n",
       "226                    3.518326                    3.510387   \n",
       "227                    3.523147                    3.509202   \n",
       "228                    3.498741                    3.519709   \n",
       "229                    3.451934                    3.485130   \n",
       "230                    3.418611                    3.470879   \n",
       "\n",
       "     last_1_month_per_3_months_genre_rating  \\\n",
       "218                                1.007967   \n",
       "219                                0.987784   \n",
       "220                                0.956003   \n",
       "221                                1.026495   \n",
       "222                                0.990770   \n",
       "223                                1.026491   \n",
       "224                                1.006074   \n",
       "225                                0.991424   \n",
       "226                                1.002800   \n",
       "227                                1.002215   \n",
       "228                                0.982380   \n",
       "229                                0.981408   \n",
       "230                                1.003619   \n",
       "\n",
       "     last_1_month_per_6_months_genre_rating  \n",
       "218                                1.006975  \n",
       "219                                0.988484  \n",
       "220                                0.945700  \n",
       "221                                1.012952  \n",
       "222                                0.971432  \n",
       "223                                1.033280  \n",
       "224                                1.013105  \n",
       "225                                1.010720  \n",
       "226                                1.005068  \n",
       "227                                1.006197  \n",
       "228                                0.976528  \n",
       "229                                0.972060  \n",
       "230                                0.988505  "
      ],
      "text/html": "<div>\n<style scoped>\n    .dataframe tbody tr th:only-of-type {\n        vertical-align: middle;\n    }\n\n    .dataframe tbody tr th {\n        vertical-align: top;\n    }\n\n    .dataframe thead th {\n        text-align: right;\n    }\n</style>\n<table border=\"1\" class=\"dataframe\">\n  <thead>\n    <tr style=\"text-align: right;\">\n      <th></th>\n      <th>genre_list</th>\n      <th>year_month</th>\n      <th>last_1_months_genre_rating</th>\n      <th>mean_3_months_genre_rating</th>\n      <th>mean_6_months_genre_rating</th>\n      <th>last_1_month_per_3_months_genre_rating</th>\n      <th>last_1_month_per_6_months_genre_rating</th>\n    </tr>\n  </thead>\n  <tbody>\n    <tr>\n      <th>218</th>\n      <td>Drama</td>\n      <td>201403</td>\n      <td>3.567098</td>\n      <td>3.538904</td>\n      <td>3.542391</td>\n      <td>1.007967</td>\n      <td>1.006975</td>\n    </tr>\n    <tr>\n      <th>219</th>\n      <td>Drama</td>\n      <td>201404</td>\n      <td>3.497814</td>\n      <td>3.541073</td>\n      <td>3.538563</td>\n      <td>0.987784</td>\n      <td>0.988484</td>\n    </tr>\n    <tr>\n      <th>220</th>\n      <td>Drama</td>\n      <td>201405</td>\n      <td>3.304345</td>\n      <td>3.456419</td>\n      <td>3.494073</td>\n      <td>0.956003</td>\n      <td>0.945700</td>\n    </tr>\n    <tr>\n      <th>221</th>\n      <td>Drama</td>\n      <td>201406</td>\n      <td>3.538060</td>\n      <td>3.446740</td>\n      <td>3.492822</td>\n      <td>1.026495</td>\n      <td>1.012952</td>\n    </tr>\n    <tr>\n      <th>222</th>\n      <td>Drama</td>\n      <td>201407</td>\n      <td>3.374054</td>\n      <td>3.405486</td>\n      <td>3.473280</td>\n      <td>0.990770</td>\n      <td>0.971432</td>\n    </tr>\n    <tr>\n      <th>223</th>\n      <td>Drama</td>\n      <td>201408</td>\n      <td>3.595230</td>\n      <td>3.502448</td>\n      <td>3.479434</td>\n      <td>1.026491</td>\n      <td>1.033280</td>\n    </tr>\n    <tr>\n      <th>224</th>\n      <td>Drama</td>\n      <td>201409</td>\n      <td>3.516486</td>\n      <td>3.495257</td>\n      <td>3.470998</td>\n      <td>1.006074</td>\n      <td>1.013105</td>\n    </tr>\n    <tr>\n      <th>225</th>\n      <td>Drama</td>\n      <td>201410</td>\n      <td>3.510313</td>\n      <td>3.540676</td>\n      <td>3.473081</td>\n      <td>0.991424</td>\n      <td>1.010720</td>\n    </tr>\n    <tr>\n      <th>226</th>\n      <td>Drama</td>\n      <td>201411</td>\n      <td>3.528179</td>\n      <td>3.518326</td>\n      <td>3.510387</td>\n      <td>1.002800</td>\n      <td>1.005068</td>\n    </tr>\n    <tr>\n      <th>227</th>\n      <td>Drama</td>\n      <td>201412</td>\n      <td>3.530950</td>\n      <td>3.523147</td>\n      <td>3.509202</td>\n      <td>1.002215</td>\n      <td>1.006197</td>\n    </tr>\n    <tr>\n      <th>228</th>\n      <td>Drama</td>\n      <td>201501</td>\n      <td>3.437095</td>\n      <td>3.498741</td>\n      <td>3.519709</td>\n      <td>0.982380</td>\n      <td>0.976528</td>\n    </tr>\n    <tr>\n      <th>229</th>\n      <td>Drama</td>\n      <td>201502</td>\n      <td>3.387756</td>\n      <td>3.451934</td>\n      <td>3.485130</td>\n      <td>0.981408</td>\n      <td>0.972060</td>\n    </tr>\n    <tr>\n      <th>230</th>\n      <td>Drama</td>\n      <td>201503</td>\n      <td>3.430982</td>\n      <td>3.418611</td>\n      <td>3.470879</td>\n      <td>1.003619</td>\n      <td>0.988505</td>\n    </tr>\n  </tbody>\n</table>\n</div>"
     },
     "metadata": {},
     "execution_count": 15
    }
   ],
   "source": [
    "genre_ratings_to_join.loc[genre_ratings_to_join.genre_list==\"Drama\"]"
   ]
  },
  {
   "source": [
    "Lets paste the genre variables to the movies and get the mean of the history variables for each of the genres that are asociate to the movies"
   ],
   "cell_type": "markdown",
   "metadata": {}
  },
  {
   "cell_type": "code",
   "execution_count": 16,
   "metadata": {},
   "outputs": [],
   "source": [
    "movies_genre_ratings=movies_genre_gather.merge(genre_ratings_to_join,how = \"left\")\n",
    "movies_genre_ratings_agg =movies_genre_ratings.groupby([\"movieId\",\"year_month\"]).mean()\\\n",
    ".reset_index()"
   ]
  },
  {
   "cell_type": "code",
   "execution_count": 17,
   "metadata": {},
   "outputs": [
    {
     "output_type": "execute_result",
     "data": {
      "text/plain": [
       "    movieId  year_month  last_1_months_genre_rating  \\\n",
       "0         1      201403                    3.312358   \n",
       "1         1      201404                    3.205175   \n",
       "2         1      201405                    3.014464   \n",
       "3         1      201406                    3.301486   \n",
       "4         1      201407                    3.327976   \n",
       "5         1      201408                    3.348829   \n",
       "6         1      201409                    3.318001   \n",
       "7         1      201410                    3.311240   \n",
       "8         1      201411                    3.385594   \n",
       "9         1      201412                    3.176153   \n",
       "10        1      201501                    3.147468   \n",
       "11        1      201502                    3.116378   \n",
       "12        1      201503                    3.066124   \n",
       "\n",
       "    mean_3_months_genre_rating  mean_6_months_genre_rating  \\\n",
       "0                     3.291977                    3.328847   \n",
       "1                     3.252705                    3.304522   \n",
       "2                     3.177332                    3.247004   \n",
       "3                     3.173708                    3.232843   \n",
       "4                     3.214642                    3.233674   \n",
       "5                     3.326097                    3.251715   \n",
       "6                     3.331602                    3.252655   \n",
       "7                     3.326023                    3.270333   \n",
       "8                     3.338278                    3.332188   \n",
       "9                     3.290996                    3.311299   \n",
       "10                    3.236405                    3.281214   \n",
       "11                    3.146666                    3.242472   \n",
       "12                    3.109990                    3.200493   \n",
       "\n",
       "    last_1_month_per_3_months_genre_rating  \\\n",
       "0                                 1.006089   \n",
       "1                                 0.985209   \n",
       "2                                 0.948812   \n",
       "3                                 1.040576   \n",
       "4                                 1.035065   \n",
       "5                                 1.006784   \n",
       "6                                 0.995730   \n",
       "7                                 0.995735   \n",
       "8                                 1.014164   \n",
       "9                                 0.964888   \n",
       "10                                0.972313   \n",
       "11                                0.990781   \n",
       "12                                0.986159   \n",
       "\n",
       "    last_1_month_per_6_months_genre_rating  \n",
       "0                                 0.994983  \n",
       "1                                 0.969793  \n",
       "2                                 0.928399  \n",
       "3                                 1.021599  \n",
       "4                                 1.029122  \n",
       "5                                 1.029834  \n",
       "6                                 1.019810  \n",
       "7                                 1.012570  \n",
       "8                                 1.015916  \n",
       "9                                 0.958950  \n",
       "10                                0.958929  \n",
       "11                                0.961358  \n",
       "12                                0.958510  "
      ],
      "text/html": "<div>\n<style scoped>\n    .dataframe tbody tr th:only-of-type {\n        vertical-align: middle;\n    }\n\n    .dataframe tbody tr th {\n        vertical-align: top;\n    }\n\n    .dataframe thead th {\n        text-align: right;\n    }\n</style>\n<table border=\"1\" class=\"dataframe\">\n  <thead>\n    <tr style=\"text-align: right;\">\n      <th></th>\n      <th>movieId</th>\n      <th>year_month</th>\n      <th>last_1_months_genre_rating</th>\n      <th>mean_3_months_genre_rating</th>\n      <th>mean_6_months_genre_rating</th>\n      <th>last_1_month_per_3_months_genre_rating</th>\n      <th>last_1_month_per_6_months_genre_rating</th>\n    </tr>\n  </thead>\n  <tbody>\n    <tr>\n      <th>0</th>\n      <td>1</td>\n      <td>201403</td>\n      <td>3.312358</td>\n      <td>3.291977</td>\n      <td>3.328847</td>\n      <td>1.006089</td>\n      <td>0.994983</td>\n    </tr>\n    <tr>\n      <th>1</th>\n      <td>1</td>\n      <td>201404</td>\n      <td>3.205175</td>\n      <td>3.252705</td>\n      <td>3.304522</td>\n      <td>0.985209</td>\n      <td>0.969793</td>\n    </tr>\n    <tr>\n      <th>2</th>\n      <td>1</td>\n      <td>201405</td>\n      <td>3.014464</td>\n      <td>3.177332</td>\n      <td>3.247004</td>\n      <td>0.948812</td>\n      <td>0.928399</td>\n    </tr>\n    <tr>\n      <th>3</th>\n      <td>1</td>\n      <td>201406</td>\n      <td>3.301486</td>\n      <td>3.173708</td>\n      <td>3.232843</td>\n      <td>1.040576</td>\n      <td>1.021599</td>\n    </tr>\n    <tr>\n      <th>4</th>\n      <td>1</td>\n      <td>201407</td>\n      <td>3.327976</td>\n      <td>3.214642</td>\n      <td>3.233674</td>\n      <td>1.035065</td>\n      <td>1.029122</td>\n    </tr>\n    <tr>\n      <th>5</th>\n      <td>1</td>\n      <td>201408</td>\n      <td>3.348829</td>\n      <td>3.326097</td>\n      <td>3.251715</td>\n      <td>1.006784</td>\n      <td>1.029834</td>\n    </tr>\n    <tr>\n      <th>6</th>\n      <td>1</td>\n      <td>201409</td>\n      <td>3.318001</td>\n      <td>3.331602</td>\n      <td>3.252655</td>\n      <td>0.995730</td>\n      <td>1.019810</td>\n    </tr>\n    <tr>\n      <th>7</th>\n      <td>1</td>\n      <td>201410</td>\n      <td>3.311240</td>\n      <td>3.326023</td>\n      <td>3.270333</td>\n      <td>0.995735</td>\n      <td>1.012570</td>\n    </tr>\n    <tr>\n      <th>8</th>\n      <td>1</td>\n      <td>201411</td>\n      <td>3.385594</td>\n      <td>3.338278</td>\n      <td>3.332188</td>\n      <td>1.014164</td>\n      <td>1.015916</td>\n    </tr>\n    <tr>\n      <th>9</th>\n      <td>1</td>\n      <td>201412</td>\n      <td>3.176153</td>\n      <td>3.290996</td>\n      <td>3.311299</td>\n      <td>0.964888</td>\n      <td>0.958950</td>\n    </tr>\n    <tr>\n      <th>10</th>\n      <td>1</td>\n      <td>201501</td>\n      <td>3.147468</td>\n      <td>3.236405</td>\n      <td>3.281214</td>\n      <td>0.972313</td>\n      <td>0.958929</td>\n    </tr>\n    <tr>\n      <th>11</th>\n      <td>1</td>\n      <td>201502</td>\n      <td>3.116378</td>\n      <td>3.146666</td>\n      <td>3.242472</td>\n      <td>0.990781</td>\n      <td>0.961358</td>\n    </tr>\n    <tr>\n      <th>12</th>\n      <td>1</td>\n      <td>201503</td>\n      <td>3.066124</td>\n      <td>3.109990</td>\n      <td>3.200493</td>\n      <td>0.986159</td>\n      <td>0.958510</td>\n    </tr>\n  </tbody>\n</table>\n</div>"
     },
     "metadata": {},
     "execution_count": 17
    }
   ],
   "source": [
    "movies_genre_ratings_agg.loc[movies_genre_ratings_agg[\"movieId\"]==1]"
   ]
  },
  {
   "source": [
    "## History variables from the ratings of the tags of movies\n",
    "\n",
    "This is the variable that I had to think the most, because each tag that a user gives to a movie can be applied only in one month and for the next periods of time it could complete disappear. To deal with this, I decided to calculate the  mean of the rating given to each tag  and then calculate the weighted mean of the tags to the movies on the last 6 months. This approach gives more weight to the tags that were used by more users than the ones that were sporadically used."
   ],
   "cell_type": "markdown",
   "metadata": {}
  },
  {
   "source": [
    "For time porpuse, we will have the information of the last 2 years"
   ],
   "cell_type": "markdown",
   "metadata": {}
  },
  {
   "cell_type": "code",
   "execution_count": 18,
   "metadata": {},
   "outputs": [],
   "source": [
    "tag[\"year_month\"] = pd.DatetimeIndex(tag['timestamp']).year*100+\\\n",
    "pd.DatetimeIndex(tag['timestamp']).month\n",
    "tag = tag.loc[tag.timestamp>'2013-01-01']"
   ]
  },
  {
   "source": [
    "### Cleaning the tags"
   ],
   "cell_type": "markdown",
   "metadata": {}
  },
  {
   "cell_type": "code",
   "execution_count": 19,
   "metadata": {},
   "outputs": [],
   "source": [
    "#if not installed, nltk.download(). look for corpora>stopwords, packages>wordnet\n",
    "try:\n",
    "    stop_words = set(stopwords.words(\"english\")) \n",
    "except LookupError:\n",
    "    import nltk\n",
    "    nltk.download()"
   ]
  },
  {
   "cell_type": "code",
   "execution_count": 20,
   "metadata": {},
   "outputs": [],
   "source": [
    "lemmatizer = WordNetLemmatizer()\n",
    "\n",
    "def clean_text(text):\n",
    "    text = re.sub(r'[^\\w\\s]','',text, re.UNICODE)#only alfanumeric and spaces\n",
    "    text = text.lower()\n",
    "    text = [lemmatizer.lemmatize(token) for token in text.split(\" \")]\n",
    "    text = [lemmatizer.lemmatize(token, \"v\") for token in text] # meeting > meet, was > be\n",
    "    text = [word for word in text if not word in stop_words] #exclude stop words\n",
    "    text = \" \".join(text)\n",
    "    return text\n",
    "\n",
    "tag['processed_tag'] = tag.tag.apply(lambda x: clean_text(x))"
   ]
  },
  {
   "cell_type": "code",
   "execution_count": 21,
   "metadata": {},
   "outputs": [
    {
     "output_type": "execute_result",
     "data": {
      "text/plain": [
       "        userId  movieId                 tag            timestamp  year_month  \\\n",
       "1           65      208           dark hero  2013-05-10 01:41:18      201305   \n",
       "2           65      353           dark hero  2013-05-10 01:41:19      201305   \n",
       "3           65      521       noir thriller  2013-05-10 01:39:43      201305   \n",
       "4           65      592           dark hero  2013-05-10 01:41:18      201305   \n",
       "5           65      668           bollywood  2013-05-10 01:37:56      201305   \n",
       "...        ...      ...                 ...                  ...         ...   \n",
       "465558  138446     7164  visually appealing  2013-01-23 23:30:55      201301   \n",
       "465559  138446    55999             dragged  2013-01-23 23:29:32      201301   \n",
       "465560  138446    55999       Jason Bateman  2013-01-23 23:29:38      201301   \n",
       "465561  138446    55999              quirky  2013-01-23 23:29:38      201301   \n",
       "465562  138446    55999                 sad  2013-01-23 23:29:32      201301   \n",
       "\n",
       "          processed_tag  \n",
       "1             dark hero  \n",
       "2             dark hero  \n",
       "3         noir thriller  \n",
       "4             dark hero  \n",
       "5             bollywood  \n",
       "...                 ...  \n",
       "465558  visually appeal  \n",
       "465559             drag  \n",
       "465560    jason bateman  \n",
       "465561           quirky  \n",
       "465562              sad  \n",
       "\n",
       "[132612 rows x 6 columns]"
      ],
      "text/html": "<div>\n<style scoped>\n    .dataframe tbody tr th:only-of-type {\n        vertical-align: middle;\n    }\n\n    .dataframe tbody tr th {\n        vertical-align: top;\n    }\n\n    .dataframe thead th {\n        text-align: right;\n    }\n</style>\n<table border=\"1\" class=\"dataframe\">\n  <thead>\n    <tr style=\"text-align: right;\">\n      <th></th>\n      <th>userId</th>\n      <th>movieId</th>\n      <th>tag</th>\n      <th>timestamp</th>\n      <th>year_month</th>\n      <th>processed_tag</th>\n    </tr>\n  </thead>\n  <tbody>\n    <tr>\n      <th>1</th>\n      <td>65</td>\n      <td>208</td>\n      <td>dark hero</td>\n      <td>2013-05-10 01:41:18</td>\n      <td>201305</td>\n      <td>dark hero</td>\n    </tr>\n    <tr>\n      <th>2</th>\n      <td>65</td>\n      <td>353</td>\n      <td>dark hero</td>\n      <td>2013-05-10 01:41:19</td>\n      <td>201305</td>\n      <td>dark hero</td>\n    </tr>\n    <tr>\n      <th>3</th>\n      <td>65</td>\n      <td>521</td>\n      <td>noir thriller</td>\n      <td>2013-05-10 01:39:43</td>\n      <td>201305</td>\n      <td>noir thriller</td>\n    </tr>\n    <tr>\n      <th>4</th>\n      <td>65</td>\n      <td>592</td>\n      <td>dark hero</td>\n      <td>2013-05-10 01:41:18</td>\n      <td>201305</td>\n      <td>dark hero</td>\n    </tr>\n    <tr>\n      <th>5</th>\n      <td>65</td>\n      <td>668</td>\n      <td>bollywood</td>\n      <td>2013-05-10 01:37:56</td>\n      <td>201305</td>\n      <td>bollywood</td>\n    </tr>\n    <tr>\n      <th>...</th>\n      <td>...</td>\n      <td>...</td>\n      <td>...</td>\n      <td>...</td>\n      <td>...</td>\n      <td>...</td>\n    </tr>\n    <tr>\n      <th>465558</th>\n      <td>138446</td>\n      <td>7164</td>\n      <td>visually appealing</td>\n      <td>2013-01-23 23:30:55</td>\n      <td>201301</td>\n      <td>visually appeal</td>\n    </tr>\n    <tr>\n      <th>465559</th>\n      <td>138446</td>\n      <td>55999</td>\n      <td>dragged</td>\n      <td>2013-01-23 23:29:32</td>\n      <td>201301</td>\n      <td>drag</td>\n    </tr>\n    <tr>\n      <th>465560</th>\n      <td>138446</td>\n      <td>55999</td>\n      <td>Jason Bateman</td>\n      <td>2013-01-23 23:29:38</td>\n      <td>201301</td>\n      <td>jason bateman</td>\n    </tr>\n    <tr>\n      <th>465561</th>\n      <td>138446</td>\n      <td>55999</td>\n      <td>quirky</td>\n      <td>2013-01-23 23:29:38</td>\n      <td>201301</td>\n      <td>quirky</td>\n    </tr>\n    <tr>\n      <th>465562</th>\n      <td>138446</td>\n      <td>55999</td>\n      <td>sad</td>\n      <td>2013-01-23 23:29:32</td>\n      <td>201301</td>\n      <td>sad</td>\n    </tr>\n  </tbody>\n</table>\n<p>132612 rows × 6 columns</p>\n</div>"
     },
     "metadata": {},
     "execution_count": 21
    }
   ],
   "source": [
    "tag"
   ]
  },
  {
   "cell_type": "code",
   "execution_count": 22,
   "metadata": {},
   "outputs": [],
   "source": [
    "tag.to_csv(\"../../data/tag_filtered.csv\",index = False)"
   ]
  },
  {
   "source": [
    "Lets merge the tags and the ratings on the movies"
   ],
   "cell_type": "markdown",
   "metadata": {}
  },
  {
   "cell_type": "code",
   "execution_count": 23,
   "metadata": {},
   "outputs": [],
   "source": [
    "tags_ratings=tag.loc[:,~tag.columns.isin([\"userId\",\"timestamp\",\"tag\"])]\\\n",
    ".drop_duplicates()\\\n",
    ".merge(ratings,\"left\")"
   ]
  },
  {
   "cell_type": "code",
   "execution_count": 24,
   "metadata": {},
   "outputs": [
    {
     "output_type": "execute_result",
     "data": {
      "text/plain": [
       "         movieId  year_month processed_tag    userId  rating  \\\n",
       "0            208      201305     dark hero    1141.0     3.5   \n",
       "1            208      201305     dark hero    4912.0     3.0   \n",
       "2            208      201305     dark hero   13920.0     2.5   \n",
       "3            208      201305     dark hero   22377.0     3.5   \n",
       "4            208      201305     dark hero   25591.0     1.5   \n",
       "...          ...         ...           ...       ...     ...   \n",
       "3745555    55999      201301           sad   25237.0     3.5   \n",
       "3745556    55999      201301           sad   30376.0     2.5   \n",
       "3745557    55999      201301           sad   32514.0     3.0   \n",
       "3745558    55999      201301           sad  114651.0     4.0   \n",
       "3745559    55999      201301           sad  138446.0     2.5   \n",
       "\n",
       "                   timestamp  \n",
       "0        2013-05-08 12:12:27  \n",
       "1        2013-05-03 13:48:33  \n",
       "2        2013-05-01 19:07:45  \n",
       "3        2013-05-16 20:43:17  \n",
       "4        2013-05-29 20:04:13  \n",
       "...                      ...  \n",
       "3745555  2013-01-07 01:34:28  \n",
       "3745556  2013-01-03 23:20:00  \n",
       "3745557  2013-01-13 23:23:46  \n",
       "3745558  2013-01-18 18:09:21  \n",
       "3745559  2013-01-23 23:31:05  \n",
       "\n",
       "[3745560 rows x 6 columns]"
      ],
      "text/html": "<div>\n<style scoped>\n    .dataframe tbody tr th:only-of-type {\n        vertical-align: middle;\n    }\n\n    .dataframe tbody tr th {\n        vertical-align: top;\n    }\n\n    .dataframe thead th {\n        text-align: right;\n    }\n</style>\n<table border=\"1\" class=\"dataframe\">\n  <thead>\n    <tr style=\"text-align: right;\">\n      <th></th>\n      <th>movieId</th>\n      <th>year_month</th>\n      <th>processed_tag</th>\n      <th>userId</th>\n      <th>rating</th>\n      <th>timestamp</th>\n    </tr>\n  </thead>\n  <tbody>\n    <tr>\n      <th>0</th>\n      <td>208</td>\n      <td>201305</td>\n      <td>dark hero</td>\n      <td>1141.0</td>\n      <td>3.5</td>\n      <td>2013-05-08 12:12:27</td>\n    </tr>\n    <tr>\n      <th>1</th>\n      <td>208</td>\n      <td>201305</td>\n      <td>dark hero</td>\n      <td>4912.0</td>\n      <td>3.0</td>\n      <td>2013-05-03 13:48:33</td>\n    </tr>\n    <tr>\n      <th>2</th>\n      <td>208</td>\n      <td>201305</td>\n      <td>dark hero</td>\n      <td>13920.0</td>\n      <td>2.5</td>\n      <td>2013-05-01 19:07:45</td>\n    </tr>\n    <tr>\n      <th>3</th>\n      <td>208</td>\n      <td>201305</td>\n      <td>dark hero</td>\n      <td>22377.0</td>\n      <td>3.5</td>\n      <td>2013-05-16 20:43:17</td>\n    </tr>\n    <tr>\n      <th>4</th>\n      <td>208</td>\n      <td>201305</td>\n      <td>dark hero</td>\n      <td>25591.0</td>\n      <td>1.5</td>\n      <td>2013-05-29 20:04:13</td>\n    </tr>\n    <tr>\n      <th>...</th>\n      <td>...</td>\n      <td>...</td>\n      <td>...</td>\n      <td>...</td>\n      <td>...</td>\n      <td>...</td>\n    </tr>\n    <tr>\n      <th>3745555</th>\n      <td>55999</td>\n      <td>201301</td>\n      <td>sad</td>\n      <td>25237.0</td>\n      <td>3.5</td>\n      <td>2013-01-07 01:34:28</td>\n    </tr>\n    <tr>\n      <th>3745556</th>\n      <td>55999</td>\n      <td>201301</td>\n      <td>sad</td>\n      <td>30376.0</td>\n      <td>2.5</td>\n      <td>2013-01-03 23:20:00</td>\n    </tr>\n    <tr>\n      <th>3745557</th>\n      <td>55999</td>\n      <td>201301</td>\n      <td>sad</td>\n      <td>32514.0</td>\n      <td>3.0</td>\n      <td>2013-01-13 23:23:46</td>\n    </tr>\n    <tr>\n      <th>3745558</th>\n      <td>55999</td>\n      <td>201301</td>\n      <td>sad</td>\n      <td>114651.0</td>\n      <td>4.0</td>\n      <td>2013-01-18 18:09:21</td>\n    </tr>\n    <tr>\n      <th>3745559</th>\n      <td>55999</td>\n      <td>201301</td>\n      <td>sad</td>\n      <td>138446.0</td>\n      <td>2.5</td>\n      <td>2013-01-23 23:31:05</td>\n    </tr>\n  </tbody>\n</table>\n<p>3745560 rows × 6 columns</p>\n</div>"
     },
     "metadata": {},
     "execution_count": 24
    }
   ],
   "source": [
    "tags_ratings"
   ]
  },
  {
   "source": [
    "Lets agregate the mean rating for all the processed tags"
   ],
   "cell_type": "markdown",
   "metadata": {}
  },
  {
   "cell_type": "code",
   "execution_count": 25,
   "metadata": {},
   "outputs": [],
   "source": [
    "tags_ratings_agg = tags_ratings.groupby([\"processed_tag\",\"year_month\"]).agg({\"userId\":\"count\",\"rating\":\"mean\"})\\\n",
    ".reset_index()\n",
    "tags_ratings_agg.columns = [\"processed_tag\",\"year_month\",\"count\",\"rating\"]"
   ]
  },
  {
   "cell_type": "code",
   "execution_count": 26,
   "metadata": {},
   "outputs": [
    {
     "output_type": "execute_result",
     "data": {
      "text/plain": [
       "      processed_tag  year_month  count    rating\n",
       "44485           toy      201301     69  3.862319\n",
       "44486           toy      201302     67  3.880597\n",
       "44487           toy      201306      1  3.000000\n",
       "44488           toy      201310     32  3.156250\n",
       "44489           toy      201312      2  1.750000\n",
       "44490           toy      201403     29  3.431034\n",
       "44491           toy      201407     46  3.847826\n",
       "44492           toy      201501    160  3.815625\n",
       "44493           toy      201502    157  3.815287"
      ],
      "text/html": "<div>\n<style scoped>\n    .dataframe tbody tr th:only-of-type {\n        vertical-align: middle;\n    }\n\n    .dataframe tbody tr th {\n        vertical-align: top;\n    }\n\n    .dataframe thead th {\n        text-align: right;\n    }\n</style>\n<table border=\"1\" class=\"dataframe\">\n  <thead>\n    <tr style=\"text-align: right;\">\n      <th></th>\n      <th>processed_tag</th>\n      <th>year_month</th>\n      <th>count</th>\n      <th>rating</th>\n    </tr>\n  </thead>\n  <tbody>\n    <tr>\n      <th>44485</th>\n      <td>toy</td>\n      <td>201301</td>\n      <td>69</td>\n      <td>3.862319</td>\n    </tr>\n    <tr>\n      <th>44486</th>\n      <td>toy</td>\n      <td>201302</td>\n      <td>67</td>\n      <td>3.880597</td>\n    </tr>\n    <tr>\n      <th>44487</th>\n      <td>toy</td>\n      <td>201306</td>\n      <td>1</td>\n      <td>3.000000</td>\n    </tr>\n    <tr>\n      <th>44488</th>\n      <td>toy</td>\n      <td>201310</td>\n      <td>32</td>\n      <td>3.156250</td>\n    </tr>\n    <tr>\n      <th>44489</th>\n      <td>toy</td>\n      <td>201312</td>\n      <td>2</td>\n      <td>1.750000</td>\n    </tr>\n    <tr>\n      <th>44490</th>\n      <td>toy</td>\n      <td>201403</td>\n      <td>29</td>\n      <td>3.431034</td>\n    </tr>\n    <tr>\n      <th>44491</th>\n      <td>toy</td>\n      <td>201407</td>\n      <td>46</td>\n      <td>3.847826</td>\n    </tr>\n    <tr>\n      <th>44492</th>\n      <td>toy</td>\n      <td>201501</td>\n      <td>160</td>\n      <td>3.815625</td>\n    </tr>\n    <tr>\n      <th>44493</th>\n      <td>toy</td>\n      <td>201502</td>\n      <td>157</td>\n      <td>3.815287</td>\n    </tr>\n  </tbody>\n</table>\n</div>"
     },
     "metadata": {},
     "execution_count": 26
    }
   ],
   "source": [
    "tags_ratings_agg.loc[tags_ratings_agg[\"processed_tag\"]==\"toy\"]"
   ]
  },
  {
   "source": [
    "lets get reed of the nulls ratings when we made the left join of the tags"
   ],
   "cell_type": "markdown",
   "metadata": {}
  },
  {
   "cell_type": "code",
   "execution_count": 27,
   "metadata": {},
   "outputs": [],
   "source": [
    "tags_ratings_agg_notNull =  tags_ratings_agg.loc[tags_ratings_agg.rating.notnull()]"
   ]
  },
  {
   "source": [
    "Because of a tag can be use in one month and not in other, lets create a cross join of every posible tag and months."
   ],
   "cell_type": "markdown",
   "metadata": {}
  },
  {
   "cell_type": "code",
   "execution_count": 28,
   "metadata": {},
   "outputs": [
    {
     "output_type": "execute_result",
     "data": {
      "text/plain": [
       "         processed_tag  tmp  year_month\n",
       "0                         1      201301\n",
       "1                         1      201302\n",
       "2                         1      201303\n",
       "3                         1      201306\n",
       "4                         1      201309\n",
       "...                ...  ...         ...\n",
       "380938  özgür yildirim    1      201408\n",
       "380939  özgür yildirim    1      201307\n",
       "380940  özgür yildirim    1      201304\n",
       "380941  özgür yildirim    1      201308\n",
       "380942  özgür yildirim    1      201403\n",
       "\n",
       "[380943 rows x 3 columns]"
      ],
      "text/html": "<div>\n<style scoped>\n    .dataframe tbody tr th:only-of-type {\n        vertical-align: middle;\n    }\n\n    .dataframe tbody tr th {\n        vertical-align: top;\n    }\n\n    .dataframe thead th {\n        text-align: right;\n    }\n</style>\n<table border=\"1\" class=\"dataframe\">\n  <thead>\n    <tr style=\"text-align: right;\">\n      <th></th>\n      <th>processed_tag</th>\n      <th>tmp</th>\n      <th>year_month</th>\n    </tr>\n  </thead>\n  <tbody>\n    <tr>\n      <th>0</th>\n      <td></td>\n      <td>1</td>\n      <td>201301</td>\n    </tr>\n    <tr>\n      <th>1</th>\n      <td></td>\n      <td>1</td>\n      <td>201302</td>\n    </tr>\n    <tr>\n      <th>2</th>\n      <td></td>\n      <td>1</td>\n      <td>201303</td>\n    </tr>\n    <tr>\n      <th>3</th>\n      <td></td>\n      <td>1</td>\n      <td>201306</td>\n    </tr>\n    <tr>\n      <th>4</th>\n      <td></td>\n      <td>1</td>\n      <td>201309</td>\n    </tr>\n    <tr>\n      <th>...</th>\n      <td>...</td>\n      <td>...</td>\n      <td>...</td>\n    </tr>\n    <tr>\n      <th>380938</th>\n      <td>özgür yildirim</td>\n      <td>1</td>\n      <td>201408</td>\n    </tr>\n    <tr>\n      <th>380939</th>\n      <td>özgür yildirim</td>\n      <td>1</td>\n      <td>201307</td>\n    </tr>\n    <tr>\n      <th>380940</th>\n      <td>özgür yildirim</td>\n      <td>1</td>\n      <td>201304</td>\n    </tr>\n    <tr>\n      <th>380941</th>\n      <td>özgür yildirim</td>\n      <td>1</td>\n      <td>201308</td>\n    </tr>\n    <tr>\n      <th>380942</th>\n      <td>özgür yildirim</td>\n      <td>1</td>\n      <td>201403</td>\n    </tr>\n  </tbody>\n</table>\n<p>380943 rows × 3 columns</p>\n</div>"
     },
     "metadata": {},
     "execution_count": 28
    }
   ],
   "source": [
    "unique_cleaned_tags =tags_ratings_agg_notNull.processed_tag.drop_duplicates().reset_index(drop = True)\n",
    "unique_year_months = tags_ratings_agg_notNull.year_month.drop_duplicates().reset_index(drop = True)\n",
    "\n",
    "df1 = pd.DataFrame({'processed_tag':unique_cleaned_tags})\n",
    "df2 = pd.DataFrame({'year_month':unique_year_months})\n",
    "df1['tmp'] = 1\n",
    "df2['tmp'] = 1\n",
    "\n",
    "unique_months_years_tags = df1.merge(df2)\n",
    "unique_months_years_tags"
   ]
  },
  {
   "source": [
    "If we are going to take the weighted mean of the rating, we will substitue 0 with a small number 0.001 when joining how many users used the tag"
   ],
   "cell_type": "markdown",
   "metadata": {}
  },
  {
   "cell_type": "code",
   "execution_count": 29,
   "metadata": {},
   "outputs": [],
   "source": [
    "tags_ratings_agg_notNull_full=unique_months_years_tags.merge(tags_ratings_agg_notNull,\"left\").fillna(0.0001).\\\n",
    "sort_values(by=['processed_tag', 'year_month']).\\\n",
    "reset_index(drop = True)"
   ]
  },
  {
   "cell_type": "code",
   "execution_count": 30,
   "metadata": {},
   "outputs": [
    {
     "output_type": "execute_result",
     "data": {
      "text/plain": [
       "       processed_tag  tmp  year_month     count    rating\n",
       "351027           toy    1      201301   69.0000  3.862319\n",
       "351028           toy    1      201302   67.0000  3.880597\n",
       "351029           toy    1      201303    0.0001  0.000100\n",
       "351030           toy    1      201304    0.0001  0.000100\n",
       "351031           toy    1      201305    0.0001  0.000100\n",
       "351032           toy    1      201306    1.0000  3.000000\n",
       "351033           toy    1      201307    0.0001  0.000100\n",
       "351034           toy    1      201308    0.0001  0.000100\n",
       "351035           toy    1      201309    0.0001  0.000100\n",
       "351036           toy    1      201310   32.0000  3.156250\n",
       "351037           toy    1      201311    0.0001  0.000100\n",
       "351038           toy    1      201312    2.0000  1.750000\n",
       "351039           toy    1      201401    0.0001  0.000100\n",
       "351040           toy    1      201402    0.0001  0.000100\n",
       "351041           toy    1      201403   29.0000  3.431034\n",
       "351042           toy    1      201404    0.0001  0.000100\n",
       "351043           toy    1      201405    0.0001  0.000100\n",
       "351044           toy    1      201406    0.0001  0.000100\n",
       "351045           toy    1      201407   46.0000  3.847826\n",
       "351046           toy    1      201408    0.0001  0.000100\n",
       "351047           toy    1      201409    0.0001  0.000100\n",
       "351048           toy    1      201410    0.0001  0.000100\n",
       "351049           toy    1      201411    0.0001  0.000100\n",
       "351050           toy    1      201412    0.0001  0.000100\n",
       "351051           toy    1      201501  160.0000  3.815625\n",
       "351052           toy    1      201502  157.0000  3.815287\n",
       "351053           toy    1      201503    0.0001  0.000100"
      ],
      "text/html": "<div>\n<style scoped>\n    .dataframe tbody tr th:only-of-type {\n        vertical-align: middle;\n    }\n\n    .dataframe tbody tr th {\n        vertical-align: top;\n    }\n\n    .dataframe thead th {\n        text-align: right;\n    }\n</style>\n<table border=\"1\" class=\"dataframe\">\n  <thead>\n    <tr style=\"text-align: right;\">\n      <th></th>\n      <th>processed_tag</th>\n      <th>tmp</th>\n      <th>year_month</th>\n      <th>count</th>\n      <th>rating</th>\n    </tr>\n  </thead>\n  <tbody>\n    <tr>\n      <th>351027</th>\n      <td>toy</td>\n      <td>1</td>\n      <td>201301</td>\n      <td>69.0000</td>\n      <td>3.862319</td>\n    </tr>\n    <tr>\n      <th>351028</th>\n      <td>toy</td>\n      <td>1</td>\n      <td>201302</td>\n      <td>67.0000</td>\n      <td>3.880597</td>\n    </tr>\n    <tr>\n      <th>351029</th>\n      <td>toy</td>\n      <td>1</td>\n      <td>201303</td>\n      <td>0.0001</td>\n      <td>0.000100</td>\n    </tr>\n    <tr>\n      <th>351030</th>\n      <td>toy</td>\n      <td>1</td>\n      <td>201304</td>\n      <td>0.0001</td>\n      <td>0.000100</td>\n    </tr>\n    <tr>\n      <th>351031</th>\n      <td>toy</td>\n      <td>1</td>\n      <td>201305</td>\n      <td>0.0001</td>\n      <td>0.000100</td>\n    </tr>\n    <tr>\n      <th>351032</th>\n      <td>toy</td>\n      <td>1</td>\n      <td>201306</td>\n      <td>1.0000</td>\n      <td>3.000000</td>\n    </tr>\n    <tr>\n      <th>351033</th>\n      <td>toy</td>\n      <td>1</td>\n      <td>201307</td>\n      <td>0.0001</td>\n      <td>0.000100</td>\n    </tr>\n    <tr>\n      <th>351034</th>\n      <td>toy</td>\n      <td>1</td>\n      <td>201308</td>\n      <td>0.0001</td>\n      <td>0.000100</td>\n    </tr>\n    <tr>\n      <th>351035</th>\n      <td>toy</td>\n      <td>1</td>\n      <td>201309</td>\n      <td>0.0001</td>\n      <td>0.000100</td>\n    </tr>\n    <tr>\n      <th>351036</th>\n      <td>toy</td>\n      <td>1</td>\n      <td>201310</td>\n      <td>32.0000</td>\n      <td>3.156250</td>\n    </tr>\n    <tr>\n      <th>351037</th>\n      <td>toy</td>\n      <td>1</td>\n      <td>201311</td>\n      <td>0.0001</td>\n      <td>0.000100</td>\n    </tr>\n    <tr>\n      <th>351038</th>\n      <td>toy</td>\n      <td>1</td>\n      <td>201312</td>\n      <td>2.0000</td>\n      <td>1.750000</td>\n    </tr>\n    <tr>\n      <th>351039</th>\n      <td>toy</td>\n      <td>1</td>\n      <td>201401</td>\n      <td>0.0001</td>\n      <td>0.000100</td>\n    </tr>\n    <tr>\n      <th>351040</th>\n      <td>toy</td>\n      <td>1</td>\n      <td>201402</td>\n      <td>0.0001</td>\n      <td>0.000100</td>\n    </tr>\n    <tr>\n      <th>351041</th>\n      <td>toy</td>\n      <td>1</td>\n      <td>201403</td>\n      <td>29.0000</td>\n      <td>3.431034</td>\n    </tr>\n    <tr>\n      <th>351042</th>\n      <td>toy</td>\n      <td>1</td>\n      <td>201404</td>\n      <td>0.0001</td>\n      <td>0.000100</td>\n    </tr>\n    <tr>\n      <th>351043</th>\n      <td>toy</td>\n      <td>1</td>\n      <td>201405</td>\n      <td>0.0001</td>\n      <td>0.000100</td>\n    </tr>\n    <tr>\n      <th>351044</th>\n      <td>toy</td>\n      <td>1</td>\n      <td>201406</td>\n      <td>0.0001</td>\n      <td>0.000100</td>\n    </tr>\n    <tr>\n      <th>351045</th>\n      <td>toy</td>\n      <td>1</td>\n      <td>201407</td>\n      <td>46.0000</td>\n      <td>3.847826</td>\n    </tr>\n    <tr>\n      <th>351046</th>\n      <td>toy</td>\n      <td>1</td>\n      <td>201408</td>\n      <td>0.0001</td>\n      <td>0.000100</td>\n    </tr>\n    <tr>\n      <th>351047</th>\n      <td>toy</td>\n      <td>1</td>\n      <td>201409</td>\n      <td>0.0001</td>\n      <td>0.000100</td>\n    </tr>\n    <tr>\n      <th>351048</th>\n      <td>toy</td>\n      <td>1</td>\n      <td>201410</td>\n      <td>0.0001</td>\n      <td>0.000100</td>\n    </tr>\n    <tr>\n      <th>351049</th>\n      <td>toy</td>\n      <td>1</td>\n      <td>201411</td>\n      <td>0.0001</td>\n      <td>0.000100</td>\n    </tr>\n    <tr>\n      <th>351050</th>\n      <td>toy</td>\n      <td>1</td>\n      <td>201412</td>\n      <td>0.0001</td>\n      <td>0.000100</td>\n    </tr>\n    <tr>\n      <th>351051</th>\n      <td>toy</td>\n      <td>1</td>\n      <td>201501</td>\n      <td>160.0000</td>\n      <td>3.815625</td>\n    </tr>\n    <tr>\n      <th>351052</th>\n      <td>toy</td>\n      <td>1</td>\n      <td>201502</td>\n      <td>157.0000</td>\n      <td>3.815287</td>\n    </tr>\n    <tr>\n      <th>351053</th>\n      <td>toy</td>\n      <td>1</td>\n      <td>201503</td>\n      <td>0.0001</td>\n      <td>0.000100</td>\n    </tr>\n  </tbody>\n</table>\n</div>"
     },
     "metadata": {},
     "execution_count": 30
    }
   ],
   "source": [
    "tags_ratings_agg_notNull_full.loc[tags_ratings_agg_notNull_full['processed_tag']=='toy']"
   ]
  },
  {
   "source": [
    "Now lets get the lag of the mean rating "
   ],
   "cell_type": "markdown",
   "metadata": {}
  },
  {
   "cell_type": "code",
   "execution_count": 31,
   "metadata": {},
   "outputs": [],
   "source": [
    "tags_ratings_agg_notNull_full[\"last_1_months_tag_rating\"] = tags_ratings_agg_notNull_full.groupby(\"processed_tag\")[\"rating\"]\\\n",
    ".shift(1)\\\n",
    ".reset_index()[\"rating\"]\n",
    "\n",
    "tags_ratings_agg_notNull_full[\"last_1_months_tag_count\"] = tags_ratings_agg_notNull_full.groupby(\"processed_tag\")[\"count\"]\\\n",
    ".shift(1)\\\n",
    ".reset_index()[\"count\"]"
   ]
  },
  {
   "cell_type": "code",
   "execution_count": 32,
   "metadata": {},
   "outputs": [
    {
     "output_type": "execute_result",
     "data": {
      "text/plain": [
       "       processed_tag  tmp  year_month     count    rating  \\\n",
       "351027           toy    1      201301   69.0000  3.862319   \n",
       "351028           toy    1      201302   67.0000  3.880597   \n",
       "351029           toy    1      201303    0.0001  0.000100   \n",
       "351030           toy    1      201304    0.0001  0.000100   \n",
       "351031           toy    1      201305    0.0001  0.000100   \n",
       "351032           toy    1      201306    1.0000  3.000000   \n",
       "351033           toy    1      201307    0.0001  0.000100   \n",
       "351034           toy    1      201308    0.0001  0.000100   \n",
       "351035           toy    1      201309    0.0001  0.000100   \n",
       "351036           toy    1      201310   32.0000  3.156250   \n",
       "351037           toy    1      201311    0.0001  0.000100   \n",
       "351038           toy    1      201312    2.0000  1.750000   \n",
       "351039           toy    1      201401    0.0001  0.000100   \n",
       "351040           toy    1      201402    0.0001  0.000100   \n",
       "351041           toy    1      201403   29.0000  3.431034   \n",
       "351042           toy    1      201404    0.0001  0.000100   \n",
       "351043           toy    1      201405    0.0001  0.000100   \n",
       "351044           toy    1      201406    0.0001  0.000100   \n",
       "351045           toy    1      201407   46.0000  3.847826   \n",
       "351046           toy    1      201408    0.0001  0.000100   \n",
       "351047           toy    1      201409    0.0001  0.000100   \n",
       "351048           toy    1      201410    0.0001  0.000100   \n",
       "351049           toy    1      201411    0.0001  0.000100   \n",
       "351050           toy    1      201412    0.0001  0.000100   \n",
       "351051           toy    1      201501  160.0000  3.815625   \n",
       "351052           toy    1      201502  157.0000  3.815287   \n",
       "351053           toy    1      201503    0.0001  0.000100   \n",
       "\n",
       "        last_1_months_tag_rating  last_1_months_tag_count  \n",
       "351027                       NaN                      NaN  \n",
       "351028                  3.862319                  69.0000  \n",
       "351029                  3.880597                  67.0000  \n",
       "351030                  0.000100                   0.0001  \n",
       "351031                  0.000100                   0.0001  \n",
       "351032                  0.000100                   0.0001  \n",
       "351033                  3.000000                   1.0000  \n",
       "351034                  0.000100                   0.0001  \n",
       "351035                  0.000100                   0.0001  \n",
       "351036                  0.000100                   0.0001  \n",
       "351037                  3.156250                  32.0000  \n",
       "351038                  0.000100                   0.0001  \n",
       "351039                  1.750000                   2.0000  \n",
       "351040                  0.000100                   0.0001  \n",
       "351041                  0.000100                   0.0001  \n",
       "351042                  3.431034                  29.0000  \n",
       "351043                  0.000100                   0.0001  \n",
       "351044                  0.000100                   0.0001  \n",
       "351045                  0.000100                   0.0001  \n",
       "351046                  3.847826                  46.0000  \n",
       "351047                  0.000100                   0.0001  \n",
       "351048                  0.000100                   0.0001  \n",
       "351049                  0.000100                   0.0001  \n",
       "351050                  0.000100                   0.0001  \n",
       "351051                  0.000100                   0.0001  \n",
       "351052                  3.815625                 160.0000  \n",
       "351053                  3.815287                 157.0000  "
      ],
      "text/html": "<div>\n<style scoped>\n    .dataframe tbody tr th:only-of-type {\n        vertical-align: middle;\n    }\n\n    .dataframe tbody tr th {\n        vertical-align: top;\n    }\n\n    .dataframe thead th {\n        text-align: right;\n    }\n</style>\n<table border=\"1\" class=\"dataframe\">\n  <thead>\n    <tr style=\"text-align: right;\">\n      <th></th>\n      <th>processed_tag</th>\n      <th>tmp</th>\n      <th>year_month</th>\n      <th>count</th>\n      <th>rating</th>\n      <th>last_1_months_tag_rating</th>\n      <th>last_1_months_tag_count</th>\n    </tr>\n  </thead>\n  <tbody>\n    <tr>\n      <th>351027</th>\n      <td>toy</td>\n      <td>1</td>\n      <td>201301</td>\n      <td>69.0000</td>\n      <td>3.862319</td>\n      <td>NaN</td>\n      <td>NaN</td>\n    </tr>\n    <tr>\n      <th>351028</th>\n      <td>toy</td>\n      <td>1</td>\n      <td>201302</td>\n      <td>67.0000</td>\n      <td>3.880597</td>\n      <td>3.862319</td>\n      <td>69.0000</td>\n    </tr>\n    <tr>\n      <th>351029</th>\n      <td>toy</td>\n      <td>1</td>\n      <td>201303</td>\n      <td>0.0001</td>\n      <td>0.000100</td>\n      <td>3.880597</td>\n      <td>67.0000</td>\n    </tr>\n    <tr>\n      <th>351030</th>\n      <td>toy</td>\n      <td>1</td>\n      <td>201304</td>\n      <td>0.0001</td>\n      <td>0.000100</td>\n      <td>0.000100</td>\n      <td>0.0001</td>\n    </tr>\n    <tr>\n      <th>351031</th>\n      <td>toy</td>\n      <td>1</td>\n      <td>201305</td>\n      <td>0.0001</td>\n      <td>0.000100</td>\n      <td>0.000100</td>\n      <td>0.0001</td>\n    </tr>\n    <tr>\n      <th>351032</th>\n      <td>toy</td>\n      <td>1</td>\n      <td>201306</td>\n      <td>1.0000</td>\n      <td>3.000000</td>\n      <td>0.000100</td>\n      <td>0.0001</td>\n    </tr>\n    <tr>\n      <th>351033</th>\n      <td>toy</td>\n      <td>1</td>\n      <td>201307</td>\n      <td>0.0001</td>\n      <td>0.000100</td>\n      <td>3.000000</td>\n      <td>1.0000</td>\n    </tr>\n    <tr>\n      <th>351034</th>\n      <td>toy</td>\n      <td>1</td>\n      <td>201308</td>\n      <td>0.0001</td>\n      <td>0.000100</td>\n      <td>0.000100</td>\n      <td>0.0001</td>\n    </tr>\n    <tr>\n      <th>351035</th>\n      <td>toy</td>\n      <td>1</td>\n      <td>201309</td>\n      <td>0.0001</td>\n      <td>0.000100</td>\n      <td>0.000100</td>\n      <td>0.0001</td>\n    </tr>\n    <tr>\n      <th>351036</th>\n      <td>toy</td>\n      <td>1</td>\n      <td>201310</td>\n      <td>32.0000</td>\n      <td>3.156250</td>\n      <td>0.000100</td>\n      <td>0.0001</td>\n    </tr>\n    <tr>\n      <th>351037</th>\n      <td>toy</td>\n      <td>1</td>\n      <td>201311</td>\n      <td>0.0001</td>\n      <td>0.000100</td>\n      <td>3.156250</td>\n      <td>32.0000</td>\n    </tr>\n    <tr>\n      <th>351038</th>\n      <td>toy</td>\n      <td>1</td>\n      <td>201312</td>\n      <td>2.0000</td>\n      <td>1.750000</td>\n      <td>0.000100</td>\n      <td>0.0001</td>\n    </tr>\n    <tr>\n      <th>351039</th>\n      <td>toy</td>\n      <td>1</td>\n      <td>201401</td>\n      <td>0.0001</td>\n      <td>0.000100</td>\n      <td>1.750000</td>\n      <td>2.0000</td>\n    </tr>\n    <tr>\n      <th>351040</th>\n      <td>toy</td>\n      <td>1</td>\n      <td>201402</td>\n      <td>0.0001</td>\n      <td>0.000100</td>\n      <td>0.000100</td>\n      <td>0.0001</td>\n    </tr>\n    <tr>\n      <th>351041</th>\n      <td>toy</td>\n      <td>1</td>\n      <td>201403</td>\n      <td>29.0000</td>\n      <td>3.431034</td>\n      <td>0.000100</td>\n      <td>0.0001</td>\n    </tr>\n    <tr>\n      <th>351042</th>\n      <td>toy</td>\n      <td>1</td>\n      <td>201404</td>\n      <td>0.0001</td>\n      <td>0.000100</td>\n      <td>3.431034</td>\n      <td>29.0000</td>\n    </tr>\n    <tr>\n      <th>351043</th>\n      <td>toy</td>\n      <td>1</td>\n      <td>201405</td>\n      <td>0.0001</td>\n      <td>0.000100</td>\n      <td>0.000100</td>\n      <td>0.0001</td>\n    </tr>\n    <tr>\n      <th>351044</th>\n      <td>toy</td>\n      <td>1</td>\n      <td>201406</td>\n      <td>0.0001</td>\n      <td>0.000100</td>\n      <td>0.000100</td>\n      <td>0.0001</td>\n    </tr>\n    <tr>\n      <th>351045</th>\n      <td>toy</td>\n      <td>1</td>\n      <td>201407</td>\n      <td>46.0000</td>\n      <td>3.847826</td>\n      <td>0.000100</td>\n      <td>0.0001</td>\n    </tr>\n    <tr>\n      <th>351046</th>\n      <td>toy</td>\n      <td>1</td>\n      <td>201408</td>\n      <td>0.0001</td>\n      <td>0.000100</td>\n      <td>3.847826</td>\n      <td>46.0000</td>\n    </tr>\n    <tr>\n      <th>351047</th>\n      <td>toy</td>\n      <td>1</td>\n      <td>201409</td>\n      <td>0.0001</td>\n      <td>0.000100</td>\n      <td>0.000100</td>\n      <td>0.0001</td>\n    </tr>\n    <tr>\n      <th>351048</th>\n      <td>toy</td>\n      <td>1</td>\n      <td>201410</td>\n      <td>0.0001</td>\n      <td>0.000100</td>\n      <td>0.000100</td>\n      <td>0.0001</td>\n    </tr>\n    <tr>\n      <th>351049</th>\n      <td>toy</td>\n      <td>1</td>\n      <td>201411</td>\n      <td>0.0001</td>\n      <td>0.000100</td>\n      <td>0.000100</td>\n      <td>0.0001</td>\n    </tr>\n    <tr>\n      <th>351050</th>\n      <td>toy</td>\n      <td>1</td>\n      <td>201412</td>\n      <td>0.0001</td>\n      <td>0.000100</td>\n      <td>0.000100</td>\n      <td>0.0001</td>\n    </tr>\n    <tr>\n      <th>351051</th>\n      <td>toy</td>\n      <td>1</td>\n      <td>201501</td>\n      <td>160.0000</td>\n      <td>3.815625</td>\n      <td>0.000100</td>\n      <td>0.0001</td>\n    </tr>\n    <tr>\n      <th>351052</th>\n      <td>toy</td>\n      <td>1</td>\n      <td>201502</td>\n      <td>157.0000</td>\n      <td>3.815287</td>\n      <td>3.815625</td>\n      <td>160.0000</td>\n    </tr>\n    <tr>\n      <th>351053</th>\n      <td>toy</td>\n      <td>1</td>\n      <td>201503</td>\n      <td>0.0001</td>\n      <td>0.000100</td>\n      <td>3.815287</td>\n      <td>157.0000</td>\n    </tr>\n  </tbody>\n</table>\n</div>"
     },
     "metadata": {},
     "execution_count": 32
    }
   ],
   "source": [
    "tags_ratings_agg_notNull_full.loc[tags_ratings_agg_notNull_full[\"processed_tag\"]=='toy']"
   ]
  },
  {
   "source": [
    "And calculate the weighted mean in the last 6 months "
   ],
   "cell_type": "markdown",
   "metadata": {}
  },
  {
   "cell_type": "code",
   "execution_count": 33,
   "metadata": {},
   "outputs": [],
   "source": [
    "tags_ratings_agg_notNull_full[\"last_6_months_tag_count\"] = tags_ratings_agg_notNull_full\\\n",
    ".groupby(\"processed_tag\")[\"last_1_months_tag_count\"].rolling(6).sum()\\\n",
    ".reset_index()[\"last_1_months_tag_count\"]\n",
    "\n",
    "wm = lambda x: np.average(x, weights=tags_ratings_agg_notNull_full.loc[x.index, \"last_1_months_tag_count\"])\n",
    "\n",
    "tags_ratings_agg_notNull_full[\"last_6_months_weighted_rating\"] = tags_ratings_agg_notNull_full\\\n",
    ".groupby(\"processed_tag\")[\"last_1_months_tag_rating\"].rolling(6).apply(wm)\\\n",
    ".reset_index()[\"last_1_months_tag_rating\"]"
   ]
  },
  {
   "cell_type": "code",
   "execution_count": 34,
   "metadata": {},
   "outputs": [
    {
     "output_type": "execute_result",
     "data": {
      "text/plain": [
       "       processed_tag  tmp  year_month     count    rating  \\\n",
       "351027           toy    1      201301   69.0000  3.862319   \n",
       "351028           toy    1      201302   67.0000  3.880597   \n",
       "351029           toy    1      201303    0.0001  0.000100   \n",
       "351030           toy    1      201304    0.0001  0.000100   \n",
       "351031           toy    1      201305    0.0001  0.000100   \n",
       "351032           toy    1      201306    1.0000  3.000000   \n",
       "351033           toy    1      201307    0.0001  0.000100   \n",
       "351034           toy    1      201308    0.0001  0.000100   \n",
       "351035           toy    1      201309    0.0001  0.000100   \n",
       "351036           toy    1      201310   32.0000  3.156250   \n",
       "351037           toy    1      201311    0.0001  0.000100   \n",
       "351038           toy    1      201312    2.0000  1.750000   \n",
       "351039           toy    1      201401    0.0001  0.000100   \n",
       "351040           toy    1      201402    0.0001  0.000100   \n",
       "351041           toy    1      201403   29.0000  3.431034   \n",
       "351042           toy    1      201404    0.0001  0.000100   \n",
       "351043           toy    1      201405    0.0001  0.000100   \n",
       "351044           toy    1      201406    0.0001  0.000100   \n",
       "351045           toy    1      201407   46.0000  3.847826   \n",
       "351046           toy    1      201408    0.0001  0.000100   \n",
       "351047           toy    1      201409    0.0001  0.000100   \n",
       "351048           toy    1      201410    0.0001  0.000100   \n",
       "351049           toy    1      201411    0.0001  0.000100   \n",
       "351050           toy    1      201412    0.0001  0.000100   \n",
       "351051           toy    1      201501  160.0000  3.815625   \n",
       "351052           toy    1      201502  157.0000  3.815287   \n",
       "351053           toy    1      201503    0.0001  0.000100   \n",
       "\n",
       "        last_1_months_tag_rating  last_1_months_tag_count  \\\n",
       "351027                       NaN                      NaN   \n",
       "351028                  3.862319                  69.0000   \n",
       "351029                  3.880597                  67.0000   \n",
       "351030                  0.000100                   0.0001   \n",
       "351031                  0.000100                   0.0001   \n",
       "351032                  0.000100                   0.0001   \n",
       "351033                  3.000000                   1.0000   \n",
       "351034                  0.000100                   0.0001   \n",
       "351035                  0.000100                   0.0001   \n",
       "351036                  0.000100                   0.0001   \n",
       "351037                  3.156250                  32.0000   \n",
       "351038                  0.000100                   0.0001   \n",
       "351039                  1.750000                   2.0000   \n",
       "351040                  0.000100                   0.0001   \n",
       "351041                  0.000100                   0.0001   \n",
       "351042                  3.431034                  29.0000   \n",
       "351043                  0.000100                   0.0001   \n",
       "351044                  0.000100                   0.0001   \n",
       "351045                  0.000100                   0.0001   \n",
       "351046                  3.847826                  46.0000   \n",
       "351047                  0.000100                   0.0001   \n",
       "351048                  0.000100                   0.0001   \n",
       "351049                  0.000100                   0.0001   \n",
       "351050                  0.000100                   0.0001   \n",
       "351051                  0.000100                   0.0001   \n",
       "351052                  3.815625                 160.0000   \n",
       "351053                  3.815287                 157.0000   \n",
       "\n",
       "        last_6_months_tag_count  last_6_months_weighted_rating  \n",
       "351027                      NaN                            NaN  \n",
       "351028                      NaN                            NaN  \n",
       "351029                      NaN                            NaN  \n",
       "351030                      NaN                            NaN  \n",
       "351031                      NaN                            NaN  \n",
       "351032                      NaN                            NaN  \n",
       "351033                 137.0003                       3.864955  \n",
       "351034                  68.0004                       3.867624  \n",
       "351035                   1.0005                       2.998501  \n",
       "351036                   1.0005                       2.998501  \n",
       "351037                  33.0004                       3.151477  \n",
       "351038                  33.0004                       3.151477  \n",
       "351039                  34.0004                       3.073493  \n",
       "351040                  34.0004                       3.073493  \n",
       "351041                  34.0004                       3.073493  \n",
       "351042                  63.0003                       3.238080  \n",
       "351043                  31.0004                       3.322538  \n",
       "351044                  31.0004                       3.322538  \n",
       "351045                  29.0005                       3.430975  \n",
       "351046                  75.0004                       3.686647  \n",
       "351047                  75.0004                       3.686647  \n",
       "351048                  46.0005                       3.847784  \n",
       "351049                  46.0005                       3.847784  \n",
       "351050                  46.0005                       3.847784  \n",
       "351051                  46.0005                       3.847784  \n",
       "351052                 160.0005                       3.815613  \n",
       "351053                 317.0004                       3.815453  "
      ],
      "text/html": "<div>\n<style scoped>\n    .dataframe tbody tr th:only-of-type {\n        vertical-align: middle;\n    }\n\n    .dataframe tbody tr th {\n        vertical-align: top;\n    }\n\n    .dataframe thead th {\n        text-align: right;\n    }\n</style>\n<table border=\"1\" class=\"dataframe\">\n  <thead>\n    <tr style=\"text-align: right;\">\n      <th></th>\n      <th>processed_tag</th>\n      <th>tmp</th>\n      <th>year_month</th>\n      <th>count</th>\n      <th>rating</th>\n      <th>last_1_months_tag_rating</th>\n      <th>last_1_months_tag_count</th>\n      <th>last_6_months_tag_count</th>\n      <th>last_6_months_weighted_rating</th>\n    </tr>\n  </thead>\n  <tbody>\n    <tr>\n      <th>351027</th>\n      <td>toy</td>\n      <td>1</td>\n      <td>201301</td>\n      <td>69.0000</td>\n      <td>3.862319</td>\n      <td>NaN</td>\n      <td>NaN</td>\n      <td>NaN</td>\n      <td>NaN</td>\n    </tr>\n    <tr>\n      <th>351028</th>\n      <td>toy</td>\n      <td>1</td>\n      <td>201302</td>\n      <td>67.0000</td>\n      <td>3.880597</td>\n      <td>3.862319</td>\n      <td>69.0000</td>\n      <td>NaN</td>\n      <td>NaN</td>\n    </tr>\n    <tr>\n      <th>351029</th>\n      <td>toy</td>\n      <td>1</td>\n      <td>201303</td>\n      <td>0.0001</td>\n      <td>0.000100</td>\n      <td>3.880597</td>\n      <td>67.0000</td>\n      <td>NaN</td>\n      <td>NaN</td>\n    </tr>\n    <tr>\n      <th>351030</th>\n      <td>toy</td>\n      <td>1</td>\n      <td>201304</td>\n      <td>0.0001</td>\n      <td>0.000100</td>\n      <td>0.000100</td>\n      <td>0.0001</td>\n      <td>NaN</td>\n      <td>NaN</td>\n    </tr>\n    <tr>\n      <th>351031</th>\n      <td>toy</td>\n      <td>1</td>\n      <td>201305</td>\n      <td>0.0001</td>\n      <td>0.000100</td>\n      <td>0.000100</td>\n      <td>0.0001</td>\n      <td>NaN</td>\n      <td>NaN</td>\n    </tr>\n    <tr>\n      <th>351032</th>\n      <td>toy</td>\n      <td>1</td>\n      <td>201306</td>\n      <td>1.0000</td>\n      <td>3.000000</td>\n      <td>0.000100</td>\n      <td>0.0001</td>\n      <td>NaN</td>\n      <td>NaN</td>\n    </tr>\n    <tr>\n      <th>351033</th>\n      <td>toy</td>\n      <td>1</td>\n      <td>201307</td>\n      <td>0.0001</td>\n      <td>0.000100</td>\n      <td>3.000000</td>\n      <td>1.0000</td>\n      <td>137.0003</td>\n      <td>3.864955</td>\n    </tr>\n    <tr>\n      <th>351034</th>\n      <td>toy</td>\n      <td>1</td>\n      <td>201308</td>\n      <td>0.0001</td>\n      <td>0.000100</td>\n      <td>0.000100</td>\n      <td>0.0001</td>\n      <td>68.0004</td>\n      <td>3.867624</td>\n    </tr>\n    <tr>\n      <th>351035</th>\n      <td>toy</td>\n      <td>1</td>\n      <td>201309</td>\n      <td>0.0001</td>\n      <td>0.000100</td>\n      <td>0.000100</td>\n      <td>0.0001</td>\n      <td>1.0005</td>\n      <td>2.998501</td>\n    </tr>\n    <tr>\n      <th>351036</th>\n      <td>toy</td>\n      <td>1</td>\n      <td>201310</td>\n      <td>32.0000</td>\n      <td>3.156250</td>\n      <td>0.000100</td>\n      <td>0.0001</td>\n      <td>1.0005</td>\n      <td>2.998501</td>\n    </tr>\n    <tr>\n      <th>351037</th>\n      <td>toy</td>\n      <td>1</td>\n      <td>201311</td>\n      <td>0.0001</td>\n      <td>0.000100</td>\n      <td>3.156250</td>\n      <td>32.0000</td>\n      <td>33.0004</td>\n      <td>3.151477</td>\n    </tr>\n    <tr>\n      <th>351038</th>\n      <td>toy</td>\n      <td>1</td>\n      <td>201312</td>\n      <td>2.0000</td>\n      <td>1.750000</td>\n      <td>0.000100</td>\n      <td>0.0001</td>\n      <td>33.0004</td>\n      <td>3.151477</td>\n    </tr>\n    <tr>\n      <th>351039</th>\n      <td>toy</td>\n      <td>1</td>\n      <td>201401</td>\n      <td>0.0001</td>\n      <td>0.000100</td>\n      <td>1.750000</td>\n      <td>2.0000</td>\n      <td>34.0004</td>\n      <td>3.073493</td>\n    </tr>\n    <tr>\n      <th>351040</th>\n      <td>toy</td>\n      <td>1</td>\n      <td>201402</td>\n      <td>0.0001</td>\n      <td>0.000100</td>\n      <td>0.000100</td>\n      <td>0.0001</td>\n      <td>34.0004</td>\n      <td>3.073493</td>\n    </tr>\n    <tr>\n      <th>351041</th>\n      <td>toy</td>\n      <td>1</td>\n      <td>201403</td>\n      <td>29.0000</td>\n      <td>3.431034</td>\n      <td>0.000100</td>\n      <td>0.0001</td>\n      <td>34.0004</td>\n      <td>3.073493</td>\n    </tr>\n    <tr>\n      <th>351042</th>\n      <td>toy</td>\n      <td>1</td>\n      <td>201404</td>\n      <td>0.0001</td>\n      <td>0.000100</td>\n      <td>3.431034</td>\n      <td>29.0000</td>\n      <td>63.0003</td>\n      <td>3.238080</td>\n    </tr>\n    <tr>\n      <th>351043</th>\n      <td>toy</td>\n      <td>1</td>\n      <td>201405</td>\n      <td>0.0001</td>\n      <td>0.000100</td>\n      <td>0.000100</td>\n      <td>0.0001</td>\n      <td>31.0004</td>\n      <td>3.322538</td>\n    </tr>\n    <tr>\n      <th>351044</th>\n      <td>toy</td>\n      <td>1</td>\n      <td>201406</td>\n      <td>0.0001</td>\n      <td>0.000100</td>\n      <td>0.000100</td>\n      <td>0.0001</td>\n      <td>31.0004</td>\n      <td>3.322538</td>\n    </tr>\n    <tr>\n      <th>351045</th>\n      <td>toy</td>\n      <td>1</td>\n      <td>201407</td>\n      <td>46.0000</td>\n      <td>3.847826</td>\n      <td>0.000100</td>\n      <td>0.0001</td>\n      <td>29.0005</td>\n      <td>3.430975</td>\n    </tr>\n    <tr>\n      <th>351046</th>\n      <td>toy</td>\n      <td>1</td>\n      <td>201408</td>\n      <td>0.0001</td>\n      <td>0.000100</td>\n      <td>3.847826</td>\n      <td>46.0000</td>\n      <td>75.0004</td>\n      <td>3.686647</td>\n    </tr>\n    <tr>\n      <th>351047</th>\n      <td>toy</td>\n      <td>1</td>\n      <td>201409</td>\n      <td>0.0001</td>\n      <td>0.000100</td>\n      <td>0.000100</td>\n      <td>0.0001</td>\n      <td>75.0004</td>\n      <td>3.686647</td>\n    </tr>\n    <tr>\n      <th>351048</th>\n      <td>toy</td>\n      <td>1</td>\n      <td>201410</td>\n      <td>0.0001</td>\n      <td>0.000100</td>\n      <td>0.000100</td>\n      <td>0.0001</td>\n      <td>46.0005</td>\n      <td>3.847784</td>\n    </tr>\n    <tr>\n      <th>351049</th>\n      <td>toy</td>\n      <td>1</td>\n      <td>201411</td>\n      <td>0.0001</td>\n      <td>0.000100</td>\n      <td>0.000100</td>\n      <td>0.0001</td>\n      <td>46.0005</td>\n      <td>3.847784</td>\n    </tr>\n    <tr>\n      <th>351050</th>\n      <td>toy</td>\n      <td>1</td>\n      <td>201412</td>\n      <td>0.0001</td>\n      <td>0.000100</td>\n      <td>0.000100</td>\n      <td>0.0001</td>\n      <td>46.0005</td>\n      <td>3.847784</td>\n    </tr>\n    <tr>\n      <th>351051</th>\n      <td>toy</td>\n      <td>1</td>\n      <td>201501</td>\n      <td>160.0000</td>\n      <td>3.815625</td>\n      <td>0.000100</td>\n      <td>0.0001</td>\n      <td>46.0005</td>\n      <td>3.847784</td>\n    </tr>\n    <tr>\n      <th>351052</th>\n      <td>toy</td>\n      <td>1</td>\n      <td>201502</td>\n      <td>157.0000</td>\n      <td>3.815287</td>\n      <td>3.815625</td>\n      <td>160.0000</td>\n      <td>160.0005</td>\n      <td>3.815613</td>\n    </tr>\n    <tr>\n      <th>351053</th>\n      <td>toy</td>\n      <td>1</td>\n      <td>201503</td>\n      <td>0.0001</td>\n      <td>0.000100</td>\n      <td>3.815287</td>\n      <td>157.0000</td>\n      <td>317.0004</td>\n      <td>3.815453</td>\n    </tr>\n  </tbody>\n</table>\n</div>"
     },
     "metadata": {},
     "execution_count": 34
    }
   ],
   "source": [
    "tags_ratings_agg_notNull_full.loc[tags_ratings_agg_notNull_full[\"processed_tag\"]=='toy']"
   ]
  },
  {
   "cell_type": "code",
   "execution_count": 35,
   "metadata": {},
   "outputs": [
    {
     "output_type": "execute_result",
     "data": {
      "text/plain": [
       "       processed_tag  year_month  last_6_months_weighted_rating  \\\n",
       "200192           law      201403                       0.000100   \n",
       "200193           law      201404                       0.000100   \n",
       "200194           law      201405                       0.000100   \n",
       "200195           law      201406                       3.642597   \n",
       "200196           law      201407                       3.642597   \n",
       "200197           law      201408                       4.121187   \n",
       "200198           law      201409                       4.121187   \n",
       "200199           law      201410                       4.121187   \n",
       "200200           law      201411                       4.097205   \n",
       "200201           law      201412                       4.146128   \n",
       "200202           law      201501                       4.146128   \n",
       "200203           law      201502                       3.521709   \n",
       "200204           law      201503                       3.521709   \n",
       "\n",
       "        last_6_months_tag_count  \n",
       "200192                   0.0006  \n",
       "200193                   0.0006  \n",
       "200194                   0.0006  \n",
       "200195                   7.0005  \n",
       "200196                   7.0005  \n",
       "200197                  66.0004  \n",
       "200198                  66.0004  \n",
       "200199                  66.0004  \n",
       "200200                  72.0003  \n",
       "200201                  65.0004  \n",
       "200202                  65.0004  \n",
       "200203                  46.0004  \n",
       "200204                  46.0004  "
      ],
      "text/html": "<div>\n<style scoped>\n    .dataframe tbody tr th:only-of-type {\n        vertical-align: middle;\n    }\n\n    .dataframe tbody tr th {\n        vertical-align: top;\n    }\n\n    .dataframe thead th {\n        text-align: right;\n    }\n</style>\n<table border=\"1\" class=\"dataframe\">\n  <thead>\n    <tr style=\"text-align: right;\">\n      <th></th>\n      <th>processed_tag</th>\n      <th>year_month</th>\n      <th>last_6_months_weighted_rating</th>\n      <th>last_6_months_tag_count</th>\n    </tr>\n  </thead>\n  <tbody>\n    <tr>\n      <th>200192</th>\n      <td>law</td>\n      <td>201403</td>\n      <td>0.000100</td>\n      <td>0.0006</td>\n    </tr>\n    <tr>\n      <th>200193</th>\n      <td>law</td>\n      <td>201404</td>\n      <td>0.000100</td>\n      <td>0.0006</td>\n    </tr>\n    <tr>\n      <th>200194</th>\n      <td>law</td>\n      <td>201405</td>\n      <td>0.000100</td>\n      <td>0.0006</td>\n    </tr>\n    <tr>\n      <th>200195</th>\n      <td>law</td>\n      <td>201406</td>\n      <td>3.642597</td>\n      <td>7.0005</td>\n    </tr>\n    <tr>\n      <th>200196</th>\n      <td>law</td>\n      <td>201407</td>\n      <td>3.642597</td>\n      <td>7.0005</td>\n    </tr>\n    <tr>\n      <th>200197</th>\n      <td>law</td>\n      <td>201408</td>\n      <td>4.121187</td>\n      <td>66.0004</td>\n    </tr>\n    <tr>\n      <th>200198</th>\n      <td>law</td>\n      <td>201409</td>\n      <td>4.121187</td>\n      <td>66.0004</td>\n    </tr>\n    <tr>\n      <th>200199</th>\n      <td>law</td>\n      <td>201410</td>\n      <td>4.121187</td>\n      <td>66.0004</td>\n    </tr>\n    <tr>\n      <th>200200</th>\n      <td>law</td>\n      <td>201411</td>\n      <td>4.097205</td>\n      <td>72.0003</td>\n    </tr>\n    <tr>\n      <th>200201</th>\n      <td>law</td>\n      <td>201412</td>\n      <td>4.146128</td>\n      <td>65.0004</td>\n    </tr>\n    <tr>\n      <th>200202</th>\n      <td>law</td>\n      <td>201501</td>\n      <td>4.146128</td>\n      <td>65.0004</td>\n    </tr>\n    <tr>\n      <th>200203</th>\n      <td>law</td>\n      <td>201502</td>\n      <td>3.521709</td>\n      <td>46.0004</td>\n    </tr>\n    <tr>\n      <th>200204</th>\n      <td>law</td>\n      <td>201503</td>\n      <td>3.521709</td>\n      <td>46.0004</td>\n    </tr>\n  </tbody>\n</table>\n</div>"
     },
     "metadata": {},
     "execution_count": 35
    }
   ],
   "source": [
    "columns_tags=[\"processed_tag\",\"year_month\",\"last_6_months_weighted_rating\",\"last_6_months_tag_count\"]\n",
    "tags_ratings_to_join =  tags_ratings_agg_notNull_full[tags_ratings_agg_notNull_full[\"year_month\"]>=201403][columns_tags]\n",
    "tags_ratings_to_join.loc[tags_ratings_to_join.processed_tag==\"law\"]"
   ]
  },
  {
   "source": [
    "We join to the original tags givien by users"
   ],
   "cell_type": "markdown",
   "metadata": {}
  },
  {
   "cell_type": "code",
   "execution_count": 36,
   "metadata": {},
   "outputs": [
    {
     "output_type": "execute_result",
     "data": {
      "text/plain": [
       "       userId  movieId              tag            timestamp  year_month  \\\n",
       "0          96   106696        animation  2014-03-29 12:51:30      201403   \n",
       "1          96   106696        beautiful  2014-03-29 12:51:37      201403   \n",
       "2          96   106696       characters  2014-03-29 12:51:40      201403   \n",
       "3          96   106696           Disney  2014-03-29 12:51:32      201403   \n",
       "4          96   106696         feminist  2014-03-29 12:51:42      201403   \n",
       "...       ...      ...              ...                  ...         ...   \n",
       "63376  138301   115373          doctors  2014-10-22 22:19:24      201410   \n",
       "63377  138301   115373           French  2014-10-22 22:09:10      201410   \n",
       "63378  138301   115373  Louise Bourgoin  2014-10-22 22:09:19      201410   \n",
       "63379  138301   115373    love triangle  2014-10-22 22:19:50      201410   \n",
       "63380  138301   115373    single mother  2014-10-22 22:19:22      201410   \n",
       "\n",
       "         processed_tag  last_6_months_weighted_rating  last_6_months_tag_count  \n",
       "0            animation                       3.880922                1562.0000  \n",
       "1            beautiful                       3.915995                 869.0000  \n",
       "2            character                       3.884374                 320.0001  \n",
       "3               disney                       3.825603                 539.0000  \n",
       "4             feminist                       3.886350                 110.0004  \n",
       "...                ...                            ...                      ...  \n",
       "63376           doctor                       3.901503                  66.0002  \n",
       "63377           french                       3.988048                 251.0000  \n",
       "63378  louise bourgoin                       0.000100                   0.0006  \n",
       "63379    love triangle                       4.084260                  89.0002  \n",
       "63380    single mother                       2.832861                   3.0005  \n",
       "\n",
       "[63381 rows x 8 columns]"
      ],
      "text/html": "<div>\n<style scoped>\n    .dataframe tbody tr th:only-of-type {\n        vertical-align: middle;\n    }\n\n    .dataframe tbody tr th {\n        vertical-align: top;\n    }\n\n    .dataframe thead th {\n        text-align: right;\n    }\n</style>\n<table border=\"1\" class=\"dataframe\">\n  <thead>\n    <tr style=\"text-align: right;\">\n      <th></th>\n      <th>userId</th>\n      <th>movieId</th>\n      <th>tag</th>\n      <th>timestamp</th>\n      <th>year_month</th>\n      <th>processed_tag</th>\n      <th>last_6_months_weighted_rating</th>\n      <th>last_6_months_tag_count</th>\n    </tr>\n  </thead>\n  <tbody>\n    <tr>\n      <th>0</th>\n      <td>96</td>\n      <td>106696</td>\n      <td>animation</td>\n      <td>2014-03-29 12:51:30</td>\n      <td>201403</td>\n      <td>animation</td>\n      <td>3.880922</td>\n      <td>1562.0000</td>\n    </tr>\n    <tr>\n      <th>1</th>\n      <td>96</td>\n      <td>106696</td>\n      <td>beautiful</td>\n      <td>2014-03-29 12:51:37</td>\n      <td>201403</td>\n      <td>beautiful</td>\n      <td>3.915995</td>\n      <td>869.0000</td>\n    </tr>\n    <tr>\n      <th>2</th>\n      <td>96</td>\n      <td>106696</td>\n      <td>characters</td>\n      <td>2014-03-29 12:51:40</td>\n      <td>201403</td>\n      <td>character</td>\n      <td>3.884374</td>\n      <td>320.0001</td>\n    </tr>\n    <tr>\n      <th>3</th>\n      <td>96</td>\n      <td>106696</td>\n      <td>Disney</td>\n      <td>2014-03-29 12:51:32</td>\n      <td>201403</td>\n      <td>disney</td>\n      <td>3.825603</td>\n      <td>539.0000</td>\n    </tr>\n    <tr>\n      <th>4</th>\n      <td>96</td>\n      <td>106696</td>\n      <td>feminist</td>\n      <td>2014-03-29 12:51:42</td>\n      <td>201403</td>\n      <td>feminist</td>\n      <td>3.886350</td>\n      <td>110.0004</td>\n    </tr>\n    <tr>\n      <th>...</th>\n      <td>...</td>\n      <td>...</td>\n      <td>...</td>\n      <td>...</td>\n      <td>...</td>\n      <td>...</td>\n      <td>...</td>\n      <td>...</td>\n    </tr>\n    <tr>\n      <th>63376</th>\n      <td>138301</td>\n      <td>115373</td>\n      <td>doctors</td>\n      <td>2014-10-22 22:19:24</td>\n      <td>201410</td>\n      <td>doctor</td>\n      <td>3.901503</td>\n      <td>66.0002</td>\n    </tr>\n    <tr>\n      <th>63377</th>\n      <td>138301</td>\n      <td>115373</td>\n      <td>French</td>\n      <td>2014-10-22 22:09:10</td>\n      <td>201410</td>\n      <td>french</td>\n      <td>3.988048</td>\n      <td>251.0000</td>\n    </tr>\n    <tr>\n      <th>63378</th>\n      <td>138301</td>\n      <td>115373</td>\n      <td>Louise Bourgoin</td>\n      <td>2014-10-22 22:09:19</td>\n      <td>201410</td>\n      <td>louise bourgoin</td>\n      <td>0.000100</td>\n      <td>0.0006</td>\n    </tr>\n    <tr>\n      <th>63379</th>\n      <td>138301</td>\n      <td>115373</td>\n      <td>love triangle</td>\n      <td>2014-10-22 22:19:50</td>\n      <td>201410</td>\n      <td>love triangle</td>\n      <td>4.084260</td>\n      <td>89.0002</td>\n    </tr>\n    <tr>\n      <th>63380</th>\n      <td>138301</td>\n      <td>115373</td>\n      <td>single mother</td>\n      <td>2014-10-22 22:19:22</td>\n      <td>201410</td>\n      <td>single mother</td>\n      <td>2.832861</td>\n      <td>3.0005</td>\n    </tr>\n  </tbody>\n</table>\n<p>63381 rows × 8 columns</p>\n</div>"
     },
     "metadata": {},
     "execution_count": 36
    }
   ],
   "source": [
    "tags_weighted_rating=tag[tag.year_month>=201403].merge(tags_ratings_to_join,\"left\").\\\n",
    "fillna(0.0001)\n",
    "tags_weighted_rating"
   ]
  },
  {
   "source": [
    "And obtain the weighted mean of rating of the tags on the movies by month"
   ],
   "cell_type": "markdown",
   "metadata": {}
  },
  {
   "cell_type": "code",
   "execution_count": 37,
   "metadata": {},
   "outputs": [],
   "source": [
    "wm = lambda x: np.average(x, weights=tags_weighted_rating.loc[x.index, \"last_6_months_tag_count\"])\n",
    "\n",
    "tags_weighted_rating_agg = tags_weighted_rating\\\n",
    ".groupby([\"movieId\",\"year_month\"])\\\n",
    ".agg(last_6_months_weighted_rating=(\"last_6_months_weighted_rating\",wm))\\\n",
    ".reset_index()"
   ]
  },
  {
   "source": [
    "If some movie has a weighted_raing low, it was because it didnt have a lot of tags, so we will substitute with the the mean of the variable in the month"
   ],
   "cell_type": "markdown",
   "metadata": {}
  },
  {
   "cell_type": "code",
   "execution_count": 38,
   "metadata": {},
   "outputs": [],
   "source": [
    "tags_weighted_rating_agg.loc[tags_weighted_rating_agg.last_6_months_weighted_rating <= 0.001, 'last_6_months_weighted_rating'] = float(\"NaN\")\n",
    "\n",
    "tags_weighted_rating_agg = tags_weighted_rating_agg.groupby(['year_month'], sort=False)\\\n",
    ".apply(lambda x: x.fillna(x.mean()))\\\n",
    ".reset_index(drop = True)"
   ]
  },
  {
   "cell_type": "code",
   "execution_count": 39,
   "metadata": {},
   "outputs": [
    {
     "output_type": "execute_result",
     "data": {
      "text/plain": [
       "      movieId  year_month  last_6_months_weighted_rating\n",
       "0           1      201405                       3.827056\n",
       "2121        1      201406                       3.878078\n",
       "3903        1      201408                       3.891850\n",
       "5383        1      201412                       3.756539\n",
       "7172        1      201501                       3.847950\n",
       "9116        1      201502                       3.942630"
      ],
      "text/html": "<div>\n<style scoped>\n    .dataframe tbody tr th:only-of-type {\n        vertical-align: middle;\n    }\n\n    .dataframe tbody tr th {\n        vertical-align: top;\n    }\n\n    .dataframe thead th {\n        text-align: right;\n    }\n</style>\n<table border=\"1\" class=\"dataframe\">\n  <thead>\n    <tr style=\"text-align: right;\">\n      <th></th>\n      <th>movieId</th>\n      <th>year_month</th>\n      <th>last_6_months_weighted_rating</th>\n    </tr>\n  </thead>\n  <tbody>\n    <tr>\n      <th>0</th>\n      <td>1</td>\n      <td>201405</td>\n      <td>3.827056</td>\n    </tr>\n    <tr>\n      <th>2121</th>\n      <td>1</td>\n      <td>201406</td>\n      <td>3.878078</td>\n    </tr>\n    <tr>\n      <th>3903</th>\n      <td>1</td>\n      <td>201408</td>\n      <td>3.891850</td>\n    </tr>\n    <tr>\n      <th>5383</th>\n      <td>1</td>\n      <td>201412</td>\n      <td>3.756539</td>\n    </tr>\n    <tr>\n      <th>7172</th>\n      <td>1</td>\n      <td>201501</td>\n      <td>3.847950</td>\n    </tr>\n    <tr>\n      <th>9116</th>\n      <td>1</td>\n      <td>201502</td>\n      <td>3.942630</td>\n    </tr>\n  </tbody>\n</table>\n</div>"
     },
     "metadata": {},
     "execution_count": 39
    }
   ],
   "source": [
    "tags_weighted_rating_agg[tags_weighted_rating_agg[\"movieId\"]==1]"
   ]
  },
  {
   "source": [
    "## History variables from the ratings of the users"
   ],
   "cell_type": "markdown",
   "metadata": {}
  },
  {
   "source": [
    "With the mean rating lets create the history of users ratings: \n",
    "\n",
    "* Last month mean users rating\n",
    "* Last month count users rating\n",
    "* Mean of the last 3 months of the rate given the users\n",
    "* Mean of the last 6 months of the rate given the users\n",
    "* The ratio of the last month mean genre rating and the mean of the last 3 months of the rate given the users\n",
    "* The ratio of the last month mean genre rating and the mean of the last 6 months of the rate given the users"
   ],
   "cell_type": "markdown",
   "metadata": {}
  },
  {
   "cell_type": "code",
   "execution_count": 40,
   "metadata": {},
   "outputs": [],
   "source": [
    "\n",
    "user_ratings_agg = ratings.groupby([\"userId\", \"year_month\"]).agg(count=(\"userId\", \"count\"),\n",
    "                                                                              mean_rating=(\"rating\", \"mean\")).reset_index()\n",
    "\n",
    "user_ratings_agg[\"last_1_months_user_rating\"] = user_ratings_agg.groupby(\"userId\")['mean_rating'].shift(1)\\\n",
    "            .reset_index()[\"mean_rating\"]\n",
    "user_ratings_agg[\"last_1_months_user_rating_counts\"] = user_ratings_agg.groupby(\"userId\")['count'].shift(1)\\\n",
    "            .reset_index()[\"count\"]\n",
    "user_ratings_agg[\"mean_3_months_user_rating\"] = user_ratings_agg.groupby(\"userId\")['last_1_months_user_rating'].rolling(3).mean()\\\n",
    "            .reset_index()[\"last_1_months_user_rating\"]\n",
    "user_ratings_agg[\"mean_6_months_user_rating\"] = user_ratings_agg.groupby(\"userId\")['last_1_months_user_rating'].rolling(6).mean()\\\n",
    "            .reset_index()[\"last_1_months_user_rating\"]\n",
    "user_ratings_agg[\"last_1_month_per_3_months_user_rating\"] = user_ratings_agg.last_1_months_user_rating / \\\n",
    "            user_ratings_agg.mean_3_months_user_rating\n",
    "user_ratings_agg[\"last_1_month_per_6_months_user_rating\"] = user_ratings_agg.last_1_months_user_rating / \\\n",
    "            user_ratings_agg.mean_6_months_user_rating"
   ]
  },
  {
   "cell_type": "code",
   "execution_count": 41,
   "metadata": {},
   "outputs": [
    {
     "output_type": "execute_result",
     "data": {
      "text/plain": [
       "       userId  year_month  count  mean_rating  last_1_months_user_rating  \\\n",
       "19384   55704      201301      4     3.375000                        NaN   \n",
       "19385   55704      201302      6     3.083333                   3.375000   \n",
       "19386   55704      201303      4     3.625000                   3.083333   \n",
       "19387   55704      201304      2     3.750000                   3.625000   \n",
       "19388   55704      201305      2     4.250000                   3.750000   \n",
       "19389   55704      201306      5     3.300000                   4.250000   \n",
       "19390   55704      201307      2     3.750000                   3.300000   \n",
       "19391   55704      201308     29     3.706897                   3.750000   \n",
       "19392   55704      201309     14     3.321429                   3.706897   \n",
       "19393   55704      201310      5     3.800000                   3.321429   \n",
       "19394   55704      201311      6     3.583333                   3.800000   \n",
       "19395   55704      201312      8     3.437500                   3.583333   \n",
       "19396   55704      201401     12     3.500000                   3.437500   \n",
       "19397   55704      201402     10     3.800000                   3.500000   \n",
       "19398   55704      201403     16     3.531250                   3.800000   \n",
       "19399   55704      201404     17     3.500000                   3.531250   \n",
       "19400   55704      201405      6     3.750000                   3.500000   \n",
       "19401   55704      201406     10     4.050000                   3.750000   \n",
       "19402   55704      201407      9     3.888889                   4.050000   \n",
       "19403   55704      201408     13     3.769231                   3.888889   \n",
       "19404   55704      201409      8     3.875000                   3.769231   \n",
       "19405   55704      201410     10     3.600000                   3.875000   \n",
       "19406   55704      201411      8     3.500000                   3.600000   \n",
       "19407   55704      201412     12     3.791667                   3.500000   \n",
       "19408   55704      201501     10     3.650000                   3.791667   \n",
       "19409   55704      201502     11     3.590909                   3.650000   \n",
       "19410   55704      201503      7     3.642857                   3.590909   \n",
       "\n",
       "       last_1_months_user_rating_counts  mean_3_months_user_rating  \\\n",
       "19384                               NaN                        NaN   \n",
       "19385                               4.0                        NaN   \n",
       "19386                               6.0                        NaN   \n",
       "19387                               4.0                   3.361111   \n",
       "19388                               2.0                   3.486111   \n",
       "19389                               2.0                   3.875000   \n",
       "19390                               5.0                   3.766667   \n",
       "19391                               2.0                   3.766667   \n",
       "19392                              29.0                   3.585632   \n",
       "19393                              14.0                   3.592775   \n",
       "19394                               5.0                   3.609442   \n",
       "19395                               6.0                   3.568254   \n",
       "19396                               8.0                   3.606944   \n",
       "19397                              12.0                   3.506944   \n",
       "19398                              10.0                   3.579167   \n",
       "19399                              16.0                   3.610417   \n",
       "19400                              17.0                   3.610417   \n",
       "19401                               6.0                   3.593750   \n",
       "19402                              10.0                   3.766667   \n",
       "19403                               9.0                   3.896296   \n",
       "19404                              13.0                   3.902707   \n",
       "19405                               8.0                   3.844373   \n",
       "19406                              10.0                   3.748077   \n",
       "19407                               8.0                   3.658333   \n",
       "19408                              12.0                   3.630556   \n",
       "19409                              10.0                   3.647222   \n",
       "19410                              11.0                   3.677525   \n",
       "\n",
       "       mean_6_months_user_rating  last_1_month_per_3_months_user_rating  \\\n",
       "19384                        NaN                                    NaN   \n",
       "19385                        NaN                                    NaN   \n",
       "19386                        NaN                                    NaN   \n",
       "19387                        NaN                               1.078512   \n",
       "19388                        NaN                               1.075697   \n",
       "19389                        NaN                               1.096774   \n",
       "19390                   3.563889                               0.876106   \n",
       "19391                   3.626389                               0.995575   \n",
       "19392                   3.730316                               1.033820   \n",
       "19393                   3.679721                               0.924474   \n",
       "19394                   3.688054                               1.052794   \n",
       "19395                   3.576943                               1.004226   \n",
       "19396                   3.599860                               0.953023   \n",
       "19397                   3.558193                               0.998020   \n",
       "19398                   3.573710                               1.061700   \n",
       "19399                   3.608681                               0.978073   \n",
       "19400                   3.558681                               0.969417   \n",
       "19401                   3.586458                               1.043478   \n",
       "19402                   3.688542                               1.075221   \n",
       "19403                   3.753356                               0.998099   \n",
       "19404                   3.748228                               0.965799   \n",
       "19405                   3.805520                               1.007967   \n",
       "19406                   3.822187                               0.960493   \n",
       "19407                   3.780520                               0.956720   \n",
       "19408                   3.737464                               1.044376   \n",
       "19409                   3.697650                               1.000762   \n",
       "19410                   3.667929                               0.976447   \n",
       "\n",
       "       last_1_month_per_6_months_user_rating  \n",
       "19384                                    NaN  \n",
       "19385                                    NaN  \n",
       "19386                                    NaN  \n",
       "19387                                    NaN  \n",
       "19388                                    NaN  \n",
       "19389                                    NaN  \n",
       "19390                               0.925955  \n",
       "19391                               1.034087  \n",
       "19392                               0.993722  \n",
       "19393                               0.902631  \n",
       "19394                               1.030354  \n",
       "19395                               1.001787  \n",
       "19396                               0.954898  \n",
       "19397                               0.983645  \n",
       "19398                               1.063321  \n",
       "19399                               0.978543  \n",
       "19400                               0.983511  \n",
       "19401                               1.045600  \n",
       "19402                               1.097995  \n",
       "19403                               1.036110  \n",
       "19404                               1.005603  \n",
       "19405                               1.018258  \n",
       "19406                               0.941869  \n",
       "19407                               0.925799  \n",
       "19408                               1.014502  \n",
       "19409                               0.987114  \n",
       "19410                               0.979002  "
      ],
      "text/html": "<div>\n<style scoped>\n    .dataframe tbody tr th:only-of-type {\n        vertical-align: middle;\n    }\n\n    .dataframe tbody tr th {\n        vertical-align: top;\n    }\n\n    .dataframe thead th {\n        text-align: right;\n    }\n</style>\n<table border=\"1\" class=\"dataframe\">\n  <thead>\n    <tr style=\"text-align: right;\">\n      <th></th>\n      <th>userId</th>\n      <th>year_month</th>\n      <th>count</th>\n      <th>mean_rating</th>\n      <th>last_1_months_user_rating</th>\n      <th>last_1_months_user_rating_counts</th>\n      <th>mean_3_months_user_rating</th>\n      <th>mean_6_months_user_rating</th>\n      <th>last_1_month_per_3_months_user_rating</th>\n      <th>last_1_month_per_6_months_user_rating</th>\n    </tr>\n  </thead>\n  <tbody>\n    <tr>\n      <th>19384</th>\n      <td>55704</td>\n      <td>201301</td>\n      <td>4</td>\n      <td>3.375000</td>\n      <td>NaN</td>\n      <td>NaN</td>\n      <td>NaN</td>\n      <td>NaN</td>\n      <td>NaN</td>\n      <td>NaN</td>\n    </tr>\n    <tr>\n      <th>19385</th>\n      <td>55704</td>\n      <td>201302</td>\n      <td>6</td>\n      <td>3.083333</td>\n      <td>3.375000</td>\n      <td>4.0</td>\n      <td>NaN</td>\n      <td>NaN</td>\n      <td>NaN</td>\n      <td>NaN</td>\n    </tr>\n    <tr>\n      <th>19386</th>\n      <td>55704</td>\n      <td>201303</td>\n      <td>4</td>\n      <td>3.625000</td>\n      <td>3.083333</td>\n      <td>6.0</td>\n      <td>NaN</td>\n      <td>NaN</td>\n      <td>NaN</td>\n      <td>NaN</td>\n    </tr>\n    <tr>\n      <th>19387</th>\n      <td>55704</td>\n      <td>201304</td>\n      <td>2</td>\n      <td>3.750000</td>\n      <td>3.625000</td>\n      <td>4.0</td>\n      <td>3.361111</td>\n      <td>NaN</td>\n      <td>1.078512</td>\n      <td>NaN</td>\n    </tr>\n    <tr>\n      <th>19388</th>\n      <td>55704</td>\n      <td>201305</td>\n      <td>2</td>\n      <td>4.250000</td>\n      <td>3.750000</td>\n      <td>2.0</td>\n      <td>3.486111</td>\n      <td>NaN</td>\n      <td>1.075697</td>\n      <td>NaN</td>\n    </tr>\n    <tr>\n      <th>19389</th>\n      <td>55704</td>\n      <td>201306</td>\n      <td>5</td>\n      <td>3.300000</td>\n      <td>4.250000</td>\n      <td>2.0</td>\n      <td>3.875000</td>\n      <td>NaN</td>\n      <td>1.096774</td>\n      <td>NaN</td>\n    </tr>\n    <tr>\n      <th>19390</th>\n      <td>55704</td>\n      <td>201307</td>\n      <td>2</td>\n      <td>3.750000</td>\n      <td>3.300000</td>\n      <td>5.0</td>\n      <td>3.766667</td>\n      <td>3.563889</td>\n      <td>0.876106</td>\n      <td>0.925955</td>\n    </tr>\n    <tr>\n      <th>19391</th>\n      <td>55704</td>\n      <td>201308</td>\n      <td>29</td>\n      <td>3.706897</td>\n      <td>3.750000</td>\n      <td>2.0</td>\n      <td>3.766667</td>\n      <td>3.626389</td>\n      <td>0.995575</td>\n      <td>1.034087</td>\n    </tr>\n    <tr>\n      <th>19392</th>\n      <td>55704</td>\n      <td>201309</td>\n      <td>14</td>\n      <td>3.321429</td>\n      <td>3.706897</td>\n      <td>29.0</td>\n      <td>3.585632</td>\n      <td>3.730316</td>\n      <td>1.033820</td>\n      <td>0.993722</td>\n    </tr>\n    <tr>\n      <th>19393</th>\n      <td>55704</td>\n      <td>201310</td>\n      <td>5</td>\n      <td>3.800000</td>\n      <td>3.321429</td>\n      <td>14.0</td>\n      <td>3.592775</td>\n      <td>3.679721</td>\n      <td>0.924474</td>\n      <td>0.902631</td>\n    </tr>\n    <tr>\n      <th>19394</th>\n      <td>55704</td>\n      <td>201311</td>\n      <td>6</td>\n      <td>3.583333</td>\n      <td>3.800000</td>\n      <td>5.0</td>\n      <td>3.609442</td>\n      <td>3.688054</td>\n      <td>1.052794</td>\n      <td>1.030354</td>\n    </tr>\n    <tr>\n      <th>19395</th>\n      <td>55704</td>\n      <td>201312</td>\n      <td>8</td>\n      <td>3.437500</td>\n      <td>3.583333</td>\n      <td>6.0</td>\n      <td>3.568254</td>\n      <td>3.576943</td>\n      <td>1.004226</td>\n      <td>1.001787</td>\n    </tr>\n    <tr>\n      <th>19396</th>\n      <td>55704</td>\n      <td>201401</td>\n      <td>12</td>\n      <td>3.500000</td>\n      <td>3.437500</td>\n      <td>8.0</td>\n      <td>3.606944</td>\n      <td>3.599860</td>\n      <td>0.953023</td>\n      <td>0.954898</td>\n    </tr>\n    <tr>\n      <th>19397</th>\n      <td>55704</td>\n      <td>201402</td>\n      <td>10</td>\n      <td>3.800000</td>\n      <td>3.500000</td>\n      <td>12.0</td>\n      <td>3.506944</td>\n      <td>3.558193</td>\n      <td>0.998020</td>\n      <td>0.983645</td>\n    </tr>\n    <tr>\n      <th>19398</th>\n      <td>55704</td>\n      <td>201403</td>\n      <td>16</td>\n      <td>3.531250</td>\n      <td>3.800000</td>\n      <td>10.0</td>\n      <td>3.579167</td>\n      <td>3.573710</td>\n      <td>1.061700</td>\n      <td>1.063321</td>\n    </tr>\n    <tr>\n      <th>19399</th>\n      <td>55704</td>\n      <td>201404</td>\n      <td>17</td>\n      <td>3.500000</td>\n      <td>3.531250</td>\n      <td>16.0</td>\n      <td>3.610417</td>\n      <td>3.608681</td>\n      <td>0.978073</td>\n      <td>0.978543</td>\n    </tr>\n    <tr>\n      <th>19400</th>\n      <td>55704</td>\n      <td>201405</td>\n      <td>6</td>\n      <td>3.750000</td>\n      <td>3.500000</td>\n      <td>17.0</td>\n      <td>3.610417</td>\n      <td>3.558681</td>\n      <td>0.969417</td>\n      <td>0.983511</td>\n    </tr>\n    <tr>\n      <th>19401</th>\n      <td>55704</td>\n      <td>201406</td>\n      <td>10</td>\n      <td>4.050000</td>\n      <td>3.750000</td>\n      <td>6.0</td>\n      <td>3.593750</td>\n      <td>3.586458</td>\n      <td>1.043478</td>\n      <td>1.045600</td>\n    </tr>\n    <tr>\n      <th>19402</th>\n      <td>55704</td>\n      <td>201407</td>\n      <td>9</td>\n      <td>3.888889</td>\n      <td>4.050000</td>\n      <td>10.0</td>\n      <td>3.766667</td>\n      <td>3.688542</td>\n      <td>1.075221</td>\n      <td>1.097995</td>\n    </tr>\n    <tr>\n      <th>19403</th>\n      <td>55704</td>\n      <td>201408</td>\n      <td>13</td>\n      <td>3.769231</td>\n      <td>3.888889</td>\n      <td>9.0</td>\n      <td>3.896296</td>\n      <td>3.753356</td>\n      <td>0.998099</td>\n      <td>1.036110</td>\n    </tr>\n    <tr>\n      <th>19404</th>\n      <td>55704</td>\n      <td>201409</td>\n      <td>8</td>\n      <td>3.875000</td>\n      <td>3.769231</td>\n      <td>13.0</td>\n      <td>3.902707</td>\n      <td>3.748228</td>\n      <td>0.965799</td>\n      <td>1.005603</td>\n    </tr>\n    <tr>\n      <th>19405</th>\n      <td>55704</td>\n      <td>201410</td>\n      <td>10</td>\n      <td>3.600000</td>\n      <td>3.875000</td>\n      <td>8.0</td>\n      <td>3.844373</td>\n      <td>3.805520</td>\n      <td>1.007967</td>\n      <td>1.018258</td>\n    </tr>\n    <tr>\n      <th>19406</th>\n      <td>55704</td>\n      <td>201411</td>\n      <td>8</td>\n      <td>3.500000</td>\n      <td>3.600000</td>\n      <td>10.0</td>\n      <td>3.748077</td>\n      <td>3.822187</td>\n      <td>0.960493</td>\n      <td>0.941869</td>\n    </tr>\n    <tr>\n      <th>19407</th>\n      <td>55704</td>\n      <td>201412</td>\n      <td>12</td>\n      <td>3.791667</td>\n      <td>3.500000</td>\n      <td>8.0</td>\n      <td>3.658333</td>\n      <td>3.780520</td>\n      <td>0.956720</td>\n      <td>0.925799</td>\n    </tr>\n    <tr>\n      <th>19408</th>\n      <td>55704</td>\n      <td>201501</td>\n      <td>10</td>\n      <td>3.650000</td>\n      <td>3.791667</td>\n      <td>12.0</td>\n      <td>3.630556</td>\n      <td>3.737464</td>\n      <td>1.044376</td>\n      <td>1.014502</td>\n    </tr>\n    <tr>\n      <th>19409</th>\n      <td>55704</td>\n      <td>201502</td>\n      <td>11</td>\n      <td>3.590909</td>\n      <td>3.650000</td>\n      <td>10.0</td>\n      <td>3.647222</td>\n      <td>3.697650</td>\n      <td>1.000762</td>\n      <td>0.987114</td>\n    </tr>\n    <tr>\n      <th>19410</th>\n      <td>55704</td>\n      <td>201503</td>\n      <td>7</td>\n      <td>3.642857</td>\n      <td>3.590909</td>\n      <td>11.0</td>\n      <td>3.677525</td>\n      <td>3.667929</td>\n      <td>0.976447</td>\n      <td>0.979002</td>\n    </tr>\n  </tbody>\n</table>\n</div>"
     },
     "metadata": {},
     "execution_count": 41
    }
   ],
   "source": [
    "user_ratings_agg.loc[user_ratings_agg[\"userId\"]==55704]"
   ]
  },
  {
   "cell_type": "code",
   "execution_count": 42,
   "metadata": {},
   "outputs": [],
   "source": [
    "user_ratings_agg = user_ratings_agg.groupby(['year_month'], sort=False)\\\n",
    ".apply(lambda x: x.fillna(x.mean()))\\\n",
    ".reset_index(drop = True)"
   ]
  },
  {
   "cell_type": "code",
   "execution_count": 43,
   "metadata": {},
   "outputs": [
    {
     "output_type": "execute_result",
     "data": {
      "text/plain": [
       "       userId  year_month  last_1_months_user_rating  \\\n",
       "0          31      201502                   3.540724   \n",
       "1          96      201502                   2.861538   \n",
       "2         215      201502                   2.625000   \n",
       "3         279      201502                   3.781250   \n",
       "4         284      201502                   3.540724   \n",
       "...       ...         ...                        ...   \n",
       "47257  138070      201407                   4.071429   \n",
       "47258  138148      201407                   2.833333   \n",
       "47259  138280      201407                   3.500000   \n",
       "47260  138301      201407                   2.944444   \n",
       "47261  138435      201407                   4.300000   \n",
       "\n",
       "       last_1_months_user_rating_counts  mean_3_months_user_rating  \\\n",
       "0                             45.067735                   3.533881   \n",
       "1                             65.000000                   2.703846   \n",
       "2                              4.000000                   3.152291   \n",
       "3                             16.000000                   3.533881   \n",
       "4                             45.067735                   3.533881   \n",
       "...                                 ...                        ...   \n",
       "47257                         14.000000                   3.009921   \n",
       "47258                         21.000000                   3.204861   \n",
       "47259                          1.000000                   3.638889   \n",
       "47260                          9.000000                   3.346979   \n",
       "47261                         15.000000                   3.569075   \n",
       "\n",
       "       mean_6_months_user_rating  last_1_month_per_3_months_user_rating  \\\n",
       "0                       3.502598                               0.989807   \n",
       "1                       2.775534                               1.058321   \n",
       "2                       3.502598                               0.832728   \n",
       "3                       3.502598                               0.989807   \n",
       "4                       3.502598                               0.989807   \n",
       "...                          ...                                    ...   \n",
       "47257                   3.527856                               1.352670   \n",
       "47258                   3.196181                               0.884074   \n",
       "47259                   3.831944                               0.961832   \n",
       "47260                   3.274888                               0.879732   \n",
       "47261                   3.527856                               0.998012   \n",
       "\n",
       "       last_1_month_per_6_months_user_rating  \n",
       "0                                   0.989026  \n",
       "1                                   1.030987  \n",
       "2                                   0.989026  \n",
       "3                                   0.989026  \n",
       "4                                   0.989026  \n",
       "...                                      ...  \n",
       "47257                               0.998782  \n",
       "47258                               0.886475  \n",
       "47259                               0.913374  \n",
       "47260                               0.899098  \n",
       "47261                               0.998782  \n",
       "\n",
       "[47262 rows x 8 columns]"
      ],
      "text/html": "<div>\n<style scoped>\n    .dataframe tbody tr th:only-of-type {\n        vertical-align: middle;\n    }\n\n    .dataframe tbody tr th {\n        vertical-align: top;\n    }\n\n    .dataframe thead th {\n        text-align: right;\n    }\n</style>\n<table border=\"1\" class=\"dataframe\">\n  <thead>\n    <tr style=\"text-align: right;\">\n      <th></th>\n      <th>userId</th>\n      <th>year_month</th>\n      <th>last_1_months_user_rating</th>\n      <th>last_1_months_user_rating_counts</th>\n      <th>mean_3_months_user_rating</th>\n      <th>mean_6_months_user_rating</th>\n      <th>last_1_month_per_3_months_user_rating</th>\n      <th>last_1_month_per_6_months_user_rating</th>\n    </tr>\n  </thead>\n  <tbody>\n    <tr>\n      <th>0</th>\n      <td>31</td>\n      <td>201502</td>\n      <td>3.540724</td>\n      <td>45.067735</td>\n      <td>3.533881</td>\n      <td>3.502598</td>\n      <td>0.989807</td>\n      <td>0.989026</td>\n    </tr>\n    <tr>\n      <th>1</th>\n      <td>96</td>\n      <td>201502</td>\n      <td>2.861538</td>\n      <td>65.000000</td>\n      <td>2.703846</td>\n      <td>2.775534</td>\n      <td>1.058321</td>\n      <td>1.030987</td>\n    </tr>\n    <tr>\n      <th>2</th>\n      <td>215</td>\n      <td>201502</td>\n      <td>2.625000</td>\n      <td>4.000000</td>\n      <td>3.152291</td>\n      <td>3.502598</td>\n      <td>0.832728</td>\n      <td>0.989026</td>\n    </tr>\n    <tr>\n      <th>3</th>\n      <td>279</td>\n      <td>201502</td>\n      <td>3.781250</td>\n      <td>16.000000</td>\n      <td>3.533881</td>\n      <td>3.502598</td>\n      <td>0.989807</td>\n      <td>0.989026</td>\n    </tr>\n    <tr>\n      <th>4</th>\n      <td>284</td>\n      <td>201502</td>\n      <td>3.540724</td>\n      <td>45.067735</td>\n      <td>3.533881</td>\n      <td>3.502598</td>\n      <td>0.989807</td>\n      <td>0.989026</td>\n    </tr>\n    <tr>\n      <th>...</th>\n      <td>...</td>\n      <td>...</td>\n      <td>...</td>\n      <td>...</td>\n      <td>...</td>\n      <td>...</td>\n      <td>...</td>\n      <td>...</td>\n    </tr>\n    <tr>\n      <th>47257</th>\n      <td>138070</td>\n      <td>201407</td>\n      <td>4.071429</td>\n      <td>14.000000</td>\n      <td>3.009921</td>\n      <td>3.527856</td>\n      <td>1.352670</td>\n      <td>0.998782</td>\n    </tr>\n    <tr>\n      <th>47258</th>\n      <td>138148</td>\n      <td>201407</td>\n      <td>2.833333</td>\n      <td>21.000000</td>\n      <td>3.204861</td>\n      <td>3.196181</td>\n      <td>0.884074</td>\n      <td>0.886475</td>\n    </tr>\n    <tr>\n      <th>47259</th>\n      <td>138280</td>\n      <td>201407</td>\n      <td>3.500000</td>\n      <td>1.000000</td>\n      <td>3.638889</td>\n      <td>3.831944</td>\n      <td>0.961832</td>\n      <td>0.913374</td>\n    </tr>\n    <tr>\n      <th>47260</th>\n      <td>138301</td>\n      <td>201407</td>\n      <td>2.944444</td>\n      <td>9.000000</td>\n      <td>3.346979</td>\n      <td>3.274888</td>\n      <td>0.879732</td>\n      <td>0.899098</td>\n    </tr>\n    <tr>\n      <th>47261</th>\n      <td>138435</td>\n      <td>201407</td>\n      <td>4.300000</td>\n      <td>15.000000</td>\n      <td>3.569075</td>\n      <td>3.527856</td>\n      <td>0.998012</td>\n      <td>0.998782</td>\n    </tr>\n  </tbody>\n</table>\n<p>47262 rows × 8 columns</p>\n</div>"
     },
     "metadata": {},
     "execution_count": 43
    }
   ],
   "source": [
    "user_ratings_agg = user_ratings_agg.loc[:,~user_ratings_agg.columns.isin([\"count\",\"mean_rating\"])]\n",
    "user_ratings_agg"
   ]
  },
  {
   "source": [
    "##  Merging all the variables"
   ],
   "cell_type": "markdown",
   "metadata": {}
  },
  {
   "cell_type": "code",
   "execution_count": 77,
   "metadata": {},
   "outputs": [],
   "source": [
    "ratings_to_join = ratings[ratings.year_month >= 201411]\n",
    "ratings_to_join['target_var'] = 0\n",
    "ratings_to_join.loc[ratings['rating']>= 4.0,\"target_var\"]=1\n",
    "movies_ratings_to_join = movies_ratings[movies_ratings.year_month >= 201403]\n",
    "movies_general_vars = movies.loc[:,~movies.columns.isin([\"title\",\"genres\",\"year\",\"genre_list\"])]"
   ]
  },
  {
   "cell_type": "code",
   "execution_count": 78,
   "metadata": {},
   "outputs": [],
   "source": [
    "final_dataset = ratings_to_join.merge(movies_genre_ratings_agg,\"left\")\\\n",
    "    .merge(tags_weighted_rating_agg,\"left\")\\\n",
    "    .merge(user_ratings_agg,\"left\")\\\n",
    "    .merge(movies_ratings_to_join,\"left\")\\\n",
    "    .merge(movies_general_vars,\"left\")"
   ]
  },
  {
   "cell_type": "code",
   "execution_count": 79,
   "metadata": {},
   "outputs": [
    {
     "output_type": "execute_result",
     "data": {
      "text/plain": [
       "        userId  movieId  rating            timestamp  year_month  target_var  \\\n",
       "0           31        1     3.0  2015-02-23 23:18:07      201502           0   \n",
       "1           31      110     5.0  2015-02-23 23:17:53      201502           1   \n",
       "2           31      260     5.0  2015-02-23 23:17:13      201502           1   \n",
       "3           31      364     3.0  2015-02-25 06:13:27      201502           0   \n",
       "4           31      527     0.5  2015-02-23 23:19:58      201502           0   \n",
       "...        ...      ...     ...                  ...         ...         ...   \n",
       "442673  138468   109487     5.0  2014-12-22 13:35:37      201412           1   \n",
       "442674  138468   111759     4.0  2014-12-22 13:35:47      201412           1   \n",
       "442675  138468   112556     5.0  2014-12-22 13:35:39      201412           1   \n",
       "442676  138468   118696     3.5  2014-12-22 13:36:23      201412           0   \n",
       "442677  138468   119155     3.5  2014-12-22 13:36:22      201412           0   \n",
       "\n",
       "        last_1_months_genre_rating  mean_3_months_genre_rating  \\\n",
       "0                         3.116378                    3.146666   \n",
       "1                         3.284891                    3.343781   \n",
       "2                         3.106176                    3.124029   \n",
       "3                         3.188801                    3.238047   \n",
       "4                         3.383728                    3.465100   \n",
       "...                            ...                         ...   \n",
       "442673                    3.177909                    3.268067   \n",
       "442674                    3.152961                    3.255481   \n",
       "442675                    3.386351                    3.408663   \n",
       "442676                    3.170669                    3.287278   \n",
       "442677                    3.128544                    3.248762   \n",
       "\n",
       "        mean_6_months_genre_rating  last_1_month_per_3_months_genre_rating  \\\n",
       "0                         3.242472                                0.990781   \n",
       "1                         3.400271                                0.982860   \n",
       "2                         3.214912                                0.994324   \n",
       "3                         3.318860                                0.985293   \n",
       "4                         3.499553                                0.976535   \n",
       "...                            ...                                     ...   \n",
       "442673                    3.286991                                0.972280   \n",
       "442674                    3.280624                                0.968390   \n",
       "442675                    3.404156                                0.993150   \n",
       "442676                    3.309807                                0.964519   \n",
       "442677                    3.270261                                0.962854   \n",
       "\n",
       "        ...  Children  Action  Western  Fantasy  Musical  Horror  Mystery  \\\n",
       "0       ...         1       0        0        1        0       0        0   \n",
       "1       ...         0       1        0        0        0       0        0   \n",
       "2       ...         0       1        0        0        0       0        0   \n",
       "3       ...         1       0        0        0        1       0        0   \n",
       "4       ...         0       0        0        0        0       0        0   \n",
       "...     ...       ...     ...      ...      ...      ...     ...      ...   \n",
       "442673  ...         0       0        0        0        0       0        0   \n",
       "442674  ...         0       1        0        0        0       0        0   \n",
       "442675  ...         0       0        0        0        0       0        0   \n",
       "442676  ...         0       0        0        1        0       0        0   \n",
       "442677  ...         1       0        0        1        0       0        0   \n",
       "\n",
       "        War  Thriller  Film-Noir  \n",
       "0         0         0          0  \n",
       "1         1         0          0  \n",
       "2         0         0          0  \n",
       "3         0         0          0  \n",
       "4         1         0          0  \n",
       "...     ...       ...        ...  \n",
       "442673    0         0          0  \n",
       "442674    0         0          0  \n",
       "442675    0         1          0  \n",
       "442676    0         0          0  \n",
       "442677    0         0          0  \n",
       "\n",
       "[442678 rows x 43 columns]"
      ],
      "text/html": "<div>\n<style scoped>\n    .dataframe tbody tr th:only-of-type {\n        vertical-align: middle;\n    }\n\n    .dataframe tbody tr th {\n        vertical-align: top;\n    }\n\n    .dataframe thead th {\n        text-align: right;\n    }\n</style>\n<table border=\"1\" class=\"dataframe\">\n  <thead>\n    <tr style=\"text-align: right;\">\n      <th></th>\n      <th>userId</th>\n      <th>movieId</th>\n      <th>rating</th>\n      <th>timestamp</th>\n      <th>year_month</th>\n      <th>target_var</th>\n      <th>last_1_months_genre_rating</th>\n      <th>mean_3_months_genre_rating</th>\n      <th>mean_6_months_genre_rating</th>\n      <th>last_1_month_per_3_months_genre_rating</th>\n      <th>...</th>\n      <th>Children</th>\n      <th>Action</th>\n      <th>Western</th>\n      <th>Fantasy</th>\n      <th>Musical</th>\n      <th>Horror</th>\n      <th>Mystery</th>\n      <th>War</th>\n      <th>Thriller</th>\n      <th>Film-Noir</th>\n    </tr>\n  </thead>\n  <tbody>\n    <tr>\n      <th>0</th>\n      <td>31</td>\n      <td>1</td>\n      <td>3.0</td>\n      <td>2015-02-23 23:18:07</td>\n      <td>201502</td>\n      <td>0</td>\n      <td>3.116378</td>\n      <td>3.146666</td>\n      <td>3.242472</td>\n      <td>0.990781</td>\n      <td>...</td>\n      <td>1</td>\n      <td>0</td>\n      <td>0</td>\n      <td>1</td>\n      <td>0</td>\n      <td>0</td>\n      <td>0</td>\n      <td>0</td>\n      <td>0</td>\n      <td>0</td>\n    </tr>\n    <tr>\n      <th>1</th>\n      <td>31</td>\n      <td>110</td>\n      <td>5.0</td>\n      <td>2015-02-23 23:17:53</td>\n      <td>201502</td>\n      <td>1</td>\n      <td>3.284891</td>\n      <td>3.343781</td>\n      <td>3.400271</td>\n      <td>0.982860</td>\n      <td>...</td>\n      <td>0</td>\n      <td>1</td>\n      <td>0</td>\n      <td>0</td>\n      <td>0</td>\n      <td>0</td>\n      <td>0</td>\n      <td>1</td>\n      <td>0</td>\n      <td>0</td>\n    </tr>\n    <tr>\n      <th>2</th>\n      <td>31</td>\n      <td>260</td>\n      <td>5.0</td>\n      <td>2015-02-23 23:17:13</td>\n      <td>201502</td>\n      <td>1</td>\n      <td>3.106176</td>\n      <td>3.124029</td>\n      <td>3.214912</td>\n      <td>0.994324</td>\n      <td>...</td>\n      <td>0</td>\n      <td>1</td>\n      <td>0</td>\n      <td>0</td>\n      <td>0</td>\n      <td>0</td>\n      <td>0</td>\n      <td>0</td>\n      <td>0</td>\n      <td>0</td>\n    </tr>\n    <tr>\n      <th>3</th>\n      <td>31</td>\n      <td>364</td>\n      <td>3.0</td>\n      <td>2015-02-25 06:13:27</td>\n      <td>201502</td>\n      <td>0</td>\n      <td>3.188801</td>\n      <td>3.238047</td>\n      <td>3.318860</td>\n      <td>0.985293</td>\n      <td>...</td>\n      <td>1</td>\n      <td>0</td>\n      <td>0</td>\n      <td>0</td>\n      <td>1</td>\n      <td>0</td>\n      <td>0</td>\n      <td>0</td>\n      <td>0</td>\n      <td>0</td>\n    </tr>\n    <tr>\n      <th>4</th>\n      <td>31</td>\n      <td>527</td>\n      <td>0.5</td>\n      <td>2015-02-23 23:19:58</td>\n      <td>201502</td>\n      <td>0</td>\n      <td>3.383728</td>\n      <td>3.465100</td>\n      <td>3.499553</td>\n      <td>0.976535</td>\n      <td>...</td>\n      <td>0</td>\n      <td>0</td>\n      <td>0</td>\n      <td>0</td>\n      <td>0</td>\n      <td>0</td>\n      <td>0</td>\n      <td>1</td>\n      <td>0</td>\n      <td>0</td>\n    </tr>\n    <tr>\n      <th>...</th>\n      <td>...</td>\n      <td>...</td>\n      <td>...</td>\n      <td>...</td>\n      <td>...</td>\n      <td>...</td>\n      <td>...</td>\n      <td>...</td>\n      <td>...</td>\n      <td>...</td>\n      <td>...</td>\n      <td>...</td>\n      <td>...</td>\n      <td>...</td>\n      <td>...</td>\n      <td>...</td>\n      <td>...</td>\n      <td>...</td>\n      <td>...</td>\n      <td>...</td>\n      <td>...</td>\n    </tr>\n    <tr>\n      <th>442673</th>\n      <td>138468</td>\n      <td>109487</td>\n      <td>5.0</td>\n      <td>2014-12-22 13:35:37</td>\n      <td>201412</td>\n      <td>1</td>\n      <td>3.177909</td>\n      <td>3.268067</td>\n      <td>3.286991</td>\n      <td>0.972280</td>\n      <td>...</td>\n      <td>0</td>\n      <td>0</td>\n      <td>0</td>\n      <td>0</td>\n      <td>0</td>\n      <td>0</td>\n      <td>0</td>\n      <td>0</td>\n      <td>0</td>\n      <td>0</td>\n    </tr>\n    <tr>\n      <th>442674</th>\n      <td>138468</td>\n      <td>111759</td>\n      <td>4.0</td>\n      <td>2014-12-22 13:35:47</td>\n      <td>201412</td>\n      <td>1</td>\n      <td>3.152961</td>\n      <td>3.255481</td>\n      <td>3.280624</td>\n      <td>0.968390</td>\n      <td>...</td>\n      <td>0</td>\n      <td>1</td>\n      <td>0</td>\n      <td>0</td>\n      <td>0</td>\n      <td>0</td>\n      <td>0</td>\n      <td>0</td>\n      <td>0</td>\n      <td>0</td>\n    </tr>\n    <tr>\n      <th>442675</th>\n      <td>138468</td>\n      <td>112556</td>\n      <td>5.0</td>\n      <td>2014-12-22 13:35:39</td>\n      <td>201412</td>\n      <td>1</td>\n      <td>3.386351</td>\n      <td>3.408663</td>\n      <td>3.404156</td>\n      <td>0.993150</td>\n      <td>...</td>\n      <td>0</td>\n      <td>0</td>\n      <td>0</td>\n      <td>0</td>\n      <td>0</td>\n      <td>0</td>\n      <td>0</td>\n      <td>0</td>\n      <td>1</td>\n      <td>0</td>\n    </tr>\n    <tr>\n      <th>442676</th>\n      <td>138468</td>\n      <td>118696</td>\n      <td>3.5</td>\n      <td>2014-12-22 13:36:23</td>\n      <td>201412</td>\n      <td>0</td>\n      <td>3.170669</td>\n      <td>3.287278</td>\n      <td>3.309807</td>\n      <td>0.964519</td>\n      <td>...</td>\n      <td>0</td>\n      <td>0</td>\n      <td>0</td>\n      <td>1</td>\n      <td>0</td>\n      <td>0</td>\n      <td>0</td>\n      <td>0</td>\n      <td>0</td>\n      <td>0</td>\n    </tr>\n    <tr>\n      <th>442677</th>\n      <td>138468</td>\n      <td>119155</td>\n      <td>3.5</td>\n      <td>2014-12-22 13:36:22</td>\n      <td>201412</td>\n      <td>0</td>\n      <td>3.128544</td>\n      <td>3.248762</td>\n      <td>3.270261</td>\n      <td>0.962854</td>\n      <td>...</td>\n      <td>1</td>\n      <td>0</td>\n      <td>0</td>\n      <td>1</td>\n      <td>0</td>\n      <td>0</td>\n      <td>0</td>\n      <td>0</td>\n      <td>0</td>\n      <td>0</td>\n    </tr>\n  </tbody>\n</table>\n<p>442678 rows × 43 columns</p>\n</div>"
     },
     "metadata": {},
     "execution_count": 79
    }
   ],
   "source": [
    "final_dataset"
   ]
  },
  {
   "cell_type": "code",
   "execution_count": 80,
   "metadata": {},
   "outputs": [
    {
     "output_type": "execute_result",
     "data": {
      "text/plain": [
       "userId                                      int64\n",
       "movieId                                     int64\n",
       "rating                                    float64\n",
       "timestamp                                  object\n",
       "year_month                                  int64\n",
       "target_var                                  int64\n",
       "last_1_months_genre_rating                float64\n",
       "mean_3_months_genre_rating                float64\n",
       "mean_6_months_genre_rating                float64\n",
       "last_1_month_per_3_months_genre_rating    float64\n",
       "last_1_month_per_6_months_genre_rating    float64\n",
       "last_6_months_weighted_rating             float64\n",
       "last_1_months_user_rating                 float64\n",
       "last_1_months_user_rating_counts          float64\n",
       "mean_3_months_user_rating                 float64\n",
       "mean_6_months_user_rating                 float64\n",
       "last_1_month_per_3_months_user_rating     float64\n",
       "last_1_month_per_6_months_user_rating     float64\n",
       "last_1_months_movie_rating                float64\n",
       "last_1_months_movie_rating_counts         float64\n",
       "mean_3_months_movie_rating                float64\n",
       "mean_6_months_movie_rating                float64\n",
       "last_1_month_per_3_months_movie_rating    float64\n",
       "last_1_month_per_6_months_movie_rating    float64\n",
       "Animation                                   int64\n",
       "Documentary                                 int64\n",
       "Adventure                                   int64\n",
       "Romance                                     int64\n",
       "Comedy                                      int64\n",
       "Crime                                       int64\n",
       "Drama                                       int64\n",
       "IMAX                                        int64\n",
       "Sci-Fi                                      int64\n",
       "Children                                    int64\n",
       "Action                                      int64\n",
       "Western                                     int64\n",
       "Fantasy                                     int64\n",
       "Musical                                     int64\n",
       "Horror                                      int64\n",
       "Mystery                                     int64\n",
       "War                                         int64\n",
       "Thriller                                    int64\n",
       "Film-Noir                                   int64\n",
       "dtype: object"
      ]
     },
     "metadata": {},
     "execution_count": 80
    }
   ],
   "source": [
    "final_dataset.dtypes"
   ]
  },
  {
   "cell_type": "code",
   "execution_count": null,
   "metadata": {},
   "outputs": [],
   "source": []
  }
 ]
}