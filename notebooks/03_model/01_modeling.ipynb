{
 "metadata": {
  "language_info": {
   "codemirror_mode": {
    "name": "ipython",
    "version": 3
   },
   "file_extension": ".py",
   "mimetype": "text/x-python",
   "name": "python",
   "nbconvert_exporter": "python",
   "pygments_lexer": "ipython3",
   "version": "3.7.10-final"
  },
  "orig_nbformat": 2,
  "kernelspec": {
   "name": "python3",
   "display_name": "Python 3.7.10 64-bit ('kueski': conda)",
   "metadata": {
    "interpreter": {
     "hash": "d71a70adb802aa27b8e47a8ed81da61200db36da63030ab7f03f3de50f141ea6"
    }
   }
  }
 },
 "nbformat": 4,
 "nbformat_minor": 2,
 "cells": [
  {
   "cell_type": "code",
   "execution_count": 38,
   "metadata": {},
   "outputs": [],
   "source": [
    "import pandas as pd\n",
    "import numpy as np\n",
    "import os \n",
    "from sklearn.model_selection import train_test_split\n",
    "from lightgbm import LGBMClassifier\n",
    "import csv\n",
    "\n",
    "import optuna\n",
    "import ast\n",
    "import datetime\n",
    "import pickle\n",
    "import shap\n",
    "\n",
    "from sklearn.metrics import auc,log_loss,accuracy_score,roc_auc_score"
   ]
  },
  {
   "source": [
    "## Defining the paths of the input and the hiperparameters"
   ],
   "cell_type": "markdown",
   "metadata": {}
  },
  {
   "cell_type": "code",
   "execution_count": 7,
   "metadata": {},
   "outputs": [],
   "source": [
    "#path to data files\n",
    "notebook_path = os.getcwd()\n",
    "project_path = notebook_path[0:len(notebook_path)-18]+\"data/\"\n",
    "project_code_path = notebook_path[0:len(notebook_path)-18]+\"code/\"\n",
    "\n",
    "OPTIMIZE_FILE = project_path+ 'optuna_scores.csv' #path where it will be saved the hipterparamether trials\n",
    "SEED = 42\n",
    "NJOBS = 60"
   ]
  },
  {
   "source": [
    "## Reading the data"
   ],
   "cell_type": "markdown",
   "metadata": {}
  },
  {
   "cell_type": "code",
   "execution_count": 15,
   "metadata": {},
   "outputs": [],
   "source": [
    "df = pd.read_pickle(project_path+'clened_df_toTrain.pkl')"
   ]
  },
  {
   "cell_type": "code",
   "execution_count": 18,
   "metadata": {},
   "outputs": [],
   "source": [
    "df = df.loc[:,~df.columns.isin([\"userId\",\"movieId\",\"rating\"])]"
   ]
  },
  {
   "cell_type": "code",
   "execution_count": 19,
   "metadata": {},
   "outputs": [
    {
     "output_type": "execute_result",
     "data": {
      "text/plain": [
       "year_month                                  int64\n",
       "target_var                                  int64\n",
       "Sci-Fi                                      int64\n",
       "Horror                                      int64\n",
       "Action                                      int64\n",
       "Musical                                     int64\n",
       "Documentary                                 int64\n",
       "Romance                                     int64\n",
       "Film-Noir                                   int64\n",
       "Crime                                       int64\n",
       "Animation                                   int64\n",
       "Drama                                       int64\n",
       "Adventure                                   int64\n",
       "Mystery                                     int64\n",
       "Fantasy                                     int64\n",
       "War                                         int64\n",
       "IMAX                                        int64\n",
       "Comedy                                      int64\n",
       "Children                                    int64\n",
       "Thriller                                    int64\n",
       "Western                                     int64\n",
       "last_1_months_movie_rating                float64\n",
       "last_1_months_movie_rating_counts         float64\n",
       "mean_3_months_movie_rating                float64\n",
       "mean_6_months_movie_rating                float64\n",
       "last_1_month_per_3_months_movie_rating    float64\n",
       "last_1_month_per_6_months_movie_rating    float64\n",
       "last_6_months_weighted_rating             float64\n",
       "last_1_months_genre_rating                float64\n",
       "last_1_months_genre_rating_counts         float64\n",
       "mean_3_months_genre_rating                float64\n",
       "mean_6_months_genre_rating                float64\n",
       "last_1_month_per_3_months_genre_rating    float64\n",
       "last_1_month_per_6_months_genre_rating    float64\n",
       "last_1_months_user_rating                 float64\n",
       "last_1_months_user_rating_counts          float64\n",
       "mean_3_months_user_rating                 float64\n",
       "mean_6_months_user_rating                 float64\n",
       "last_1_month_per_3_months_user_rating     float64\n",
       "last_1_month_per_6_months_user_rating     float64\n",
       "dtype: object"
      ]
     },
     "metadata": {},
     "execution_count": 19
    }
   ],
   "source": [
    "df.dtypes"
   ]
  },
  {
   "source": [
    "## Dividing train and test and validation\n",
    "\n",
    "Lets have a train, test of 4 months (80% for train and 20 for test) and a month of validation(Out of time)."
   ],
   "cell_type": "markdown",
   "metadata": {}
  },
  {
   "cell_type": "code",
   "execution_count": 20,
   "metadata": {},
   "outputs": [],
   "source": [
    "train_test_df = df.loc[df[\"year_month\"]<201503,~df.columns.isin([\"year_month\"])]\n",
    "validation_df = df.loc[df[\"year_month\"]==201503,~df.columns.isin([\"year_month\"])]"
   ]
  },
  {
   "cell_type": "code",
   "execution_count": 21,
   "metadata": {},
   "outputs": [
    {
     "output_type": "execute_result",
     "data": {
      "text/plain": [
       "        target_var  ...  last_1_month_per_6_months_user_rating\n",
       "0                0  ...                               0.996374\n",
       "1                1  ...                               0.996374\n",
       "2                1  ...                               0.996374\n",
       "3                0  ...                               0.996374\n",
       "4                0  ...                               0.996374\n",
       "...            ...  ...                                    ...\n",
       "354995           1  ...                               1.011345\n",
       "354996           1  ...                               1.064039\n",
       "354997           0  ...                               1.064039\n",
       "354998           1  ...                               1.064039\n",
       "354999           0  ...                               1.064039\n",
       "\n",
       "[355000 rows x 39 columns]"
      ],
      "text/html": "<div>\n<style scoped>\n    .dataframe tbody tr th:only-of-type {\n        vertical-align: middle;\n    }\n\n    .dataframe tbody tr th {\n        vertical-align: top;\n    }\n\n    .dataframe thead th {\n        text-align: right;\n    }\n</style>\n<table border=\"1\" class=\"dataframe\">\n  <thead>\n    <tr style=\"text-align: right;\">\n      <th></th>\n      <th>target_var</th>\n      <th>Sci-Fi</th>\n      <th>Horror</th>\n      <th>Action</th>\n      <th>Musical</th>\n      <th>Documentary</th>\n      <th>Romance</th>\n      <th>Film-Noir</th>\n      <th>Crime</th>\n      <th>Animation</th>\n      <th>Drama</th>\n      <th>Adventure</th>\n      <th>Mystery</th>\n      <th>Fantasy</th>\n      <th>War</th>\n      <th>IMAX</th>\n      <th>Comedy</th>\n      <th>Children</th>\n      <th>Thriller</th>\n      <th>Western</th>\n      <th>last_1_months_movie_rating</th>\n      <th>last_1_months_movie_rating_counts</th>\n      <th>mean_3_months_movie_rating</th>\n      <th>mean_6_months_movie_rating</th>\n      <th>last_1_month_per_3_months_movie_rating</th>\n      <th>last_1_month_per_6_months_movie_rating</th>\n      <th>last_6_months_weighted_rating</th>\n      <th>last_1_months_genre_rating</th>\n      <th>last_1_months_genre_rating_counts</th>\n      <th>mean_3_months_genre_rating</th>\n      <th>mean_6_months_genre_rating</th>\n      <th>last_1_month_per_3_months_genre_rating</th>\n      <th>last_1_month_per_6_months_genre_rating</th>\n      <th>last_1_months_user_rating</th>\n      <th>last_1_months_user_rating_counts</th>\n      <th>mean_3_months_user_rating</th>\n      <th>mean_6_months_user_rating</th>\n      <th>last_1_month_per_3_months_user_rating</th>\n      <th>last_1_month_per_6_months_user_rating</th>\n    </tr>\n  </thead>\n  <tbody>\n    <tr>\n      <th>0</th>\n      <td>0</td>\n      <td>0</td>\n      <td>0</td>\n      <td>0</td>\n      <td>0</td>\n      <td>0</td>\n      <td>0</td>\n      <td>0</td>\n      <td>0</td>\n      <td>1</td>\n      <td>0</td>\n      <td>1</td>\n      <td>0</td>\n      <td>1</td>\n      <td>0</td>\n      <td>0</td>\n      <td>1</td>\n      <td>1</td>\n      <td>0</td>\n      <td>0</td>\n      <td>3.856164</td>\n      <td>146.000000</td>\n      <td>3.945138</td>\n      <td>3.904015</td>\n      <td>0.977447</td>\n      <td>0.987743</td>\n      <td>3.942630</td>\n      <td>3.116378</td>\n      <td>1358.200000</td>\n      <td>3.146666</td>\n      <td>3.242472</td>\n      <td>0.990781</td>\n      <td>0.961358</td>\n      <td>3.584819</td>\n      <td>164.425009</td>\n      <td>3.537247</td>\n      <td>3.500329</td>\n      <td>0.994607</td>\n      <td>0.996374</td>\n    </tr>\n    <tr>\n      <th>1</th>\n      <td>1</td>\n      <td>0</td>\n      <td>0</td>\n      <td>1</td>\n      <td>0</td>\n      <td>0</td>\n      <td>0</td>\n      <td>0</td>\n      <td>0</td>\n      <td>0</td>\n      <td>1</td>\n      <td>0</td>\n      <td>0</td>\n      <td>0</td>\n      <td>1</td>\n      <td>0</td>\n      <td>0</td>\n      <td>0</td>\n      <td>0</td>\n      <td>0</td>\n      <td>3.770270</td>\n      <td>185.000000</td>\n      <td>3.724585</td>\n      <td>3.820718</td>\n      <td>1.012266</td>\n      <td>0.986796</td>\n      <td>3.832747</td>\n      <td>3.284891</td>\n      <td>2355.666667</td>\n      <td>3.343781</td>\n      <td>3.400271</td>\n      <td>0.982860</td>\n      <td>0.966030</td>\n      <td>3.584819</td>\n      <td>164.425009</td>\n      <td>3.537247</td>\n      <td>3.500329</td>\n      <td>0.994607</td>\n      <td>0.996374</td>\n    </tr>\n    <tr>\n      <th>2</th>\n      <td>1</td>\n      <td>1</td>\n      <td>0</td>\n      <td>1</td>\n      <td>0</td>\n      <td>0</td>\n      <td>0</td>\n      <td>0</td>\n      <td>0</td>\n      <td>0</td>\n      <td>0</td>\n      <td>1</td>\n      <td>0</td>\n      <td>0</td>\n      <td>0</td>\n      <td>0</td>\n      <td>0</td>\n      <td>0</td>\n      <td>0</td>\n      <td>0</td>\n      <td>3.866279</td>\n      <td>258.000000</td>\n      <td>3.953669</td>\n      <td>4.006939</td>\n      <td>0.977897</td>\n      <td>0.964896</td>\n      <td>3.825609</td>\n      <td>3.106176</td>\n      <td>1309.666667</td>\n      <td>3.124029</td>\n      <td>3.214912</td>\n      <td>0.994324</td>\n      <td>0.966209</td>\n      <td>3.584819</td>\n      <td>164.425009</td>\n      <td>3.537247</td>\n      <td>3.500329</td>\n      <td>0.994607</td>\n      <td>0.996374</td>\n    </tr>\n    <tr>\n      <th>3</th>\n      <td>0</td>\n      <td>0</td>\n      <td>0</td>\n      <td>0</td>\n      <td>1</td>\n      <td>0</td>\n      <td>0</td>\n      <td>0</td>\n      <td>0</td>\n      <td>1</td>\n      <td>1</td>\n      <td>1</td>\n      <td>0</td>\n      <td>0</td>\n      <td>0</td>\n      <td>1</td>\n      <td>0</td>\n      <td>1</td>\n      <td>0</td>\n      <td>0</td>\n      <td>3.714286</td>\n      <td>84.000000</td>\n      <td>3.901607</td>\n      <td>3.927841</td>\n      <td>0.951989</td>\n      <td>0.945630</td>\n      <td>3.619601</td>\n      <td>3.188801</td>\n      <td>1292.333333</td>\n      <td>3.238047</td>\n      <td>3.318860</td>\n      <td>0.985293</td>\n      <td>0.960907</td>\n      <td>3.584819</td>\n      <td>164.425009</td>\n      <td>3.537247</td>\n      <td>3.500329</td>\n      <td>0.994607</td>\n      <td>0.996374</td>\n    </tr>\n    <tr>\n      <th>4</th>\n      <td>0</td>\n      <td>0</td>\n      <td>0</td>\n      <td>0</td>\n      <td>0</td>\n      <td>0</td>\n      <td>0</td>\n      <td>0</td>\n      <td>0</td>\n      <td>0</td>\n      <td>1</td>\n      <td>0</td>\n      <td>0</td>\n      <td>0</td>\n      <td>1</td>\n      <td>0</td>\n      <td>0</td>\n      <td>0</td>\n      <td>0</td>\n      <td>0</td>\n      <td>3.900810</td>\n      <td>247.000000</td>\n      <td>3.982148</td>\n      <td>4.055195</td>\n      <td>0.979574</td>\n      <td>0.961929</td>\n      <td>3.922061</td>\n      <td>3.383728</td>\n      <td>2646.500000</td>\n      <td>3.465100</td>\n      <td>3.499553</td>\n      <td>0.976535</td>\n      <td>0.966924</td>\n      <td>3.584819</td>\n      <td>164.425009</td>\n      <td>3.537247</td>\n      <td>3.500329</td>\n      <td>0.994607</td>\n      <td>0.996374</td>\n    </tr>\n    <tr>\n      <th>...</th>\n      <td>...</td>\n      <td>...</td>\n      <td>...</td>\n      <td>...</td>\n      <td>...</td>\n      <td>...</td>\n      <td>...</td>\n      <td>...</td>\n      <td>...</td>\n      <td>...</td>\n      <td>...</td>\n      <td>...</td>\n      <td>...</td>\n      <td>...</td>\n      <td>...</td>\n      <td>...</td>\n      <td>...</td>\n      <td>...</td>\n      <td>...</td>\n      <td>...</td>\n      <td>...</td>\n      <td>...</td>\n      <td>...</td>\n      <td>...</td>\n      <td>...</td>\n      <td>...</td>\n      <td>...</td>\n      <td>...</td>\n      <td>...</td>\n      <td>...</td>\n      <td>...</td>\n      <td>...</td>\n      <td>...</td>\n      <td>...</td>\n      <td>...</td>\n      <td>...</td>\n      <td>...</td>\n      <td>...</td>\n      <td>...</td>\n    </tr>\n    <tr>\n      <th>354995</th>\n      <td>1</td>\n      <td>1</td>\n      <td>0</td>\n      <td>0</td>\n      <td>0</td>\n      <td>0</td>\n      <td>0</td>\n      <td>0</td>\n      <td>0</td>\n      <td>0</td>\n      <td>1</td>\n      <td>0</td>\n      <td>1</td>\n      <td>0</td>\n      <td>0</td>\n      <td>0</td>\n      <td>0</td>\n      <td>0</td>\n      <td>1</td>\n      <td>0</td>\n      <td>3.841463</td>\n      <td>41.000000</td>\n      <td>4.020065</td>\n      <td>4.026188</td>\n      <td>0.955573</td>\n      <td>0.954119</td>\n      <td>4.037064</td>\n      <td>3.391114</td>\n      <td>1393.000000</td>\n      <td>3.382888</td>\n      <td>3.368958</td>\n      <td>1.002431</td>\n      <td>1.006709</td>\n      <td>4.333333</td>\n      <td>3.000000</td>\n      <td>4.486111</td>\n      <td>4.284722</td>\n      <td>0.965944</td>\n      <td>1.011345</td>\n    </tr>\n    <tr>\n      <th>354996</th>\n      <td>1</td>\n      <td>1</td>\n      <td>0</td>\n      <td>0</td>\n      <td>0</td>\n      <td>0</td>\n      <td>1</td>\n      <td>0</td>\n      <td>0</td>\n      <td>1</td>\n      <td>0</td>\n      <td>1</td>\n      <td>0</td>\n      <td>0</td>\n      <td>0</td>\n      <td>0</td>\n      <td>0</td>\n      <td>1</td>\n      <td>0</td>\n      <td>0</td>\n      <td>3.993421</td>\n      <td>76.000000</td>\n      <td>3.902809</td>\n      <td>3.934357</td>\n      <td>1.023217</td>\n      <td>1.015012</td>\n      <td>3.862862</td>\n      <td>3.389731</td>\n      <td>687.000000</td>\n      <td>3.345587</td>\n      <td>3.333375</td>\n      <td>1.013202</td>\n      <td>1.016888</td>\n      <td>4.500000</td>\n      <td>2.000000</td>\n      <td>4.291667</td>\n      <td>4.229167</td>\n      <td>1.048544</td>\n      <td>1.064039</td>\n    </tr>\n    <tr>\n      <th>354997</th>\n      <td>0</td>\n      <td>1</td>\n      <td>0</td>\n      <td>0</td>\n      <td>0</td>\n      <td>0</td>\n      <td>0</td>\n      <td>0</td>\n      <td>0</td>\n      <td>0</td>\n      <td>0</td>\n      <td>0</td>\n      <td>0</td>\n      <td>0</td>\n      <td>0</td>\n      <td>1</td>\n      <td>0</td>\n      <td>0</td>\n      <td>0</td>\n      <td>0</td>\n      <td>3.678514</td>\n      <td>32.140486</td>\n      <td>3.654632</td>\n      <td>3.665282</td>\n      <td>1.008574</td>\n      <td>1.007407</td>\n      <td>3.943211</td>\n      <td>3.359148</td>\n      <td>412.500000</td>\n      <td>3.317876</td>\n      <td>3.282185</td>\n      <td>1.012319</td>\n      <td>1.023338</td>\n      <td>4.500000</td>\n      <td>2.000000</td>\n      <td>4.291667</td>\n      <td>4.229167</td>\n      <td>1.048544</td>\n      <td>1.064039</td>\n    </tr>\n    <tr>\n      <th>354998</th>\n      <td>1</td>\n      <td>1</td>\n      <td>0</td>\n      <td>1</td>\n      <td>0</td>\n      <td>0</td>\n      <td>0</td>\n      <td>0</td>\n      <td>0</td>\n      <td>0</td>\n      <td>0</td>\n      <td>1</td>\n      <td>0</td>\n      <td>0</td>\n      <td>0</td>\n      <td>0</td>\n      <td>0</td>\n      <td>0</td>\n      <td>0</td>\n      <td>0</td>\n      <td>4.008065</td>\n      <td>124.000000</td>\n      <td>4.058135</td>\n      <td>3.665282</td>\n      <td>0.987662</td>\n      <td>1.007407</td>\n      <td>3.861979</td>\n      <td>3.334103</td>\n      <td>919.333333</td>\n      <td>3.305795</td>\n      <td>3.276084</td>\n      <td>1.008528</td>\n      <td>1.017695</td>\n      <td>4.500000</td>\n      <td>2.000000</td>\n      <td>4.291667</td>\n      <td>4.229167</td>\n      <td>1.048544</td>\n      <td>1.064039</td>\n    </tr>\n    <tr>\n      <th>354999</th>\n      <td>0</td>\n      <td>0</td>\n      <td>0</td>\n      <td>1</td>\n      <td>0</td>\n      <td>0</td>\n      <td>0</td>\n      <td>0</td>\n      <td>0</td>\n      <td>0</td>\n      <td>1</td>\n      <td>0</td>\n      <td>0</td>\n      <td>1</td>\n      <td>0</td>\n      <td>0</td>\n      <td>0</td>\n      <td>0</td>\n      <td>0</td>\n      <td>0</td>\n      <td>2.958333</td>\n      <td>12.000000</td>\n      <td>3.654632</td>\n      <td>3.665282</td>\n      <td>1.008574</td>\n      <td>1.007407</td>\n      <td>3.890666</td>\n      <td>3.411295</td>\n      <td>1578.333333</td>\n      <td>3.391645</td>\n      <td>3.369926</td>\n      <td>1.005858</td>\n      <td>1.012442</td>\n      <td>4.500000</td>\n      <td>2.000000</td>\n      <td>4.291667</td>\n      <td>4.229167</td>\n      <td>1.048544</td>\n      <td>1.064039</td>\n    </tr>\n  </tbody>\n</table>\n<p>355000 rows × 39 columns</p>\n</div>"
     },
     "metadata": {},
     "execution_count": 21
    }
   ],
   "source": [
    "train_test_df"
   ]
  },
  {
   "cell_type": "code",
   "execution_count": 23,
   "metadata": {},
   "outputs": [],
   "source": [
    "X_train, X_test, y_train, y_test = train_test_split(train_test_df.loc[:,~train_test_df.columns.isin([\"target_var\"])],\n",
    "                                                    train_test_df[[\"target_var\"]], test_size=0.2, random_state=SEED)"
   ]
  },
  {
   "source": [
    "## Defining the hyperparameter space to look for the best model\n",
    "\n",
    "Lightgbm is a tree boosting library implemented by Microsoft that has high accuracy and can reach to its optimum in a fast time. Tree base algorithms like lightgbm xgboost and catboost had demonstrated in many competitions to outperform other type of models  like neural networks and lineal models for task that aren't for images, text and not have thousands of parameters.\n",
    "\n",
    "The next hyperparameters will be optimze with optuna that uses TPE(Tree-structured Parzen Estimator),an efficient search methods using stochastic models, that for each trial will try to look for the best next space to look for. A nice thing about this package is the visualization of the space searched and the metric observations in each trial."
   ],
   "cell_type": "markdown",
   "metadata": {}
  },
  {
   "cell_type": "code",
   "execution_count": 24,
   "metadata": {},
   "outputs": [],
   "source": [
    "N_EST = 1000\n",
    "INT_PARAMS = ['n_estimators', 'max_leaves', 'max_depth', 'subsample_for_bin', 'min_data_in_leaf', 'subsample_freq'\n",
    "              , 'random_state', 'n_jobs', 'num_leaves']"
   ]
  },
  {
   "cell_type": "code",
   "execution_count": 43,
   "metadata": {},
   "outputs": [],
   "source": [
    "def objective_optimze(trial):\n",
    "\n",
    "    params = {'n_estimators': N_EST\n",
    "             , 'learning_rate': trial.suggest_uniform('learning_rate', 0.01, 0.2)\n",
    "             , 'num_leaves': trial.suggest_int('num_leaves', 7, 255)\n",
    "             , 'max_depth': -1\n",
    "             , 'subsample': trial.suggest_uniform('subsample', 0.75, 1)\n",
    "             , 'colsample_bytree': trial.suggest_uniform('colsample_bytree', 0.8, 1)\n",
    "             , 'min_child_weight': trial.suggest_uniform('min_child_weight', 1e-1, 200)\n",
    "             , 'reg_alpha': trial.suggest_loguniform('reg_alpha', 1e-3, 3.0)\n",
    "             , 'reg_lambda': trial.suggest_loguniform('reg_lambda', 1e-3, 3.0)\n",
    "             , 'min_split_gain': trial.suggest_loguniform('min_split_gain', 1e-2, 100) #aka gamma in xgboost\n",
    "             , 'max_delta_step': trial.suggest_uniform('max_delta_step', 0, 100)\n",
    "             , 'subsample_for_bin': trial.suggest_int('subsample_for_bin', 50*1000, 300*1000)\n",
    "             , 'subsample_freq': trial.suggest_int('subsample_freq', 1, 10)\n",
    "             , 'min_data_in_leaf': trial.suggest_int('min_data_in_leaf', 20, int(0.05 * X_train.shape[0]))\n",
    "              \n",
    "             , 'random_state': SEED\n",
    "             , 'n_jobs' : NJOBS\n",
    "            }\n",
    "    \n",
    "    start_time = datetime.datetime.now()\n",
    "\n",
    "    model = LGBMClassifier(**params)\n",
    "    model.fit(X_train, y_train, eval_metric=['binary_logloss'], verbose=False\n",
    "            , eval_set=[(X_test, y_test)], early_stopping_rounds=100)\n",
    "    \n",
    "    train_time = datetime.datetime.now() - start_time\n",
    "\n",
    "    pred_val = model.predict(X_test)\n",
    "    pred_train = model.predict(X_train)\n",
    "    \n",
    "    auc_test = roc_auc_score(y_test, pred_val)\n",
    "    auc_train = roc_auc_score(y_train, pred_train)\n",
    "    \n",
    "    with open(OPTIMIZE_FILE, 'a') as f:\n",
    "        writer = csv.writer(f)\n",
    "        writer.writerow([params, auc_test, auc_train, train_time])\n",
    "    \n",
    "    return auc_test"
   ]
  },
  {
   "cell_type": "code",
   "execution_count": 44,
   "metadata": {},
   "outputs": [],
   "source": [
    "with open(OPTIMIZE_FILE, 'w') as f:\n",
    "    writer = csv.writer(f)\n",
    "    writer.writerow(['params', 'auc_test', 'auc_train', 'train_time'])"
   ]
  },
  {
   "cell_type": "code",
   "execution_count": 45,
   "metadata": {
    "tags": [
     "outputPrepend"
    ]
   },
   "outputs": [
    {
     "output_type": "stream",
     "name": "stderr",
     "text": [
      "1\n",
      " 10%|█         | 3/30 [02:25<17:11, 38.21s/it]\u001b[32m[I 2021-04-11 13:19:08,470]\u001b[0m Trial 2 finished with value: 0.6672694326233609 and parameters: {'learning_rate': 0.16117324232087654, 'num_leaves': 204, 'subsample': 0.9952357818068703, 'colsample_bytree': 0.9947752492766004, 'min_child_weight': 54.3399751871382, 'reg_alpha': 0.0062782039970959635, 'reg_lambda': 1.7732299950201433, 'min_split_gain': 1.4984466969976866, 'max_delta_step': 77.73482510386255, 'subsample_for_bin': 104417, 'subsample_freq': 8, 'min_data_in_leaf': 8671}. Best is trial 0 with value: 0.6726508063773151.\u001b[0m\n",
      "[LightGBM] [Warning] min_data_in_leaf is set=1243, min_child_samples=20 will be ignored. Current value: min_data_in_leaf=1243\n",
      " 13%|█▎        | 4/30 [03:35<22:03, 50.90s/it]\u001b[32m[I 2021-04-11 13:20:18,834]\u001b[0m Trial 3 finished with value: 0.6721539636324532 and parameters: {'learning_rate': 0.1729066363414632, 'num_leaves': 106, 'subsample': 0.9808147590854422, 'colsample_bytree': 0.8277108557309096, 'min_child_weight': 108.91533228522493, 'reg_alpha': 0.007245183932500221, 'reg_lambda': 0.31521629196552026, 'min_split_gain': 0.017184271822404312, 'max_delta_step': 71.56102423347546, 'subsample_for_bin': 229866, 'subsample_freq': 8, 'min_data_in_leaf': 1243}. Best is trial 0 with value: 0.6726508063773151.\u001b[0m\n",
      "[LightGBM] [Warning] min_data_in_leaf is set=6996, min_child_samples=20 will be ignored. Current value: min_data_in_leaf=6996\n",
      " 17%|█▋        | 5/30 [03:40<14:23, 34.52s/it]\u001b[32m[I 2021-04-11 13:20:24,319]\u001b[0m Trial 4 finished with value: 0.6635490468339008 and parameters: {'learning_rate': 0.15511114348594138, 'num_leaves': 94, 'subsample': 0.7509124762184685, 'colsample_bytree': 0.8792370278966115, 'min_child_weight': 179.09284847668678, 'reg_alpha': 0.004542511231786753, 'reg_lambda': 0.1136810270339715, 'min_split_gain': 8.775376557800877, 'max_delta_step': 37.91347967369625, 'subsample_for_bin': 101028, 'subsample_freq': 8, 'min_data_in_leaf': 6996}. Best is trial 0 with value: 0.6726508063773151.\u001b[0m\n",
      "[LightGBM] [Warning] min_data_in_leaf is set=7076, min_child_samples=20 will be ignored. Current value: min_data_in_leaf=7076\n",
      " 20%|██        | 6/30 [04:11<13:19, 33.31s/it]\u001b[32m[I 2021-04-11 13:20:55,268]\u001b[0m Trial 5 finished with value: 0.6661621737264768 and parameters: {'learning_rate': 0.05260050802828296, 'num_leaves': 253, 'subsample': 0.9358286891043193, 'colsample_bytree': 0.9441656225548104, 'min_child_weight': 50.79505811766271, 'reg_alpha': 0.001471379035674783, 'reg_lambda': 0.03384206611133817, 'min_split_gain': 4.272152677079254, 'max_delta_step': 2.034670477822975, 'subsample_for_bin': 82320, 'subsample_freq': 1, 'min_data_in_leaf': 7076}. Best is trial 0 with value: 0.6726508063773151.\u001b[0m\n",
      "[LightGBM] [Warning] min_data_in_leaf is set=2056, min_child_samples=20 will be ignored. Current value: min_data_in_leaf=2056\n",
      " 23%|██▎       | 7/30 [07:25<32:49, 85.64s/it]\u001b[32m[I 2021-04-11 13:24:08,652]\u001b[0m Trial 6 finished with value: 0.6727406664457419 and parameters: {'learning_rate': 0.030978246918405637, 'num_leaves': 62, 'subsample': 0.9436105610792045, 'colsample_bytree': 0.834111257743558, 'min_child_weight': 86.67410567340096, 'reg_alpha': 0.0704606725040577, 'reg_lambda': 0.004144581895271704, 'min_split_gain': 0.1853412465584775, 'max_delta_step': 29.847475861645357, 'subsample_for_bin': 56678, 'subsample_freq': 4, 'min_data_in_leaf': 2056}. Best is trial 6 with value: 0.6727406664457419.\u001b[0m\n",
      "[LightGBM] [Warning] min_data_in_leaf is set=6757, min_child_samples=20 will be ignored. Current value: min_data_in_leaf=6757\n",
      " 27%|██▋       | 8/30 [07:31<22:07, 60.35s/it]\u001b[32m[I 2021-04-11 13:24:14,866]\u001b[0m Trial 7 finished with value: 0.663717505829147 and parameters: {'learning_rate': 0.09134254019160015, 'num_leaves': 80, 'subsample': 0.9036091816478141, 'colsample_bytree': 0.8634145400866962, 'min_child_weight': 38.51315922902112, 'reg_alpha': 2.0066428244936225, 'reg_lambda': 0.7337343080086499, 'min_split_gain': 25.66162214101806, 'max_delta_step': 83.66500215834128, 'subsample_for_bin': 283233, 'subsample_freq': 3, 'min_data_in_leaf': 6757}. Best is trial 6 with value: 0.6727406664457419.\u001b[0m\n",
      "[LightGBM] [Warning] min_data_in_leaf is set=3062, min_child_samples=20 will be ignored. Current value: min_data_in_leaf=3062\n",
      " 30%|███       | 9/30 [08:56<23:49, 68.06s/it]\u001b[32m[I 2021-04-11 13:25:39,887]\u001b[0m Trial 8 finished with value: 0.6726203710314272 and parameters: {'learning_rate': 0.07591480181256408, 'num_leaves': 233, 'subsample': 0.8886257973127527, 'colsample_bytree': 0.914529674157843, 'min_child_weight': 55.45785509857295, 'reg_alpha': 0.004016545137870447, 'reg_lambda': 0.3332614631275874, 'min_split_gain': 0.657126392562186, 'max_delta_step': 86.52158603569627, 'subsample_for_bin': 143321, 'subsample_freq': 7, 'min_data_in_leaf': 3062}. Best is trial 6 with value: 0.6727406664457419.\u001b[0m\n",
      "[LightGBM] [Warning] min_data_in_leaf is set=1866, min_child_samples=20 will be ignored. Current value: min_data_in_leaf=1866\n",
      " 33%|███▎      | 10/30 [09:46<20:49, 62.49s/it]\u001b[32m[I 2021-04-11 13:26:29,888]\u001b[0m Trial 9 finished with value: 0.6703555282588166 and parameters: {'learning_rate': 0.038062808206404286, 'num_leaves': 11, 'subsample': 0.7646587328928309, 'colsample_bytree': 0.9829855043661437, 'min_child_weight': 53.1555144320923, 'reg_alpha': 1.0695780059620381, 'reg_lambda': 0.005517055587000957, 'min_split_gain': 0.9083696913833949, 'max_delta_step': 68.4367706582675, 'subsample_for_bin': 223206, 'subsample_freq': 4, 'min_data_in_leaf': 1866}. Best is trial 6 with value: 0.6727406664457419.\u001b[0m\n",
      "[LightGBM] [Warning] min_data_in_leaf is set=12114, min_child_samples=20 will be ignored. Current value: min_data_in_leaf=12114\n",
      " 37%|███▋      | 11/30 [10:41<19:02, 60.14s/it]\u001b[32m[I 2021-04-11 13:27:24,707]\u001b[0m Trial 10 finished with value: 0.6682792504530379 and parameters: {'learning_rate': 0.12658000225915858, 'num_leaves': 169, 'subsample': 0.8269134245061154, 'colsample_bytree': 0.8028766163642793, 'min_child_weight': 117.05956549233503, 'reg_alpha': 0.09989335859697772, 'reg_lambda': 0.0014354740024891059, 'min_split_gain': 0.05361912604490298, 'max_delta_step': 3.1754707059645533, 'subsample_for_bin': 53172, 'subsample_freq': 1, 'min_data_in_leaf': 12114}. Best is trial 6 with value: 0.6727406664457419.\u001b[0m\n",
      "[LightGBM] [Warning] min_data_in_leaf is set=3826, min_child_samples=20 will be ignored. Current value: min_data_in_leaf=3826\n",
      " 40%|████      | 12/30 [11:27<16:44, 55.81s/it]\u001b[32m[I 2021-04-11 13:28:10,595]\u001b[0m Trial 11 finished with value: 0.666586469060988 and parameters: {'learning_rate': 0.012935912653921088, 'num_leaves': 8, 'subsample': 0.9418056947760453, 'colsample_bytree': 0.8274156467191791, 'min_child_weight': 166.36390541684983, 'reg_alpha': 0.24386996327058566, 'reg_lambda': 0.0011406477704645872, 'min_split_gain': 0.14035407268299516, 'max_delta_step': 20.15635616345398, 'subsample_for_bin': 292927, 'subsample_freq': 5, 'min_data_in_leaf': 3826}. Best is trial 6 with value: 0.6727406664457419.\u001b[0m\n",
      "[LightGBM] [Warning] min_data_in_leaf is set=288, min_child_samples=20 will be ignored. Current value: min_data_in_leaf=288\n",
      " 43%|████▎     | 13/30 [13:07<19:38, 69.34s/it]\u001b[32m[I 2021-04-11 13:29:51,067]\u001b[0m Trial 12 finished with value: 0.6749969193020929 and parameters: {'learning_rate': 0.0598818380781255, 'num_leaves': 51, 'subsample': 0.9476962184790506, 'colsample_bytree': 0.8047843153701006, 'min_child_weight': 142.19309706768772, 'reg_alpha': 0.03750945925616626, 'reg_lambda': 0.005425505991139322, 'min_split_gain': 0.19755645206408207, 'max_delta_step': 22.62093380922365, 'subsample_for_bin': 225302, 'subsample_freq': 3, 'min_data_in_leaf': 288}. Best is trial 12 with value: 0.6749969193020929.\u001b[0m\n",
      "[LightGBM] [Warning] min_data_in_leaf is set=44, min_child_samples=20 will be ignored. Current value: min_data_in_leaf=44\n",
      " 47%|████▋     | 14/30 [14:40<20:24, 76.51s/it]\u001b[32m[I 2021-04-11 13:31:24,161]\u001b[0m Trial 13 finished with value: 0.6739483589616786 and parameters: {'learning_rate': 0.07185979960441079, 'num_leaves': 139, 'subsample': 0.8450877288681449, 'colsample_bytree': 0.8014175371417926, 'min_child_weight': 138.8871060581854, 'reg_alpha': 0.023936154457463086, 'reg_lambda': 0.005229759987508383, 'min_split_gain': 0.13341489561368627, 'max_delta_step': 50.28051733046969, 'subsample_for_bin': 210629, 'subsample_freq': 3, 'min_data_in_leaf': 44}. Best is trial 12 with value: 0.6749969193020929.\u001b[0m\n",
      "[LightGBM] [Warning] min_data_in_leaf is set=62, min_child_samples=20 will be ignored. Current value: min_data_in_leaf=62\n",
      " 50%|█████     | 15/30 [16:23<21:05, 84.34s/it]\u001b[32m[I 2021-04-11 13:33:06,656]\u001b[0m Trial 14 finished with value: 0.672420656273754 and parameters: {'learning_rate': 0.07192156584159537, 'num_leaves': 146, 'subsample': 0.8389648255915837, 'colsample_bytree': 0.8003725818482246, 'min_child_weight': 143.94100113944117, 'reg_alpha': 0.02193259275521993, 'reg_lambda': 0.008002489225771315, 'min_split_gain': 0.01654290549800622, 'max_delta_step': 50.390686424917064, 'subsample_for_bin': 202896, 'subsample_freq': 2, 'min_data_in_leaf': 62}. Best is trial 12 with value: 0.6749969193020929.\u001b[0m\n",
      "[LightGBM] [Warning] min_data_in_leaf is set=4623, min_child_samples=20 will be ignored. Current value: min_data_in_leaf=4623\n",
      " 53%|█████▎    | 16/30 [17:47<19:39, 84.26s/it]\u001b[32m[I 2021-04-11 13:34:30,731]\u001b[0m Trial 15 finished with value: 0.6705229290241013 and parameters: {'learning_rate': 0.11806684551255217, 'num_leaves': 134, 'subsample': 0.8477733570302036, 'colsample_bytree': 0.8568215465123094, 'min_child_weight': 138.4979100863776, 'reg_alpha': 0.02319701028378198, 'reg_lambda': 0.033988755488910505, 'min_split_gain': 0.08189992143781995, 'max_delta_step': 51.504057070862906, 'subsample_for_bin': 187715, 'subsample_freq': 3, 'min_data_in_leaf': 4623}. Best is trial 12 with value: 0.6749969193020929.\u001b[0m\n",
      "[LightGBM] [Warning] min_data_in_leaf is set=596, min_child_samples=20 will be ignored. Current value: min_data_in_leaf=596\n",
      " 57%|█████▋    | 17/30 [19:40<20:08, 92.95s/it]\u001b[32m[I 2021-04-11 13:36:23,891]\u001b[0m Trial 16 finished with value: 0.6702025032751462 and parameters: {'learning_rate': 0.06777083372628025, 'num_leaves': 182, 'subsample': 0.7946396677171923, 'colsample_bytree': 0.8035029204572469, 'min_child_weight': 194.46829947867798, 'reg_alpha': 0.020929999018606888, 'reg_lambda': 0.002947456685029105, 'min_split_gain': 0.03606204983248934, 'max_delta_step': 13.813740536111375, 'subsample_for_bin': 249008, 'subsample_freq': 2, 'min_data_in_leaf': 596}. Best is trial 12 with value: 0.6749969193020929.\u001b[0m\n",
      "[LightGBM] [Warning] min_data_in_leaf is set=22, min_child_samples=20 will be ignored. Current value: min_data_in_leaf=22\n",
      " 60%|██████    | 18/30 [20:47<17:01, 85.10s/it]\u001b[32m[I 2021-04-11 13:37:30,710]\u001b[0m Trial 17 finished with value: 0.6727786442153235 and parameters: {'learning_rate': 0.09970594051330867, 'num_leaves': 118, 'subsample': 0.8654712984563137, 'colsample_bytree': 0.9340184900572428, 'min_child_weight': 135.09882652319482, 'reg_alpha': 0.1972587672855493, 'reg_lambda': 0.012996763667067097, 'min_split_gain': 0.24702072691273716, 'max_delta_step': 58.64721926173534, 'subsample_for_bin': 167130, 'subsample_freq': 6, 'min_data_in_leaf': 22}. Best is trial 12 with value: 0.6749969193020929.\u001b[0m\n",
      "[LightGBM] [Warning] min_data_in_leaf is set=13740, min_child_samples=20 will be ignored. Current value: min_data_in_leaf=13740\n",
      " 63%|██████▎   | 19/30 [21:50<14:23, 78.47s/it]\u001b[32m[I 2021-04-11 13:38:33,715]\u001b[0m Trial 18 finished with value: 0.6672820069086485 and parameters: {'learning_rate': 0.12346564107616181, 'num_leaves': 158, 'subsample': 0.9087469931345526, 'colsample_bytree': 0.8529773828628548, 'min_child_weight': 89.46744414951193, 'reg_alpha': 0.04111958141891971, 'reg_lambda': 0.0021093341067661853, 'min_split_gain': 0.30527429669033607, 'max_delta_step': 98.73048446097278, 'subsample_for_bin': 206111, 'subsample_freq': 3, 'min_data_in_leaf': 13740}. Best is trial 12 with value: 0.6749969193020929.\u001b[0m\n",
      "[LightGBM] [Warning] min_data_in_leaf is set=4550, min_child_samples=20 will be ignored. Current value: min_data_in_leaf=4550\n",
      " 67%|██████▋   | 20/30 [22:14<10:22, 62.22s/it]\u001b[32m[I 2021-04-11 13:38:58,066]\u001b[0m Trial 19 finished with value: 0.6676126184689535 and parameters: {'learning_rate': 0.05819648892360072, 'num_leaves': 190, 'subsample': 0.8036744731250506, 'colsample_bytree': 0.8052562873049107, 'min_child_weight': 159.75549664272543, 'reg_alpha': 0.013401201345379705, 'reg_lambda': 0.08335150290927033, 'min_split_gain': 2.836924485913217, 'max_delta_step': 41.338900891022774, 'subsample_for_bin': 267771, 'subsample_freq': 2, 'min_data_in_leaf': 4550}. Best is trial 12 with value: 0.6749969193020929.\u001b[0m\n",
      "[LightGBM] [Warning] min_data_in_leaf is set=11187, min_child_samples=20 will be ignored. Current value: min_data_in_leaf=11187\n",
      " 70%|███████   | 21/30 [23:25<09:42, 64.74s/it]\u001b[32m[I 2021-04-11 13:40:08,687]\u001b[0m Trial 20 finished with value: 0.6675924353471939 and parameters: {'learning_rate': 0.08656504098441303, 'num_leaves': 78, 'subsample': 0.8708931497353001, 'colsample_bytree': 0.8771369762501462, 'min_child_weight': 196.95845047822942, 'reg_alpha': 0.44141670926491444, 'reg_lambda': 0.01579363650857521, 'min_split_gain': 0.011738617618311105, 'max_delta_step': 11.38490051938153, 'subsample_for_bin': 235194, 'subsample_freq': 4, 'min_data_in_leaf': 11187}. Best is trial 12 with value: 0.6749969193020929.\u001b[0m\n",
      "[LightGBM] [Warning] min_data_in_leaf is set=902, min_child_samples=20 will be ignored. Current value: min_data_in_leaf=902\n",
      " 73%|███████▎  | 22/30 [24:44<09:12, 69.00s/it]\u001b[32m[I 2021-04-11 13:41:27,624]\u001b[0m Trial 21 finished with value: 0.6721122949826492 and parameters: {'learning_rate': 0.10702201192348673, 'num_leaves': 121, 'subsample': 0.8589415518879868, 'colsample_bytree': 0.9409342293631402, 'min_child_weight': 131.07503913285512, 'reg_alpha': 0.14836824929869952, 'reg_lambda': 0.01035137812209322, 'min_split_gain': 0.28788952947463153, 'max_delta_step': 59.00134202868464, 'subsample_for_bin': 169566, 'subsample_freq': 6, 'min_data_in_leaf': 902}. Best is trial 12 with value: 0.6749969193020929.\u001b[0m\n",
      "[LightGBM] [Warning] min_data_in_leaf is set=244, min_child_samples=20 will be ignored. Current value: min_data_in_leaf=244\n",
      " 77%|███████▋  | 23/30 [26:03<08:25, 72.18s/it]\u001b[32m[I 2021-04-11 13:42:47,207]\u001b[0m Trial 22 finished with value: 0.673029515105773 and parameters: {'learning_rate': 0.08565404350045072, 'num_leaves': 110, 'subsample': 0.8187748566504267, 'colsample_bytree': 0.948027061930576, 'min_child_weight': 146.70268861346625, 'reg_alpha': 0.046686583492515414, 'reg_lambda': 0.02179861099283977, 'min_split_gain': 0.0904245722693858, 'max_delta_step': 61.112788960447205, 'subsample_for_bin': 137418, 'subsample_freq': 6, 'min_data_in_leaf': 244}. Best is trial 12 with value: 0.6749969193020929.\u001b[0m\n",
      "[LightGBM] [Warning] min_data_in_leaf is set=330, min_child_samples=20 will be ignored. Current value: min_data_in_leaf=330\n",
      " 80%|████████  | 24/30 [27:36<07:49, 78.18s/it]\u001b[32m[I 2021-04-11 13:44:19,387]\u001b[0m Trial 23 finished with value: 0.6736517129642353 and parameters: {'learning_rate': 0.054340514211969074, 'num_leaves': 33, 'subsample': 0.8145918576200994, 'colsample_bytree': 0.9661299112267269, 'min_child_weight': 153.08108894809135, 'reg_alpha': 0.04099727508536889, 'reg_lambda': 0.031888126221586814, 'min_split_gain': 0.033397378069766594, 'max_delta_step': 61.091753860287525, 'subsample_for_bin': 133004, 'subsample_freq': 7, 'min_data_in_leaf': 330}. Best is trial 12 with value: 0.6749969193020929.\u001b[0m\n",
      "[LightGBM] [Warning] min_data_in_leaf is set=5632, min_child_samples=20 will be ignored. Current value: min_data_in_leaf=5632\n",
      " 83%|████████▎ | 25/30 [29:11<06:56, 83.34s/it]\u001b[32m[I 2021-04-11 13:45:54,784]\u001b[0m Trial 24 finished with value: 0.6699127013730192 and parameters: {'learning_rate': 0.049106039396737786, 'num_leaves': 30, 'subsample': 0.7830976510271819, 'colsample_bytree': 0.9686312437512796, 'min_child_weight': 119.88594448241902, 'reg_alpha': 0.010816731399482592, 'reg_lambda': 0.0054078541288144315, 'min_split_gain': 0.037224559863753004, 'max_delta_step': 43.439547320783184, 'subsample_for_bin': 194669, 'subsample_freq': 9, 'min_data_in_leaf': 5632}. Best is trial 12 with value: 0.6749969193020929.\u001b[0m\n",
      "[LightGBM] [Warning] min_data_in_leaf is set=1717, min_child_samples=20 will be ignored. Current value: min_data_in_leaf=1717\n",
      " 87%|████████▋ | 26/30 [30:54<05:57, 89.27s/it]\u001b[32m[I 2021-04-11 13:47:37,889]\u001b[0m Trial 25 finished with value: 0.673788622708249 and parameters: {'learning_rate': 0.06120698682882823, 'num_leaves': 33, 'subsample': 0.8180026447184401, 'colsample_bytree': 0.9699638806598783, 'min_child_weight': 181.60007249023244, 'reg_alpha': 0.04073014129283072, 'reg_lambda': 0.0556804720456976, 'min_split_gain': 0.024226959986744706, 'max_delta_step': 45.88648931750575, 'subsample_for_bin': 116921, 'subsample_freq': 7, 'min_data_in_leaf': 1717}. Best is trial 12 with value: 0.6749969193020929.\u001b[0m\n",
      "[LightGBM] [Warning] min_data_in_leaf is set=1806, min_child_samples=20 will be ignored. Current value: min_data_in_leaf=1806\n",
      " 90%|█████████ | 27/30 [34:05<05:59, 119.82s/it]\u001b[32m[I 2021-04-11 13:50:48,983]\u001b[0m Trial 26 finished with value: 0.672551741577326 and parameters: {'learning_rate': 0.025511966303450463, 'num_leaves': 66, 'subsample': 0.8883092887970006, 'colsample_bytree': 0.9200074217820391, 'min_child_weight': 97.77595482865455, 'reg_alpha': 0.0808127568716763, 'reg_lambda': 0.07695235856133899, 'min_split_gain': 0.010075753556940284, 'max_delta_step': 21.195338170295308, 'subsample_for_bin': 214594, 'subsample_freq': 5, 'min_data_in_leaf': 1806}. Best is trial 12 with value: 0.6749969193020929.\u001b[0m\n",
      "[LightGBM] [Warning] min_data_in_leaf is set=3331, min_child_samples=20 will be ignored. Current value: min_data_in_leaf=3331\n",
      " 93%|█████████▎| 28/30 [34:42<03:10, 95.04s/it] \u001b[32m[I 2021-04-11 13:51:26,217]\u001b[0m Trial 27 finished with value: 0.6693425850517375 and parameters: {'learning_rate': 0.0663244401161151, 'num_leaves': 7, 'subsample': 0.8428858794702405, 'colsample_bytree': 0.8170994977716228, 'min_child_weight': 182.51877045836744, 'reg_alpha': 0.002428977896051417, 'reg_lambda': 0.13100210034703844, 'min_split_gain': 0.09541678784822685, 'max_delta_step': 46.51177715370544, 'subsample_for_bin': 104966, 'subsample_freq': 7, 'min_data_in_leaf': 3331}. Best is trial 12 with value: 0.6749969193020929.\u001b[0m\n",
      "[LightGBM] [Warning] min_data_in_leaf is set=2331, min_child_samples=20 will be ignored. Current value: min_data_in_leaf=2331\n",
      " 97%|█████████▋| 29/30 [35:47<01:25, 85.83s/it]\u001b[32m[I 2021-04-11 13:52:30,549]\u001b[0m Trial 28 finished with value: 0.6726966093220004 and parameters: {'learning_rate': 0.19991089953572772, 'num_leaves': 48, 'subsample': 0.9110035069755513, 'colsample_bytree': 0.9995737677301297, 'min_child_weight': 178.4614992755893, 'reg_alpha': 0.029063789451793665, 'reg_lambda': 0.23181721320876614, 'min_split_gain': 0.34976385440657265, 'max_delta_step': 34.12191473888184, 'subsample_for_bin': 180752, 'subsample_freq': 4, 'min_data_in_leaf': 2331}. Best is trial 12 with value: 0.6749969193020929.\u001b[0m\n",
      "[LightGBM] [Warning] min_data_in_leaf is set=1417, min_child_samples=20 will be ignored. Current value: min_data_in_leaf=1417\n",
      "100%|██████████| 30/30 [36:59<00:00, 73.97s/it]\u001b[32m[I 2021-04-11 13:53:42,542]\u001b[0m Trial 29 finished with value: 0.6727391091257386 and parameters: {'learning_rate': 0.04137736015116169, 'num_leaves': 22, 'subsample': 0.7871179516137407, 'colsample_bytree': 0.8472983935666811, 'min_child_weight': 164.07160638855007, 'reg_alpha': 0.3455928989452666, 'reg_lambda': 0.049137563842589736, 'min_split_gain': 0.5713065288635801, 'max_delta_step': 25.93347857681782, 'subsample_for_bin': 247419, 'subsample_freq': 5, 'min_data_in_leaf': 1417}. Best is trial 12 with value: 0.6749969193020929.\u001b[0m\n",
      "\n"
     ]
    }
   ],
   "source": [
    "study = optuna.create_study(direction='maximize')\n",
    "study.optimize(objective_optimze, n_trials=30, show_progress_bar=True, n_jobs=1)"
   ]
  },
  {
   "cell_type": "code",
   "execution_count": 47,
   "metadata": {},
   "outputs": [
    {
     "output_type": "stream",
     "name": "stdout",
     "text": [
      "Best parameters:\n\n{'learning_rate': 0.0598818380781255, 'num_leaves': 51, 'subsample': 0.9476962184790506, 'colsample_bytree': 0.8047843153701006, 'min_child_weight': 142.19309706768772, 'reg_alpha': 0.03750945925616626, 'reg_lambda': 0.005425505991139322, 'min_split_gain': 0.19755645206408207, 'max_delta_step': 22.62093380922365, 'subsample_for_bin': 225302, 'subsample_freq': 3, 'min_data_in_leaf': 288}\nBest auc:\n\n0.6749969193020929\n"
     ]
    }
   ],
   "source": [
    "print('Best parameters:\\n')\n",
    "print(study.best_params)\n",
    "print('Best auc:\\n')\n",
    "print(study.best_value)"
   ]
  },
  {
   "cell_type": "code",
   "execution_count": 55,
   "metadata": {},
   "outputs": [],
   "source": [
    "## Vizualization of the hyperparameter space"
   ]
  },
  {
   "cell_type": "code",
   "execution_count": 48,
   "metadata": {},
   "outputs": [
    {
     "output_type": "display_data",
     "data": {
      "application/vnd.plotly.v1+json": {
       "config": {
        "plotlyServerURL": "https://plot.ly"
       },
       "data": [
        {
         "mode": "markers",
         "name": "Objective Value",
         "type": "scatter",
         "x": [
          0,
          1,
          2,
          3,
          4,
          5,
          6,
          7,
          8,
          9,
          10,
          11,
          12,
          13,
          14,
          15,
          16,
          17,
          18,
          19,
          20,
          21,
          22,
          23,
          24,
          25,
          26,
          27,
          28,
          29
         ],
         "y": [
          0.6726508063773151,
          0.6639764289707273,
          0.6672694326233609,
          0.6721539636324532,
          0.6635490468339008,
          0.6661621737264768,
          0.6727406664457419,
          0.663717505829147,
          0.6726203710314272,
          0.6703555282588166,
          0.6682792504530379,
          0.666586469060988,
          0.6749969193020929,
          0.6739483589616786,
          0.672420656273754,
          0.6705229290241013,
          0.6702025032751462,
          0.6727786442153235,
          0.6672820069086485,
          0.6676126184689535,
          0.6675924353471939,
          0.6721122949826492,
          0.673029515105773,
          0.6736517129642353,
          0.6699127013730192,
          0.673788622708249,
          0.672551741577326,
          0.6693425850517375,
          0.6726966093220004,
          0.6727391091257386
         ]
        },
        {
         "name": "Best Value",
         "type": "scatter",
         "x": [
          0,
          1,
          2,
          3,
          4,
          5,
          6,
          7,
          8,
          9,
          10,
          11,
          12,
          13,
          14,
          15,
          16,
          17,
          18,
          19,
          20,
          21,
          22,
          23,
          24,
          25,
          26,
          27,
          28,
          29
         ],
         "y": [
          0.6726508063773151,
          0.6726508063773151,
          0.6726508063773151,
          0.6726508063773151,
          0.6726508063773151,
          0.6726508063773151,
          0.6727406664457419,
          0.6727406664457419,
          0.6727406664457419,
          0.6727406664457419,
          0.6727406664457419,
          0.6727406664457419,
          0.6749969193020929,
          0.6749969193020929,
          0.6749969193020929,
          0.6749969193020929,
          0.6749969193020929,
          0.6749969193020929,
          0.6749969193020929,
          0.6749969193020929,
          0.6749969193020929,
          0.6749969193020929,
          0.6749969193020929,
          0.6749969193020929,
          0.6749969193020929,
          0.6749969193020929,
          0.6749969193020929,
          0.6749969193020929,
          0.6749969193020929,
          0.6749969193020929
         ]
        }
       ],
       "layout": {
        "template": {
         "data": {
          "bar": [
           {
            "error_x": {
             "color": "#2a3f5f"
            },
            "error_y": {
             "color": "#2a3f5f"
            },
            "marker": {
             "line": {
              "color": "#E5ECF6",
              "width": 0.5
             }
            },
            "type": "bar"
           }
          ],
          "barpolar": [
           {
            "marker": {
             "line": {
              "color": "#E5ECF6",
              "width": 0.5
             }
            },
            "type": "barpolar"
           }
          ],
          "carpet": [
           {
            "aaxis": {
             "endlinecolor": "#2a3f5f",
             "gridcolor": "white",
             "linecolor": "white",
             "minorgridcolor": "white",
             "startlinecolor": "#2a3f5f"
            },
            "baxis": {
             "endlinecolor": "#2a3f5f",
             "gridcolor": "white",
             "linecolor": "white",
             "minorgridcolor": "white",
             "startlinecolor": "#2a3f5f"
            },
            "type": "carpet"
           }
          ],
          "choropleth": [
           {
            "colorbar": {
             "outlinewidth": 0,
             "ticks": ""
            },
            "type": "choropleth"
           }
          ],
          "contour": [
           {
            "colorbar": {
             "outlinewidth": 0,
             "ticks": ""
            },
            "colorscale": [
             [
              0,
              "#0d0887"
             ],
             [
              0.1111111111111111,
              "#46039f"
             ],
             [
              0.2222222222222222,
              "#7201a8"
             ],
             [
              0.3333333333333333,
              "#9c179e"
             ],
             [
              0.4444444444444444,
              "#bd3786"
             ],
             [
              0.5555555555555556,
              "#d8576b"
             ],
             [
              0.6666666666666666,
              "#ed7953"
             ],
             [
              0.7777777777777778,
              "#fb9f3a"
             ],
             [
              0.8888888888888888,
              "#fdca26"
             ],
             [
              1,
              "#f0f921"
             ]
            ],
            "type": "contour"
           }
          ],
          "contourcarpet": [
           {
            "colorbar": {
             "outlinewidth": 0,
             "ticks": ""
            },
            "type": "contourcarpet"
           }
          ],
          "heatmap": [
           {
            "colorbar": {
             "outlinewidth": 0,
             "ticks": ""
            },
            "colorscale": [
             [
              0,
              "#0d0887"
             ],
             [
              0.1111111111111111,
              "#46039f"
             ],
             [
              0.2222222222222222,
              "#7201a8"
             ],
             [
              0.3333333333333333,
              "#9c179e"
             ],
             [
              0.4444444444444444,
              "#bd3786"
             ],
             [
              0.5555555555555556,
              "#d8576b"
             ],
             [
              0.6666666666666666,
              "#ed7953"
             ],
             [
              0.7777777777777778,
              "#fb9f3a"
             ],
             [
              0.8888888888888888,
              "#fdca26"
             ],
             [
              1,
              "#f0f921"
             ]
            ],
            "type": "heatmap"
           }
          ],
          "heatmapgl": [
           {
            "colorbar": {
             "outlinewidth": 0,
             "ticks": ""
            },
            "colorscale": [
             [
              0,
              "#0d0887"
             ],
             [
              0.1111111111111111,
              "#46039f"
             ],
             [
              0.2222222222222222,
              "#7201a8"
             ],
             [
              0.3333333333333333,
              "#9c179e"
             ],
             [
              0.4444444444444444,
              "#bd3786"
             ],
             [
              0.5555555555555556,
              "#d8576b"
             ],
             [
              0.6666666666666666,
              "#ed7953"
             ],
             [
              0.7777777777777778,
              "#fb9f3a"
             ],
             [
              0.8888888888888888,
              "#fdca26"
             ],
             [
              1,
              "#f0f921"
             ]
            ],
            "type": "heatmapgl"
           }
          ],
          "histogram": [
           {
            "marker": {
             "colorbar": {
              "outlinewidth": 0,
              "ticks": ""
             }
            },
            "type": "histogram"
           }
          ],
          "histogram2d": [
           {
            "colorbar": {
             "outlinewidth": 0,
             "ticks": ""
            },
            "colorscale": [
             [
              0,
              "#0d0887"
             ],
             [
              0.1111111111111111,
              "#46039f"
             ],
             [
              0.2222222222222222,
              "#7201a8"
             ],
             [
              0.3333333333333333,
              "#9c179e"
             ],
             [
              0.4444444444444444,
              "#bd3786"
             ],
             [
              0.5555555555555556,
              "#d8576b"
             ],
             [
              0.6666666666666666,
              "#ed7953"
             ],
             [
              0.7777777777777778,
              "#fb9f3a"
             ],
             [
              0.8888888888888888,
              "#fdca26"
             ],
             [
              1,
              "#f0f921"
             ]
            ],
            "type": "histogram2d"
           }
          ],
          "histogram2dcontour": [
           {
            "colorbar": {
             "outlinewidth": 0,
             "ticks": ""
            },
            "colorscale": [
             [
              0,
              "#0d0887"
             ],
             [
              0.1111111111111111,
              "#46039f"
             ],
             [
              0.2222222222222222,
              "#7201a8"
             ],
             [
              0.3333333333333333,
              "#9c179e"
             ],
             [
              0.4444444444444444,
              "#bd3786"
             ],
             [
              0.5555555555555556,
              "#d8576b"
             ],
             [
              0.6666666666666666,
              "#ed7953"
             ],
             [
              0.7777777777777778,
              "#fb9f3a"
             ],
             [
              0.8888888888888888,
              "#fdca26"
             ],
             [
              1,
              "#f0f921"
             ]
            ],
            "type": "histogram2dcontour"
           }
          ],
          "mesh3d": [
           {
            "colorbar": {
             "outlinewidth": 0,
             "ticks": ""
            },
            "type": "mesh3d"
           }
          ],
          "parcoords": [
           {
            "line": {
             "colorbar": {
              "outlinewidth": 0,
              "ticks": ""
             }
            },
            "type": "parcoords"
           }
          ],
          "pie": [
           {
            "automargin": true,
            "type": "pie"
           }
          ],
          "scatter": [
           {
            "marker": {
             "colorbar": {
              "outlinewidth": 0,
              "ticks": ""
             }
            },
            "type": "scatter"
           }
          ],
          "scatter3d": [
           {
            "line": {
             "colorbar": {
              "outlinewidth": 0,
              "ticks": ""
             }
            },
            "marker": {
             "colorbar": {
              "outlinewidth": 0,
              "ticks": ""
             }
            },
            "type": "scatter3d"
           }
          ],
          "scattercarpet": [
           {
            "marker": {
             "colorbar": {
              "outlinewidth": 0,
              "ticks": ""
             }
            },
            "type": "scattercarpet"
           }
          ],
          "scattergeo": [
           {
            "marker": {
             "colorbar": {
              "outlinewidth": 0,
              "ticks": ""
             }
            },
            "type": "scattergeo"
           }
          ],
          "scattergl": [
           {
            "marker": {
             "colorbar": {
              "outlinewidth": 0,
              "ticks": ""
             }
            },
            "type": "scattergl"
           }
          ],
          "scattermapbox": [
           {
            "marker": {
             "colorbar": {
              "outlinewidth": 0,
              "ticks": ""
             }
            },
            "type": "scattermapbox"
           }
          ],
          "scatterpolar": [
           {
            "marker": {
             "colorbar": {
              "outlinewidth": 0,
              "ticks": ""
             }
            },
            "type": "scatterpolar"
           }
          ],
          "scatterpolargl": [
           {
            "marker": {
             "colorbar": {
              "outlinewidth": 0,
              "ticks": ""
             }
            },
            "type": "scatterpolargl"
           }
          ],
          "scatterternary": [
           {
            "marker": {
             "colorbar": {
              "outlinewidth": 0,
              "ticks": ""
             }
            },
            "type": "scatterternary"
           }
          ],
          "surface": [
           {
            "colorbar": {
             "outlinewidth": 0,
             "ticks": ""
            },
            "colorscale": [
             [
              0,
              "#0d0887"
             ],
             [
              0.1111111111111111,
              "#46039f"
             ],
             [
              0.2222222222222222,
              "#7201a8"
             ],
             [
              0.3333333333333333,
              "#9c179e"
             ],
             [
              0.4444444444444444,
              "#bd3786"
             ],
             [
              0.5555555555555556,
              "#d8576b"
             ],
             [
              0.6666666666666666,
              "#ed7953"
             ],
             [
              0.7777777777777778,
              "#fb9f3a"
             ],
             [
              0.8888888888888888,
              "#fdca26"
             ],
             [
              1,
              "#f0f921"
             ]
            ],
            "type": "surface"
           }
          ],
          "table": [
           {
            "cells": {
             "fill": {
              "color": "#EBF0F8"
             },
             "line": {
              "color": "white"
             }
            },
            "header": {
             "fill": {
              "color": "#C8D4E3"
             },
             "line": {
              "color": "white"
             }
            },
            "type": "table"
           }
          ]
         },
         "layout": {
          "annotationdefaults": {
           "arrowcolor": "#2a3f5f",
           "arrowhead": 0,
           "arrowwidth": 1
          },
          "autotypenumbers": "strict",
          "coloraxis": {
           "colorbar": {
            "outlinewidth": 0,
            "ticks": ""
           }
          },
          "colorscale": {
           "diverging": [
            [
             0,
             "#8e0152"
            ],
            [
             0.1,
             "#c51b7d"
            ],
            [
             0.2,
             "#de77ae"
            ],
            [
             0.3,
             "#f1b6da"
            ],
            [
             0.4,
             "#fde0ef"
            ],
            [
             0.5,
             "#f7f7f7"
            ],
            [
             0.6,
             "#e6f5d0"
            ],
            [
             0.7,
             "#b8e186"
            ],
            [
             0.8,
             "#7fbc41"
            ],
            [
             0.9,
             "#4d9221"
            ],
            [
             1,
             "#276419"
            ]
           ],
           "sequential": [
            [
             0,
             "#0d0887"
            ],
            [
             0.1111111111111111,
             "#46039f"
            ],
            [
             0.2222222222222222,
             "#7201a8"
            ],
            [
             0.3333333333333333,
             "#9c179e"
            ],
            [
             0.4444444444444444,
             "#bd3786"
            ],
            [
             0.5555555555555556,
             "#d8576b"
            ],
            [
             0.6666666666666666,
             "#ed7953"
            ],
            [
             0.7777777777777778,
             "#fb9f3a"
            ],
            [
             0.8888888888888888,
             "#fdca26"
            ],
            [
             1,
             "#f0f921"
            ]
           ],
           "sequentialminus": [
            [
             0,
             "#0d0887"
            ],
            [
             0.1111111111111111,
             "#46039f"
            ],
            [
             0.2222222222222222,
             "#7201a8"
            ],
            [
             0.3333333333333333,
             "#9c179e"
            ],
            [
             0.4444444444444444,
             "#bd3786"
            ],
            [
             0.5555555555555556,
             "#d8576b"
            ],
            [
             0.6666666666666666,
             "#ed7953"
            ],
            [
             0.7777777777777778,
             "#fb9f3a"
            ],
            [
             0.8888888888888888,
             "#fdca26"
            ],
            [
             1,
             "#f0f921"
            ]
           ]
          },
          "colorway": [
           "#636efa",
           "#EF553B",
           "#00cc96",
           "#ab63fa",
           "#FFA15A",
           "#19d3f3",
           "#FF6692",
           "#B6E880",
           "#FF97FF",
           "#FECB52"
          ],
          "font": {
           "color": "#2a3f5f"
          },
          "geo": {
           "bgcolor": "white",
           "lakecolor": "white",
           "landcolor": "#E5ECF6",
           "showlakes": true,
           "showland": true,
           "subunitcolor": "white"
          },
          "hoverlabel": {
           "align": "left"
          },
          "hovermode": "closest",
          "mapbox": {
           "style": "light"
          },
          "paper_bgcolor": "white",
          "plot_bgcolor": "#E5ECF6",
          "polar": {
           "angularaxis": {
            "gridcolor": "white",
            "linecolor": "white",
            "ticks": ""
           },
           "bgcolor": "#E5ECF6",
           "radialaxis": {
            "gridcolor": "white",
            "linecolor": "white",
            "ticks": ""
           }
          },
          "scene": {
           "xaxis": {
            "backgroundcolor": "#E5ECF6",
            "gridcolor": "white",
            "gridwidth": 2,
            "linecolor": "white",
            "showbackground": true,
            "ticks": "",
            "zerolinecolor": "white"
           },
           "yaxis": {
            "backgroundcolor": "#E5ECF6",
            "gridcolor": "white",
            "gridwidth": 2,
            "linecolor": "white",
            "showbackground": true,
            "ticks": "",
            "zerolinecolor": "white"
           },
           "zaxis": {
            "backgroundcolor": "#E5ECF6",
            "gridcolor": "white",
            "gridwidth": 2,
            "linecolor": "white",
            "showbackground": true,
            "ticks": "",
            "zerolinecolor": "white"
           }
          },
          "shapedefaults": {
           "line": {
            "color": "#2a3f5f"
           }
          },
          "ternary": {
           "aaxis": {
            "gridcolor": "white",
            "linecolor": "white",
            "ticks": ""
           },
           "baxis": {
            "gridcolor": "white",
            "linecolor": "white",
            "ticks": ""
           },
           "bgcolor": "#E5ECF6",
           "caxis": {
            "gridcolor": "white",
            "linecolor": "white",
            "ticks": ""
           }
          },
          "title": {
           "x": 0.05
          },
          "xaxis": {
           "automargin": true,
           "gridcolor": "white",
           "linecolor": "white",
           "ticks": "",
           "title": {
            "standoff": 15
           },
           "zerolinecolor": "white",
           "zerolinewidth": 2
          },
          "yaxis": {
           "automargin": true,
           "gridcolor": "white",
           "linecolor": "white",
           "ticks": "",
           "title": {
            "standoff": 15
           },
           "zerolinecolor": "white",
           "zerolinewidth": 2
          }
         }
        },
        "title": {
         "text": "Optimization History Plot"
        },
        "xaxis": {
         "title": {
          "text": "#Trials"
         }
        },
        "yaxis": {
         "title": {
          "text": "Objective Value"
         }
        }
       }
      }
     },
     "metadata": {}
    }
   ],
   "source": [
    "optuna.visualization.plot_optimization_history(study)"
   ]
  },
  {
   "cell_type": "code",
   "execution_count": 49,
   "metadata": {},
   "outputs": [
    {
     "output_type": "display_data",
     "data": {
      "application/vnd.plotly.v1+json": {
       "config": {
        "plotlyServerURL": "https://plot.ly"
       },
       "data": [
        {
         "marker": {
          "color": [
           0,
           1,
           2,
           3,
           4,
           5,
           6,
           7,
           8,
           9,
           10,
           11,
           12,
           13,
           14,
           15,
           16,
           17,
           18,
           19,
           20,
           21,
           22,
           23,
           24,
           25,
           26,
           27,
           28,
           29
          ],
          "colorbar": {
           "title": {
            "text": "#Trials"
           },
           "x": 1,
           "xpad": 40
          },
          "colorscale": [
           [
            0,
            "rgb(247,251,255)"
           ],
           [
            0.125,
            "rgb(222,235,247)"
           ],
           [
            0.25,
            "rgb(198,219,239)"
           ],
           [
            0.375,
            "rgb(158,202,225)"
           ],
           [
            0.5,
            "rgb(107,174,214)"
           ],
           [
            0.625,
            "rgb(66,146,198)"
           ],
           [
            0.75,
            "rgb(33,113,181)"
           ],
           [
            0.875,
            "rgb(8,81,156)"
           ],
           [
            1,
            "rgb(8,48,107)"
           ]
          ],
          "line": {
           "color": "Grey",
           "width": 0.5
          },
          "showscale": true
         },
         "mode": "markers",
         "showlegend": false,
         "type": "scatter",
         "x": [
          0.8274329261036947,
          0.902682342004604,
          0.9947752492766004,
          0.8277108557309096,
          0.8792370278966115,
          0.9441656225548104,
          0.834111257743558,
          0.8634145400866962,
          0.914529674157843,
          0.9829855043661437,
          0.8028766163642793,
          0.8274156467191791,
          0.8047843153701006,
          0.8014175371417926,
          0.8003725818482246,
          0.8568215465123094,
          0.8035029204572469,
          0.9340184900572428,
          0.8529773828628548,
          0.8052562873049107,
          0.8771369762501462,
          0.9409342293631402,
          0.948027061930576,
          0.9661299112267269,
          0.9686312437512796,
          0.9699638806598783,
          0.9200074217820391,
          0.8170994977716228,
          0.9995737677301297,
          0.8472983935666811
         ],
         "xaxis": "x",
         "y": [
          0.6726508063773151,
          0.6639764289707273,
          0.6672694326233609,
          0.6721539636324532,
          0.6635490468339008,
          0.6661621737264768,
          0.6727406664457419,
          0.663717505829147,
          0.6726203710314272,
          0.6703555282588166,
          0.6682792504530379,
          0.666586469060988,
          0.6749969193020929,
          0.6739483589616786,
          0.672420656273754,
          0.6705229290241013,
          0.6702025032751462,
          0.6727786442153235,
          0.6672820069086485,
          0.6676126184689535,
          0.6675924353471939,
          0.6721122949826492,
          0.673029515105773,
          0.6736517129642353,
          0.6699127013730192,
          0.673788622708249,
          0.672551741577326,
          0.6693425850517375,
          0.6726966093220004,
          0.6727391091257386
         ],
         "yaxis": "y"
        },
        {
         "marker": {
          "color": [
           0,
           1,
           2,
           3,
           4,
           5,
           6,
           7,
           8,
           9,
           10,
           11,
           12,
           13,
           14,
           15,
           16,
           17,
           18,
           19,
           20,
           21,
           22,
           23,
           24,
           25,
           26,
           27,
           28,
           29
          ],
          "colorbar": {
           "title": {
            "text": "#Trials"
           },
           "x": 1,
           "xpad": 40
          },
          "colorscale": [
           [
            0,
            "rgb(247,251,255)"
           ],
           [
            0.125,
            "rgb(222,235,247)"
           ],
           [
            0.25,
            "rgb(198,219,239)"
           ],
           [
            0.375,
            "rgb(158,202,225)"
           ],
           [
            0.5,
            "rgb(107,174,214)"
           ],
           [
            0.625,
            "rgb(66,146,198)"
           ],
           [
            0.75,
            "rgb(33,113,181)"
           ],
           [
            0.875,
            "rgb(8,81,156)"
           ],
           [
            1,
            "rgb(8,48,107)"
           ]
          ],
          "line": {
           "color": "Grey",
           "width": 0.5
          },
          "showscale": false
         },
         "mode": "markers",
         "showlegend": false,
         "type": "scatter",
         "x": [
          0.041248669815100704,
          0.020533259646475163,
          0.16117324232087654,
          0.1729066363414632,
          0.15511114348594138,
          0.05260050802828296,
          0.030978246918405637,
          0.09134254019160015,
          0.07591480181256408,
          0.038062808206404286,
          0.12658000225915858,
          0.012935912653921088,
          0.0598818380781255,
          0.07185979960441079,
          0.07192156584159537,
          0.11806684551255217,
          0.06777083372628025,
          0.09970594051330867,
          0.12346564107616181,
          0.05819648892360072,
          0.08656504098441303,
          0.10702201192348673,
          0.08565404350045072,
          0.054340514211969074,
          0.049106039396737786,
          0.06120698682882823,
          0.025511966303450463,
          0.0663244401161151,
          0.19991089953572772,
          0.04137736015116169
         ],
         "xaxis": "x2",
         "y": [
          0.6726508063773151,
          0.6639764289707273,
          0.6672694326233609,
          0.6721539636324532,
          0.6635490468339008,
          0.6661621737264768,
          0.6727406664457419,
          0.663717505829147,
          0.6726203710314272,
          0.6703555282588166,
          0.6682792504530379,
          0.666586469060988,
          0.6749969193020929,
          0.6739483589616786,
          0.672420656273754,
          0.6705229290241013,
          0.6702025032751462,
          0.6727786442153235,
          0.6672820069086485,
          0.6676126184689535,
          0.6675924353471939,
          0.6721122949826492,
          0.673029515105773,
          0.6736517129642353,
          0.6699127013730192,
          0.673788622708249,
          0.672551741577326,
          0.6693425850517375,
          0.6726966093220004,
          0.6727391091257386
         ],
         "yaxis": "y2"
        },
        {
         "marker": {
          "color": [
           0,
           1,
           2,
           3,
           4,
           5,
           6,
           7,
           8,
           9,
           10,
           11,
           12,
           13,
           14,
           15,
           16,
           17,
           18,
           19,
           20,
           21,
           22,
           23,
           24,
           25,
           26,
           27,
           28,
           29
          ],
          "colorbar": {
           "title": {
            "text": "#Trials"
           },
           "x": 1,
           "xpad": 40
          },
          "colorscale": [
           [
            0,
            "rgb(247,251,255)"
           ],
           [
            0.125,
            "rgb(222,235,247)"
           ],
           [
            0.25,
            "rgb(198,219,239)"
           ],
           [
            0.375,
            "rgb(158,202,225)"
           ],
           [
            0.5,
            "rgb(107,174,214)"
           ],
           [
            0.625,
            "rgb(66,146,198)"
           ],
           [
            0.75,
            "rgb(33,113,181)"
           ],
           [
            0.875,
            "rgb(8,81,156)"
           ],
           [
            1,
            "rgb(8,48,107)"
           ]
          ],
          "line": {
           "color": "Grey",
           "width": 0.5
          },
          "showscale": false
         },
         "mode": "markers",
         "showlegend": false,
         "type": "scatter",
         "x": [
          26.275882093277716,
          34.32704878488815,
          77.73482510386255,
          71.56102423347546,
          37.91347967369625,
          2.034670477822975,
          29.847475861645357,
          83.66500215834128,
          86.52158603569627,
          68.4367706582675,
          3.1754707059645533,
          20.15635616345398,
          22.62093380922365,
          50.28051733046969,
          50.390686424917064,
          51.504057070862906,
          13.813740536111375,
          58.64721926173534,
          98.73048446097278,
          41.338900891022774,
          11.38490051938153,
          59.00134202868464,
          61.112788960447205,
          61.091753860287525,
          43.439547320783184,
          45.88648931750575,
          21.195338170295308,
          46.51177715370544,
          34.12191473888184,
          25.93347857681782
         ],
         "xaxis": "x3",
         "y": [
          0.6726508063773151,
          0.6639764289707273,
          0.6672694326233609,
          0.6721539636324532,
          0.6635490468339008,
          0.6661621737264768,
          0.6727406664457419,
          0.663717505829147,
          0.6726203710314272,
          0.6703555282588166,
          0.6682792504530379,
          0.666586469060988,
          0.6749969193020929,
          0.6739483589616786,
          0.672420656273754,
          0.6705229290241013,
          0.6702025032751462,
          0.6727786442153235,
          0.6672820069086485,
          0.6676126184689535,
          0.6675924353471939,
          0.6721122949826492,
          0.673029515105773,
          0.6736517129642353,
          0.6699127013730192,
          0.673788622708249,
          0.672551741577326,
          0.6693425850517375,
          0.6726966093220004,
          0.6727391091257386
         ],
         "yaxis": "y3"
        },
        {
         "marker": {
          "color": [
           0,
           1,
           2,
           3,
           4,
           5,
           6,
           7,
           8,
           9,
           10,
           11,
           12,
           13,
           14,
           15,
           16,
           17,
           18,
           19,
           20,
           21,
           22,
           23,
           24,
           25,
           26,
           27,
           28,
           29
          ],
          "colorbar": {
           "title": {
            "text": "#Trials"
           },
           "x": 1,
           "xpad": 40
          },
          "colorscale": [
           [
            0,
            "rgb(247,251,255)"
           ],
           [
            0.125,
            "rgb(222,235,247)"
           ],
           [
            0.25,
            "rgb(198,219,239)"
           ],
           [
            0.375,
            "rgb(158,202,225)"
           ],
           [
            0.5,
            "rgb(107,174,214)"
           ],
           [
            0.625,
            "rgb(66,146,198)"
           ],
           [
            0.75,
            "rgb(33,113,181)"
           ],
           [
            0.875,
            "rgb(8,81,156)"
           ],
           [
            1,
            "rgb(8,48,107)"
           ]
          ],
          "line": {
           "color": "Grey",
           "width": 0.5
          },
          "showscale": false
         },
         "mode": "markers",
         "showlegend": false,
         "type": "scatter",
         "x": [
          169.04907802309336,
          18.676381074517433,
          54.3399751871382,
          108.91533228522493,
          179.09284847668678,
          50.79505811766271,
          86.67410567340096,
          38.51315922902112,
          55.45785509857295,
          53.1555144320923,
          117.05956549233503,
          166.36390541684983,
          142.19309706768772,
          138.8871060581854,
          143.94100113944117,
          138.4979100863776,
          194.46829947867798,
          135.09882652319482,
          89.46744414951193,
          159.75549664272543,
          196.95845047822942,
          131.07503913285512,
          146.70268861346625,
          153.08108894809135,
          119.88594448241902,
          181.60007249023244,
          97.77595482865455,
          182.51877045836744,
          178.4614992755893,
          164.07160638855007
         ],
         "xaxis": "x4",
         "y": [
          0.6726508063773151,
          0.6639764289707273,
          0.6672694326233609,
          0.6721539636324532,
          0.6635490468339008,
          0.6661621737264768,
          0.6727406664457419,
          0.663717505829147,
          0.6726203710314272,
          0.6703555282588166,
          0.6682792504530379,
          0.666586469060988,
          0.6749969193020929,
          0.6739483589616786,
          0.672420656273754,
          0.6705229290241013,
          0.6702025032751462,
          0.6727786442153235,
          0.6672820069086485,
          0.6676126184689535,
          0.6675924353471939,
          0.6721122949826492,
          0.673029515105773,
          0.6736517129642353,
          0.6699127013730192,
          0.673788622708249,
          0.672551741577326,
          0.6693425850517375,
          0.6726966093220004,
          0.6727391091257386
         ],
         "yaxis": "y4"
        },
        {
         "marker": {
          "color": [
           0,
           1,
           2,
           3,
           4,
           5,
           6,
           7,
           8,
           9,
           10,
           11,
           12,
           13,
           14,
           15,
           16,
           17,
           18,
           19,
           20,
           21,
           22,
           23,
           24,
           25,
           26,
           27,
           28,
           29
          ],
          "colorbar": {
           "title": {
            "text": "#Trials"
           },
           "x": 1,
           "xpad": 40
          },
          "colorscale": [
           [
            0,
            "rgb(247,251,255)"
           ],
           [
            0.125,
            "rgb(222,235,247)"
           ],
           [
            0.25,
            "rgb(198,219,239)"
           ],
           [
            0.375,
            "rgb(158,202,225)"
           ],
           [
            0.5,
            "rgb(107,174,214)"
           ],
           [
            0.625,
            "rgb(66,146,198)"
           ],
           [
            0.75,
            "rgb(33,113,181)"
           ],
           [
            0.875,
            "rgb(8,81,156)"
           ],
           [
            1,
            "rgb(8,48,107)"
           ]
          ],
          "line": {
           "color": "Grey",
           "width": 0.5
          },
          "showscale": false
         },
         "mode": "markers",
         "showlegend": false,
         "type": "scatter",
         "x": [
          2729,
          8957,
          8671,
          1243,
          6996,
          7076,
          2056,
          6757,
          3062,
          1866,
          12114,
          3826,
          288,
          44,
          62,
          4623,
          596,
          22,
          13740,
          4550,
          11187,
          902,
          244,
          330,
          5632,
          1717,
          1806,
          3331,
          2331,
          1417
         ],
         "xaxis": "x5",
         "y": [
          0.6726508063773151,
          0.6639764289707273,
          0.6672694326233609,
          0.6721539636324532,
          0.6635490468339008,
          0.6661621737264768,
          0.6727406664457419,
          0.663717505829147,
          0.6726203710314272,
          0.6703555282588166,
          0.6682792504530379,
          0.666586469060988,
          0.6749969193020929,
          0.6739483589616786,
          0.672420656273754,
          0.6705229290241013,
          0.6702025032751462,
          0.6727786442153235,
          0.6672820069086485,
          0.6676126184689535,
          0.6675924353471939,
          0.6721122949826492,
          0.673029515105773,
          0.6736517129642353,
          0.6699127013730192,
          0.673788622708249,
          0.672551741577326,
          0.6693425850517375,
          0.6726966093220004,
          0.6727391091257386
         ],
         "yaxis": "y5"
        },
        {
         "marker": {
          "color": [
           0,
           1,
           2,
           3,
           4,
           5,
           6,
           7,
           8,
           9,
           10,
           11,
           12,
           13,
           14,
           15,
           16,
           17,
           18,
           19,
           20,
           21,
           22,
           23,
           24,
           25,
           26,
           27,
           28,
           29
          ],
          "colorbar": {
           "title": {
            "text": "#Trials"
           },
           "x": 1,
           "xpad": 40
          },
          "colorscale": [
           [
            0,
            "rgb(247,251,255)"
           ],
           [
            0.125,
            "rgb(222,235,247)"
           ],
           [
            0.25,
            "rgb(198,219,239)"
           ],
           [
            0.375,
            "rgb(158,202,225)"
           ],
           [
            0.5,
            "rgb(107,174,214)"
           ],
           [
            0.625,
            "rgb(66,146,198)"
           ],
           [
            0.75,
            "rgb(33,113,181)"
           ],
           [
            0.875,
            "rgb(8,81,156)"
           ],
           [
            1,
            "rgb(8,48,107)"
           ]
          ],
          "line": {
           "color": "Grey",
           "width": 0.5
          },
          "showscale": false
         },
         "mode": "markers",
         "showlegend": false,
         "type": "scatter",
         "x": [
          0.5865317112196479,
          8.397112878637927,
          1.4984466969976866,
          0.017184271822404312,
          8.775376557800877,
          4.272152677079254,
          0.1853412465584775,
          25.66162214101806,
          0.657126392562186,
          0.9083696913833949,
          0.05361912604490298,
          0.14035407268299516,
          0.19755645206408207,
          0.13341489561368627,
          0.01654290549800622,
          0.08189992143781995,
          0.03606204983248934,
          0.24702072691273716,
          0.30527429669033607,
          2.836924485913217,
          0.011738617618311105,
          0.28788952947463153,
          0.0904245722693858,
          0.033397378069766594,
          0.037224559863753004,
          0.024226959986744706,
          0.010075753556940284,
          0.09541678784822685,
          0.34976385440657265,
          0.5713065288635801
         ],
         "xaxis": "x6",
         "y": [
          0.6726508063773151,
          0.6639764289707273,
          0.6672694326233609,
          0.6721539636324532,
          0.6635490468339008,
          0.6661621737264768,
          0.6727406664457419,
          0.663717505829147,
          0.6726203710314272,
          0.6703555282588166,
          0.6682792504530379,
          0.666586469060988,
          0.6749969193020929,
          0.6739483589616786,
          0.672420656273754,
          0.6705229290241013,
          0.6702025032751462,
          0.6727786442153235,
          0.6672820069086485,
          0.6676126184689535,
          0.6675924353471939,
          0.6721122949826492,
          0.673029515105773,
          0.6736517129642353,
          0.6699127013730192,
          0.673788622708249,
          0.672551741577326,
          0.6693425850517375,
          0.6726966093220004,
          0.6727391091257386
         ],
         "yaxis": "y6"
        },
        {
         "marker": {
          "color": [
           0,
           1,
           2,
           3,
           4,
           5,
           6,
           7,
           8,
           9,
           10,
           11,
           12,
           13,
           14,
           15,
           16,
           17,
           18,
           19,
           20,
           21,
           22,
           23,
           24,
           25,
           26,
           27,
           28,
           29
          ],
          "colorbar": {
           "title": {
            "text": "#Trials"
           },
           "x": 1,
           "xpad": 40
          },
          "colorscale": [
           [
            0,
            "rgb(247,251,255)"
           ],
           [
            0.125,
            "rgb(222,235,247)"
           ],
           [
            0.25,
            "rgb(198,219,239)"
           ],
           [
            0.375,
            "rgb(158,202,225)"
           ],
           [
            0.5,
            "rgb(107,174,214)"
           ],
           [
            0.625,
            "rgb(66,146,198)"
           ],
           [
            0.75,
            "rgb(33,113,181)"
           ],
           [
            0.875,
            "rgb(8,81,156)"
           ],
           [
            1,
            "rgb(8,48,107)"
           ]
          ],
          "line": {
           "color": "Grey",
           "width": 0.5
          },
          "showscale": false
         },
         "mode": "markers",
         "showlegend": false,
         "type": "scatter",
         "x": [
          34,
          51,
          204,
          106,
          94,
          253,
          62,
          80,
          233,
          11,
          169,
          8,
          51,
          139,
          146,
          134,
          182,
          118,
          158,
          190,
          78,
          121,
          110,
          33,
          30,
          33,
          66,
          7,
          48,
          22
         ],
         "xaxis": "x7",
         "y": [
          0.6726508063773151,
          0.6639764289707273,
          0.6672694326233609,
          0.6721539636324532,
          0.6635490468339008,
          0.6661621737264768,
          0.6727406664457419,
          0.663717505829147,
          0.6726203710314272,
          0.6703555282588166,
          0.6682792504530379,
          0.666586469060988,
          0.6749969193020929,
          0.6739483589616786,
          0.672420656273754,
          0.6705229290241013,
          0.6702025032751462,
          0.6727786442153235,
          0.6672820069086485,
          0.6676126184689535,
          0.6675924353471939,
          0.6721122949826492,
          0.673029515105773,
          0.6736517129642353,
          0.6699127013730192,
          0.673788622708249,
          0.672551741577326,
          0.6693425850517375,
          0.6726966093220004,
          0.6727391091257386
         ],
         "yaxis": "y7"
        },
        {
         "marker": {
          "color": [
           0,
           1,
           2,
           3,
           4,
           5,
           6,
           7,
           8,
           9,
           10,
           11,
           12,
           13,
           14,
           15,
           16,
           17,
           18,
           19,
           20,
           21,
           22,
           23,
           24,
           25,
           26,
           27,
           28,
           29
          ],
          "colorbar": {
           "title": {
            "text": "#Trials"
           },
           "x": 1,
           "xpad": 40
          },
          "colorscale": [
           [
            0,
            "rgb(247,251,255)"
           ],
           [
            0.125,
            "rgb(222,235,247)"
           ],
           [
            0.25,
            "rgb(198,219,239)"
           ],
           [
            0.375,
            "rgb(158,202,225)"
           ],
           [
            0.5,
            "rgb(107,174,214)"
           ],
           [
            0.625,
            "rgb(66,146,198)"
           ],
           [
            0.75,
            "rgb(33,113,181)"
           ],
           [
            0.875,
            "rgb(8,81,156)"
           ],
           [
            1,
            "rgb(8,48,107)"
           ]
          ],
          "line": {
           "color": "Grey",
           "width": 0.5
          },
          "showscale": false
         },
         "mode": "markers",
         "showlegend": false,
         "type": "scatter",
         "x": [
          0.8982656209353025,
          0.0012084078112596056,
          0.0062782039970959635,
          0.007245183932500221,
          0.004542511231786753,
          0.001471379035674783,
          0.0704606725040577,
          2.0066428244936225,
          0.004016545137870447,
          1.0695780059620381,
          0.09989335859697772,
          0.24386996327058566,
          0.03750945925616626,
          0.023936154457463086,
          0.02193259275521993,
          0.02319701028378198,
          0.020929999018606888,
          0.1972587672855493,
          0.04111958141891971,
          0.013401201345379705,
          0.44141670926491444,
          0.14836824929869952,
          0.046686583492515414,
          0.04099727508536889,
          0.010816731399482592,
          0.04073014129283072,
          0.0808127568716763,
          0.002428977896051417,
          0.029063789451793665,
          0.3455928989452666
         ],
         "xaxis": "x8",
         "y": [
          0.6726508063773151,
          0.6639764289707273,
          0.6672694326233609,
          0.6721539636324532,
          0.6635490468339008,
          0.6661621737264768,
          0.6727406664457419,
          0.663717505829147,
          0.6726203710314272,
          0.6703555282588166,
          0.6682792504530379,
          0.666586469060988,
          0.6749969193020929,
          0.6739483589616786,
          0.672420656273754,
          0.6705229290241013,
          0.6702025032751462,
          0.6727786442153235,
          0.6672820069086485,
          0.6676126184689535,
          0.6675924353471939,
          0.6721122949826492,
          0.673029515105773,
          0.6736517129642353,
          0.6699127013730192,
          0.673788622708249,
          0.672551741577326,
          0.6693425850517375,
          0.6726966093220004,
          0.6727391091257386
         ],
         "yaxis": "y8"
        },
        {
         "marker": {
          "color": [
           0,
           1,
           2,
           3,
           4,
           5,
           6,
           7,
           8,
           9,
           10,
           11,
           12,
           13,
           14,
           15,
           16,
           17,
           18,
           19,
           20,
           21,
           22,
           23,
           24,
           25,
           26,
           27,
           28,
           29
          ],
          "colorbar": {
           "title": {
            "text": "#Trials"
           },
           "x": 1,
           "xpad": 40
          },
          "colorscale": [
           [
            0,
            "rgb(247,251,255)"
           ],
           [
            0.125,
            "rgb(222,235,247)"
           ],
           [
            0.25,
            "rgb(198,219,239)"
           ],
           [
            0.375,
            "rgb(158,202,225)"
           ],
           [
            0.5,
            "rgb(107,174,214)"
           ],
           [
            0.625,
            "rgb(66,146,198)"
           ],
           [
            0.75,
            "rgb(33,113,181)"
           ],
           [
            0.875,
            "rgb(8,81,156)"
           ],
           [
            1,
            "rgb(8,48,107)"
           ]
          ],
          "line": {
           "color": "Grey",
           "width": 0.5
          },
          "showscale": false
         },
         "mode": "markers",
         "showlegend": false,
         "type": "scatter",
         "x": [
          0.0012287149332900322,
          0.01581486067883387,
          1.7732299950201433,
          0.31521629196552026,
          0.1136810270339715,
          0.03384206611133817,
          0.004144581895271704,
          0.7337343080086499,
          0.3332614631275874,
          0.005517055587000957,
          0.0014354740024891059,
          0.0011406477704645872,
          0.005425505991139322,
          0.005229759987508383,
          0.008002489225771315,
          0.033988755488910505,
          0.002947456685029105,
          0.012996763667067097,
          0.0021093341067661853,
          0.08335150290927033,
          0.01579363650857521,
          0.01035137812209322,
          0.02179861099283977,
          0.031888126221586814,
          0.0054078541288144315,
          0.0556804720456976,
          0.07695235856133899,
          0.13100210034703844,
          0.23181721320876614,
          0.049137563842589736
         ],
         "xaxis": "x9",
         "y": [
          0.6726508063773151,
          0.6639764289707273,
          0.6672694326233609,
          0.6721539636324532,
          0.6635490468339008,
          0.6661621737264768,
          0.6727406664457419,
          0.663717505829147,
          0.6726203710314272,
          0.6703555282588166,
          0.6682792504530379,
          0.666586469060988,
          0.6749969193020929,
          0.6739483589616786,
          0.672420656273754,
          0.6705229290241013,
          0.6702025032751462,
          0.6727786442153235,
          0.6672820069086485,
          0.6676126184689535,
          0.6675924353471939,
          0.6721122949826492,
          0.673029515105773,
          0.6736517129642353,
          0.6699127013730192,
          0.673788622708249,
          0.672551741577326,
          0.6693425850517375,
          0.6726966093220004,
          0.6727391091257386
         ],
         "yaxis": "y9"
        },
        {
         "marker": {
          "color": [
           0,
           1,
           2,
           3,
           4,
           5,
           6,
           7,
           8,
           9,
           10,
           11,
           12,
           13,
           14,
           15,
           16,
           17,
           18,
           19,
           20,
           21,
           22,
           23,
           24,
           25,
           26,
           27,
           28,
           29
          ],
          "colorbar": {
           "title": {
            "text": "#Trials"
           },
           "x": 1,
           "xpad": 40
          },
          "colorscale": [
           [
            0,
            "rgb(247,251,255)"
           ],
           [
            0.125,
            "rgb(222,235,247)"
           ],
           [
            0.25,
            "rgb(198,219,239)"
           ],
           [
            0.375,
            "rgb(158,202,225)"
           ],
           [
            0.5,
            "rgb(107,174,214)"
           ],
           [
            0.625,
            "rgb(66,146,198)"
           ],
           [
            0.75,
            "rgb(33,113,181)"
           ],
           [
            0.875,
            "rgb(8,81,156)"
           ],
           [
            1,
            "rgb(8,48,107)"
           ]
          ],
          "line": {
           "color": "Grey",
           "width": 0.5
          },
          "showscale": false
         },
         "mode": "markers",
         "showlegend": false,
         "type": "scatter",
         "x": [
          0.9551107719053613,
          0.9873108131582176,
          0.9952357818068703,
          0.9808147590854422,
          0.7509124762184685,
          0.9358286891043193,
          0.9436105610792045,
          0.9036091816478141,
          0.8886257973127527,
          0.7646587328928309,
          0.8269134245061154,
          0.9418056947760453,
          0.9476962184790506,
          0.8450877288681449,
          0.8389648255915837,
          0.8477733570302036,
          0.7946396677171923,
          0.8654712984563137,
          0.9087469931345526,
          0.8036744731250506,
          0.8708931497353001,
          0.8589415518879868,
          0.8187748566504267,
          0.8145918576200994,
          0.7830976510271819,
          0.8180026447184401,
          0.8883092887970006,
          0.8428858794702405,
          0.9110035069755513,
          0.7871179516137407
         ],
         "xaxis": "x10",
         "y": [
          0.6726508063773151,
          0.6639764289707273,
          0.6672694326233609,
          0.6721539636324532,
          0.6635490468339008,
          0.6661621737264768,
          0.6727406664457419,
          0.663717505829147,
          0.6726203710314272,
          0.6703555282588166,
          0.6682792504530379,
          0.666586469060988,
          0.6749969193020929,
          0.6739483589616786,
          0.672420656273754,
          0.6705229290241013,
          0.6702025032751462,
          0.6727786442153235,
          0.6672820069086485,
          0.6676126184689535,
          0.6675924353471939,
          0.6721122949826492,
          0.673029515105773,
          0.6736517129642353,
          0.6699127013730192,
          0.673788622708249,
          0.672551741577326,
          0.6693425850517375,
          0.6726966093220004,
          0.6727391091257386
         ],
         "yaxis": "y10"
        },
        {
         "marker": {
          "color": [
           0,
           1,
           2,
           3,
           4,
           5,
           6,
           7,
           8,
           9,
           10,
           11,
           12,
           13,
           14,
           15,
           16,
           17,
           18,
           19,
           20,
           21,
           22,
           23,
           24,
           25,
           26,
           27,
           28,
           29
          ],
          "colorbar": {
           "title": {
            "text": "#Trials"
           },
           "x": 1,
           "xpad": 40
          },
          "colorscale": [
           [
            0,
            "rgb(247,251,255)"
           ],
           [
            0.125,
            "rgb(222,235,247)"
           ],
           [
            0.25,
            "rgb(198,219,239)"
           ],
           [
            0.375,
            "rgb(158,202,225)"
           ],
           [
            0.5,
            "rgb(107,174,214)"
           ],
           [
            0.625,
            "rgb(66,146,198)"
           ],
           [
            0.75,
            "rgb(33,113,181)"
           ],
           [
            0.875,
            "rgb(8,81,156)"
           ],
           [
            1,
            "rgb(8,48,107)"
           ]
          ],
          "line": {
           "color": "Grey",
           "width": 0.5
          },
          "showscale": false
         },
         "mode": "markers",
         "showlegend": false,
         "type": "scatter",
         "x": [
          257149,
          157537,
          104417,
          229866,
          101028,
          82320,
          56678,
          283233,
          143321,
          223206,
          53172,
          292927,
          225302,
          210629,
          202896,
          187715,
          249008,
          167130,
          206111,
          267771,
          235194,
          169566,
          137418,
          133004,
          194669,
          116921,
          214594,
          104966,
          180752,
          247419
         ],
         "xaxis": "x11",
         "y": [
          0.6726508063773151,
          0.6639764289707273,
          0.6672694326233609,
          0.6721539636324532,
          0.6635490468339008,
          0.6661621737264768,
          0.6727406664457419,
          0.663717505829147,
          0.6726203710314272,
          0.6703555282588166,
          0.6682792504530379,
          0.666586469060988,
          0.6749969193020929,
          0.6739483589616786,
          0.672420656273754,
          0.6705229290241013,
          0.6702025032751462,
          0.6727786442153235,
          0.6672820069086485,
          0.6676126184689535,
          0.6675924353471939,
          0.6721122949826492,
          0.673029515105773,
          0.6736517129642353,
          0.6699127013730192,
          0.673788622708249,
          0.672551741577326,
          0.6693425850517375,
          0.6726966093220004,
          0.6727391091257386
         ],
         "yaxis": "y11"
        },
        {
         "marker": {
          "color": [
           0,
           1,
           2,
           3,
           4,
           5,
           6,
           7,
           8,
           9,
           10,
           11,
           12,
           13,
           14,
           15,
           16,
           17,
           18,
           19,
           20,
           21,
           22,
           23,
           24,
           25,
           26,
           27,
           28,
           29
          ],
          "colorbar": {
           "title": {
            "text": "#Trials"
           },
           "x": 1,
           "xpad": 40
          },
          "colorscale": [
           [
            0,
            "rgb(247,251,255)"
           ],
           [
            0.125,
            "rgb(222,235,247)"
           ],
           [
            0.25,
            "rgb(198,219,239)"
           ],
           [
            0.375,
            "rgb(158,202,225)"
           ],
           [
            0.5,
            "rgb(107,174,214)"
           ],
           [
            0.625,
            "rgb(66,146,198)"
           ],
           [
            0.75,
            "rgb(33,113,181)"
           ],
           [
            0.875,
            "rgb(8,81,156)"
           ],
           [
            1,
            "rgb(8,48,107)"
           ]
          ],
          "line": {
           "color": "Grey",
           "width": 0.5
          },
          "showscale": false
         },
         "mode": "markers",
         "showlegend": false,
         "type": "scatter",
         "x": [
          5,
          10,
          8,
          8,
          8,
          1,
          4,
          3,
          7,
          4,
          1,
          5,
          3,
          3,
          2,
          3,
          2,
          6,
          3,
          2,
          4,
          6,
          6,
          7,
          9,
          7,
          5,
          7,
          4,
          5
         ],
         "xaxis": "x12",
         "y": [
          0.6726508063773151,
          0.6639764289707273,
          0.6672694326233609,
          0.6721539636324532,
          0.6635490468339008,
          0.6661621737264768,
          0.6727406664457419,
          0.663717505829147,
          0.6726203710314272,
          0.6703555282588166,
          0.6682792504530379,
          0.666586469060988,
          0.6749969193020929,
          0.6739483589616786,
          0.672420656273754,
          0.6705229290241013,
          0.6702025032751462,
          0.6727786442153235,
          0.6672820069086485,
          0.6676126184689535,
          0.6675924353471939,
          0.6721122949826492,
          0.673029515105773,
          0.6736517129642353,
          0.6699127013730192,
          0.673788622708249,
          0.672551741577326,
          0.6693425850517375,
          0.6726966093220004,
          0.6727391091257386
         ],
         "yaxis": "y12"
        }
       ],
       "layout": {
        "template": {
         "data": {
          "bar": [
           {
            "error_x": {
             "color": "#2a3f5f"
            },
            "error_y": {
             "color": "#2a3f5f"
            },
            "marker": {
             "line": {
              "color": "#E5ECF6",
              "width": 0.5
             }
            },
            "type": "bar"
           }
          ],
          "barpolar": [
           {
            "marker": {
             "line": {
              "color": "#E5ECF6",
              "width": 0.5
             }
            },
            "type": "barpolar"
           }
          ],
          "carpet": [
           {
            "aaxis": {
             "endlinecolor": "#2a3f5f",
             "gridcolor": "white",
             "linecolor": "white",
             "minorgridcolor": "white",
             "startlinecolor": "#2a3f5f"
            },
            "baxis": {
             "endlinecolor": "#2a3f5f",
             "gridcolor": "white",
             "linecolor": "white",
             "minorgridcolor": "white",
             "startlinecolor": "#2a3f5f"
            },
            "type": "carpet"
           }
          ],
          "choropleth": [
           {
            "colorbar": {
             "outlinewidth": 0,
             "ticks": ""
            },
            "type": "choropleth"
           }
          ],
          "contour": [
           {
            "colorbar": {
             "outlinewidth": 0,
             "ticks": ""
            },
            "colorscale": [
             [
              0,
              "#0d0887"
             ],
             [
              0.1111111111111111,
              "#46039f"
             ],
             [
              0.2222222222222222,
              "#7201a8"
             ],
             [
              0.3333333333333333,
              "#9c179e"
             ],
             [
              0.4444444444444444,
              "#bd3786"
             ],
             [
              0.5555555555555556,
              "#d8576b"
             ],
             [
              0.6666666666666666,
              "#ed7953"
             ],
             [
              0.7777777777777778,
              "#fb9f3a"
             ],
             [
              0.8888888888888888,
              "#fdca26"
             ],
             [
              1,
              "#f0f921"
             ]
            ],
            "type": "contour"
           }
          ],
          "contourcarpet": [
           {
            "colorbar": {
             "outlinewidth": 0,
             "ticks": ""
            },
            "type": "contourcarpet"
           }
          ],
          "heatmap": [
           {
            "colorbar": {
             "outlinewidth": 0,
             "ticks": ""
            },
            "colorscale": [
             [
              0,
              "#0d0887"
             ],
             [
              0.1111111111111111,
              "#46039f"
             ],
             [
              0.2222222222222222,
              "#7201a8"
             ],
             [
              0.3333333333333333,
              "#9c179e"
             ],
             [
              0.4444444444444444,
              "#bd3786"
             ],
             [
              0.5555555555555556,
              "#d8576b"
             ],
             [
              0.6666666666666666,
              "#ed7953"
             ],
             [
              0.7777777777777778,
              "#fb9f3a"
             ],
             [
              0.8888888888888888,
              "#fdca26"
             ],
             [
              1,
              "#f0f921"
             ]
            ],
            "type": "heatmap"
           }
          ],
          "heatmapgl": [
           {
            "colorbar": {
             "outlinewidth": 0,
             "ticks": ""
            },
            "colorscale": [
             [
              0,
              "#0d0887"
             ],
             [
              0.1111111111111111,
              "#46039f"
             ],
             [
              0.2222222222222222,
              "#7201a8"
             ],
             [
              0.3333333333333333,
              "#9c179e"
             ],
             [
              0.4444444444444444,
              "#bd3786"
             ],
             [
              0.5555555555555556,
              "#d8576b"
             ],
             [
              0.6666666666666666,
              "#ed7953"
             ],
             [
              0.7777777777777778,
              "#fb9f3a"
             ],
             [
              0.8888888888888888,
              "#fdca26"
             ],
             [
              1,
              "#f0f921"
             ]
            ],
            "type": "heatmapgl"
           }
          ],
          "histogram": [
           {
            "marker": {
             "colorbar": {
              "outlinewidth": 0,
              "ticks": ""
             }
            },
            "type": "histogram"
           }
          ],
          "histogram2d": [
           {
            "colorbar": {
             "outlinewidth": 0,
             "ticks": ""
            },
            "colorscale": [
             [
              0,
              "#0d0887"
             ],
             [
              0.1111111111111111,
              "#46039f"
             ],
             [
              0.2222222222222222,
              "#7201a8"
             ],
             [
              0.3333333333333333,
              "#9c179e"
             ],
             [
              0.4444444444444444,
              "#bd3786"
             ],
             [
              0.5555555555555556,
              "#d8576b"
             ],
             [
              0.6666666666666666,
              "#ed7953"
             ],
             [
              0.7777777777777778,
              "#fb9f3a"
             ],
             [
              0.8888888888888888,
              "#fdca26"
             ],
             [
              1,
              "#f0f921"
             ]
            ],
            "type": "histogram2d"
           }
          ],
          "histogram2dcontour": [
           {
            "colorbar": {
             "outlinewidth": 0,
             "ticks": ""
            },
            "colorscale": [
             [
              0,
              "#0d0887"
             ],
             [
              0.1111111111111111,
              "#46039f"
             ],
             [
              0.2222222222222222,
              "#7201a8"
             ],
             [
              0.3333333333333333,
              "#9c179e"
             ],
             [
              0.4444444444444444,
              "#bd3786"
             ],
             [
              0.5555555555555556,
              "#d8576b"
             ],
             [
              0.6666666666666666,
              "#ed7953"
             ],
             [
              0.7777777777777778,
              "#fb9f3a"
             ],
             [
              0.8888888888888888,
              "#fdca26"
             ],
             [
              1,
              "#f0f921"
             ]
            ],
            "type": "histogram2dcontour"
           }
          ],
          "mesh3d": [
           {
            "colorbar": {
             "outlinewidth": 0,
             "ticks": ""
            },
            "type": "mesh3d"
           }
          ],
          "parcoords": [
           {
            "line": {
             "colorbar": {
              "outlinewidth": 0,
              "ticks": ""
             }
            },
            "type": "parcoords"
           }
          ],
          "pie": [
           {
            "automargin": true,
            "type": "pie"
           }
          ],
          "scatter": [
           {
            "marker": {
             "colorbar": {
              "outlinewidth": 0,
              "ticks": ""
             }
            },
            "type": "scatter"
           }
          ],
          "scatter3d": [
           {
            "line": {
             "colorbar": {
              "outlinewidth": 0,
              "ticks": ""
             }
            },
            "marker": {
             "colorbar": {
              "outlinewidth": 0,
              "ticks": ""
             }
            },
            "type": "scatter3d"
           }
          ],
          "scattercarpet": [
           {
            "marker": {
             "colorbar": {
              "outlinewidth": 0,
              "ticks": ""
             }
            },
            "type": "scattercarpet"
           }
          ],
          "scattergeo": [
           {
            "marker": {
             "colorbar": {
              "outlinewidth": 0,
              "ticks": ""
             }
            },
            "type": "scattergeo"
           }
          ],
          "scattergl": [
           {
            "marker": {
             "colorbar": {
              "outlinewidth": 0,
              "ticks": ""
             }
            },
            "type": "scattergl"
           }
          ],
          "scattermapbox": [
           {
            "marker": {
             "colorbar": {
              "outlinewidth": 0,
              "ticks": ""
             }
            },
            "type": "scattermapbox"
           }
          ],
          "scatterpolar": [
           {
            "marker": {
             "colorbar": {
              "outlinewidth": 0,
              "ticks": ""
             }
            },
            "type": "scatterpolar"
           }
          ],
          "scatterpolargl": [
           {
            "marker": {
             "colorbar": {
              "outlinewidth": 0,
              "ticks": ""
             }
            },
            "type": "scatterpolargl"
           }
          ],
          "scatterternary": [
           {
            "marker": {
             "colorbar": {
              "outlinewidth": 0,
              "ticks": ""
             }
            },
            "type": "scatterternary"
           }
          ],
          "surface": [
           {
            "colorbar": {
             "outlinewidth": 0,
             "ticks": ""
            },
            "colorscale": [
             [
              0,
              "#0d0887"
             ],
             [
              0.1111111111111111,
              "#46039f"
             ],
             [
              0.2222222222222222,
              "#7201a8"
             ],
             [
              0.3333333333333333,
              "#9c179e"
             ],
             [
              0.4444444444444444,
              "#bd3786"
             ],
             [
              0.5555555555555556,
              "#d8576b"
             ],
             [
              0.6666666666666666,
              "#ed7953"
             ],
             [
              0.7777777777777778,
              "#fb9f3a"
             ],
             [
              0.8888888888888888,
              "#fdca26"
             ],
             [
              1,
              "#f0f921"
             ]
            ],
            "type": "surface"
           }
          ],
          "table": [
           {
            "cells": {
             "fill": {
              "color": "#EBF0F8"
             },
             "line": {
              "color": "white"
             }
            },
            "header": {
             "fill": {
              "color": "#C8D4E3"
             },
             "line": {
              "color": "white"
             }
            },
            "type": "table"
           }
          ]
         },
         "layout": {
          "annotationdefaults": {
           "arrowcolor": "#2a3f5f",
           "arrowhead": 0,
           "arrowwidth": 1
          },
          "autotypenumbers": "strict",
          "coloraxis": {
           "colorbar": {
            "outlinewidth": 0,
            "ticks": ""
           }
          },
          "colorscale": {
           "diverging": [
            [
             0,
             "#8e0152"
            ],
            [
             0.1,
             "#c51b7d"
            ],
            [
             0.2,
             "#de77ae"
            ],
            [
             0.3,
             "#f1b6da"
            ],
            [
             0.4,
             "#fde0ef"
            ],
            [
             0.5,
             "#f7f7f7"
            ],
            [
             0.6,
             "#e6f5d0"
            ],
            [
             0.7,
             "#b8e186"
            ],
            [
             0.8,
             "#7fbc41"
            ],
            [
             0.9,
             "#4d9221"
            ],
            [
             1,
             "#276419"
            ]
           ],
           "sequential": [
            [
             0,
             "#0d0887"
            ],
            [
             0.1111111111111111,
             "#46039f"
            ],
            [
             0.2222222222222222,
             "#7201a8"
            ],
            [
             0.3333333333333333,
             "#9c179e"
            ],
            [
             0.4444444444444444,
             "#bd3786"
            ],
            [
             0.5555555555555556,
             "#d8576b"
            ],
            [
             0.6666666666666666,
             "#ed7953"
            ],
            [
             0.7777777777777778,
             "#fb9f3a"
            ],
            [
             0.8888888888888888,
             "#fdca26"
            ],
            [
             1,
             "#f0f921"
            ]
           ],
           "sequentialminus": [
            [
             0,
             "#0d0887"
            ],
            [
             0.1111111111111111,
             "#46039f"
            ],
            [
             0.2222222222222222,
             "#7201a8"
            ],
            [
             0.3333333333333333,
             "#9c179e"
            ],
            [
             0.4444444444444444,
             "#bd3786"
            ],
            [
             0.5555555555555556,
             "#d8576b"
            ],
            [
             0.6666666666666666,
             "#ed7953"
            ],
            [
             0.7777777777777778,
             "#fb9f3a"
            ],
            [
             0.8888888888888888,
             "#fdca26"
            ],
            [
             1,
             "#f0f921"
            ]
           ]
          },
          "colorway": [
           "#636efa",
           "#EF553B",
           "#00cc96",
           "#ab63fa",
           "#FFA15A",
           "#19d3f3",
           "#FF6692",
           "#B6E880",
           "#FF97FF",
           "#FECB52"
          ],
          "font": {
           "color": "#2a3f5f"
          },
          "geo": {
           "bgcolor": "white",
           "lakecolor": "white",
           "landcolor": "#E5ECF6",
           "showlakes": true,
           "showland": true,
           "subunitcolor": "white"
          },
          "hoverlabel": {
           "align": "left"
          },
          "hovermode": "closest",
          "mapbox": {
           "style": "light"
          },
          "paper_bgcolor": "white",
          "plot_bgcolor": "#E5ECF6",
          "polar": {
           "angularaxis": {
            "gridcolor": "white",
            "linecolor": "white",
            "ticks": ""
           },
           "bgcolor": "#E5ECF6",
           "radialaxis": {
            "gridcolor": "white",
            "linecolor": "white",
            "ticks": ""
           }
          },
          "scene": {
           "xaxis": {
            "backgroundcolor": "#E5ECF6",
            "gridcolor": "white",
            "gridwidth": 2,
            "linecolor": "white",
            "showbackground": true,
            "ticks": "",
            "zerolinecolor": "white"
           },
           "yaxis": {
            "backgroundcolor": "#E5ECF6",
            "gridcolor": "white",
            "gridwidth": 2,
            "linecolor": "white",
            "showbackground": true,
            "ticks": "",
            "zerolinecolor": "white"
           },
           "zaxis": {
            "backgroundcolor": "#E5ECF6",
            "gridcolor": "white",
            "gridwidth": 2,
            "linecolor": "white",
            "showbackground": true,
            "ticks": "",
            "zerolinecolor": "white"
           }
          },
          "shapedefaults": {
           "line": {
            "color": "#2a3f5f"
           }
          },
          "ternary": {
           "aaxis": {
            "gridcolor": "white",
            "linecolor": "white",
            "ticks": ""
           },
           "baxis": {
            "gridcolor": "white",
            "linecolor": "white",
            "ticks": ""
           },
           "bgcolor": "#E5ECF6",
           "caxis": {
            "gridcolor": "white",
            "linecolor": "white",
            "ticks": ""
           }
          },
          "title": {
           "x": 0.05
          },
          "xaxis": {
           "automargin": true,
           "gridcolor": "white",
           "linecolor": "white",
           "ticks": "",
           "title": {
            "standoff": 15
           },
           "zerolinecolor": "white",
           "zerolinewidth": 2
          },
          "yaxis": {
           "automargin": true,
           "gridcolor": "white",
           "linecolor": "white",
           "ticks": "",
           "title": {
            "standoff": 15
           },
           "zerolinecolor": "white",
           "zerolinewidth": 2
          }
         }
        },
        "title": {
         "text": "Slice Plot"
        },
        "width": 3600,
        "xaxis": {
         "anchor": "y",
         "domain": [
          0,
          0.06805555555555555
         ],
         "title": {
          "text": "colsample_bytree"
         }
        },
        "xaxis10": {
         "anchor": "y10",
         "domain": [
          0.7625,
          0.8305555555555555
         ],
         "title": {
          "text": "subsample"
         }
        },
        "xaxis11": {
         "anchor": "y11",
         "domain": [
          0.8472222222222221,
          0.9152777777777776
         ],
         "title": {
          "text": "subsample_for_bin"
         }
        },
        "xaxis12": {
         "anchor": "y12",
         "domain": [
          0.9319444444444444,
          0.9999999999999999
         ],
         "title": {
          "text": "subsample_freq"
         }
        },
        "xaxis2": {
         "anchor": "y2",
         "domain": [
          0.08472222222222221,
          0.15277777777777776
         ],
         "title": {
          "text": "learning_rate"
         }
        },
        "xaxis3": {
         "anchor": "y3",
         "domain": [
          0.16944444444444443,
          0.2375
         ],
         "title": {
          "text": "max_delta_step"
         }
        },
        "xaxis4": {
         "anchor": "y4",
         "domain": [
          0.25416666666666665,
          0.3222222222222222
         ],
         "title": {
          "text": "min_child_weight"
         }
        },
        "xaxis5": {
         "anchor": "y5",
         "domain": [
          0.33888888888888885,
          0.4069444444444444
         ],
         "title": {
          "text": "min_data_in_leaf"
         }
        },
        "xaxis6": {
         "anchor": "y6",
         "domain": [
          0.42361111111111105,
          0.4916666666666666
         ],
         "title": {
          "text": "min_split_gain"
         },
         "type": "log"
        },
        "xaxis7": {
         "anchor": "y7",
         "domain": [
          0.5083333333333333,
          0.5763888888888888
         ],
         "title": {
          "text": "num_leaves"
         }
        },
        "xaxis8": {
         "anchor": "y8",
         "domain": [
          0.5930555555555554,
          0.661111111111111
         ],
         "title": {
          "text": "reg_alpha"
         },
         "type": "log"
        },
        "xaxis9": {
         "anchor": "y9",
         "domain": [
          0.6777777777777777,
          0.7458333333333332
         ],
         "title": {
          "text": "reg_lambda"
         },
         "type": "log"
        },
        "yaxis": {
         "anchor": "x",
         "domain": [
          0,
          1
         ],
         "title": {
          "text": "Objective Value"
         }
        },
        "yaxis10": {
         "anchor": "x10",
         "domain": [
          0,
          1
         ],
         "matches": "y",
         "showticklabels": false
        },
        "yaxis11": {
         "anchor": "x11",
         "domain": [
          0,
          1
         ],
         "matches": "y",
         "showticklabels": false
        },
        "yaxis12": {
         "anchor": "x12",
         "domain": [
          0,
          1
         ],
         "matches": "y",
         "showticklabels": false
        },
        "yaxis2": {
         "anchor": "x2",
         "domain": [
          0,
          1
         ],
         "matches": "y",
         "showticklabels": false
        },
        "yaxis3": {
         "anchor": "x3",
         "domain": [
          0,
          1
         ],
         "matches": "y",
         "showticklabels": false
        },
        "yaxis4": {
         "anchor": "x4",
         "domain": [
          0,
          1
         ],
         "matches": "y",
         "showticklabels": false
        },
        "yaxis5": {
         "anchor": "x5",
         "domain": [
          0,
          1
         ],
         "matches": "y",
         "showticklabels": false
        },
        "yaxis6": {
         "anchor": "x6",
         "domain": [
          0,
          1
         ],
         "matches": "y",
         "showticklabels": false
        },
        "yaxis7": {
         "anchor": "x7",
         "domain": [
          0,
          1
         ],
         "matches": "y",
         "showticklabels": false
        },
        "yaxis8": {
         "anchor": "x8",
         "domain": [
          0,
          1
         ],
         "matches": "y",
         "showticklabels": false
        },
        "yaxis9": {
         "anchor": "x9",
         "domain": [
          0,
          1
         ],
         "matches": "y",
         "showticklabels": false
        }
       }
      }
     },
     "metadata": {}
    }
   ],
   "source": [
    "optuna.visualization.plot_slice(study)"
   ]
  },
  {
   "cell_type": "code",
   "execution_count": 51,
   "metadata": {},
   "outputs": [
    {
     "output_type": "execute_result",
     "data": {
      "text/plain": [
       "    auc_test  auc_train  diff_auc  ...  min_data_in_leaf  random_state  n_jobs\n",
       "0   0.672651   0.682361  0.009710  ...              2729            42      60\n",
       "1   0.663976   0.666992  0.003016  ...              8957            42      60\n",
       "2   0.667269   0.671667  0.004398  ...              8671            42      60\n",
       "3   0.672154   0.699929  0.027775  ...              1243            42      60\n",
       "4   0.663549   0.666350  0.002801  ...              6996            42      60\n",
       "5   0.666162   0.668906  0.002743  ...              7076            42      60\n",
       "6   0.672741   0.689978  0.017238  ...              2056            42      60\n",
       "7   0.663718   0.665825  0.002107  ...              6757            42      60\n",
       "8   0.672620   0.687606  0.014986  ...              3062            42      60\n",
       "9   0.670356   0.675856  0.005501  ...              1866            42      60\n",
       "10  0.668279   0.678357  0.010078  ...             12114            42      60\n",
       "11  0.666586   0.668381  0.001794  ...              3826            42      60\n",
       "12  0.674997   0.695270  0.020273  ...               288            42      60\n",
       "13  0.673948   0.699045  0.025096  ...                44            42      60\n",
       "14  0.672421   0.699099  0.026678  ...                62            42      60\n",
       "15  0.670523   0.689578  0.019055  ...              4623            42      60\n",
       "16  0.670203   0.696821  0.026618  ...               596            42      60\n",
       "17  0.672779   0.697287  0.024508  ...                22            42      60\n",
       "18  0.667282   0.677412  0.010130  ...             13740            42      60\n",
       "19  0.667613   0.671616  0.004003  ...              4550            42      60\n",
       "20  0.667592   0.677695  0.010103  ...             11187            42      60\n",
       "21  0.672112   0.702105  0.029992  ...               902            42      60\n",
       "22  0.673030   0.698159  0.025130  ...               244            42      60\n",
       "23  0.673652   0.690947  0.017296  ...               330            42      60\n",
       "24  0.669913   0.681184  0.011271  ...              5632            42      60\n",
       "25  0.673789   0.691329  0.017541  ...              1717            42      60\n",
       "26  0.672552   0.689487  0.016935  ...              1806            42      60\n",
       "27  0.669343   0.674393  0.005050  ...              3331            42      60\n",
       "28  0.672697   0.695079  0.022383  ...              2331            42      60\n",
       "29  0.672739   0.682852  0.010113  ...              1417            42      60\n",
       "\n",
       "[30 rows x 19 columns]"
      ],
      "text/html": "<div>\n<style scoped>\n    .dataframe tbody tr th:only-of-type {\n        vertical-align: middle;\n    }\n\n    .dataframe tbody tr th {\n        vertical-align: top;\n    }\n\n    .dataframe thead th {\n        text-align: right;\n    }\n</style>\n<table border=\"1\" class=\"dataframe\">\n  <thead>\n    <tr style=\"text-align: right;\">\n      <th></th>\n      <th>auc_test</th>\n      <th>auc_train</th>\n      <th>diff_auc</th>\n      <th>n_estimators</th>\n      <th>learning_rate</th>\n      <th>num_leaves</th>\n      <th>max_depth</th>\n      <th>subsample</th>\n      <th>colsample_bytree</th>\n      <th>min_child_weight</th>\n      <th>reg_alpha</th>\n      <th>reg_lambda</th>\n      <th>min_split_gain</th>\n      <th>max_delta_step</th>\n      <th>subsample_for_bin</th>\n      <th>subsample_freq</th>\n      <th>min_data_in_leaf</th>\n      <th>random_state</th>\n      <th>n_jobs</th>\n    </tr>\n  </thead>\n  <tbody>\n    <tr>\n      <th>0</th>\n      <td>0.672651</td>\n      <td>0.682361</td>\n      <td>0.009710</td>\n      <td>1000</td>\n      <td>0.041249</td>\n      <td>34</td>\n      <td>-1</td>\n      <td>0.955111</td>\n      <td>0.827433</td>\n      <td>169.049078</td>\n      <td>0.898266</td>\n      <td>0.001229</td>\n      <td>0.586532</td>\n      <td>26.275882</td>\n      <td>257149</td>\n      <td>5</td>\n      <td>2729</td>\n      <td>42</td>\n      <td>60</td>\n    </tr>\n    <tr>\n      <th>1</th>\n      <td>0.663976</td>\n      <td>0.666992</td>\n      <td>0.003016</td>\n      <td>1000</td>\n      <td>0.020533</td>\n      <td>51</td>\n      <td>-1</td>\n      <td>0.987311</td>\n      <td>0.902682</td>\n      <td>18.676381</td>\n      <td>0.001208</td>\n      <td>0.015815</td>\n      <td>8.397113</td>\n      <td>34.327049</td>\n      <td>157537</td>\n      <td>10</td>\n      <td>8957</td>\n      <td>42</td>\n      <td>60</td>\n    </tr>\n    <tr>\n      <th>2</th>\n      <td>0.667269</td>\n      <td>0.671667</td>\n      <td>0.004398</td>\n      <td>1000</td>\n      <td>0.161173</td>\n      <td>204</td>\n      <td>-1</td>\n      <td>0.995236</td>\n      <td>0.994775</td>\n      <td>54.339975</td>\n      <td>0.006278</td>\n      <td>1.773230</td>\n      <td>1.498447</td>\n      <td>77.734825</td>\n      <td>104417</td>\n      <td>8</td>\n      <td>8671</td>\n      <td>42</td>\n      <td>60</td>\n    </tr>\n    <tr>\n      <th>3</th>\n      <td>0.672154</td>\n      <td>0.699929</td>\n      <td>0.027775</td>\n      <td>1000</td>\n      <td>0.172907</td>\n      <td>106</td>\n      <td>-1</td>\n      <td>0.980815</td>\n      <td>0.827711</td>\n      <td>108.915332</td>\n      <td>0.007245</td>\n      <td>0.315216</td>\n      <td>0.017184</td>\n      <td>71.561024</td>\n      <td>229866</td>\n      <td>8</td>\n      <td>1243</td>\n      <td>42</td>\n      <td>60</td>\n    </tr>\n    <tr>\n      <th>4</th>\n      <td>0.663549</td>\n      <td>0.666350</td>\n      <td>0.002801</td>\n      <td>1000</td>\n      <td>0.155111</td>\n      <td>94</td>\n      <td>-1</td>\n      <td>0.750912</td>\n      <td>0.879237</td>\n      <td>179.092848</td>\n      <td>0.004543</td>\n      <td>0.113681</td>\n      <td>8.775377</td>\n      <td>37.913480</td>\n      <td>101028</td>\n      <td>8</td>\n      <td>6996</td>\n      <td>42</td>\n      <td>60</td>\n    </tr>\n    <tr>\n      <th>5</th>\n      <td>0.666162</td>\n      <td>0.668906</td>\n      <td>0.002743</td>\n      <td>1000</td>\n      <td>0.052601</td>\n      <td>253</td>\n      <td>-1</td>\n      <td>0.935829</td>\n      <td>0.944166</td>\n      <td>50.795058</td>\n      <td>0.001471</td>\n      <td>0.033842</td>\n      <td>4.272153</td>\n      <td>2.034670</td>\n      <td>82320</td>\n      <td>1</td>\n      <td>7076</td>\n      <td>42</td>\n      <td>60</td>\n    </tr>\n    <tr>\n      <th>6</th>\n      <td>0.672741</td>\n      <td>0.689978</td>\n      <td>0.017238</td>\n      <td>1000</td>\n      <td>0.030978</td>\n      <td>62</td>\n      <td>-1</td>\n      <td>0.943611</td>\n      <td>0.834111</td>\n      <td>86.674106</td>\n      <td>0.070461</td>\n      <td>0.004145</td>\n      <td>0.185341</td>\n      <td>29.847476</td>\n      <td>56678</td>\n      <td>4</td>\n      <td>2056</td>\n      <td>42</td>\n      <td>60</td>\n    </tr>\n    <tr>\n      <th>7</th>\n      <td>0.663718</td>\n      <td>0.665825</td>\n      <td>0.002107</td>\n      <td>1000</td>\n      <td>0.091343</td>\n      <td>80</td>\n      <td>-1</td>\n      <td>0.903609</td>\n      <td>0.863415</td>\n      <td>38.513159</td>\n      <td>2.006643</td>\n      <td>0.733734</td>\n      <td>25.661622</td>\n      <td>83.665002</td>\n      <td>283233</td>\n      <td>3</td>\n      <td>6757</td>\n      <td>42</td>\n      <td>60</td>\n    </tr>\n    <tr>\n      <th>8</th>\n      <td>0.672620</td>\n      <td>0.687606</td>\n      <td>0.014986</td>\n      <td>1000</td>\n      <td>0.075915</td>\n      <td>233</td>\n      <td>-1</td>\n      <td>0.888626</td>\n      <td>0.914530</td>\n      <td>55.457855</td>\n      <td>0.004017</td>\n      <td>0.333261</td>\n      <td>0.657126</td>\n      <td>86.521586</td>\n      <td>143321</td>\n      <td>7</td>\n      <td>3062</td>\n      <td>42</td>\n      <td>60</td>\n    </tr>\n    <tr>\n      <th>9</th>\n      <td>0.670356</td>\n      <td>0.675856</td>\n      <td>0.005501</td>\n      <td>1000</td>\n      <td>0.038063</td>\n      <td>11</td>\n      <td>-1</td>\n      <td>0.764659</td>\n      <td>0.982986</td>\n      <td>53.155514</td>\n      <td>1.069578</td>\n      <td>0.005517</td>\n      <td>0.908370</td>\n      <td>68.436771</td>\n      <td>223206</td>\n      <td>4</td>\n      <td>1866</td>\n      <td>42</td>\n      <td>60</td>\n    </tr>\n    <tr>\n      <th>10</th>\n      <td>0.668279</td>\n      <td>0.678357</td>\n      <td>0.010078</td>\n      <td>1000</td>\n      <td>0.126580</td>\n      <td>169</td>\n      <td>-1</td>\n      <td>0.826913</td>\n      <td>0.802877</td>\n      <td>117.059565</td>\n      <td>0.099893</td>\n      <td>0.001435</td>\n      <td>0.053619</td>\n      <td>3.175471</td>\n      <td>53172</td>\n      <td>1</td>\n      <td>12114</td>\n      <td>42</td>\n      <td>60</td>\n    </tr>\n    <tr>\n      <th>11</th>\n      <td>0.666586</td>\n      <td>0.668381</td>\n      <td>0.001794</td>\n      <td>1000</td>\n      <td>0.012936</td>\n      <td>8</td>\n      <td>-1</td>\n      <td>0.941806</td>\n      <td>0.827416</td>\n      <td>166.363905</td>\n      <td>0.243870</td>\n      <td>0.001141</td>\n      <td>0.140354</td>\n      <td>20.156356</td>\n      <td>292927</td>\n      <td>5</td>\n      <td>3826</td>\n      <td>42</td>\n      <td>60</td>\n    </tr>\n    <tr>\n      <th>12</th>\n      <td>0.674997</td>\n      <td>0.695270</td>\n      <td>0.020273</td>\n      <td>1000</td>\n      <td>0.059882</td>\n      <td>51</td>\n      <td>-1</td>\n      <td>0.947696</td>\n      <td>0.804784</td>\n      <td>142.193097</td>\n      <td>0.037509</td>\n      <td>0.005426</td>\n      <td>0.197556</td>\n      <td>22.620934</td>\n      <td>225302</td>\n      <td>3</td>\n      <td>288</td>\n      <td>42</td>\n      <td>60</td>\n    </tr>\n    <tr>\n      <th>13</th>\n      <td>0.673948</td>\n      <td>0.699045</td>\n      <td>0.025096</td>\n      <td>1000</td>\n      <td>0.071860</td>\n      <td>139</td>\n      <td>-1</td>\n      <td>0.845088</td>\n      <td>0.801418</td>\n      <td>138.887106</td>\n      <td>0.023936</td>\n      <td>0.005230</td>\n      <td>0.133415</td>\n      <td>50.280517</td>\n      <td>210629</td>\n      <td>3</td>\n      <td>44</td>\n      <td>42</td>\n      <td>60</td>\n    </tr>\n    <tr>\n      <th>14</th>\n      <td>0.672421</td>\n      <td>0.699099</td>\n      <td>0.026678</td>\n      <td>1000</td>\n      <td>0.071922</td>\n      <td>146</td>\n      <td>-1</td>\n      <td>0.838965</td>\n      <td>0.800373</td>\n      <td>143.941001</td>\n      <td>0.021933</td>\n      <td>0.008002</td>\n      <td>0.016543</td>\n      <td>50.390686</td>\n      <td>202896</td>\n      <td>2</td>\n      <td>62</td>\n      <td>42</td>\n      <td>60</td>\n    </tr>\n    <tr>\n      <th>15</th>\n      <td>0.670523</td>\n      <td>0.689578</td>\n      <td>0.019055</td>\n      <td>1000</td>\n      <td>0.118067</td>\n      <td>134</td>\n      <td>-1</td>\n      <td>0.847773</td>\n      <td>0.856822</td>\n      <td>138.497910</td>\n      <td>0.023197</td>\n      <td>0.033989</td>\n      <td>0.081900</td>\n      <td>51.504057</td>\n      <td>187715</td>\n      <td>3</td>\n      <td>4623</td>\n      <td>42</td>\n      <td>60</td>\n    </tr>\n    <tr>\n      <th>16</th>\n      <td>0.670203</td>\n      <td>0.696821</td>\n      <td>0.026618</td>\n      <td>1000</td>\n      <td>0.067771</td>\n      <td>182</td>\n      <td>-1</td>\n      <td>0.794640</td>\n      <td>0.803503</td>\n      <td>194.468299</td>\n      <td>0.020930</td>\n      <td>0.002947</td>\n      <td>0.036062</td>\n      <td>13.813741</td>\n      <td>249008</td>\n      <td>2</td>\n      <td>596</td>\n      <td>42</td>\n      <td>60</td>\n    </tr>\n    <tr>\n      <th>17</th>\n      <td>0.672779</td>\n      <td>0.697287</td>\n      <td>0.024508</td>\n      <td>1000</td>\n      <td>0.099706</td>\n      <td>118</td>\n      <td>-1</td>\n      <td>0.865471</td>\n      <td>0.934018</td>\n      <td>135.098827</td>\n      <td>0.197259</td>\n      <td>0.012997</td>\n      <td>0.247021</td>\n      <td>58.647219</td>\n      <td>167130</td>\n      <td>6</td>\n      <td>22</td>\n      <td>42</td>\n      <td>60</td>\n    </tr>\n    <tr>\n      <th>18</th>\n      <td>0.667282</td>\n      <td>0.677412</td>\n      <td>0.010130</td>\n      <td>1000</td>\n      <td>0.123466</td>\n      <td>158</td>\n      <td>-1</td>\n      <td>0.908747</td>\n      <td>0.852977</td>\n      <td>89.467444</td>\n      <td>0.041120</td>\n      <td>0.002109</td>\n      <td>0.305274</td>\n      <td>98.730484</td>\n      <td>206111</td>\n      <td>3</td>\n      <td>13740</td>\n      <td>42</td>\n      <td>60</td>\n    </tr>\n    <tr>\n      <th>19</th>\n      <td>0.667613</td>\n      <td>0.671616</td>\n      <td>0.004003</td>\n      <td>1000</td>\n      <td>0.058196</td>\n      <td>190</td>\n      <td>-1</td>\n      <td>0.803674</td>\n      <td>0.805256</td>\n      <td>159.755497</td>\n      <td>0.013401</td>\n      <td>0.083352</td>\n      <td>2.836924</td>\n      <td>41.338901</td>\n      <td>267771</td>\n      <td>2</td>\n      <td>4550</td>\n      <td>42</td>\n      <td>60</td>\n    </tr>\n    <tr>\n      <th>20</th>\n      <td>0.667592</td>\n      <td>0.677695</td>\n      <td>0.010103</td>\n      <td>1000</td>\n      <td>0.086565</td>\n      <td>78</td>\n      <td>-1</td>\n      <td>0.870893</td>\n      <td>0.877137</td>\n      <td>196.958450</td>\n      <td>0.441417</td>\n      <td>0.015794</td>\n      <td>0.011739</td>\n      <td>11.384901</td>\n      <td>235194</td>\n      <td>4</td>\n      <td>11187</td>\n      <td>42</td>\n      <td>60</td>\n    </tr>\n    <tr>\n      <th>21</th>\n      <td>0.672112</td>\n      <td>0.702105</td>\n      <td>0.029992</td>\n      <td>1000</td>\n      <td>0.107022</td>\n      <td>121</td>\n      <td>-1</td>\n      <td>0.858942</td>\n      <td>0.940934</td>\n      <td>131.075039</td>\n      <td>0.148368</td>\n      <td>0.010351</td>\n      <td>0.287890</td>\n      <td>59.001342</td>\n      <td>169566</td>\n      <td>6</td>\n      <td>902</td>\n      <td>42</td>\n      <td>60</td>\n    </tr>\n    <tr>\n      <th>22</th>\n      <td>0.673030</td>\n      <td>0.698159</td>\n      <td>0.025130</td>\n      <td>1000</td>\n      <td>0.085654</td>\n      <td>110</td>\n      <td>-1</td>\n      <td>0.818775</td>\n      <td>0.948027</td>\n      <td>146.702689</td>\n      <td>0.046687</td>\n      <td>0.021799</td>\n      <td>0.090425</td>\n      <td>61.112789</td>\n      <td>137418</td>\n      <td>6</td>\n      <td>244</td>\n      <td>42</td>\n      <td>60</td>\n    </tr>\n    <tr>\n      <th>23</th>\n      <td>0.673652</td>\n      <td>0.690947</td>\n      <td>0.017296</td>\n      <td>1000</td>\n      <td>0.054341</td>\n      <td>33</td>\n      <td>-1</td>\n      <td>0.814592</td>\n      <td>0.966130</td>\n      <td>153.081089</td>\n      <td>0.040997</td>\n      <td>0.031888</td>\n      <td>0.033397</td>\n      <td>61.091754</td>\n      <td>133004</td>\n      <td>7</td>\n      <td>330</td>\n      <td>42</td>\n      <td>60</td>\n    </tr>\n    <tr>\n      <th>24</th>\n      <td>0.669913</td>\n      <td>0.681184</td>\n      <td>0.011271</td>\n      <td>1000</td>\n      <td>0.049106</td>\n      <td>30</td>\n      <td>-1</td>\n      <td>0.783098</td>\n      <td>0.968631</td>\n      <td>119.885944</td>\n      <td>0.010817</td>\n      <td>0.005408</td>\n      <td>0.037225</td>\n      <td>43.439547</td>\n      <td>194669</td>\n      <td>9</td>\n      <td>5632</td>\n      <td>42</td>\n      <td>60</td>\n    </tr>\n    <tr>\n      <th>25</th>\n      <td>0.673789</td>\n      <td>0.691329</td>\n      <td>0.017541</td>\n      <td>1000</td>\n      <td>0.061207</td>\n      <td>33</td>\n      <td>-1</td>\n      <td>0.818003</td>\n      <td>0.969964</td>\n      <td>181.600072</td>\n      <td>0.040730</td>\n      <td>0.055680</td>\n      <td>0.024227</td>\n      <td>45.886489</td>\n      <td>116921</td>\n      <td>7</td>\n      <td>1717</td>\n      <td>42</td>\n      <td>60</td>\n    </tr>\n    <tr>\n      <th>26</th>\n      <td>0.672552</td>\n      <td>0.689487</td>\n      <td>0.016935</td>\n      <td>1000</td>\n      <td>0.025512</td>\n      <td>66</td>\n      <td>-1</td>\n      <td>0.888309</td>\n      <td>0.920007</td>\n      <td>97.775955</td>\n      <td>0.080813</td>\n      <td>0.076952</td>\n      <td>0.010076</td>\n      <td>21.195338</td>\n      <td>214594</td>\n      <td>5</td>\n      <td>1806</td>\n      <td>42</td>\n      <td>60</td>\n    </tr>\n    <tr>\n      <th>27</th>\n      <td>0.669343</td>\n      <td>0.674393</td>\n      <td>0.005050</td>\n      <td>1000</td>\n      <td>0.066324</td>\n      <td>7</td>\n      <td>-1</td>\n      <td>0.842886</td>\n      <td>0.817099</td>\n      <td>182.518770</td>\n      <td>0.002429</td>\n      <td>0.131002</td>\n      <td>0.095417</td>\n      <td>46.511777</td>\n      <td>104966</td>\n      <td>7</td>\n      <td>3331</td>\n      <td>42</td>\n      <td>60</td>\n    </tr>\n    <tr>\n      <th>28</th>\n      <td>0.672697</td>\n      <td>0.695079</td>\n      <td>0.022383</td>\n      <td>1000</td>\n      <td>0.199911</td>\n      <td>48</td>\n      <td>-1</td>\n      <td>0.911004</td>\n      <td>0.999574</td>\n      <td>178.461499</td>\n      <td>0.029064</td>\n      <td>0.231817</td>\n      <td>0.349764</td>\n      <td>34.121915</td>\n      <td>180752</td>\n      <td>4</td>\n      <td>2331</td>\n      <td>42</td>\n      <td>60</td>\n    </tr>\n    <tr>\n      <th>29</th>\n      <td>0.672739</td>\n      <td>0.682852</td>\n      <td>0.010113</td>\n      <td>1000</td>\n      <td>0.041377</td>\n      <td>22</td>\n      <td>-1</td>\n      <td>0.787118</td>\n      <td>0.847298</td>\n      <td>164.071606</td>\n      <td>0.345593</td>\n      <td>0.049138</td>\n      <td>0.571307</td>\n      <td>25.933479</td>\n      <td>247419</td>\n      <td>5</td>\n      <td>1417</td>\n      <td>42</td>\n      <td>60</td>\n    </tr>\n  </tbody>\n</table>\n</div>"
     },
     "metadata": {},
     "execution_count": 51
    }
   ],
   "source": [
    "info_opt = pd.read_csv(OPTIMIZE_FILE)\n",
    "\n",
    "info_opt_all = pd.DataFrame([ast.literal_eval(info_opt.loc[i, 'params']) for i in range(info_opt.shape[0])])\n",
    "info_opt_all.insert(0, 'auc_test', info_opt['auc_test'])\n",
    "info_opt_all.insert(1, 'auc_train', info_opt['auc_train'])\n",
    "info_opt_all.insert(2, 'diff_auc', info_opt['auc_train'] - info_opt['auc_test'])\n",
    "info_opt_all"
   ]
  },
  {
   "source": [
    "## Training with the best params"
   ],
   "cell_type": "markdown",
   "metadata": {}
  },
  {
   "cell_type": "code",
   "execution_count": 57,
   "metadata": {},
   "outputs": [
    {
     "output_type": "execute_result",
     "data": {
      "text/plain": [
       "{'random_state': 42,\n",
       " 'n_jobs': 60,\n",
       " 'n_estimators': 1000,\n",
       " 'learning_rate': 0.0598818380781255,\n",
       " 'num_leaves': 51,\n",
       " 'max_depth': -1,\n",
       " 'subsample': 0.9476962184790506,\n",
       " 'colsample_bytree': 0.8047843153701006,\n",
       " 'min_child_weight': 142.19309706768772,\n",
       " 'reg_alpha': 0.03750945925616626,\n",
       " 'reg_lambda': 0.005425505991139322,\n",
       " 'min_split_gain': 0.19755645206408207,\n",
       " 'max_delta_step': 22.62093380922365,\n",
       " 'subsample_for_bin': 225302,\n",
       " 'subsample_freq': 3,\n",
       " 'min_data_in_leaf': 288}"
      ]
     },
     "metadata": {},
     "execution_count": 57
    }
   ],
   "source": [
    "best_eval = 12\n",
    "\n",
    "best_params = {'random_state': SEED\n",
    "               , 'n_jobs' : NJOBS\n",
    "               , 'n_estimators': N_EST\n",
    "              }\n",
    "best_params.update(dict(info_opt_all.drop(['auc_test', 'auc_train', 'diff_auc'], axis=1).loc[best_eval,:]))\n",
    "for k, v in best_params.items():\n",
    "    if k in INT_PARAMS:\n",
    "        best_params[k] = int(v)\n",
    "best_params"
   ]
  },
  {
   "cell_type": "code",
   "execution_count": 54,
   "metadata": {},
   "outputs": [
    {
     "output_type": "stream",
     "name": "stdout",
     "text": [
      "[LightGBM] [Warning] min_data_in_leaf is set=288, min_child_samples=20 will be ignored. Current value: min_data_in_leaf=288\n",
      "Training until validation scores don't improve for 50 rounds\n",
      "[200]\ttraining's binary_logloss: 0.589761\tvalid_1's binary_logloss: 0.599646\n",
      "[400]\ttraining's binary_logloss: 0.580859\tvalid_1's binary_logloss: 0.597771\n",
      "[600]\ttraining's binary_logloss: 0.57422\tvalid_1's binary_logloss: 0.59717\n",
      "Early stopping, best iteration is:\n",
      "[660]\ttraining's binary_logloss: 0.572446\tvalid_1's binary_logloss: 0.597084\n"
     ]
    },
    {
     "output_type": "execute_result",
     "data": {
      "text/plain": [
       "LGBMClassifier(boosting_type='gbdt', class_weight=None,\n",
       "               colsample_bytree=0.8047843153701006, importance_type='split',\n",
       "               learning_rate=0.0598818380781255,\n",
       "               max_delta_step=22.62093380922365, max_depth=-1,\n",
       "               min_child_samples=20, min_child_weight=142.19309706768772,\n",
       "               min_data_in_leaf=288, min_split_gain=0.19755645206408207,\n",
       "               n_estimators=1000, n_jobs=60, num_leaves=51, objective=None,\n",
       "               random_state=42, reg_alpha=0.03750945925616626,\n",
       "               reg_lambda=0.005425505991139322, silent=True,\n",
       "               subsample=0.9476962184790506, subsample_for_bin=225302,\n",
       "               subsample_freq=3)"
      ]
     },
     "metadata": {},
     "execution_count": 54
    }
   ],
   "source": [
    "best_params['n_estimators'] = 1000\n",
    "lgb = LGBMClassifier(**best_params)\n",
    "lgb.fit(X_train, y_train, eval_metric=['binary_logloss'], verbose=200, early_stopping_rounds=50\n",
    "             , eval_set=[(X_train, y_train), (X_test, y_test)])"
   ]
  },
  {
   "source": [
    "## Prediction in validation out of time"
   ],
   "cell_type": "markdown",
   "metadata": {}
  },
  {
   "cell_type": "code",
   "execution_count": 64,
   "metadata": {},
   "outputs": [],
   "source": [
    "pred_val = lgb.predict(validation_df.loc[:, ~validation_df.columns.isin([\"target_var\"])])\n",
    "    \n",
    "auc_val = roc_auc_score(validation_df[\"target_var\"], pred_val)\n",
    "logloss_val = log_loss(validation_df[\"target_var\"], pred_val)"
   ]
  },
  {
   "cell_type": "code",
   "execution_count": 67,
   "metadata": {},
   "outputs": [
    {
     "output_type": "stream",
     "name": "stdout",
     "text": [
      "Validation AUC: 0.6083391766028279\nValidation logloss: 13.3439633389118\n"
     ]
    }
   ],
   "source": [
    "print(\"Validation AUC: \"+str(auc_test)+\"\\nValidation logloss: \"+str(logloss_val))"
   ]
  },
  {
   "source": [
    "As we can see. Even if the metrics on test sample were not so different from the train set, the validation metrics for the last month were less efective. This could be because The users we saw on the training set were different for the month for validation and different movies were rated. We could include more months to the training or create new variables.\n",
    "\n",
    "Lets save the model:"
   ],
   "cell_type": "markdown",
   "metadata": {}
  },
  {
   "cell_type": "code",
   "execution_count": 68,
   "metadata": {},
   "outputs": [],
   "source": [
    "filehandler = open(project_path+'model1_lgbm.pkl',\"wb\")\n",
    "pickle.dump(lgb,filehandler)\n",
    "filehandler.close()"
   ]
  },
  {
   "source": [
    "## Explaning the model"
   ],
   "cell_type": "markdown",
   "metadata": {}
  },
  {
   "cell_type": "code",
   "execution_count": 98,
   "metadata": {},
   "outputs": [
    {
     "output_type": "stream",
     "name": "stdout",
     "text": [
      "CPU times: user 1.38 s, sys: 99.2 ms, total: 1.48 s\nWall time: 1.52 s\n"
     ]
    }
   ],
   "source": [
    "%time explainer = shap.TreeExplainer(lgb)\n",
    "shap_values = explainer.shap_values(X_test)"
   ]
  },
  {
   "cell_type": "code",
   "execution_count": 99,
   "metadata": {},
   "outputs": [
    {
     "output_type": "display_data",
     "data": {
      "text/plain": "<Figure size 576x684 with 1 Axes>",
      "image/svg+xml": "<?xml version=\"1.0\" encoding=\"utf-8\" standalone=\"no\"?>\n<!DOCTYPE svg PUBLIC \"-//W3C//DTD SVG 1.1//EN\"\n  \"http://www.w3.org/Graphics/SVG/1.1/DTD/svg11.dtd\">\n<svg height=\"565.465937pt\" version=\"1.1\" viewBox=\"0 0 744.4725 565.465937\" width=\"744.4725pt\" xmlns=\"http://www.w3.org/2000/svg\" xmlns:xlink=\"http://www.w3.org/1999/xlink\">\n <metadata>\n  <rdf:RDF xmlns:cc=\"http://creativecommons.org/ns#\" xmlns:dc=\"http://purl.org/dc/elements/1.1/\" xmlns:rdf=\"http://www.w3.org/1999/02/22-rdf-syntax-ns#\">\n   <cc:Work>\n    <dc:type rdf:resource=\"http://purl.org/dc/dcmitype/StillImage\"/>\n    <dc:date>2021-04-11T15:33:15.241874</dc:date>\n    <dc:format>image/svg+xml</dc:format>\n    <dc:creator>\n     <cc:Agent>\n      <dc:title>Matplotlib v3.4.1, https://matplotlib.org/</dc:title>\n     </cc:Agent>\n    </dc:creator>\n   </cc:Work>\n  </rdf:RDF>\n </metadata>\n <defs>\n  <style type=\"text/css\">*{stroke-linecap:butt;stroke-linejoin:round;}</style>\n </defs>\n <g id=\"figure_1\">\n  <g id=\"patch_1\">\n   <path d=\"M 0 565.465937 \nL 744.4725 565.465937 \nL 744.4725 0 \nL 0 0 \nz\n\" style=\"fill:none;\"/>\n  </g>\n  <g id=\"axes_1\">\n   <g id=\"patch_2\">\n    <path d=\"M 290.8725 523.62 \nL 737.2725 523.62 \nL 737.2725 7.2 \nL 290.8725 7.2 \nz\n\" style=\"fill:#ffffff;\"/>\n   </g>\n   <g id=\"line2d_1\">\n    <path clip-path=\"url(#pd4b33305c3)\" d=\"M 290.8725 523.62 \nL 290.8725 7.2 \n\" style=\"fill:none;stroke:#999999;stroke-linecap:square;stroke-width:1.5;\"/>\n   </g>\n   <g id=\"patch_3\">\n    <path clip-path=\"url(#pd4b33305c3)\" d=\"M 290.8725 507.635571 \nL 303.422276 507.635571 \nL 303.422276 490.421571 \nL 290.8725 490.421571 \nz\n\" style=\"fill:#008bfb;\"/>\n   </g>\n   <g id=\"patch_4\">\n    <path clip-path=\"url(#pd4b33305c3)\" d=\"M 290.8725 483.044143 \nL 305.440353 483.044143 \nL 305.440353 465.830143 \nL 290.8725 465.830143 \nz\n\" style=\"fill:#008bfb;\"/>\n   </g>\n   <g id=\"patch_5\">\n    <path clip-path=\"url(#pd4b33305c3)\" d=\"M 290.8725 458.452714 \nL 305.982169 458.452714 \nL 305.982169 441.238714 \nL 290.8725 441.238714 \nz\n\" style=\"fill:#008bfb;\"/>\n   </g>\n   <g id=\"patch_6\">\n    <path clip-path=\"url(#pd4b33305c3)\" d=\"M 290.8725 433.861286 \nL 307.720268 433.861286 \nL 307.720268 416.647286 \nL 290.8725 416.647286 \nz\n\" style=\"fill:#008bfb;\"/>\n   </g>\n   <g id=\"patch_7\">\n    <path clip-path=\"url(#pd4b33305c3)\" d=\"M 290.8725 409.269857 \nL 311.97656 409.269857 \nL 311.97656 392.055857 \nL 290.8725 392.055857 \nz\n\" style=\"fill:#008bfb;\"/>\n   </g>\n   <g id=\"patch_8\">\n    <path clip-path=\"url(#pd4b33305c3)\" d=\"M 290.8725 384.678429 \nL 314.451081 384.678429 \nL 314.451081 367.464429 \nL 290.8725 367.464429 \nz\n\" style=\"fill:#008bfb;\"/>\n   </g>\n   <g id=\"patch_9\">\n    <path clip-path=\"url(#pd4b33305c3)\" d=\"M 290.8725 360.087 \nL 314.904839 360.087 \nL 314.904839 342.873 \nL 290.8725 342.873 \nz\n\" style=\"fill:#008bfb;\"/>\n   </g>\n   <g id=\"patch_10\">\n    <path clip-path=\"url(#pd4b33305c3)\" d=\"M 290.8725 335.495571 \nL 315.560772 335.495571 \nL 315.560772 318.281571 \nL 290.8725 318.281571 \nz\n\" style=\"fill:#008bfb;\"/>\n   </g>\n   <g id=\"patch_11\">\n    <path clip-path=\"url(#pd4b33305c3)\" d=\"M 290.8725 310.904143 \nL 321.367156 310.904143 \nL 321.367156 293.690143 \nL 290.8725 293.690143 \nz\n\" style=\"fill:#008bfb;\"/>\n   </g>\n   <g id=\"patch_12\">\n    <path clip-path=\"url(#pd4b33305c3)\" d=\"M 290.8725 286.312714 \nL 322.640198 286.312714 \nL 322.640198 269.098714 \nL 290.8725 269.098714 \nz\n\" style=\"fill:#008bfb;\"/>\n   </g>\n   <g id=\"patch_13\">\n    <path clip-path=\"url(#pd4b33305c3)\" d=\"M 290.8725 261.721286 \nL 322.748799 261.721286 \nL 322.748799 244.507286 \nL 290.8725 244.507286 \nz\n\" style=\"fill:#008bfb;\"/>\n   </g>\n   <g id=\"patch_14\">\n    <path clip-path=\"url(#pd4b33305c3)\" d=\"M 290.8725 237.129857 \nL 326.805715 237.129857 \nL 326.805715 219.915857 \nL 290.8725 219.915857 \nz\n\" style=\"fill:#008bfb;\"/>\n   </g>\n   <g id=\"patch_15\">\n    <path clip-path=\"url(#pd4b33305c3)\" d=\"M 290.8725 212.538429 \nL 335.602968 212.538429 \nL 335.602968 195.324429 \nL 290.8725 195.324429 \nz\n\" style=\"fill:#008bfb;\"/>\n   </g>\n   <g id=\"patch_16\">\n    <path clip-path=\"url(#pd4b33305c3)\" d=\"M 290.8725 187.947 \nL 338.306317 187.947 \nL 338.306317 170.733 \nL 290.8725 170.733 \nz\n\" style=\"fill:#008bfb;\"/>\n   </g>\n   <g id=\"patch_17\">\n    <path clip-path=\"url(#pd4b33305c3)\" d=\"M 290.8725 163.355571 \nL 343.21997 163.355571 \nL 343.21997 146.141571 \nL 290.8725 146.141571 \nz\n\" style=\"fill:#008bfb;\"/>\n   </g>\n   <g id=\"patch_18\">\n    <path clip-path=\"url(#pd4b33305c3)\" d=\"M 290.8725 138.764143 \nL 353.927326 138.764143 \nL 353.927326 121.550143 \nL 290.8725 121.550143 \nz\n\" style=\"fill:#008bfb;\"/>\n   </g>\n   <g id=\"patch_19\">\n    <path clip-path=\"url(#pd4b33305c3)\" d=\"M 290.8725 114.172714 \nL 454.406725 114.172714 \nL 454.406725 96.958714 \nL 290.8725 96.958714 \nz\n\" style=\"fill:#008bfb;\"/>\n   </g>\n   <g id=\"patch_20\">\n    <path clip-path=\"url(#pd4b33305c3)\" d=\"M 290.8725 89.581286 \nL 459.072734 89.581286 \nL 459.072734 72.367286 \nL 290.8725 72.367286 \nz\n\" style=\"fill:#008bfb;\"/>\n   </g>\n   <g id=\"patch_21\">\n    <path clip-path=\"url(#pd4b33305c3)\" d=\"M 290.8725 64.989857 \nL 480.610433 64.989857 \nL 480.610433 47.775857 \nL 290.8725 47.775857 \nz\n\" style=\"fill:#008bfb;\"/>\n   </g>\n   <g id=\"patch_22\">\n    <path clip-path=\"url(#pd4b33305c3)\" d=\"M 290.8725 40.398429 \nL 503.443929 40.398429 \nL 503.443929 23.184429 \nL 290.8725 23.184429 \nz\n\" style=\"fill:#008bfb;\"/>\n   </g>\n   <g id=\"patch_23\">\n    <path clip-path=\"url(#pd4b33305c3)\" d=\"M 303.422276 507.635571 \nL 315.972052 507.635571 \nL 315.972052 490.421571 \nL 303.422276 490.421571 \nz\n\" style=\"fill:#ff004f;\"/>\n   </g>\n   <g id=\"patch_24\">\n    <path clip-path=\"url(#pd4b33305c3)\" d=\"M 305.440353 483.044143 \nL 320.008205 483.044143 \nL 320.008205 465.830143 \nL 305.440353 465.830143 \nz\n\" style=\"fill:#ff004f;\"/>\n   </g>\n   <g id=\"patch_25\">\n    <path clip-path=\"url(#pd4b33305c3)\" d=\"M 305.982169 458.452714 \nL 321.091838 458.452714 \nL 321.091838 441.238714 \nL 305.982169 441.238714 \nz\n\" style=\"fill:#ff004f;\"/>\n   </g>\n   <g id=\"patch_26\">\n    <path clip-path=\"url(#pd4b33305c3)\" d=\"M 307.720268 433.861286 \nL 324.568036 433.861286 \nL 324.568036 416.647286 \nL 307.720268 416.647286 \nz\n\" style=\"fill:#ff004f;\"/>\n   </g>\n   <g id=\"patch_27\">\n    <path clip-path=\"url(#pd4b33305c3)\" d=\"M 311.97656 409.269857 \nL 333.080619 409.269857 \nL 333.080619 392.055857 \nL 311.97656 392.055857 \nz\n\" style=\"fill:#ff004f;\"/>\n   </g>\n   <g id=\"patch_28\">\n    <path clip-path=\"url(#pd4b33305c3)\" d=\"M 314.451081 384.678429 \nL 338.029662 384.678429 \nL 338.029662 367.464429 \nL 314.451081 367.464429 \nz\n\" style=\"fill:#ff004f;\"/>\n   </g>\n   <g id=\"patch_29\">\n    <path clip-path=\"url(#pd4b33305c3)\" d=\"M 314.904839 360.087 \nL 338.937177 360.087 \nL 338.937177 342.873 \nL 314.904839 342.873 \nz\n\" style=\"fill:#ff004f;\"/>\n   </g>\n   <g id=\"patch_30\">\n    <path clip-path=\"url(#pd4b33305c3)\" d=\"M 315.560772 335.495571 \nL 340.249045 335.495571 \nL 340.249045 318.281571 \nL 315.560772 318.281571 \nz\n\" style=\"fill:#ff004f;\"/>\n   </g>\n   <g id=\"patch_31\">\n    <path clip-path=\"url(#pd4b33305c3)\" d=\"M 321.367156 310.904143 \nL 351.861811 310.904143 \nL 351.861811 293.690143 \nL 321.367156 293.690143 \nz\n\" style=\"fill:#ff004f;\"/>\n   </g>\n   <g id=\"patch_32\">\n    <path clip-path=\"url(#pd4b33305c3)\" d=\"M 322.640198 286.312714 \nL 354.407897 286.312714 \nL 354.407897 269.098714 \nL 322.640198 269.098714 \nz\n\" style=\"fill:#ff004f;\"/>\n   </g>\n   <g id=\"patch_33\">\n    <path clip-path=\"url(#pd4b33305c3)\" d=\"M 322.748799 261.721286 \nL 354.625097 261.721286 \nL 354.625097 244.507286 \nL 322.748799 244.507286 \nz\n\" style=\"fill:#ff004f;\"/>\n   </g>\n   <g id=\"patch_34\">\n    <path clip-path=\"url(#pd4b33305c3)\" d=\"M 326.805715 237.129857 \nL 362.73893 237.129857 \nL 362.73893 219.915857 \nL 326.805715 219.915857 \nz\n\" style=\"fill:#ff004f;\"/>\n   </g>\n   <g id=\"patch_35\">\n    <path clip-path=\"url(#pd4b33305c3)\" d=\"M 335.602968 212.538429 \nL 380.333436 212.538429 \nL 380.333436 195.324429 \nL 335.602968 195.324429 \nz\n\" style=\"fill:#ff004f;\"/>\n   </g>\n   <g id=\"patch_36\">\n    <path clip-path=\"url(#pd4b33305c3)\" d=\"M 338.306317 187.947 \nL 385.740133 187.947 \nL 385.740133 170.733 \nL 338.306317 170.733 \nz\n\" style=\"fill:#ff004f;\"/>\n   </g>\n   <g id=\"patch_37\">\n    <path clip-path=\"url(#pd4b33305c3)\" d=\"M 343.21997 163.355571 \nL 395.567439 163.355571 \nL 395.567439 146.141571 \nL 343.21997 146.141571 \nz\n\" style=\"fill:#ff004f;\"/>\n   </g>\n   <g id=\"patch_38\">\n    <path clip-path=\"url(#pd4b33305c3)\" d=\"M 353.927326 138.764143 \nL 416.982153 138.764143 \nL 416.982153 121.550143 \nL 353.927326 121.550143 \nz\n\" style=\"fill:#ff004f;\"/>\n   </g>\n   <g id=\"patch_39\">\n    <path clip-path=\"url(#pd4b33305c3)\" d=\"M 454.406725 114.172714 \nL 617.94095 114.172714 \nL 617.94095 96.958714 \nL 454.406725 96.958714 \nz\n\" style=\"fill:#ff004f;\"/>\n   </g>\n   <g id=\"patch_40\">\n    <path clip-path=\"url(#pd4b33305c3)\" d=\"M 459.072734 89.581286 \nL 627.272967 89.581286 \nL 627.272967 72.367286 \nL 459.072734 72.367286 \nz\n\" style=\"fill:#ff004f;\"/>\n   </g>\n   <g id=\"patch_41\">\n    <path clip-path=\"url(#pd4b33305c3)\" d=\"M 480.610433 64.989857 \nL 670.348365 64.989857 \nL 670.348365 47.775857 \nL 480.610433 47.775857 \nz\n\" style=\"fill:#ff004f;\"/>\n   </g>\n   <g id=\"patch_42\">\n    <path clip-path=\"url(#pd4b33305c3)\" d=\"M 503.443929 40.398429 \nL 716.015357 40.398429 \nL 716.015357 23.184429 \nL 503.443929 23.184429 \nz\n\" style=\"fill:#ff004f;\"/>\n   </g>\n   <g id=\"matplotlib.axis_1\">\n    <g id=\"xtick_1\">\n     <g id=\"line2d_2\">\n      <defs>\n       <path d=\"M 0 0 \nL 0 3.5 \n\" id=\"mcd9193c6c0\" style=\"stroke:#333333;stroke-width:0.8;\"/>\n      </defs>\n      <g>\n       <use style=\"fill:#333333;stroke:#333333;stroke-width:0.8;\" x=\"290.8725\" xlink:href=\"#mcd9193c6c0\" y=\"523.62\"/>\n      </g>\n     </g>\n     <g id=\"text_1\">\n      <!-- 0.0 -->\n      <g style=\"fill:#333333;\" transform=\"translate(282.125781 538.978281)scale(0.11 -0.11)\">\n       <defs>\n        <path d=\"M 2034 4250 \nQ 1547 4250 1301 3770 \nQ 1056 3291 1056 2328 \nQ 1056 1369 1301 889 \nQ 1547 409 2034 409 \nQ 2525 409 2770 889 \nQ 3016 1369 3016 2328 \nQ 3016 3291 2770 3770 \nQ 2525 4250 2034 4250 \nz\nM 2034 4750 \nQ 2819 4750 3233 4129 \nQ 3647 3509 3647 2328 \nQ 3647 1150 3233 529 \nQ 2819 -91 2034 -91 \nQ 1250 -91 836 529 \nQ 422 1150 422 2328 \nQ 422 3509 836 4129 \nQ 1250 4750 2034 4750 \nz\n\" id=\"DejaVuSans-30\" transform=\"scale(0.015625)\"/>\n        <path d=\"M 684 794 \nL 1344 794 \nL 1344 0 \nL 684 0 \nL 684 794 \nz\n\" id=\"DejaVuSans-2e\" transform=\"scale(0.015625)\"/>\n       </defs>\n       <use xlink:href=\"#DejaVuSans-30\"/>\n       <use x=\"63.623047\" xlink:href=\"#DejaVuSans-2e\"/>\n       <use x=\"95.410156\" xlink:href=\"#DejaVuSans-30\"/>\n      </g>\n     </g>\n    </g>\n    <g id=\"xtick_2\">\n     <g id=\"line2d_3\">\n      <g>\n       <use style=\"fill:#333333;stroke:#333333;stroke-width:0.8;\" x=\"371.210277\" xlink:href=\"#mcd9193c6c0\" y=\"523.62\"/>\n      </g>\n     </g>\n     <g id=\"text_2\">\n      <!-- 0.1 -->\n      <g style=\"fill:#333333;\" transform=\"translate(362.463558 538.978281)scale(0.11 -0.11)\">\n       <defs>\n        <path d=\"M 794 531 \nL 1825 531 \nL 1825 4091 \nL 703 3866 \nL 703 4441 \nL 1819 4666 \nL 2450 4666 \nL 2450 531 \nL 3481 531 \nL 3481 0 \nL 794 0 \nL 794 531 \nz\n\" id=\"DejaVuSans-31\" transform=\"scale(0.015625)\"/>\n       </defs>\n       <use xlink:href=\"#DejaVuSans-30\"/>\n       <use x=\"63.623047\" xlink:href=\"#DejaVuSans-2e\"/>\n       <use x=\"95.410156\" xlink:href=\"#DejaVuSans-31\"/>\n      </g>\n     </g>\n    </g>\n    <g id=\"xtick_3\">\n     <g id=\"line2d_4\">\n      <g>\n       <use style=\"fill:#333333;stroke:#333333;stroke-width:0.8;\" x=\"451.548054\" xlink:href=\"#mcd9193c6c0\" y=\"523.62\"/>\n      </g>\n     </g>\n     <g id=\"text_3\">\n      <!-- 0.2 -->\n      <g style=\"fill:#333333;\" transform=\"translate(442.801335 538.978281)scale(0.11 -0.11)\">\n       <defs>\n        <path d=\"M 1228 531 \nL 3431 531 \nL 3431 0 \nL 469 0 \nL 469 531 \nQ 828 903 1448 1529 \nQ 2069 2156 2228 2338 \nQ 2531 2678 2651 2914 \nQ 2772 3150 2772 3378 \nQ 2772 3750 2511 3984 \nQ 2250 4219 1831 4219 \nQ 1534 4219 1204 4116 \nQ 875 4013 500 3803 \nL 500 4441 \nQ 881 4594 1212 4672 \nQ 1544 4750 1819 4750 \nQ 2544 4750 2975 4387 \nQ 3406 4025 3406 3419 \nQ 3406 3131 3298 2873 \nQ 3191 2616 2906 2266 \nQ 2828 2175 2409 1742 \nQ 1991 1309 1228 531 \nz\n\" id=\"DejaVuSans-32\" transform=\"scale(0.015625)\"/>\n       </defs>\n       <use xlink:href=\"#DejaVuSans-30\"/>\n       <use x=\"63.623047\" xlink:href=\"#DejaVuSans-2e\"/>\n       <use x=\"95.410156\" xlink:href=\"#DejaVuSans-32\"/>\n      </g>\n     </g>\n    </g>\n    <g id=\"xtick_4\">\n     <g id=\"line2d_5\">\n      <g>\n       <use style=\"fill:#333333;stroke:#333333;stroke-width:0.8;\" x=\"531.885831\" xlink:href=\"#mcd9193c6c0\" y=\"523.62\"/>\n      </g>\n     </g>\n     <g id=\"text_4\">\n      <!-- 0.3 -->\n      <g style=\"fill:#333333;\" transform=\"translate(523.139112 538.978281)scale(0.11 -0.11)\">\n       <defs>\n        <path d=\"M 2597 2516 \nQ 3050 2419 3304 2112 \nQ 3559 1806 3559 1356 \nQ 3559 666 3084 287 \nQ 2609 -91 1734 -91 \nQ 1441 -91 1130 -33 \nQ 819 25 488 141 \nL 488 750 \nQ 750 597 1062 519 \nQ 1375 441 1716 441 \nQ 2309 441 2620 675 \nQ 2931 909 2931 1356 \nQ 2931 1769 2642 2001 \nQ 2353 2234 1838 2234 \nL 1294 2234 \nL 1294 2753 \nL 1863 2753 \nQ 2328 2753 2575 2939 \nQ 2822 3125 2822 3475 \nQ 2822 3834 2567 4026 \nQ 2313 4219 1838 4219 \nQ 1578 4219 1281 4162 \nQ 984 4106 628 3988 \nL 628 4550 \nQ 988 4650 1302 4700 \nQ 1616 4750 1894 4750 \nQ 2613 4750 3031 4423 \nQ 3450 4097 3450 3541 \nQ 3450 3153 3228 2886 \nQ 3006 2619 2597 2516 \nz\n\" id=\"DejaVuSans-33\" transform=\"scale(0.015625)\"/>\n       </defs>\n       <use xlink:href=\"#DejaVuSans-30\"/>\n       <use x=\"63.623047\" xlink:href=\"#DejaVuSans-2e\"/>\n       <use x=\"95.410156\" xlink:href=\"#DejaVuSans-33\"/>\n      </g>\n     </g>\n    </g>\n    <g id=\"xtick_5\">\n     <g id=\"line2d_6\">\n      <g>\n       <use style=\"fill:#333333;stroke:#333333;stroke-width:0.8;\" x=\"612.223608\" xlink:href=\"#mcd9193c6c0\" y=\"523.62\"/>\n      </g>\n     </g>\n     <g id=\"text_5\">\n      <!-- 0.4 -->\n      <g style=\"fill:#333333;\" transform=\"translate(603.47689 538.978281)scale(0.11 -0.11)\">\n       <defs>\n        <path d=\"M 2419 4116 \nL 825 1625 \nL 2419 1625 \nL 2419 4116 \nz\nM 2253 4666 \nL 3047 4666 \nL 3047 1625 \nL 3713 1625 \nL 3713 1100 \nL 3047 1100 \nL 3047 0 \nL 2419 0 \nL 2419 1100 \nL 313 1100 \nL 313 1709 \nL 2253 4666 \nz\n\" id=\"DejaVuSans-34\" transform=\"scale(0.015625)\"/>\n       </defs>\n       <use xlink:href=\"#DejaVuSans-30\"/>\n       <use x=\"63.623047\" xlink:href=\"#DejaVuSans-2e\"/>\n       <use x=\"95.410156\" xlink:href=\"#DejaVuSans-34\"/>\n      </g>\n     </g>\n    </g>\n    <g id=\"xtick_6\">\n     <g id=\"line2d_7\">\n      <g>\n       <use style=\"fill:#333333;stroke:#333333;stroke-width:0.8;\" x=\"692.561385\" xlink:href=\"#mcd9193c6c0\" y=\"523.62\"/>\n      </g>\n     </g>\n     <g id=\"text_6\">\n      <!-- 0.5 -->\n      <g style=\"fill:#333333;\" transform=\"translate(683.814667 538.978281)scale(0.11 -0.11)\">\n       <defs>\n        <path d=\"M 691 4666 \nL 3169 4666 \nL 3169 4134 \nL 1269 4134 \nL 1269 2991 \nQ 1406 3038 1543 3061 \nQ 1681 3084 1819 3084 \nQ 2600 3084 3056 2656 \nQ 3513 2228 3513 1497 \nQ 3513 744 3044 326 \nQ 2575 -91 1722 -91 \nQ 1428 -91 1123 -41 \nQ 819 9 494 109 \nL 494 744 \nQ 775 591 1075 516 \nQ 1375 441 1709 441 \nQ 2250 441 2565 725 \nQ 2881 1009 2881 1497 \nQ 2881 1984 2565 2268 \nQ 2250 2553 1709 2553 \nQ 1456 2553 1204 2497 \nQ 953 2441 691 2322 \nL 691 4666 \nz\n\" id=\"DejaVuSans-35\" transform=\"scale(0.015625)\"/>\n       </defs>\n       <use xlink:href=\"#DejaVuSans-30\"/>\n       <use x=\"63.623047\" xlink:href=\"#DejaVuSans-2e\"/>\n       <use x=\"95.410156\" xlink:href=\"#DejaVuSans-35\"/>\n      </g>\n     </g>\n    </g>\n    <g id=\"text_7\">\n     <!-- mean(|SHAP value|) (average impact on model output magnitude) -->\n     <g transform=\"translate(297.603203 555.200781)scale(0.13 -0.13)\">\n      <defs>\n       <path d=\"M 3328 2828 \nQ 3544 3216 3844 3400 \nQ 4144 3584 4550 3584 \nQ 5097 3584 5394 3201 \nQ 5691 2819 5691 2113 \nL 5691 0 \nL 5113 0 \nL 5113 2094 \nQ 5113 2597 4934 2840 \nQ 4756 3084 4391 3084 \nQ 3944 3084 3684 2787 \nQ 3425 2491 3425 1978 \nL 3425 0 \nL 2847 0 \nL 2847 2094 \nQ 2847 2600 2669 2842 \nQ 2491 3084 2119 3084 \nQ 1678 3084 1418 2786 \nQ 1159 2488 1159 1978 \nL 1159 0 \nL 581 0 \nL 581 3500 \nL 1159 3500 \nL 1159 2956 \nQ 1356 3278 1631 3431 \nQ 1906 3584 2284 3584 \nQ 2666 3584 2933 3390 \nQ 3200 3197 3328 2828 \nz\n\" id=\"DejaVuSans-6d\" transform=\"scale(0.015625)\"/>\n       <path d=\"M 3597 1894 \nL 3597 1613 \nL 953 1613 \nQ 991 1019 1311 708 \nQ 1631 397 2203 397 \nQ 2534 397 2845 478 \nQ 3156 559 3463 722 \nL 3463 178 \nQ 3153 47 2828 -22 \nQ 2503 -91 2169 -91 \nQ 1331 -91 842 396 \nQ 353 884 353 1716 \nQ 353 2575 817 3079 \nQ 1281 3584 2069 3584 \nQ 2775 3584 3186 3129 \nQ 3597 2675 3597 1894 \nz\nM 3022 2063 \nQ 3016 2534 2758 2815 \nQ 2500 3097 2075 3097 \nQ 1594 3097 1305 2825 \nQ 1016 2553 972 2059 \nL 3022 2063 \nz\n\" id=\"DejaVuSans-65\" transform=\"scale(0.015625)\"/>\n       <path d=\"M 2194 1759 \nQ 1497 1759 1228 1600 \nQ 959 1441 959 1056 \nQ 959 750 1161 570 \nQ 1363 391 1709 391 \nQ 2188 391 2477 730 \nQ 2766 1069 2766 1631 \nL 2766 1759 \nL 2194 1759 \nz\nM 3341 1997 \nL 3341 0 \nL 2766 0 \nL 2766 531 \nQ 2569 213 2275 61 \nQ 1981 -91 1556 -91 \nQ 1019 -91 701 211 \nQ 384 513 384 1019 \nQ 384 1609 779 1909 \nQ 1175 2209 1959 2209 \nL 2766 2209 \nL 2766 2266 \nQ 2766 2663 2505 2880 \nQ 2244 3097 1772 3097 \nQ 1472 3097 1187 3025 \nQ 903 2953 641 2809 \nL 641 3341 \nQ 956 3463 1253 3523 \nQ 1550 3584 1831 3584 \nQ 2591 3584 2966 3190 \nQ 3341 2797 3341 1997 \nz\n\" id=\"DejaVuSans-61\" transform=\"scale(0.015625)\"/>\n       <path d=\"M 3513 2113 \nL 3513 0 \nL 2938 0 \nL 2938 2094 \nQ 2938 2591 2744 2837 \nQ 2550 3084 2163 3084 \nQ 1697 3084 1428 2787 \nQ 1159 2491 1159 1978 \nL 1159 0 \nL 581 0 \nL 581 3500 \nL 1159 3500 \nL 1159 2956 \nQ 1366 3272 1645 3428 \nQ 1925 3584 2291 3584 \nQ 2894 3584 3203 3211 \nQ 3513 2838 3513 2113 \nz\n\" id=\"DejaVuSans-6e\" transform=\"scale(0.015625)\"/>\n       <path d=\"M 1984 4856 \nQ 1566 4138 1362 3434 \nQ 1159 2731 1159 2009 \nQ 1159 1288 1364 580 \nQ 1569 -128 1984 -844 \nL 1484 -844 \nQ 1016 -109 783 600 \nQ 550 1309 550 2009 \nQ 550 2706 781 3412 \nQ 1013 4119 1484 4856 \nL 1984 4856 \nz\n\" id=\"DejaVuSans-28\" transform=\"scale(0.015625)\"/>\n       <path d=\"M 1344 4891 \nL 1344 -1509 \nL 813 -1509 \nL 813 4891 \nL 1344 4891 \nz\n\" id=\"DejaVuSans-7c\" transform=\"scale(0.015625)\"/>\n       <path d=\"M 3425 4513 \nL 3425 3897 \nQ 3066 4069 2747 4153 \nQ 2428 4238 2131 4238 \nQ 1616 4238 1336 4038 \nQ 1056 3838 1056 3469 \nQ 1056 3159 1242 3001 \nQ 1428 2844 1947 2747 \nL 2328 2669 \nQ 3034 2534 3370 2195 \nQ 3706 1856 3706 1288 \nQ 3706 609 3251 259 \nQ 2797 -91 1919 -91 \nQ 1588 -91 1214 -16 \nQ 841 59 441 206 \nL 441 856 \nQ 825 641 1194 531 \nQ 1563 422 1919 422 \nQ 2459 422 2753 634 \nQ 3047 847 3047 1241 \nQ 3047 1584 2836 1778 \nQ 2625 1972 2144 2069 \nL 1759 2144 \nQ 1053 2284 737 2584 \nQ 422 2884 422 3419 \nQ 422 4038 858 4394 \nQ 1294 4750 2059 4750 \nQ 2388 4750 2728 4690 \nQ 3069 4631 3425 4513 \nz\n\" id=\"DejaVuSans-53\" transform=\"scale(0.015625)\"/>\n       <path d=\"M 628 4666 \nL 1259 4666 \nL 1259 2753 \nL 3553 2753 \nL 3553 4666 \nL 4184 4666 \nL 4184 0 \nL 3553 0 \nL 3553 2222 \nL 1259 2222 \nL 1259 0 \nL 628 0 \nL 628 4666 \nz\n\" id=\"DejaVuSans-48\" transform=\"scale(0.015625)\"/>\n       <path d=\"M 2188 4044 \nL 1331 1722 \nL 3047 1722 \nL 2188 4044 \nz\nM 1831 4666 \nL 2547 4666 \nL 4325 0 \nL 3669 0 \nL 3244 1197 \nL 1141 1197 \nL 716 0 \nL 50 0 \nL 1831 4666 \nz\n\" id=\"DejaVuSans-41\" transform=\"scale(0.015625)\"/>\n       <path d=\"M 1259 4147 \nL 1259 2394 \nL 2053 2394 \nQ 2494 2394 2734 2622 \nQ 2975 2850 2975 3272 \nQ 2975 3691 2734 3919 \nQ 2494 4147 2053 4147 \nL 1259 4147 \nz\nM 628 4666 \nL 2053 4666 \nQ 2838 4666 3239 4311 \nQ 3641 3956 3641 3272 \nQ 3641 2581 3239 2228 \nQ 2838 1875 2053 1875 \nL 1259 1875 \nL 1259 0 \nL 628 0 \nL 628 4666 \nz\n\" id=\"DejaVuSans-50\" transform=\"scale(0.015625)\"/>\n       <path id=\"DejaVuSans-20\" transform=\"scale(0.015625)\"/>\n       <path d=\"M 191 3500 \nL 800 3500 \nL 1894 563 \nL 2988 3500 \nL 3597 3500 \nL 2284 0 \nL 1503 0 \nL 191 3500 \nz\n\" id=\"DejaVuSans-76\" transform=\"scale(0.015625)\"/>\n       <path d=\"M 603 4863 \nL 1178 4863 \nL 1178 0 \nL 603 0 \nL 603 4863 \nz\n\" id=\"DejaVuSans-6c\" transform=\"scale(0.015625)\"/>\n       <path d=\"M 544 1381 \nL 544 3500 \nL 1119 3500 \nL 1119 1403 \nQ 1119 906 1312 657 \nQ 1506 409 1894 409 \nQ 2359 409 2629 706 \nQ 2900 1003 2900 1516 \nL 2900 3500 \nL 3475 3500 \nL 3475 0 \nL 2900 0 \nL 2900 538 \nQ 2691 219 2414 64 \nQ 2138 -91 1772 -91 \nQ 1169 -91 856 284 \nQ 544 659 544 1381 \nz\nM 1991 3584 \nL 1991 3584 \nz\n\" id=\"DejaVuSans-75\" transform=\"scale(0.015625)\"/>\n       <path d=\"M 513 4856 \nL 1013 4856 \nQ 1481 4119 1714 3412 \nQ 1947 2706 1947 2009 \nQ 1947 1309 1714 600 \nQ 1481 -109 1013 -844 \nL 513 -844 \nQ 928 -128 1133 580 \nQ 1338 1288 1338 2009 \nQ 1338 2731 1133 3434 \nQ 928 4138 513 4856 \nz\n\" id=\"DejaVuSans-29\" transform=\"scale(0.015625)\"/>\n       <path d=\"M 2631 2963 \nQ 2534 3019 2420 3045 \nQ 2306 3072 2169 3072 \nQ 1681 3072 1420 2755 \nQ 1159 2438 1159 1844 \nL 1159 0 \nL 581 0 \nL 581 3500 \nL 1159 3500 \nL 1159 2956 \nQ 1341 3275 1631 3429 \nQ 1922 3584 2338 3584 \nQ 2397 3584 2469 3576 \nQ 2541 3569 2628 3553 \nL 2631 2963 \nz\n\" id=\"DejaVuSans-72\" transform=\"scale(0.015625)\"/>\n       <path d=\"M 2906 1791 \nQ 2906 2416 2648 2759 \nQ 2391 3103 1925 3103 \nQ 1463 3103 1205 2759 \nQ 947 2416 947 1791 \nQ 947 1169 1205 825 \nQ 1463 481 1925 481 \nQ 2391 481 2648 825 \nQ 2906 1169 2906 1791 \nz\nM 3481 434 \nQ 3481 -459 3084 -895 \nQ 2688 -1331 1869 -1331 \nQ 1566 -1331 1297 -1286 \nQ 1028 -1241 775 -1147 \nL 775 -588 \nQ 1028 -725 1275 -790 \nQ 1522 -856 1778 -856 \nQ 2344 -856 2625 -561 \nQ 2906 -266 2906 331 \nL 2906 616 \nQ 2728 306 2450 153 \nQ 2172 0 1784 0 \nQ 1141 0 747 490 \nQ 353 981 353 1791 \nQ 353 2603 747 3093 \nQ 1141 3584 1784 3584 \nQ 2172 3584 2450 3431 \nQ 2728 3278 2906 2969 \nL 2906 3500 \nL 3481 3500 \nL 3481 434 \nz\n\" id=\"DejaVuSans-67\" transform=\"scale(0.015625)\"/>\n       <path d=\"M 603 3500 \nL 1178 3500 \nL 1178 0 \nL 603 0 \nL 603 3500 \nz\nM 603 4863 \nL 1178 4863 \nL 1178 4134 \nL 603 4134 \nL 603 4863 \nz\n\" id=\"DejaVuSans-69\" transform=\"scale(0.015625)\"/>\n       <path d=\"M 1159 525 \nL 1159 -1331 \nL 581 -1331 \nL 581 3500 \nL 1159 3500 \nL 1159 2969 \nQ 1341 3281 1617 3432 \nQ 1894 3584 2278 3584 \nQ 2916 3584 3314 3078 \nQ 3713 2572 3713 1747 \nQ 3713 922 3314 415 \nQ 2916 -91 2278 -91 \nQ 1894 -91 1617 61 \nQ 1341 213 1159 525 \nz\nM 3116 1747 \nQ 3116 2381 2855 2742 \nQ 2594 3103 2138 3103 \nQ 1681 3103 1420 2742 \nQ 1159 2381 1159 1747 \nQ 1159 1113 1420 752 \nQ 1681 391 2138 391 \nQ 2594 391 2855 752 \nQ 3116 1113 3116 1747 \nz\n\" id=\"DejaVuSans-70\" transform=\"scale(0.015625)\"/>\n       <path d=\"M 3122 3366 \nL 3122 2828 \nQ 2878 2963 2633 3030 \nQ 2388 3097 2138 3097 \nQ 1578 3097 1268 2742 \nQ 959 2388 959 1747 \nQ 959 1106 1268 751 \nQ 1578 397 2138 397 \nQ 2388 397 2633 464 \nQ 2878 531 3122 666 \nL 3122 134 \nQ 2881 22 2623 -34 \nQ 2366 -91 2075 -91 \nQ 1284 -91 818 406 \nQ 353 903 353 1747 \nQ 353 2603 823 3093 \nQ 1294 3584 2113 3584 \nQ 2378 3584 2631 3529 \nQ 2884 3475 3122 3366 \nz\n\" id=\"DejaVuSans-63\" transform=\"scale(0.015625)\"/>\n       <path d=\"M 1172 4494 \nL 1172 3500 \nL 2356 3500 \nL 2356 3053 \nL 1172 3053 \nL 1172 1153 \nQ 1172 725 1289 603 \nQ 1406 481 1766 481 \nL 2356 481 \nL 2356 0 \nL 1766 0 \nQ 1100 0 847 248 \nQ 594 497 594 1153 \nL 594 3053 \nL 172 3053 \nL 172 3500 \nL 594 3500 \nL 594 4494 \nL 1172 4494 \nz\n\" id=\"DejaVuSans-74\" transform=\"scale(0.015625)\"/>\n       <path d=\"M 1959 3097 \nQ 1497 3097 1228 2736 \nQ 959 2375 959 1747 \nQ 959 1119 1226 758 \nQ 1494 397 1959 397 \nQ 2419 397 2687 759 \nQ 2956 1122 2956 1747 \nQ 2956 2369 2687 2733 \nQ 2419 3097 1959 3097 \nz\nM 1959 3584 \nQ 2709 3584 3137 3096 \nQ 3566 2609 3566 1747 \nQ 3566 888 3137 398 \nQ 2709 -91 1959 -91 \nQ 1206 -91 779 398 \nQ 353 888 353 1747 \nQ 353 2609 779 3096 \nQ 1206 3584 1959 3584 \nz\n\" id=\"DejaVuSans-6f\" transform=\"scale(0.015625)\"/>\n       <path d=\"M 2906 2969 \nL 2906 4863 \nL 3481 4863 \nL 3481 0 \nL 2906 0 \nL 2906 525 \nQ 2725 213 2448 61 \nQ 2172 -91 1784 -91 \nQ 1150 -91 751 415 \nQ 353 922 353 1747 \nQ 353 2572 751 3078 \nQ 1150 3584 1784 3584 \nQ 2172 3584 2448 3432 \nQ 2725 3281 2906 2969 \nz\nM 947 1747 \nQ 947 1113 1208 752 \nQ 1469 391 1925 391 \nQ 2381 391 2643 752 \nQ 2906 1113 2906 1747 \nQ 2906 2381 2643 2742 \nQ 2381 3103 1925 3103 \nQ 1469 3103 1208 2742 \nQ 947 2381 947 1747 \nz\n\" id=\"DejaVuSans-64\" transform=\"scale(0.015625)\"/>\n      </defs>\n      <use xlink:href=\"#DejaVuSans-6d\"/>\n      <use x=\"97.412109\" xlink:href=\"#DejaVuSans-65\"/>\n      <use x=\"158.935547\" xlink:href=\"#DejaVuSans-61\"/>\n      <use x=\"220.214844\" xlink:href=\"#DejaVuSans-6e\"/>\n      <use x=\"283.59375\" xlink:href=\"#DejaVuSans-28\"/>\n      <use x=\"322.607422\" xlink:href=\"#DejaVuSans-7c\"/>\n      <use x=\"356.298828\" xlink:href=\"#DejaVuSans-53\"/>\n      <use x=\"419.775391\" xlink:href=\"#DejaVuSans-48\"/>\n      <use x=\"494.970703\" xlink:href=\"#DejaVuSans-41\"/>\n      <use x=\"563.378906\" xlink:href=\"#DejaVuSans-50\"/>\n      <use x=\"623.681641\" xlink:href=\"#DejaVuSans-20\"/>\n      <use x=\"655.46875\" xlink:href=\"#DejaVuSans-76\"/>\n      <use x=\"714.648438\" xlink:href=\"#DejaVuSans-61\"/>\n      <use x=\"775.927734\" xlink:href=\"#DejaVuSans-6c\"/>\n      <use x=\"803.710938\" xlink:href=\"#DejaVuSans-75\"/>\n      <use x=\"867.089844\" xlink:href=\"#DejaVuSans-65\"/>\n      <use x=\"928.613281\" xlink:href=\"#DejaVuSans-7c\"/>\n      <use x=\"962.304688\" xlink:href=\"#DejaVuSans-29\"/>\n      <use x=\"1001.318359\" xlink:href=\"#DejaVuSans-20\"/>\n      <use x=\"1033.105469\" xlink:href=\"#DejaVuSans-28\"/>\n      <use x=\"1072.119141\" xlink:href=\"#DejaVuSans-61\"/>\n      <use x=\"1133.398438\" xlink:href=\"#DejaVuSans-76\"/>\n      <use x=\"1192.578125\" xlink:href=\"#DejaVuSans-65\"/>\n      <use x=\"1254.101562\" xlink:href=\"#DejaVuSans-72\"/>\n      <use x=\"1295.214844\" xlink:href=\"#DejaVuSans-61\"/>\n      <use x=\"1356.494141\" xlink:href=\"#DejaVuSans-67\"/>\n      <use x=\"1419.970703\" xlink:href=\"#DejaVuSans-65\"/>\n      <use x=\"1481.494141\" xlink:href=\"#DejaVuSans-20\"/>\n      <use x=\"1513.28125\" xlink:href=\"#DejaVuSans-69\"/>\n      <use x=\"1541.064453\" xlink:href=\"#DejaVuSans-6d\"/>\n      <use x=\"1638.476562\" xlink:href=\"#DejaVuSans-70\"/>\n      <use x=\"1701.953125\" xlink:href=\"#DejaVuSans-61\"/>\n      <use x=\"1763.232422\" xlink:href=\"#DejaVuSans-63\"/>\n      <use x=\"1818.212891\" xlink:href=\"#DejaVuSans-74\"/>\n      <use x=\"1857.421875\" xlink:href=\"#DejaVuSans-20\"/>\n      <use x=\"1889.208984\" xlink:href=\"#DejaVuSans-6f\"/>\n      <use x=\"1950.390625\" xlink:href=\"#DejaVuSans-6e\"/>\n      <use x=\"2013.769531\" xlink:href=\"#DejaVuSans-20\"/>\n      <use x=\"2045.556641\" xlink:href=\"#DejaVuSans-6d\"/>\n      <use x=\"2142.96875\" xlink:href=\"#DejaVuSans-6f\"/>\n      <use x=\"2204.150391\" xlink:href=\"#DejaVuSans-64\"/>\n      <use x=\"2267.626953\" xlink:href=\"#DejaVuSans-65\"/>\n      <use x=\"2329.150391\" xlink:href=\"#DejaVuSans-6c\"/>\n      <use x=\"2356.933594\" xlink:href=\"#DejaVuSans-20\"/>\n      <use x=\"2388.720703\" xlink:href=\"#DejaVuSans-6f\"/>\n      <use x=\"2449.902344\" xlink:href=\"#DejaVuSans-75\"/>\n      <use x=\"2513.28125\" xlink:href=\"#DejaVuSans-74\"/>\n      <use x=\"2552.490234\" xlink:href=\"#DejaVuSans-70\"/>\n      <use x=\"2615.966797\" xlink:href=\"#DejaVuSans-75\"/>\n      <use x=\"2679.345703\" xlink:href=\"#DejaVuSans-74\"/>\n      <use x=\"2718.554688\" xlink:href=\"#DejaVuSans-20\"/>\n      <use x=\"2750.341797\" xlink:href=\"#DejaVuSans-6d\"/>\n      <use x=\"2847.753906\" xlink:href=\"#DejaVuSans-61\"/>\n      <use x=\"2909.033203\" xlink:href=\"#DejaVuSans-67\"/>\n      <use x=\"2972.509766\" xlink:href=\"#DejaVuSans-6e\"/>\n      <use x=\"3035.888672\" xlink:href=\"#DejaVuSans-69\"/>\n      <use x=\"3063.671875\" xlink:href=\"#DejaVuSans-74\"/>\n      <use x=\"3102.880859\" xlink:href=\"#DejaVuSans-75\"/>\n      <use x=\"3166.259766\" xlink:href=\"#DejaVuSans-64\"/>\n      <use x=\"3229.736328\" xlink:href=\"#DejaVuSans-65\"/>\n      <use x=\"3291.259766\" xlink:href=\"#DejaVuSans-29\"/>\n     </g>\n    </g>\n   </g>\n   <g id=\"matplotlib.axis_2\">\n    <g id=\"ytick_1\">\n     <g id=\"text_8\">\n      <!-- last_1_months_genre_rating -->\n      <g style=\"fill:#333333;\" transform=\"translate(101.139219 503.967556)scale(0.13 -0.13)\">\n       <defs>\n        <path d=\"M 2834 3397 \nL 2834 2853 \nQ 2591 2978 2328 3040 \nQ 2066 3103 1784 3103 \nQ 1356 3103 1142 2972 \nQ 928 2841 928 2578 \nQ 928 2378 1081 2264 \nQ 1234 2150 1697 2047 \nL 1894 2003 \nQ 2506 1872 2764 1633 \nQ 3022 1394 3022 966 \nQ 3022 478 2636 193 \nQ 2250 -91 1575 -91 \nQ 1294 -91 989 -36 \nQ 684 19 347 128 \nL 347 722 \nQ 666 556 975 473 \nQ 1284 391 1588 391 \nQ 1994 391 2212 530 \nQ 2431 669 2431 922 \nQ 2431 1156 2273 1281 \nQ 2116 1406 1581 1522 \nL 1381 1569 \nQ 847 1681 609 1914 \nQ 372 2147 372 2553 \nQ 372 3047 722 3315 \nQ 1072 3584 1716 3584 \nQ 2034 3584 2315 3537 \nQ 2597 3491 2834 3397 \nz\n\" id=\"DejaVuSans-73\" transform=\"scale(0.015625)\"/>\n        <path d=\"M 3263 -1063 \nL 3263 -1509 \nL -63 -1509 \nL -63 -1063 \nL 3263 -1063 \nz\n\" id=\"DejaVuSans-5f\" transform=\"scale(0.015625)\"/>\n        <path d=\"M 3513 2113 \nL 3513 0 \nL 2938 0 \nL 2938 2094 \nQ 2938 2591 2744 2837 \nQ 2550 3084 2163 3084 \nQ 1697 3084 1428 2787 \nQ 1159 2491 1159 1978 \nL 1159 0 \nL 581 0 \nL 581 4863 \nL 1159 4863 \nL 1159 2956 \nQ 1366 3272 1645 3428 \nQ 1925 3584 2291 3584 \nQ 2894 3584 3203 3211 \nQ 3513 2838 3513 2113 \nz\n\" id=\"DejaVuSans-68\" transform=\"scale(0.015625)\"/>\n       </defs>\n       <use xlink:href=\"#DejaVuSans-6c\"/>\n       <use x=\"27.783203\" xlink:href=\"#DejaVuSans-61\"/>\n       <use x=\"89.0625\" xlink:href=\"#DejaVuSans-73\"/>\n       <use x=\"141.162109\" xlink:href=\"#DejaVuSans-74\"/>\n       <use x=\"180.371094\" xlink:href=\"#DejaVuSans-5f\"/>\n       <use x=\"230.371094\" xlink:href=\"#DejaVuSans-31\"/>\n       <use x=\"293.994141\" xlink:href=\"#DejaVuSans-5f\"/>\n       <use x=\"343.994141\" xlink:href=\"#DejaVuSans-6d\"/>\n       <use x=\"441.40625\" xlink:href=\"#DejaVuSans-6f\"/>\n       <use x=\"502.587891\" xlink:href=\"#DejaVuSans-6e\"/>\n       <use x=\"565.966797\" xlink:href=\"#DejaVuSans-74\"/>\n       <use x=\"605.175781\" xlink:href=\"#DejaVuSans-68\"/>\n       <use x=\"668.554688\" xlink:href=\"#DejaVuSans-73\"/>\n       <use x=\"720.654297\" xlink:href=\"#DejaVuSans-5f\"/>\n       <use x=\"770.654297\" xlink:href=\"#DejaVuSans-67\"/>\n       <use x=\"834.130859\" xlink:href=\"#DejaVuSans-65\"/>\n       <use x=\"895.654297\" xlink:href=\"#DejaVuSans-6e\"/>\n       <use x=\"959.033203\" xlink:href=\"#DejaVuSans-72\"/>\n       <use x=\"997.896484\" xlink:href=\"#DejaVuSans-65\"/>\n       <use x=\"1059.419922\" xlink:href=\"#DejaVuSans-5f\"/>\n       <use x=\"1109.419922\" xlink:href=\"#DejaVuSans-72\"/>\n       <use x=\"1150.533203\" xlink:href=\"#DejaVuSans-61\"/>\n       <use x=\"1211.8125\" xlink:href=\"#DejaVuSans-74\"/>\n       <use x=\"1251.021484\" xlink:href=\"#DejaVuSans-69\"/>\n       <use x=\"1278.804688\" xlink:href=\"#DejaVuSans-6e\"/>\n       <use x=\"1342.183594\" xlink:href=\"#DejaVuSans-67\"/>\n      </g>\n     </g>\n    </g>\n    <g id=\"ytick_2\">\n     <g id=\"text_9\">\n      <!-- Action -->\n      <g style=\"fill:#333333;\" transform=\"translate(243.158125 479.376127)scale(0.13 -0.13)\">\n       <use xlink:href=\"#DejaVuSans-41\"/>\n       <use x=\"66.658203\" xlink:href=\"#DejaVuSans-63\"/>\n       <use x=\"121.638672\" xlink:href=\"#DejaVuSans-74\"/>\n       <use x=\"160.847656\" xlink:href=\"#DejaVuSans-69\"/>\n       <use x=\"188.630859\" xlink:href=\"#DejaVuSans-6f\"/>\n       <use x=\"249.8125\" xlink:href=\"#DejaVuSans-6e\"/>\n      </g>\n     </g>\n    </g>\n    <g id=\"ytick_3\">\n     <g id=\"text_10\">\n      <!-- mean_3_months_genre_rating -->\n      <g style=\"fill:#333333;\" transform=\"translate(87.71875 454.784699)scale(0.13 -0.13)\">\n       <use xlink:href=\"#DejaVuSans-6d\"/>\n       <use x=\"97.412109\" xlink:href=\"#DejaVuSans-65\"/>\n       <use x=\"158.935547\" xlink:href=\"#DejaVuSans-61\"/>\n       <use x=\"220.214844\" xlink:href=\"#DejaVuSans-6e\"/>\n       <use x=\"283.59375\" xlink:href=\"#DejaVuSans-5f\"/>\n       <use x=\"333.59375\" xlink:href=\"#DejaVuSans-33\"/>\n       <use x=\"397.216797\" xlink:href=\"#DejaVuSans-5f\"/>\n       <use x=\"447.216797\" xlink:href=\"#DejaVuSans-6d\"/>\n       <use x=\"544.628906\" xlink:href=\"#DejaVuSans-6f\"/>\n       <use x=\"605.810547\" xlink:href=\"#DejaVuSans-6e\"/>\n       <use x=\"669.189453\" xlink:href=\"#DejaVuSans-74\"/>\n       <use x=\"708.398438\" xlink:href=\"#DejaVuSans-68\"/>\n       <use x=\"771.777344\" xlink:href=\"#DejaVuSans-73\"/>\n       <use x=\"823.876953\" xlink:href=\"#DejaVuSans-5f\"/>\n       <use x=\"873.876953\" xlink:href=\"#DejaVuSans-67\"/>\n       <use x=\"937.353516\" xlink:href=\"#DejaVuSans-65\"/>\n       <use x=\"998.876953\" xlink:href=\"#DejaVuSans-6e\"/>\n       <use x=\"1062.255859\" xlink:href=\"#DejaVuSans-72\"/>\n       <use x=\"1101.119141\" xlink:href=\"#DejaVuSans-65\"/>\n       <use x=\"1162.642578\" xlink:href=\"#DejaVuSans-5f\"/>\n       <use x=\"1212.642578\" xlink:href=\"#DejaVuSans-72\"/>\n       <use x=\"1253.755859\" xlink:href=\"#DejaVuSans-61\"/>\n       <use x=\"1315.035156\" xlink:href=\"#DejaVuSans-74\"/>\n       <use x=\"1354.244141\" xlink:href=\"#DejaVuSans-69\"/>\n       <use x=\"1382.027344\" xlink:href=\"#DejaVuSans-6e\"/>\n       <use x=\"1445.40625\" xlink:href=\"#DejaVuSans-67\"/>\n      </g>\n     </g>\n    </g>\n    <g id=\"ytick_4\">\n     <g id=\"text_11\">\n      <!-- last_1_month_per_3_months_genre_rating -->\n      <g style=\"fill:#333333;\" transform=\"translate(9.580625 430.19327)scale(0.13 -0.13)\">\n       <use xlink:href=\"#DejaVuSans-6c\"/>\n       <use x=\"27.783203\" xlink:href=\"#DejaVuSans-61\"/>\n       <use x=\"89.0625\" xlink:href=\"#DejaVuSans-73\"/>\n       <use x=\"141.162109\" xlink:href=\"#DejaVuSans-74\"/>\n       <use x=\"180.371094\" xlink:href=\"#DejaVuSans-5f\"/>\n       <use x=\"230.371094\" xlink:href=\"#DejaVuSans-31\"/>\n       <use x=\"293.994141\" xlink:href=\"#DejaVuSans-5f\"/>\n       <use x=\"343.994141\" xlink:href=\"#DejaVuSans-6d\"/>\n       <use x=\"441.40625\" xlink:href=\"#DejaVuSans-6f\"/>\n       <use x=\"502.587891\" xlink:href=\"#DejaVuSans-6e\"/>\n       <use x=\"565.966797\" xlink:href=\"#DejaVuSans-74\"/>\n       <use x=\"605.175781\" xlink:href=\"#DejaVuSans-68\"/>\n       <use x=\"668.554688\" xlink:href=\"#DejaVuSans-5f\"/>\n       <use x=\"718.554688\" xlink:href=\"#DejaVuSans-70\"/>\n       <use x=\"782.03125\" xlink:href=\"#DejaVuSans-65\"/>\n       <use x=\"843.554688\" xlink:href=\"#DejaVuSans-72\"/>\n       <use x=\"884.667969\" xlink:href=\"#DejaVuSans-5f\"/>\n       <use x=\"934.667969\" xlink:href=\"#DejaVuSans-33\"/>\n       <use x=\"998.291016\" xlink:href=\"#DejaVuSans-5f\"/>\n       <use x=\"1048.291016\" xlink:href=\"#DejaVuSans-6d\"/>\n       <use x=\"1145.703125\" xlink:href=\"#DejaVuSans-6f\"/>\n       <use x=\"1206.884766\" xlink:href=\"#DejaVuSans-6e\"/>\n       <use x=\"1270.263672\" xlink:href=\"#DejaVuSans-74\"/>\n       <use x=\"1309.472656\" xlink:href=\"#DejaVuSans-68\"/>\n       <use x=\"1372.851562\" xlink:href=\"#DejaVuSans-73\"/>\n       <use x=\"1424.951172\" xlink:href=\"#DejaVuSans-5f\"/>\n       <use x=\"1474.951172\" xlink:href=\"#DejaVuSans-67\"/>\n       <use x=\"1538.427734\" xlink:href=\"#DejaVuSans-65\"/>\n       <use x=\"1599.951172\" xlink:href=\"#DejaVuSans-6e\"/>\n       <use x=\"1663.330078\" xlink:href=\"#DejaVuSans-72\"/>\n       <use x=\"1702.193359\" xlink:href=\"#DejaVuSans-65\"/>\n       <use x=\"1763.716797\" xlink:href=\"#DejaVuSans-5f\"/>\n       <use x=\"1813.716797\" xlink:href=\"#DejaVuSans-72\"/>\n       <use x=\"1854.830078\" xlink:href=\"#DejaVuSans-61\"/>\n       <use x=\"1916.109375\" xlink:href=\"#DejaVuSans-74\"/>\n       <use x=\"1955.318359\" xlink:href=\"#DejaVuSans-69\"/>\n       <use x=\"1983.101562\" xlink:href=\"#DejaVuSans-6e\"/>\n       <use x=\"2046.480469\" xlink:href=\"#DejaVuSans-67\"/>\n      </g>\n     </g>\n    </g>\n    <g id=\"ytick_5\">\n     <g id=\"text_12\">\n      <!-- last_1_month_per_3_months_movie_rating -->\n      <g style=\"fill:#333333;\" transform=\"translate(7.2 405.601842)scale(0.13 -0.13)\">\n       <use xlink:href=\"#DejaVuSans-6c\"/>\n       <use x=\"27.783203\" xlink:href=\"#DejaVuSans-61\"/>\n       <use x=\"89.0625\" xlink:href=\"#DejaVuSans-73\"/>\n       <use x=\"141.162109\" xlink:href=\"#DejaVuSans-74\"/>\n       <use x=\"180.371094\" xlink:href=\"#DejaVuSans-5f\"/>\n       <use x=\"230.371094\" xlink:href=\"#DejaVuSans-31\"/>\n       <use x=\"293.994141\" xlink:href=\"#DejaVuSans-5f\"/>\n       <use x=\"343.994141\" xlink:href=\"#DejaVuSans-6d\"/>\n       <use x=\"441.40625\" xlink:href=\"#DejaVuSans-6f\"/>\n       <use x=\"502.587891\" xlink:href=\"#DejaVuSans-6e\"/>\n       <use x=\"565.966797\" xlink:href=\"#DejaVuSans-74\"/>\n       <use x=\"605.175781\" xlink:href=\"#DejaVuSans-68\"/>\n       <use x=\"668.554688\" xlink:href=\"#DejaVuSans-5f\"/>\n       <use x=\"718.554688\" xlink:href=\"#DejaVuSans-70\"/>\n       <use x=\"782.03125\" xlink:href=\"#DejaVuSans-65\"/>\n       <use x=\"843.554688\" xlink:href=\"#DejaVuSans-72\"/>\n       <use x=\"884.667969\" xlink:href=\"#DejaVuSans-5f\"/>\n       <use x=\"934.667969\" xlink:href=\"#DejaVuSans-33\"/>\n       <use x=\"998.291016\" xlink:href=\"#DejaVuSans-5f\"/>\n       <use x=\"1048.291016\" xlink:href=\"#DejaVuSans-6d\"/>\n       <use x=\"1145.703125\" xlink:href=\"#DejaVuSans-6f\"/>\n       <use x=\"1206.884766\" xlink:href=\"#DejaVuSans-6e\"/>\n       <use x=\"1270.263672\" xlink:href=\"#DejaVuSans-74\"/>\n       <use x=\"1309.472656\" xlink:href=\"#DejaVuSans-68\"/>\n       <use x=\"1372.851562\" xlink:href=\"#DejaVuSans-73\"/>\n       <use x=\"1424.951172\" xlink:href=\"#DejaVuSans-5f\"/>\n       <use x=\"1474.951172\" xlink:href=\"#DejaVuSans-6d\"/>\n       <use x=\"1572.363281\" xlink:href=\"#DejaVuSans-6f\"/>\n       <use x=\"1633.544922\" xlink:href=\"#DejaVuSans-76\"/>\n       <use x=\"1692.724609\" xlink:href=\"#DejaVuSans-69\"/>\n       <use x=\"1720.507812\" xlink:href=\"#DejaVuSans-65\"/>\n       <use x=\"1782.03125\" xlink:href=\"#DejaVuSans-5f\"/>\n       <use x=\"1832.03125\" xlink:href=\"#DejaVuSans-72\"/>\n       <use x=\"1873.144531\" xlink:href=\"#DejaVuSans-61\"/>\n       <use x=\"1934.423828\" xlink:href=\"#DejaVuSans-74\"/>\n       <use x=\"1973.632812\" xlink:href=\"#DejaVuSans-69\"/>\n       <use x=\"2001.416016\" xlink:href=\"#DejaVuSans-6e\"/>\n       <use x=\"2064.794922\" xlink:href=\"#DejaVuSans-67\"/>\n      </g>\n     </g>\n    </g>\n    <g id=\"ytick_6\">\n     <g id=\"text_13\">\n      <!-- last_1_month_per_6_months_genre_rating -->\n      <g style=\"fill:#333333;\" transform=\"translate(9.580625 381.010413)scale(0.13 -0.13)\">\n       <defs>\n        <path d=\"M 2113 2584 \nQ 1688 2584 1439 2293 \nQ 1191 2003 1191 1497 \nQ 1191 994 1439 701 \nQ 1688 409 2113 409 \nQ 2538 409 2786 701 \nQ 3034 994 3034 1497 \nQ 3034 2003 2786 2293 \nQ 2538 2584 2113 2584 \nz\nM 3366 4563 \nL 3366 3988 \nQ 3128 4100 2886 4159 \nQ 2644 4219 2406 4219 \nQ 1781 4219 1451 3797 \nQ 1122 3375 1075 2522 \nQ 1259 2794 1537 2939 \nQ 1816 3084 2150 3084 \nQ 2853 3084 3261 2657 \nQ 3669 2231 3669 1497 \nQ 3669 778 3244 343 \nQ 2819 -91 2113 -91 \nQ 1303 -91 875 529 \nQ 447 1150 447 2328 \nQ 447 3434 972 4092 \nQ 1497 4750 2381 4750 \nQ 2619 4750 2861 4703 \nQ 3103 4656 3366 4563 \nz\n\" id=\"DejaVuSans-36\" transform=\"scale(0.015625)\"/>\n       </defs>\n       <use xlink:href=\"#DejaVuSans-6c\"/>\n       <use x=\"27.783203\" xlink:href=\"#DejaVuSans-61\"/>\n       <use x=\"89.0625\" xlink:href=\"#DejaVuSans-73\"/>\n       <use x=\"141.162109\" xlink:href=\"#DejaVuSans-74\"/>\n       <use x=\"180.371094\" xlink:href=\"#DejaVuSans-5f\"/>\n       <use x=\"230.371094\" xlink:href=\"#DejaVuSans-31\"/>\n       <use x=\"293.994141\" xlink:href=\"#DejaVuSans-5f\"/>\n       <use x=\"343.994141\" xlink:href=\"#DejaVuSans-6d\"/>\n       <use x=\"441.40625\" xlink:href=\"#DejaVuSans-6f\"/>\n       <use x=\"502.587891\" xlink:href=\"#DejaVuSans-6e\"/>\n       <use x=\"565.966797\" xlink:href=\"#DejaVuSans-74\"/>\n       <use x=\"605.175781\" xlink:href=\"#DejaVuSans-68\"/>\n       <use x=\"668.554688\" xlink:href=\"#DejaVuSans-5f\"/>\n       <use x=\"718.554688\" xlink:href=\"#DejaVuSans-70\"/>\n       <use x=\"782.03125\" xlink:href=\"#DejaVuSans-65\"/>\n       <use x=\"843.554688\" xlink:href=\"#DejaVuSans-72\"/>\n       <use x=\"884.667969\" xlink:href=\"#DejaVuSans-5f\"/>\n       <use x=\"934.667969\" xlink:href=\"#DejaVuSans-36\"/>\n       <use x=\"998.291016\" xlink:href=\"#DejaVuSans-5f\"/>\n       <use x=\"1048.291016\" xlink:href=\"#DejaVuSans-6d\"/>\n       <use x=\"1145.703125\" xlink:href=\"#DejaVuSans-6f\"/>\n       <use x=\"1206.884766\" xlink:href=\"#DejaVuSans-6e\"/>\n       <use x=\"1270.263672\" xlink:href=\"#DejaVuSans-74\"/>\n       <use x=\"1309.472656\" xlink:href=\"#DejaVuSans-68\"/>\n       <use x=\"1372.851562\" xlink:href=\"#DejaVuSans-73\"/>\n       <use x=\"1424.951172\" xlink:href=\"#DejaVuSans-5f\"/>\n       <use x=\"1474.951172\" xlink:href=\"#DejaVuSans-67\"/>\n       <use x=\"1538.427734\" xlink:href=\"#DejaVuSans-65\"/>\n       <use x=\"1599.951172\" xlink:href=\"#DejaVuSans-6e\"/>\n       <use x=\"1663.330078\" xlink:href=\"#DejaVuSans-72\"/>\n       <use x=\"1702.193359\" xlink:href=\"#DejaVuSans-65\"/>\n       <use x=\"1763.716797\" xlink:href=\"#DejaVuSans-5f\"/>\n       <use x=\"1813.716797\" xlink:href=\"#DejaVuSans-72\"/>\n       <use x=\"1854.830078\" xlink:href=\"#DejaVuSans-61\"/>\n       <use x=\"1916.109375\" xlink:href=\"#DejaVuSans-74\"/>\n       <use x=\"1955.318359\" xlink:href=\"#DejaVuSans-69\"/>\n       <use x=\"1983.101562\" xlink:href=\"#DejaVuSans-6e\"/>\n       <use x=\"2046.480469\" xlink:href=\"#DejaVuSans-67\"/>\n      </g>\n     </g>\n    </g>\n    <g id=\"ytick_7\">\n     <g id=\"text_14\">\n      <!-- last_1_month_per_6_months_movie_rating -->\n      <g style=\"fill:#333333;\" transform=\"translate(7.2 356.418984)scale(0.13 -0.13)\">\n       <use xlink:href=\"#DejaVuSans-6c\"/>\n       <use x=\"27.783203\" xlink:href=\"#DejaVuSans-61\"/>\n       <use x=\"89.0625\" xlink:href=\"#DejaVuSans-73\"/>\n       <use x=\"141.162109\" xlink:href=\"#DejaVuSans-74\"/>\n       <use x=\"180.371094\" xlink:href=\"#DejaVuSans-5f\"/>\n       <use x=\"230.371094\" xlink:href=\"#DejaVuSans-31\"/>\n       <use x=\"293.994141\" xlink:href=\"#DejaVuSans-5f\"/>\n       <use x=\"343.994141\" xlink:href=\"#DejaVuSans-6d\"/>\n       <use x=\"441.40625\" xlink:href=\"#DejaVuSans-6f\"/>\n       <use x=\"502.587891\" xlink:href=\"#DejaVuSans-6e\"/>\n       <use x=\"565.966797\" xlink:href=\"#DejaVuSans-74\"/>\n       <use x=\"605.175781\" xlink:href=\"#DejaVuSans-68\"/>\n       <use x=\"668.554688\" xlink:href=\"#DejaVuSans-5f\"/>\n       <use x=\"718.554688\" xlink:href=\"#DejaVuSans-70\"/>\n       <use x=\"782.03125\" xlink:href=\"#DejaVuSans-65\"/>\n       <use x=\"843.554688\" xlink:href=\"#DejaVuSans-72\"/>\n       <use x=\"884.667969\" xlink:href=\"#DejaVuSans-5f\"/>\n       <use x=\"934.667969\" xlink:href=\"#DejaVuSans-36\"/>\n       <use x=\"998.291016\" xlink:href=\"#DejaVuSans-5f\"/>\n       <use x=\"1048.291016\" xlink:href=\"#DejaVuSans-6d\"/>\n       <use x=\"1145.703125\" xlink:href=\"#DejaVuSans-6f\"/>\n       <use x=\"1206.884766\" xlink:href=\"#DejaVuSans-6e\"/>\n       <use x=\"1270.263672\" xlink:href=\"#DejaVuSans-74\"/>\n       <use x=\"1309.472656\" xlink:href=\"#DejaVuSans-68\"/>\n       <use x=\"1372.851562\" xlink:href=\"#DejaVuSans-73\"/>\n       <use x=\"1424.951172\" xlink:href=\"#DejaVuSans-5f\"/>\n       <use x=\"1474.951172\" xlink:href=\"#DejaVuSans-6d\"/>\n       <use x=\"1572.363281\" xlink:href=\"#DejaVuSans-6f\"/>\n       <use x=\"1633.544922\" xlink:href=\"#DejaVuSans-76\"/>\n       <use x=\"1692.724609\" xlink:href=\"#DejaVuSans-69\"/>\n       <use x=\"1720.507812\" xlink:href=\"#DejaVuSans-65\"/>\n       <use x=\"1782.03125\" xlink:href=\"#DejaVuSans-5f\"/>\n       <use x=\"1832.03125\" xlink:href=\"#DejaVuSans-72\"/>\n       <use x=\"1873.144531\" xlink:href=\"#DejaVuSans-61\"/>\n       <use x=\"1934.423828\" xlink:href=\"#DejaVuSans-74\"/>\n       <use x=\"1973.632812\" xlink:href=\"#DejaVuSans-69\"/>\n       <use x=\"2001.416016\" xlink:href=\"#DejaVuSans-6e\"/>\n       <use x=\"2064.794922\" xlink:href=\"#DejaVuSans-67\"/>\n      </g>\n     </g>\n    </g>\n    <g id=\"ytick_8\">\n     <g id=\"text_15\">\n      <!-- last_1_months_genre_rating_counts -->\n      <g style=\"fill:#333333;\" transform=\"translate(51.190781 331.827556)scale(0.13 -0.13)\">\n       <use xlink:href=\"#DejaVuSans-6c\"/>\n       <use x=\"27.783203\" xlink:href=\"#DejaVuSans-61\"/>\n       <use x=\"89.0625\" xlink:href=\"#DejaVuSans-73\"/>\n       <use x=\"141.162109\" xlink:href=\"#DejaVuSans-74\"/>\n       <use x=\"180.371094\" xlink:href=\"#DejaVuSans-5f\"/>\n       <use x=\"230.371094\" xlink:href=\"#DejaVuSans-31\"/>\n       <use x=\"293.994141\" xlink:href=\"#DejaVuSans-5f\"/>\n       <use x=\"343.994141\" xlink:href=\"#DejaVuSans-6d\"/>\n       <use x=\"441.40625\" xlink:href=\"#DejaVuSans-6f\"/>\n       <use x=\"502.587891\" xlink:href=\"#DejaVuSans-6e\"/>\n       <use x=\"565.966797\" xlink:href=\"#DejaVuSans-74\"/>\n       <use x=\"605.175781\" xlink:href=\"#DejaVuSans-68\"/>\n       <use x=\"668.554688\" xlink:href=\"#DejaVuSans-73\"/>\n       <use x=\"720.654297\" xlink:href=\"#DejaVuSans-5f\"/>\n       <use x=\"770.654297\" xlink:href=\"#DejaVuSans-67\"/>\n       <use x=\"834.130859\" xlink:href=\"#DejaVuSans-65\"/>\n       <use x=\"895.654297\" xlink:href=\"#DejaVuSans-6e\"/>\n       <use x=\"959.033203\" xlink:href=\"#DejaVuSans-72\"/>\n       <use x=\"997.896484\" xlink:href=\"#DejaVuSans-65\"/>\n       <use x=\"1059.419922\" xlink:href=\"#DejaVuSans-5f\"/>\n       <use x=\"1109.419922\" xlink:href=\"#DejaVuSans-72\"/>\n       <use x=\"1150.533203\" xlink:href=\"#DejaVuSans-61\"/>\n       <use x=\"1211.8125\" xlink:href=\"#DejaVuSans-74\"/>\n       <use x=\"1251.021484\" xlink:href=\"#DejaVuSans-69\"/>\n       <use x=\"1278.804688\" xlink:href=\"#DejaVuSans-6e\"/>\n       <use x=\"1342.183594\" xlink:href=\"#DejaVuSans-67\"/>\n       <use x=\"1405.660156\" xlink:href=\"#DejaVuSans-5f\"/>\n       <use x=\"1455.660156\" xlink:href=\"#DejaVuSans-63\"/>\n       <use x=\"1510.640625\" xlink:href=\"#DejaVuSans-6f\"/>\n       <use x=\"1571.822266\" xlink:href=\"#DejaVuSans-75\"/>\n       <use x=\"1635.201172\" xlink:href=\"#DejaVuSans-6e\"/>\n       <use x=\"1698.580078\" xlink:href=\"#DejaVuSans-74\"/>\n       <use x=\"1737.789062\" xlink:href=\"#DejaVuSans-73\"/>\n      </g>\n     </g>\n    </g>\n    <g id=\"ytick_9\">\n     <g id=\"text_16\">\n      <!-- last_1_month_per_3_months_user_rating -->\n      <g style=\"fill:#333333;\" transform=\"translate(18.767969 307.236127)scale(0.13 -0.13)\">\n       <use xlink:href=\"#DejaVuSans-6c\"/>\n       <use x=\"27.783203\" xlink:href=\"#DejaVuSans-61\"/>\n       <use x=\"89.0625\" xlink:href=\"#DejaVuSans-73\"/>\n       <use x=\"141.162109\" xlink:href=\"#DejaVuSans-74\"/>\n       <use x=\"180.371094\" xlink:href=\"#DejaVuSans-5f\"/>\n       <use x=\"230.371094\" xlink:href=\"#DejaVuSans-31\"/>\n       <use x=\"293.994141\" xlink:href=\"#DejaVuSans-5f\"/>\n       <use x=\"343.994141\" xlink:href=\"#DejaVuSans-6d\"/>\n       <use x=\"441.40625\" xlink:href=\"#DejaVuSans-6f\"/>\n       <use x=\"502.587891\" xlink:href=\"#DejaVuSans-6e\"/>\n       <use x=\"565.966797\" xlink:href=\"#DejaVuSans-74\"/>\n       <use x=\"605.175781\" xlink:href=\"#DejaVuSans-68\"/>\n       <use x=\"668.554688\" xlink:href=\"#DejaVuSans-5f\"/>\n       <use x=\"718.554688\" xlink:href=\"#DejaVuSans-70\"/>\n       <use x=\"782.03125\" xlink:href=\"#DejaVuSans-65\"/>\n       <use x=\"843.554688\" xlink:href=\"#DejaVuSans-72\"/>\n       <use x=\"884.667969\" xlink:href=\"#DejaVuSans-5f\"/>\n       <use x=\"934.667969\" xlink:href=\"#DejaVuSans-33\"/>\n       <use x=\"998.291016\" xlink:href=\"#DejaVuSans-5f\"/>\n       <use x=\"1048.291016\" xlink:href=\"#DejaVuSans-6d\"/>\n       <use x=\"1145.703125\" xlink:href=\"#DejaVuSans-6f\"/>\n       <use x=\"1206.884766\" xlink:href=\"#DejaVuSans-6e\"/>\n       <use x=\"1270.263672\" xlink:href=\"#DejaVuSans-74\"/>\n       <use x=\"1309.472656\" xlink:href=\"#DejaVuSans-68\"/>\n       <use x=\"1372.851562\" xlink:href=\"#DejaVuSans-73\"/>\n       <use x=\"1424.951172\" xlink:href=\"#DejaVuSans-5f\"/>\n       <use x=\"1474.951172\" xlink:href=\"#DejaVuSans-75\"/>\n       <use x=\"1538.330078\" xlink:href=\"#DejaVuSans-73\"/>\n       <use x=\"1590.429688\" xlink:href=\"#DejaVuSans-65\"/>\n       <use x=\"1651.953125\" xlink:href=\"#DejaVuSans-72\"/>\n       <use x=\"1693.066406\" xlink:href=\"#DejaVuSans-5f\"/>\n       <use x=\"1743.066406\" xlink:href=\"#DejaVuSans-72\"/>\n       <use x=\"1784.179688\" xlink:href=\"#DejaVuSans-61\"/>\n       <use x=\"1845.458984\" xlink:href=\"#DejaVuSans-74\"/>\n       <use x=\"1884.667969\" xlink:href=\"#DejaVuSans-69\"/>\n       <use x=\"1912.451172\" xlink:href=\"#DejaVuSans-6e\"/>\n       <use x=\"1975.830078\" xlink:href=\"#DejaVuSans-67\"/>\n      </g>\n     </g>\n    </g>\n    <g id=\"ytick_10\">\n     <g id=\"text_17\">\n      <!-- mean_6_months_user_rating -->\n      <g style=\"fill:#333333;\" transform=\"translate(96.906094 282.644699)scale(0.13 -0.13)\">\n       <use xlink:href=\"#DejaVuSans-6d\"/>\n       <use x=\"97.412109\" xlink:href=\"#DejaVuSans-65\"/>\n       <use x=\"158.935547\" xlink:href=\"#DejaVuSans-61\"/>\n       <use x=\"220.214844\" xlink:href=\"#DejaVuSans-6e\"/>\n       <use x=\"283.59375\" xlink:href=\"#DejaVuSans-5f\"/>\n       <use x=\"333.59375\" xlink:href=\"#DejaVuSans-36\"/>\n       <use x=\"397.216797\" xlink:href=\"#DejaVuSans-5f\"/>\n       <use x=\"447.216797\" xlink:href=\"#DejaVuSans-6d\"/>\n       <use x=\"544.628906\" xlink:href=\"#DejaVuSans-6f\"/>\n       <use x=\"605.810547\" xlink:href=\"#DejaVuSans-6e\"/>\n       <use x=\"669.189453\" xlink:href=\"#DejaVuSans-74\"/>\n       <use x=\"708.398438\" xlink:href=\"#DejaVuSans-68\"/>\n       <use x=\"771.777344\" xlink:href=\"#DejaVuSans-73\"/>\n       <use x=\"823.876953\" xlink:href=\"#DejaVuSans-5f\"/>\n       <use x=\"873.876953\" xlink:href=\"#DejaVuSans-75\"/>\n       <use x=\"937.255859\" xlink:href=\"#DejaVuSans-73\"/>\n       <use x=\"989.355469\" xlink:href=\"#DejaVuSans-65\"/>\n       <use x=\"1050.878906\" xlink:href=\"#DejaVuSans-72\"/>\n       <use x=\"1091.992188\" xlink:href=\"#DejaVuSans-5f\"/>\n       <use x=\"1141.992188\" xlink:href=\"#DejaVuSans-72\"/>\n       <use x=\"1183.105469\" xlink:href=\"#DejaVuSans-61\"/>\n       <use x=\"1244.384766\" xlink:href=\"#DejaVuSans-74\"/>\n       <use x=\"1283.59375\" xlink:href=\"#DejaVuSans-69\"/>\n       <use x=\"1311.376953\" xlink:href=\"#DejaVuSans-6e\"/>\n       <use x=\"1374.755859\" xlink:href=\"#DejaVuSans-67\"/>\n      </g>\n     </g>\n    </g>\n    <g id=\"ytick_11\">\n     <g id=\"text_18\">\n      <!-- last_1_month_per_6_months_user_rating -->\n      <g style=\"fill:#333333;\" transform=\"translate(18.767969 258.05327)scale(0.13 -0.13)\">\n       <use xlink:href=\"#DejaVuSans-6c\"/>\n       <use x=\"27.783203\" xlink:href=\"#DejaVuSans-61\"/>\n       <use x=\"89.0625\" xlink:href=\"#DejaVuSans-73\"/>\n       <use x=\"141.162109\" xlink:href=\"#DejaVuSans-74\"/>\n       <use x=\"180.371094\" xlink:href=\"#DejaVuSans-5f\"/>\n       <use x=\"230.371094\" xlink:href=\"#DejaVuSans-31\"/>\n       <use x=\"293.994141\" xlink:href=\"#DejaVuSans-5f\"/>\n       <use x=\"343.994141\" xlink:href=\"#DejaVuSans-6d\"/>\n       <use x=\"441.40625\" xlink:href=\"#DejaVuSans-6f\"/>\n       <use x=\"502.587891\" xlink:href=\"#DejaVuSans-6e\"/>\n       <use x=\"565.966797\" xlink:href=\"#DejaVuSans-74\"/>\n       <use x=\"605.175781\" xlink:href=\"#DejaVuSans-68\"/>\n       <use x=\"668.554688\" xlink:href=\"#DejaVuSans-5f\"/>\n       <use x=\"718.554688\" xlink:href=\"#DejaVuSans-70\"/>\n       <use x=\"782.03125\" xlink:href=\"#DejaVuSans-65\"/>\n       <use x=\"843.554688\" xlink:href=\"#DejaVuSans-72\"/>\n       <use x=\"884.667969\" xlink:href=\"#DejaVuSans-5f\"/>\n       <use x=\"934.667969\" xlink:href=\"#DejaVuSans-36\"/>\n       <use x=\"998.291016\" xlink:href=\"#DejaVuSans-5f\"/>\n       <use x=\"1048.291016\" xlink:href=\"#DejaVuSans-6d\"/>\n       <use x=\"1145.703125\" xlink:href=\"#DejaVuSans-6f\"/>\n       <use x=\"1206.884766\" xlink:href=\"#DejaVuSans-6e\"/>\n       <use x=\"1270.263672\" xlink:href=\"#DejaVuSans-74\"/>\n       <use x=\"1309.472656\" xlink:href=\"#DejaVuSans-68\"/>\n       <use x=\"1372.851562\" xlink:href=\"#DejaVuSans-73\"/>\n       <use x=\"1424.951172\" xlink:href=\"#DejaVuSans-5f\"/>\n       <use x=\"1474.951172\" xlink:href=\"#DejaVuSans-75\"/>\n       <use x=\"1538.330078\" xlink:href=\"#DejaVuSans-73\"/>\n       <use x=\"1590.429688\" xlink:href=\"#DejaVuSans-65\"/>\n       <use x=\"1651.953125\" xlink:href=\"#DejaVuSans-72\"/>\n       <use x=\"1693.066406\" xlink:href=\"#DejaVuSans-5f\"/>\n       <use x=\"1743.066406\" xlink:href=\"#DejaVuSans-72\"/>\n       <use x=\"1784.179688\" xlink:href=\"#DejaVuSans-61\"/>\n       <use x=\"1845.458984\" xlink:href=\"#DejaVuSans-74\"/>\n       <use x=\"1884.667969\" xlink:href=\"#DejaVuSans-69\"/>\n       <use x=\"1912.451172\" xlink:href=\"#DejaVuSans-6e\"/>\n       <use x=\"1975.830078\" xlink:href=\"#DejaVuSans-67\"/>\n      </g>\n     </g>\n    </g>\n    <g id=\"ytick_12\">\n     <g id=\"text_19\">\n      <!-- last_1_months_movie_rating_counts -->\n      <g style=\"fill:#333333;\" transform=\"translate(48.810156 233.461842)scale(0.13 -0.13)\">\n       <use xlink:href=\"#DejaVuSans-6c\"/>\n       <use x=\"27.783203\" xlink:href=\"#DejaVuSans-61\"/>\n       <use x=\"89.0625\" xlink:href=\"#DejaVuSans-73\"/>\n       <use x=\"141.162109\" xlink:href=\"#DejaVuSans-74\"/>\n       <use x=\"180.371094\" xlink:href=\"#DejaVuSans-5f\"/>\n       <use x=\"230.371094\" xlink:href=\"#DejaVuSans-31\"/>\n       <use x=\"293.994141\" xlink:href=\"#DejaVuSans-5f\"/>\n       <use x=\"343.994141\" xlink:href=\"#DejaVuSans-6d\"/>\n       <use x=\"441.40625\" xlink:href=\"#DejaVuSans-6f\"/>\n       <use x=\"502.587891\" xlink:href=\"#DejaVuSans-6e\"/>\n       <use x=\"565.966797\" xlink:href=\"#DejaVuSans-74\"/>\n       <use x=\"605.175781\" xlink:href=\"#DejaVuSans-68\"/>\n       <use x=\"668.554688\" xlink:href=\"#DejaVuSans-73\"/>\n       <use x=\"720.654297\" xlink:href=\"#DejaVuSans-5f\"/>\n       <use x=\"770.654297\" xlink:href=\"#DejaVuSans-6d\"/>\n       <use x=\"868.066406\" xlink:href=\"#DejaVuSans-6f\"/>\n       <use x=\"929.248047\" xlink:href=\"#DejaVuSans-76\"/>\n       <use x=\"988.427734\" xlink:href=\"#DejaVuSans-69\"/>\n       <use x=\"1016.210938\" xlink:href=\"#DejaVuSans-65\"/>\n       <use x=\"1077.734375\" xlink:href=\"#DejaVuSans-5f\"/>\n       <use x=\"1127.734375\" xlink:href=\"#DejaVuSans-72\"/>\n       <use x=\"1168.847656\" xlink:href=\"#DejaVuSans-61\"/>\n       <use x=\"1230.126953\" xlink:href=\"#DejaVuSans-74\"/>\n       <use x=\"1269.335938\" xlink:href=\"#DejaVuSans-69\"/>\n       <use x=\"1297.119141\" xlink:href=\"#DejaVuSans-6e\"/>\n       <use x=\"1360.498047\" xlink:href=\"#DejaVuSans-67\"/>\n       <use x=\"1423.974609\" xlink:href=\"#DejaVuSans-5f\"/>\n       <use x=\"1473.974609\" xlink:href=\"#DejaVuSans-63\"/>\n       <use x=\"1528.955078\" xlink:href=\"#DejaVuSans-6f\"/>\n       <use x=\"1590.136719\" xlink:href=\"#DejaVuSans-75\"/>\n       <use x=\"1653.515625\" xlink:href=\"#DejaVuSans-6e\"/>\n       <use x=\"1716.894531\" xlink:href=\"#DejaVuSans-74\"/>\n       <use x=\"1756.103516\" xlink:href=\"#DejaVuSans-73\"/>\n      </g>\n     </g>\n    </g>\n    <g id=\"ytick_13\">\n     <g id=\"text_20\">\n      <!-- mean_6_months_genre_rating -->\n      <g style=\"fill:#333333;\" transform=\"translate(87.71875 208.870413)scale(0.13 -0.13)\">\n       <use xlink:href=\"#DejaVuSans-6d\"/>\n       <use x=\"97.412109\" xlink:href=\"#DejaVuSans-65\"/>\n       <use x=\"158.935547\" xlink:href=\"#DejaVuSans-61\"/>\n       <use x=\"220.214844\" xlink:href=\"#DejaVuSans-6e\"/>\n       <use x=\"283.59375\" xlink:href=\"#DejaVuSans-5f\"/>\n       <use x=\"333.59375\" xlink:href=\"#DejaVuSans-36\"/>\n       <use x=\"397.216797\" xlink:href=\"#DejaVuSans-5f\"/>\n       <use x=\"447.216797\" xlink:href=\"#DejaVuSans-6d\"/>\n       <use x=\"544.628906\" xlink:href=\"#DejaVuSans-6f\"/>\n       <use x=\"605.810547\" xlink:href=\"#DejaVuSans-6e\"/>\n       <use x=\"669.189453\" xlink:href=\"#DejaVuSans-74\"/>\n       <use x=\"708.398438\" xlink:href=\"#DejaVuSans-68\"/>\n       <use x=\"771.777344\" xlink:href=\"#DejaVuSans-73\"/>\n       <use x=\"823.876953\" xlink:href=\"#DejaVuSans-5f\"/>\n       <use x=\"873.876953\" xlink:href=\"#DejaVuSans-67\"/>\n       <use x=\"937.353516\" xlink:href=\"#DejaVuSans-65\"/>\n       <use x=\"998.876953\" xlink:href=\"#DejaVuSans-6e\"/>\n       <use x=\"1062.255859\" xlink:href=\"#DejaVuSans-72\"/>\n       <use x=\"1101.119141\" xlink:href=\"#DejaVuSans-65\"/>\n       <use x=\"1162.642578\" xlink:href=\"#DejaVuSans-5f\"/>\n       <use x=\"1212.642578\" xlink:href=\"#DejaVuSans-72\"/>\n       <use x=\"1253.755859\" xlink:href=\"#DejaVuSans-61\"/>\n       <use x=\"1315.035156\" xlink:href=\"#DejaVuSans-74\"/>\n       <use x=\"1354.244141\" xlink:href=\"#DejaVuSans-69\"/>\n       <use x=\"1382.027344\" xlink:href=\"#DejaVuSans-6e\"/>\n       <use x=\"1445.40625\" xlink:href=\"#DejaVuSans-67\"/>\n      </g>\n     </g>\n    </g>\n    <g id=\"ytick_14\">\n     <g id=\"text_21\">\n      <!-- last_6_months_weighted_rating -->\n      <g style=\"fill:#333333;\" transform=\"translate(78.598437 184.278984)scale(0.13 -0.13)\">\n       <defs>\n        <path d=\"M 269 3500 \nL 844 3500 \nL 1563 769 \nL 2278 3500 \nL 2956 3500 \nL 3675 769 \nL 4391 3500 \nL 4966 3500 \nL 4050 0 \nL 3372 0 \nL 2619 2869 \nL 1863 0 \nL 1184 0 \nL 269 3500 \nz\n\" id=\"DejaVuSans-77\" transform=\"scale(0.015625)\"/>\n       </defs>\n       <use xlink:href=\"#DejaVuSans-6c\"/>\n       <use x=\"27.783203\" xlink:href=\"#DejaVuSans-61\"/>\n       <use x=\"89.0625\" xlink:href=\"#DejaVuSans-73\"/>\n       <use x=\"141.162109\" xlink:href=\"#DejaVuSans-74\"/>\n       <use x=\"180.371094\" xlink:href=\"#DejaVuSans-5f\"/>\n       <use x=\"230.371094\" xlink:href=\"#DejaVuSans-36\"/>\n       <use x=\"293.994141\" xlink:href=\"#DejaVuSans-5f\"/>\n       <use x=\"343.994141\" xlink:href=\"#DejaVuSans-6d\"/>\n       <use x=\"441.40625\" xlink:href=\"#DejaVuSans-6f\"/>\n       <use x=\"502.587891\" xlink:href=\"#DejaVuSans-6e\"/>\n       <use x=\"565.966797\" xlink:href=\"#DejaVuSans-74\"/>\n       <use x=\"605.175781\" xlink:href=\"#DejaVuSans-68\"/>\n       <use x=\"668.554688\" xlink:href=\"#DejaVuSans-73\"/>\n       <use x=\"720.654297\" xlink:href=\"#DejaVuSans-5f\"/>\n       <use x=\"770.654297\" xlink:href=\"#DejaVuSans-77\"/>\n       <use x=\"852.441406\" xlink:href=\"#DejaVuSans-65\"/>\n       <use x=\"913.964844\" xlink:href=\"#DejaVuSans-69\"/>\n       <use x=\"941.748047\" xlink:href=\"#DejaVuSans-67\"/>\n       <use x=\"1005.224609\" xlink:href=\"#DejaVuSans-68\"/>\n       <use x=\"1068.603516\" xlink:href=\"#DejaVuSans-74\"/>\n       <use x=\"1107.8125\" xlink:href=\"#DejaVuSans-65\"/>\n       <use x=\"1169.335938\" xlink:href=\"#DejaVuSans-64\"/>\n       <use x=\"1232.8125\" xlink:href=\"#DejaVuSans-5f\"/>\n       <use x=\"1282.8125\" xlink:href=\"#DejaVuSans-72\"/>\n       <use x=\"1323.925781\" xlink:href=\"#DejaVuSans-61\"/>\n       <use x=\"1385.205078\" xlink:href=\"#DejaVuSans-74\"/>\n       <use x=\"1424.414062\" xlink:href=\"#DejaVuSans-69\"/>\n       <use x=\"1452.197266\" xlink:href=\"#DejaVuSans-6e\"/>\n       <use x=\"1515.576172\" xlink:href=\"#DejaVuSans-67\"/>\n      </g>\n     </g>\n    </g>\n    <g id=\"ytick_15\">\n     <g id=\"text_22\">\n      <!-- mean_3_months_user_rating -->\n      <g style=\"fill:#333333;\" transform=\"translate(96.906094 159.687556)scale(0.13 -0.13)\">\n       <use xlink:href=\"#DejaVuSans-6d\"/>\n       <use x=\"97.412109\" xlink:href=\"#DejaVuSans-65\"/>\n       <use x=\"158.935547\" xlink:href=\"#DejaVuSans-61\"/>\n       <use x=\"220.214844\" xlink:href=\"#DejaVuSans-6e\"/>\n       <use x=\"283.59375\" xlink:href=\"#DejaVuSans-5f\"/>\n       <use x=\"333.59375\" xlink:href=\"#DejaVuSans-33\"/>\n       <use x=\"397.216797\" xlink:href=\"#DejaVuSans-5f\"/>\n       <use x=\"447.216797\" xlink:href=\"#DejaVuSans-6d\"/>\n       <use x=\"544.628906\" xlink:href=\"#DejaVuSans-6f\"/>\n       <use x=\"605.810547\" xlink:href=\"#DejaVuSans-6e\"/>\n       <use x=\"669.189453\" xlink:href=\"#DejaVuSans-74\"/>\n       <use x=\"708.398438\" xlink:href=\"#DejaVuSans-68\"/>\n       <use x=\"771.777344\" xlink:href=\"#DejaVuSans-73\"/>\n       <use x=\"823.876953\" xlink:href=\"#DejaVuSans-5f\"/>\n       <use x=\"873.876953\" xlink:href=\"#DejaVuSans-75\"/>\n       <use x=\"937.255859\" xlink:href=\"#DejaVuSans-73\"/>\n       <use x=\"989.355469\" xlink:href=\"#DejaVuSans-65\"/>\n       <use x=\"1050.878906\" xlink:href=\"#DejaVuSans-72\"/>\n       <use x=\"1091.992188\" xlink:href=\"#DejaVuSans-5f\"/>\n       <use x=\"1141.992188\" xlink:href=\"#DejaVuSans-72\"/>\n       <use x=\"1183.105469\" xlink:href=\"#DejaVuSans-61\"/>\n       <use x=\"1244.384766\" xlink:href=\"#DejaVuSans-74\"/>\n       <use x=\"1283.59375\" xlink:href=\"#DejaVuSans-69\"/>\n       <use x=\"1311.376953\" xlink:href=\"#DejaVuSans-6e\"/>\n       <use x=\"1374.755859\" xlink:href=\"#DejaVuSans-67\"/>\n      </g>\n     </g>\n    </g>\n    <g id=\"ytick_16\">\n     <g id=\"text_23\">\n      <!-- last_1_months_user_rating_counts -->\n      <g style=\"fill:#333333;\" transform=\"translate(60.378125 135.096127)scale(0.13 -0.13)\">\n       <use xlink:href=\"#DejaVuSans-6c\"/>\n       <use x=\"27.783203\" xlink:href=\"#DejaVuSans-61\"/>\n       <use x=\"89.0625\" xlink:href=\"#DejaVuSans-73\"/>\n       <use x=\"141.162109\" xlink:href=\"#DejaVuSans-74\"/>\n       <use x=\"180.371094\" xlink:href=\"#DejaVuSans-5f\"/>\n       <use x=\"230.371094\" xlink:href=\"#DejaVuSans-31\"/>\n       <use x=\"293.994141\" xlink:href=\"#DejaVuSans-5f\"/>\n       <use x=\"343.994141\" xlink:href=\"#DejaVuSans-6d\"/>\n       <use x=\"441.40625\" xlink:href=\"#DejaVuSans-6f\"/>\n       <use x=\"502.587891\" xlink:href=\"#DejaVuSans-6e\"/>\n       <use x=\"565.966797\" xlink:href=\"#DejaVuSans-74\"/>\n       <use x=\"605.175781\" xlink:href=\"#DejaVuSans-68\"/>\n       <use x=\"668.554688\" xlink:href=\"#DejaVuSans-73\"/>\n       <use x=\"720.654297\" xlink:href=\"#DejaVuSans-5f\"/>\n       <use x=\"770.654297\" xlink:href=\"#DejaVuSans-75\"/>\n       <use x=\"834.033203\" xlink:href=\"#DejaVuSans-73\"/>\n       <use x=\"886.132812\" xlink:href=\"#DejaVuSans-65\"/>\n       <use x=\"947.65625\" xlink:href=\"#DejaVuSans-72\"/>\n       <use x=\"988.769531\" xlink:href=\"#DejaVuSans-5f\"/>\n       <use x=\"1038.769531\" xlink:href=\"#DejaVuSans-72\"/>\n       <use x=\"1079.882812\" xlink:href=\"#DejaVuSans-61\"/>\n       <use x=\"1141.162109\" xlink:href=\"#DejaVuSans-74\"/>\n       <use x=\"1180.371094\" xlink:href=\"#DejaVuSans-69\"/>\n       <use x=\"1208.154297\" xlink:href=\"#DejaVuSans-6e\"/>\n       <use x=\"1271.533203\" xlink:href=\"#DejaVuSans-67\"/>\n       <use x=\"1335.009766\" xlink:href=\"#DejaVuSans-5f\"/>\n       <use x=\"1385.009766\" xlink:href=\"#DejaVuSans-63\"/>\n       <use x=\"1439.990234\" xlink:href=\"#DejaVuSans-6f\"/>\n       <use x=\"1501.171875\" xlink:href=\"#DejaVuSans-75\"/>\n       <use x=\"1564.550781\" xlink:href=\"#DejaVuSans-6e\"/>\n       <use x=\"1627.929688\" xlink:href=\"#DejaVuSans-74\"/>\n       <use x=\"1667.138672\" xlink:href=\"#DejaVuSans-73\"/>\n      </g>\n     </g>\n    </g>\n    <g id=\"ytick_17\">\n     <g id=\"text_24\">\n      <!-- last_1_months_movie_rating -->\n      <g style=\"fill:#333333;\" transform=\"translate(98.758594 110.504699)scale(0.13 -0.13)\">\n       <use xlink:href=\"#DejaVuSans-6c\"/>\n       <use x=\"27.783203\" xlink:href=\"#DejaVuSans-61\"/>\n       <use x=\"89.0625\" xlink:href=\"#DejaVuSans-73\"/>\n       <use x=\"141.162109\" xlink:href=\"#DejaVuSans-74\"/>\n       <use x=\"180.371094\" xlink:href=\"#DejaVuSans-5f\"/>\n       <use x=\"230.371094\" xlink:href=\"#DejaVuSans-31\"/>\n       <use x=\"293.994141\" xlink:href=\"#DejaVuSans-5f\"/>\n       <use x=\"343.994141\" xlink:href=\"#DejaVuSans-6d\"/>\n       <use x=\"441.40625\" xlink:href=\"#DejaVuSans-6f\"/>\n       <use x=\"502.587891\" xlink:href=\"#DejaVuSans-6e\"/>\n       <use x=\"565.966797\" xlink:href=\"#DejaVuSans-74\"/>\n       <use x=\"605.175781\" xlink:href=\"#DejaVuSans-68\"/>\n       <use x=\"668.554688\" xlink:href=\"#DejaVuSans-73\"/>\n       <use x=\"720.654297\" xlink:href=\"#DejaVuSans-5f\"/>\n       <use x=\"770.654297\" xlink:href=\"#DejaVuSans-6d\"/>\n       <use x=\"868.066406\" xlink:href=\"#DejaVuSans-6f\"/>\n       <use x=\"929.248047\" xlink:href=\"#DejaVuSans-76\"/>\n       <use x=\"988.427734\" xlink:href=\"#DejaVuSans-69\"/>\n       <use x=\"1016.210938\" xlink:href=\"#DejaVuSans-65\"/>\n       <use x=\"1077.734375\" xlink:href=\"#DejaVuSans-5f\"/>\n       <use x=\"1127.734375\" xlink:href=\"#DejaVuSans-72\"/>\n       <use x=\"1168.847656\" xlink:href=\"#DejaVuSans-61\"/>\n       <use x=\"1230.126953\" xlink:href=\"#DejaVuSans-74\"/>\n       <use x=\"1269.335938\" xlink:href=\"#DejaVuSans-69\"/>\n       <use x=\"1297.119141\" xlink:href=\"#DejaVuSans-6e\"/>\n       <use x=\"1360.498047\" xlink:href=\"#DejaVuSans-67\"/>\n      </g>\n     </g>\n    </g>\n    <g id=\"ytick_18\">\n     <g id=\"text_25\">\n      <!-- mean_3_months_movie_rating -->\n      <g style=\"fill:#333333;\" transform=\"translate(85.338125 85.91327)scale(0.13 -0.13)\">\n       <use xlink:href=\"#DejaVuSans-6d\"/>\n       <use x=\"97.412109\" xlink:href=\"#DejaVuSans-65\"/>\n       <use x=\"158.935547\" xlink:href=\"#DejaVuSans-61\"/>\n       <use x=\"220.214844\" xlink:href=\"#DejaVuSans-6e\"/>\n       <use x=\"283.59375\" xlink:href=\"#DejaVuSans-5f\"/>\n       <use x=\"333.59375\" xlink:href=\"#DejaVuSans-33\"/>\n       <use x=\"397.216797\" xlink:href=\"#DejaVuSans-5f\"/>\n       <use x=\"447.216797\" xlink:href=\"#DejaVuSans-6d\"/>\n       <use x=\"544.628906\" xlink:href=\"#DejaVuSans-6f\"/>\n       <use x=\"605.810547\" xlink:href=\"#DejaVuSans-6e\"/>\n       <use x=\"669.189453\" xlink:href=\"#DejaVuSans-74\"/>\n       <use x=\"708.398438\" xlink:href=\"#DejaVuSans-68\"/>\n       <use x=\"771.777344\" xlink:href=\"#DejaVuSans-73\"/>\n       <use x=\"823.876953\" xlink:href=\"#DejaVuSans-5f\"/>\n       <use x=\"873.876953\" xlink:href=\"#DejaVuSans-6d\"/>\n       <use x=\"971.289062\" xlink:href=\"#DejaVuSans-6f\"/>\n       <use x=\"1032.470703\" xlink:href=\"#DejaVuSans-76\"/>\n       <use x=\"1091.650391\" xlink:href=\"#DejaVuSans-69\"/>\n       <use x=\"1119.433594\" xlink:href=\"#DejaVuSans-65\"/>\n       <use x=\"1180.957031\" xlink:href=\"#DejaVuSans-5f\"/>\n       <use x=\"1230.957031\" xlink:href=\"#DejaVuSans-72\"/>\n       <use x=\"1272.070312\" xlink:href=\"#DejaVuSans-61\"/>\n       <use x=\"1333.349609\" xlink:href=\"#DejaVuSans-74\"/>\n       <use x=\"1372.558594\" xlink:href=\"#DejaVuSans-69\"/>\n       <use x=\"1400.341797\" xlink:href=\"#DejaVuSans-6e\"/>\n       <use x=\"1463.720703\" xlink:href=\"#DejaVuSans-67\"/>\n      </g>\n     </g>\n    </g>\n    <g id=\"ytick_19\">\n     <g id=\"text_26\">\n      <!-- mean_6_months_movie_rating -->\n      <g style=\"fill:#333333;\" transform=\"translate(85.338125 61.321842)scale(0.13 -0.13)\">\n       <use xlink:href=\"#DejaVuSans-6d\"/>\n       <use x=\"97.412109\" xlink:href=\"#DejaVuSans-65\"/>\n       <use x=\"158.935547\" xlink:href=\"#DejaVuSans-61\"/>\n       <use x=\"220.214844\" xlink:href=\"#DejaVuSans-6e\"/>\n       <use x=\"283.59375\" xlink:href=\"#DejaVuSans-5f\"/>\n       <use x=\"333.59375\" xlink:href=\"#DejaVuSans-36\"/>\n       <use x=\"397.216797\" xlink:href=\"#DejaVuSans-5f\"/>\n       <use x=\"447.216797\" xlink:href=\"#DejaVuSans-6d\"/>\n       <use x=\"544.628906\" xlink:href=\"#DejaVuSans-6f\"/>\n       <use x=\"605.810547\" xlink:href=\"#DejaVuSans-6e\"/>\n       <use x=\"669.189453\" xlink:href=\"#DejaVuSans-74\"/>\n       <use x=\"708.398438\" xlink:href=\"#DejaVuSans-68\"/>\n       <use x=\"771.777344\" xlink:href=\"#DejaVuSans-73\"/>\n       <use x=\"823.876953\" xlink:href=\"#DejaVuSans-5f\"/>\n       <use x=\"873.876953\" xlink:href=\"#DejaVuSans-6d\"/>\n       <use x=\"971.289062\" xlink:href=\"#DejaVuSans-6f\"/>\n       <use x=\"1032.470703\" xlink:href=\"#DejaVuSans-76\"/>\n       <use x=\"1091.650391\" xlink:href=\"#DejaVuSans-69\"/>\n       <use x=\"1119.433594\" xlink:href=\"#DejaVuSans-65\"/>\n       <use x=\"1180.957031\" xlink:href=\"#DejaVuSans-5f\"/>\n       <use x=\"1230.957031\" xlink:href=\"#DejaVuSans-72\"/>\n       <use x=\"1272.070312\" xlink:href=\"#DejaVuSans-61\"/>\n       <use x=\"1333.349609\" xlink:href=\"#DejaVuSans-74\"/>\n       <use x=\"1372.558594\" xlink:href=\"#DejaVuSans-69\"/>\n       <use x=\"1400.341797\" xlink:href=\"#DejaVuSans-6e\"/>\n       <use x=\"1463.720703\" xlink:href=\"#DejaVuSans-67\"/>\n      </g>\n     </g>\n    </g>\n    <g id=\"ytick_20\">\n     <g id=\"text_27\">\n      <!-- last_1_months_user_rating -->\n      <g style=\"fill:#333333;\" transform=\"translate(110.326562 36.730413)scale(0.13 -0.13)\">\n       <use xlink:href=\"#DejaVuSans-6c\"/>\n       <use x=\"27.783203\" xlink:href=\"#DejaVuSans-61\"/>\n       <use x=\"89.0625\" xlink:href=\"#DejaVuSans-73\"/>\n       <use x=\"141.162109\" xlink:href=\"#DejaVuSans-74\"/>\n       <use x=\"180.371094\" xlink:href=\"#DejaVuSans-5f\"/>\n       <use x=\"230.371094\" xlink:href=\"#DejaVuSans-31\"/>\n       <use x=\"293.994141\" xlink:href=\"#DejaVuSans-5f\"/>\n       <use x=\"343.994141\" xlink:href=\"#DejaVuSans-6d\"/>\n       <use x=\"441.40625\" xlink:href=\"#DejaVuSans-6f\"/>\n       <use x=\"502.587891\" xlink:href=\"#DejaVuSans-6e\"/>\n       <use x=\"565.966797\" xlink:href=\"#DejaVuSans-74\"/>\n       <use x=\"605.175781\" xlink:href=\"#DejaVuSans-68\"/>\n       <use x=\"668.554688\" xlink:href=\"#DejaVuSans-73\"/>\n       <use x=\"720.654297\" xlink:href=\"#DejaVuSans-5f\"/>\n       <use x=\"770.654297\" xlink:href=\"#DejaVuSans-75\"/>\n       <use x=\"834.033203\" xlink:href=\"#DejaVuSans-73\"/>\n       <use x=\"886.132812\" xlink:href=\"#DejaVuSans-65\"/>\n       <use x=\"947.65625\" xlink:href=\"#DejaVuSans-72\"/>\n       <use x=\"988.769531\" xlink:href=\"#DejaVuSans-5f\"/>\n       <use x=\"1038.769531\" xlink:href=\"#DejaVuSans-72\"/>\n       <use x=\"1079.882812\" xlink:href=\"#DejaVuSans-61\"/>\n       <use x=\"1141.162109\" xlink:href=\"#DejaVuSans-74\"/>\n       <use x=\"1180.371094\" xlink:href=\"#DejaVuSans-69\"/>\n       <use x=\"1208.154297\" xlink:href=\"#DejaVuSans-6e\"/>\n       <use x=\"1271.533203\" xlink:href=\"#DejaVuSans-67\"/>\n      </g>\n     </g>\n    </g>\n   </g>\n   <g id=\"patch_43\">\n    <path d=\"M 290.8725 523.62 \nL 737.2725 523.62 \n\" style=\"fill:none;stroke:#000000;stroke-linecap:square;stroke-linejoin:miter;stroke-width:0.8;\"/>\n   </g>\n   <g id=\"legend_1\">\n    <g id=\"patch_44\">\n     <path d=\"M 649.854375 492.710625 \nL 673.854375 492.710625 \nL 673.854375 484.310625 \nL 649.854375 484.310625 \nz\n\" style=\"fill:#008bfb;\"/>\n    </g>\n    <g id=\"text_28\">\n     <!-- Class 0 -->\n     <g transform=\"translate(683.454375 492.710625)scale(0.12 -0.12)\">\n      <defs>\n       <path d=\"M 4122 4306 \nL 4122 3641 \nQ 3803 3938 3442 4084 \nQ 3081 4231 2675 4231 \nQ 1875 4231 1450 3742 \nQ 1025 3253 1025 2328 \nQ 1025 1406 1450 917 \nQ 1875 428 2675 428 \nQ 3081 428 3442 575 \nQ 3803 722 4122 1019 \nL 4122 359 \nQ 3791 134 3420 21 \nQ 3050 -91 2638 -91 \nQ 1578 -91 968 557 \nQ 359 1206 359 2328 \nQ 359 3453 968 4101 \nQ 1578 4750 2638 4750 \nQ 3056 4750 3426 4639 \nQ 3797 4528 4122 4306 \nz\n\" id=\"DejaVuSans-43\" transform=\"scale(0.015625)\"/>\n      </defs>\n      <use xlink:href=\"#DejaVuSans-43\"/>\n      <use x=\"69.824219\" xlink:href=\"#DejaVuSans-6c\"/>\n      <use x=\"97.607422\" xlink:href=\"#DejaVuSans-61\"/>\n      <use x=\"158.886719\" xlink:href=\"#DejaVuSans-73\"/>\n      <use x=\"210.986328\" xlink:href=\"#DejaVuSans-73\"/>\n      <use x=\"263.085938\" xlink:href=\"#DejaVuSans-20\"/>\n      <use x=\"294.873047\" xlink:href=\"#DejaVuSans-30\"/>\n     </g>\n    </g>\n    <g id=\"patch_45\">\n     <path d=\"M 649.854375 510.324375 \nL 673.854375 510.324375 \nL 673.854375 501.924375 \nL 649.854375 501.924375 \nz\n\" style=\"fill:#ff004f;\"/>\n    </g>\n    <g id=\"text_29\">\n     <!-- Class 1 -->\n     <g transform=\"translate(683.454375 510.324375)scale(0.12 -0.12)\">\n      <use xlink:href=\"#DejaVuSans-43\"/>\n      <use x=\"69.824219\" xlink:href=\"#DejaVuSans-6c\"/>\n      <use x=\"97.607422\" xlink:href=\"#DejaVuSans-61\"/>\n      <use x=\"158.886719\" xlink:href=\"#DejaVuSans-73\"/>\n      <use x=\"210.986328\" xlink:href=\"#DejaVuSans-73\"/>\n      <use x=\"263.085938\" xlink:href=\"#DejaVuSans-20\"/>\n      <use x=\"294.873047\" xlink:href=\"#DejaVuSans-31\"/>\n     </g>\n    </g>\n   </g>\n  </g>\n </g>\n <defs>\n  <clipPath id=\"pd4b33305c3\">\n   <rect height=\"516.42\" width=\"446.4\" x=\"290.8725\" y=\"7.2\"/>\n  </clipPath>\n </defs>\n</svg>\n",
      "image/png": "[encoded data removed]"
     },
     "metadata": {
      "needs_background": "light"
     }
    }
   ],
   "source": [
    "shap.summary_plot(shap_values, X_test)"
   ]
  },
  {
   "source": [
    "## Explaning the 5 most important variables in the model"
   ],
   "cell_type": "markdown",
   "metadata": {}
  },
  {
   "cell_type": "code",
   "execution_count": 95,
   "metadata": {},
   "outputs": [
    {
     "output_type": "display_data",
     "data": {
      "text/plain": "<Figure size 432x360 with 1 Axes>",
      "image/svg+xml": "<?xml version=\"1.0\" encoding=\"utf-8\" standalone=\"no\"?>\n<!DOCTYPE svg PUBLIC \"-//W3C//DTD SVG 1.1//EN\"\n  \"http://www.w3.org/Graphics/SVG/1.1/DTD/svg11.dtd\">\n<svg height=\"320.789062pt\" version=\"1.1\" viewBox=\"0 0 403.916687 320.789062\" width=\"403.916687pt\" xmlns=\"http://www.w3.org/2000/svg\" xmlns:xlink=\"http://www.w3.org/1999/xlink\">\n <metadata>\n  <rdf:RDF xmlns:cc=\"http://creativecommons.org/ns#\" xmlns:dc=\"http://purl.org/dc/elements/1.1/\" xmlns:rdf=\"http://www.w3.org/1999/02/22-rdf-syntax-ns#\">\n   <cc:Work>\n    <dc:type rdf:resource=\"http://purl.org/dc/dcmitype/StillImage\"/>\n    <dc:date>2021-04-11T14:56:48.935989</dc:date>\n    <dc:format>image/svg+xml</dc:format>\n    <dc:creator>\n     <cc:Agent>\n      <dc:title>Matplotlib v3.4.1, https://matplotlib.org/</dc:title>\n     </cc:Agent>\n    </dc:creator>\n   </cc:Work>\n  </rdf:RDF>\n </metadata>\n <defs>\n  <style type=\"text/css\">*{stroke-linecap:butt;stroke-linejoin:round;}</style>\n </defs>\n <g id=\"figure_1\">\n  <g id=\"patch_1\">\n   <path d=\"M 0 320.789062 \nL 403.916687 320.789062 \nL 403.916687 0 \nL 0 0 \nz\n\" style=\"fill:none;\"/>\n  </g>\n  <g id=\"axes_1\">\n   <g id=\"patch_2\">\n    <path d=\"M 61.916688 279 \nL 396.716688 279 \nL 396.716688 7.2 \nL 61.916688 7.2 \nz\n\" style=\"fill:#ffffff;\"/>\n   </g>\n   <image height=\"252\" id=\"imagec0c99adec4\" transform=\"scale(1 -1)translate(0 -252)\" width=\"309\" x=\"75\" xlink:href=\"data:image/png;base64,\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\" y=\"-17\"/>\n   <g id=\"PathCollection_1\"/>\n   <g id=\"matplotlib.axis_1\">\n    <g id=\"xtick_1\">\n     <g id=\"line2d_1\">\n      <defs>\n       <path d=\"M 0 0 \nL 0 3.5 \n\" id=\"m7c28fe8220\" style=\"stroke:#333333;stroke-width:0.8;\"/>\n      </defs>\n      <g>\n       <use style=\"fill:#333333;stroke:#333333;stroke-width:0.8;\" x=\"110.953051\" xlink:href=\"#m7c28fe8220\" y=\"279\"/>\n      </g>\n     </g>\n     <g id=\"text_1\">\n      <!-- 1 -->\n      <g style=\"fill:#333333;\" transform=\"translate(107.453676 294.358281)scale(0.11 -0.11)\">\n       <defs>\n        <path d=\"M 794 531 \nL 1825 531 \nL 1825 4091 \nL 703 3866 \nL 703 4441 \nL 1819 4666 \nL 2450 4666 \nL 2450 531 \nL 3481 531 \nL 3481 0 \nL 794 0 \nL 794 531 \nz\n\" id=\"DejaVuSans-31\" transform=\"scale(0.015625)\"/>\n       </defs>\n       <use xlink:href=\"#DejaVuSans-31\"/>\n      </g>\n     </g>\n    </g>\n    <g id=\"xtick_2\">\n     <g id=\"line2d_2\">\n      <g>\n       <use style=\"fill:#333333;stroke:#333333;stroke-width:0.8;\" x=\"178.589415\" xlink:href=\"#m7c28fe8220\" y=\"279\"/>\n      </g>\n     </g>\n     <g id=\"text_2\">\n      <!-- 2 -->\n      <g style=\"fill:#333333;\" transform=\"translate(175.09004 294.358281)scale(0.11 -0.11)\">\n       <defs>\n        <path d=\"M 1228 531 \nL 3431 531 \nL 3431 0 \nL 469 0 \nL 469 531 \nQ 828 903 1448 1529 \nQ 2069 2156 2228 2338 \nQ 2531 2678 2651 2914 \nQ 2772 3150 2772 3378 \nQ 2772 3750 2511 3984 \nQ 2250 4219 1831 4219 \nQ 1534 4219 1204 4116 \nQ 875 4013 500 3803 \nL 500 4441 \nQ 881 4594 1212 4672 \nQ 1544 4750 1819 4750 \nQ 2544 4750 2975 4387 \nQ 3406 4025 3406 3419 \nQ 3406 3131 3298 2873 \nQ 3191 2616 2906 2266 \nQ 2828 2175 2409 1742 \nQ 1991 1309 1228 531 \nz\n\" id=\"DejaVuSans-32\" transform=\"scale(0.015625)\"/>\n       </defs>\n       <use xlink:href=\"#DejaVuSans-32\"/>\n      </g>\n     </g>\n    </g>\n    <g id=\"xtick_3\">\n     <g id=\"line2d_3\">\n      <g>\n       <use style=\"fill:#333333;stroke:#333333;stroke-width:0.8;\" x=\"246.225778\" xlink:href=\"#m7c28fe8220\" y=\"279\"/>\n      </g>\n     </g>\n     <g id=\"text_3\">\n      <!-- 3 -->\n      <g style=\"fill:#333333;\" transform=\"translate(242.726403 294.358281)scale(0.11 -0.11)\">\n       <defs>\n        <path d=\"M 2597 2516 \nQ 3050 2419 3304 2112 \nQ 3559 1806 3559 1356 \nQ 3559 666 3084 287 \nQ 2609 -91 1734 -91 \nQ 1441 -91 1130 -33 \nQ 819 25 488 141 \nL 488 750 \nQ 750 597 1062 519 \nQ 1375 441 1716 441 \nQ 2309 441 2620 675 \nQ 2931 909 2931 1356 \nQ 2931 1769 2642 2001 \nQ 2353 2234 1838 2234 \nL 1294 2234 \nL 1294 2753 \nL 1863 2753 \nQ 2328 2753 2575 2939 \nQ 2822 3125 2822 3475 \nQ 2822 3834 2567 4026 \nQ 2313 4219 1838 4219 \nQ 1578 4219 1281 4162 \nQ 984 4106 628 3988 \nL 628 4550 \nQ 988 4650 1302 4700 \nQ 1616 4750 1894 4750 \nQ 2613 4750 3031 4423 \nQ 3450 4097 3450 3541 \nQ 3450 3153 3228 2886 \nQ 3006 2619 2597 2516 \nz\n\" id=\"DejaVuSans-33\" transform=\"scale(0.015625)\"/>\n       </defs>\n       <use xlink:href=\"#DejaVuSans-33\"/>\n      </g>\n     </g>\n    </g>\n    <g id=\"xtick_4\">\n     <g id=\"line2d_4\">\n      <g>\n       <use style=\"fill:#333333;stroke:#333333;stroke-width:0.8;\" x=\"313.862142\" xlink:href=\"#m7c28fe8220\" y=\"279\"/>\n      </g>\n     </g>\n     <g id=\"text_4\">\n      <!-- 4 -->\n      <g style=\"fill:#333333;\" transform=\"translate(310.362767 294.358281)scale(0.11 -0.11)\">\n       <defs>\n        <path d=\"M 2419 4116 \nL 825 1625 \nL 2419 1625 \nL 2419 4116 \nz\nM 2253 4666 \nL 3047 4666 \nL 3047 1625 \nL 3713 1625 \nL 3713 1100 \nL 3047 1100 \nL 3047 0 \nL 2419 0 \nL 2419 1100 \nL 313 1100 \nL 313 1709 \nL 2253 4666 \nz\n\" id=\"DejaVuSans-34\" transform=\"scale(0.015625)\"/>\n       </defs>\n       <use xlink:href=\"#DejaVuSans-34\"/>\n      </g>\n     </g>\n    </g>\n    <g id=\"xtick_5\">\n     <g id=\"line2d_5\">\n      <g>\n       <use style=\"fill:#333333;stroke:#333333;stroke-width:0.8;\" x=\"381.498506\" xlink:href=\"#m7c28fe8220\" y=\"279\"/>\n      </g>\n     </g>\n     <g id=\"text_5\">\n      <!-- 5 -->\n      <g style=\"fill:#333333;\" transform=\"translate(377.999131 294.358281)scale(0.11 -0.11)\">\n       <defs>\n        <path d=\"M 691 4666 \nL 3169 4666 \nL 3169 4134 \nL 1269 4134 \nL 1269 2991 \nQ 1406 3038 1543 3061 \nQ 1681 3084 1819 3084 \nQ 2600 3084 3056 2656 \nQ 3513 2228 3513 1497 \nQ 3513 744 3044 326 \nQ 2575 -91 1722 -91 \nQ 1428 -91 1123 -41 \nQ 819 9 494 109 \nL 494 744 \nQ 775 591 1075 516 \nQ 1375 441 1709 441 \nQ 2250 441 2565 725 \nQ 2881 1009 2881 1497 \nQ 2881 1984 2565 2268 \nQ 2250 2553 1709 2553 \nQ 1456 2553 1204 2497 \nQ 953 2441 691 2322 \nL 691 4666 \nz\n\" id=\"DejaVuSans-35\" transform=\"scale(0.015625)\"/>\n       </defs>\n       <use xlink:href=\"#DejaVuSans-35\"/>\n      </g>\n     </g>\n    </g>\n    <g id=\"text_6\">\n     <!-- last_1_months_user_rating -->\n     <g style=\"fill:#333333;\" transform=\"translate(142.543719 310.523906)scale(0.13 -0.13)\">\n      <defs>\n       <path d=\"M 603 4863 \nL 1178 4863 \nL 1178 0 \nL 603 0 \nL 603 4863 \nz\n\" id=\"DejaVuSans-6c\" transform=\"scale(0.015625)\"/>\n       <path d=\"M 2194 1759 \nQ 1497 1759 1228 1600 \nQ 959 1441 959 1056 \nQ 959 750 1161 570 \nQ 1363 391 1709 391 \nQ 2188 391 2477 730 \nQ 2766 1069 2766 1631 \nL 2766 1759 \nL 2194 1759 \nz\nM 3341 1997 \nL 3341 0 \nL 2766 0 \nL 2766 531 \nQ 2569 213 2275 61 \nQ 1981 -91 1556 -91 \nQ 1019 -91 701 211 \nQ 384 513 384 1019 \nQ 384 1609 779 1909 \nQ 1175 2209 1959 2209 \nL 2766 2209 \nL 2766 2266 \nQ 2766 2663 2505 2880 \nQ 2244 3097 1772 3097 \nQ 1472 3097 1187 3025 \nQ 903 2953 641 2809 \nL 641 3341 \nQ 956 3463 1253 3523 \nQ 1550 3584 1831 3584 \nQ 2591 3584 2966 3190 \nQ 3341 2797 3341 1997 \nz\n\" id=\"DejaVuSans-61\" transform=\"scale(0.015625)\"/>\n       <path d=\"M 2834 3397 \nL 2834 2853 \nQ 2591 2978 2328 3040 \nQ 2066 3103 1784 3103 \nQ 1356 3103 1142 2972 \nQ 928 2841 928 2578 \nQ 928 2378 1081 2264 \nQ 1234 2150 1697 2047 \nL 1894 2003 \nQ 2506 1872 2764 1633 \nQ 3022 1394 3022 966 \nQ 3022 478 2636 193 \nQ 2250 -91 1575 -91 \nQ 1294 -91 989 -36 \nQ 684 19 347 128 \nL 347 722 \nQ 666 556 975 473 \nQ 1284 391 1588 391 \nQ 1994 391 2212 530 \nQ 2431 669 2431 922 \nQ 2431 1156 2273 1281 \nQ 2116 1406 1581 1522 \nL 1381 1569 \nQ 847 1681 609 1914 \nQ 372 2147 372 2553 \nQ 372 3047 722 3315 \nQ 1072 3584 1716 3584 \nQ 2034 3584 2315 3537 \nQ 2597 3491 2834 3397 \nz\n\" id=\"DejaVuSans-73\" transform=\"scale(0.015625)\"/>\n       <path d=\"M 1172 4494 \nL 1172 3500 \nL 2356 3500 \nL 2356 3053 \nL 1172 3053 \nL 1172 1153 \nQ 1172 725 1289 603 \nQ 1406 481 1766 481 \nL 2356 481 \nL 2356 0 \nL 1766 0 \nQ 1100 0 847 248 \nQ 594 497 594 1153 \nL 594 3053 \nL 172 3053 \nL 172 3500 \nL 594 3500 \nL 594 4494 \nL 1172 4494 \nz\n\" id=\"DejaVuSans-74\" transform=\"scale(0.015625)\"/>\n       <path d=\"M 3263 -1063 \nL 3263 -1509 \nL -63 -1509 \nL -63 -1063 \nL 3263 -1063 \nz\n\" id=\"DejaVuSans-5f\" transform=\"scale(0.015625)\"/>\n       <path d=\"M 3328 2828 \nQ 3544 3216 3844 3400 \nQ 4144 3584 4550 3584 \nQ 5097 3584 5394 3201 \nQ 5691 2819 5691 2113 \nL 5691 0 \nL 5113 0 \nL 5113 2094 \nQ 5113 2597 4934 2840 \nQ 4756 3084 4391 3084 \nQ 3944 3084 3684 2787 \nQ 3425 2491 3425 1978 \nL 3425 0 \nL 2847 0 \nL 2847 2094 \nQ 2847 2600 2669 2842 \nQ 2491 3084 2119 3084 \nQ 1678 3084 1418 2786 \nQ 1159 2488 1159 1978 \nL 1159 0 \nL 581 0 \nL 581 3500 \nL 1159 3500 \nL 1159 2956 \nQ 1356 3278 1631 3431 \nQ 1906 3584 2284 3584 \nQ 2666 3584 2933 3390 \nQ 3200 3197 3328 2828 \nz\n\" id=\"DejaVuSans-6d\" transform=\"scale(0.015625)\"/>\n       <path d=\"M 1959 3097 \nQ 1497 3097 1228 2736 \nQ 959 2375 959 1747 \nQ 959 1119 1226 758 \nQ 1494 397 1959 397 \nQ 2419 397 2687 759 \nQ 2956 1122 2956 1747 \nQ 2956 2369 2687 2733 \nQ 2419 3097 1959 3097 \nz\nM 1959 3584 \nQ 2709 3584 3137 3096 \nQ 3566 2609 3566 1747 \nQ 3566 888 3137 398 \nQ 2709 -91 1959 -91 \nQ 1206 -91 779 398 \nQ 353 888 353 1747 \nQ 353 2609 779 3096 \nQ 1206 3584 1959 3584 \nz\n\" id=\"DejaVuSans-6f\" transform=\"scale(0.015625)\"/>\n       <path d=\"M 3513 2113 \nL 3513 0 \nL 2938 0 \nL 2938 2094 \nQ 2938 2591 2744 2837 \nQ 2550 3084 2163 3084 \nQ 1697 3084 1428 2787 \nQ 1159 2491 1159 1978 \nL 1159 0 \nL 581 0 \nL 581 3500 \nL 1159 3500 \nL 1159 2956 \nQ 1366 3272 1645 3428 \nQ 1925 3584 2291 3584 \nQ 2894 3584 3203 3211 \nQ 3513 2838 3513 2113 \nz\n\" id=\"DejaVuSans-6e\" transform=\"scale(0.015625)\"/>\n       <path d=\"M 3513 2113 \nL 3513 0 \nL 2938 0 \nL 2938 2094 \nQ 2938 2591 2744 2837 \nQ 2550 3084 2163 3084 \nQ 1697 3084 1428 2787 \nQ 1159 2491 1159 1978 \nL 1159 0 \nL 581 0 \nL 581 4863 \nL 1159 4863 \nL 1159 2956 \nQ 1366 3272 1645 3428 \nQ 1925 3584 2291 3584 \nQ 2894 3584 3203 3211 \nQ 3513 2838 3513 2113 \nz\n\" id=\"DejaVuSans-68\" transform=\"scale(0.015625)\"/>\n       <path d=\"M 544 1381 \nL 544 3500 \nL 1119 3500 \nL 1119 1403 \nQ 1119 906 1312 657 \nQ 1506 409 1894 409 \nQ 2359 409 2629 706 \nQ 2900 1003 2900 1516 \nL 2900 3500 \nL 3475 3500 \nL 3475 0 \nL 2900 0 \nL 2900 538 \nQ 2691 219 2414 64 \nQ 2138 -91 1772 -91 \nQ 1169 -91 856 284 \nQ 544 659 544 1381 \nz\nM 1991 3584 \nL 1991 3584 \nz\n\" id=\"DejaVuSans-75\" transform=\"scale(0.015625)\"/>\n       <path d=\"M 3597 1894 \nL 3597 1613 \nL 953 1613 \nQ 991 1019 1311 708 \nQ 1631 397 2203 397 \nQ 2534 397 2845 478 \nQ 3156 559 3463 722 \nL 3463 178 \nQ 3153 47 2828 -22 \nQ 2503 -91 2169 -91 \nQ 1331 -91 842 396 \nQ 353 884 353 1716 \nQ 353 2575 817 3079 \nQ 1281 3584 2069 3584 \nQ 2775 3584 3186 3129 \nQ 3597 2675 3597 1894 \nz\nM 3022 2063 \nQ 3016 2534 2758 2815 \nQ 2500 3097 2075 3097 \nQ 1594 3097 1305 2825 \nQ 1016 2553 972 2059 \nL 3022 2063 \nz\n\" id=\"DejaVuSans-65\" transform=\"scale(0.015625)\"/>\n       <path d=\"M 2631 2963 \nQ 2534 3019 2420 3045 \nQ 2306 3072 2169 3072 \nQ 1681 3072 1420 2755 \nQ 1159 2438 1159 1844 \nL 1159 0 \nL 581 0 \nL 581 3500 \nL 1159 3500 \nL 1159 2956 \nQ 1341 3275 1631 3429 \nQ 1922 3584 2338 3584 \nQ 2397 3584 2469 3576 \nQ 2541 3569 2628 3553 \nL 2631 2963 \nz\n\" id=\"DejaVuSans-72\" transform=\"scale(0.015625)\"/>\n       <path d=\"M 603 3500 \nL 1178 3500 \nL 1178 0 \nL 603 0 \nL 603 3500 \nz\nM 603 4863 \nL 1178 4863 \nL 1178 4134 \nL 603 4134 \nL 603 4863 \nz\n\" id=\"DejaVuSans-69\" transform=\"scale(0.015625)\"/>\n       <path d=\"M 2906 1791 \nQ 2906 2416 2648 2759 \nQ 2391 3103 1925 3103 \nQ 1463 3103 1205 2759 \nQ 947 2416 947 1791 \nQ 947 1169 1205 825 \nQ 1463 481 1925 481 \nQ 2391 481 2648 825 \nQ 2906 1169 2906 1791 \nz\nM 3481 434 \nQ 3481 -459 3084 -895 \nQ 2688 -1331 1869 -1331 \nQ 1566 -1331 1297 -1286 \nQ 1028 -1241 775 -1147 \nL 775 -588 \nQ 1028 -725 1275 -790 \nQ 1522 -856 1778 -856 \nQ 2344 -856 2625 -561 \nQ 2906 -266 2906 331 \nL 2906 616 \nQ 2728 306 2450 153 \nQ 2172 0 1784 0 \nQ 1141 0 747 490 \nQ 353 981 353 1791 \nQ 353 2603 747 3093 \nQ 1141 3584 1784 3584 \nQ 2172 3584 2450 3431 \nQ 2728 3278 2906 2969 \nL 2906 3500 \nL 3481 3500 \nL 3481 434 \nz\n\" id=\"DejaVuSans-67\" transform=\"scale(0.015625)\"/>\n      </defs>\n      <use xlink:href=\"#DejaVuSans-6c\"/>\n      <use x=\"27.783203\" xlink:href=\"#DejaVuSans-61\"/>\n      <use x=\"89.0625\" xlink:href=\"#DejaVuSans-73\"/>\n      <use x=\"141.162109\" xlink:href=\"#DejaVuSans-74\"/>\n      <use x=\"180.371094\" xlink:href=\"#DejaVuSans-5f\"/>\n      <use x=\"230.371094\" xlink:href=\"#DejaVuSans-31\"/>\n      <use x=\"293.994141\" xlink:href=\"#DejaVuSans-5f\"/>\n      <use x=\"343.994141\" xlink:href=\"#DejaVuSans-6d\"/>\n      <use x=\"441.40625\" xlink:href=\"#DejaVuSans-6f\"/>\n      <use x=\"502.587891\" xlink:href=\"#DejaVuSans-6e\"/>\n      <use x=\"565.966797\" xlink:href=\"#DejaVuSans-74\"/>\n      <use x=\"605.175781\" xlink:href=\"#DejaVuSans-68\"/>\n      <use x=\"668.554688\" xlink:href=\"#DejaVuSans-73\"/>\n      <use x=\"720.654297\" xlink:href=\"#DejaVuSans-5f\"/>\n      <use x=\"770.654297\" xlink:href=\"#DejaVuSans-75\"/>\n      <use x=\"834.033203\" xlink:href=\"#DejaVuSans-73\"/>\n      <use x=\"886.132812\" xlink:href=\"#DejaVuSans-65\"/>\n      <use x=\"947.65625\" xlink:href=\"#DejaVuSans-72\"/>\n      <use x=\"988.769531\" xlink:href=\"#DejaVuSans-5f\"/>\n      <use x=\"1038.769531\" xlink:href=\"#DejaVuSans-72\"/>\n      <use x=\"1079.882812\" xlink:href=\"#DejaVuSans-61\"/>\n      <use x=\"1141.162109\" xlink:href=\"#DejaVuSans-74\"/>\n      <use x=\"1180.371094\" xlink:href=\"#DejaVuSans-69\"/>\n      <use x=\"1208.154297\" xlink:href=\"#DejaVuSans-6e\"/>\n      <use x=\"1271.533203\" xlink:href=\"#DejaVuSans-67\"/>\n     </g>\n    </g>\n   </g>\n   <g id=\"matplotlib.axis_2\">\n    <g id=\"ytick_1\">\n     <g id=\"line2d_6\">\n      <defs>\n       <path d=\"M 0 0 \nL -3.5 0 \n\" id=\"m89f5bcd200\" style=\"stroke:#333333;stroke-width:0.8;\"/>\n      </defs>\n      <g>\n       <use style=\"fill:#333333;stroke:#333333;stroke-width:0.8;\" x=\"61.916688\" xlink:href=\"#m89f5bcd200\" y=\"266.240406\"/>\n      </g>\n     </g>\n     <g id=\"text_7\">\n      <!-- −2 -->\n      <g style=\"fill:#333333;\" transform=\"translate(38.700281 270.419546)scale(0.11 -0.11)\">\n       <defs>\n        <path d=\"M 678 2272 \nL 4684 2272 \nL 4684 1741 \nL 678 1741 \nL 678 2272 \nz\n\" id=\"DejaVuSans-2212\" transform=\"scale(0.015625)\"/>\n       </defs>\n       <use xlink:href=\"#DejaVuSans-2212\"/>\n       <use x=\"83.789062\" xlink:href=\"#DejaVuSans-32\"/>\n      </g>\n     </g>\n    </g>\n    <g id=\"ytick_2\">\n     <g id=\"line2d_7\">\n      <g>\n       <use style=\"fill:#333333;stroke:#333333;stroke-width:0.8;\" x=\"61.916688\" xlink:href=\"#m89f5bcd200\" y=\"211.737163\"/>\n      </g>\n     </g>\n     <g id=\"text_8\">\n      <!-- −1 -->\n      <g style=\"fill:#333333;\" transform=\"translate(38.700281 215.916304)scale(0.11 -0.11)\">\n       <use xlink:href=\"#DejaVuSans-2212\"/>\n       <use x=\"83.789062\" xlink:href=\"#DejaVuSans-31\"/>\n      </g>\n     </g>\n    </g>\n    <g id=\"ytick_3\">\n     <g id=\"line2d_8\">\n      <g>\n       <use style=\"fill:#333333;stroke:#333333;stroke-width:0.8;\" x=\"61.916688\" xlink:href=\"#m89f5bcd200\" y=\"157.233921\"/>\n      </g>\n     </g>\n     <g id=\"text_9\">\n      <!-- 0 -->\n      <g style=\"fill:#333333;\" transform=\"translate(47.917938 161.413061)scale(0.11 -0.11)\">\n       <defs>\n        <path d=\"M 2034 4250 \nQ 1547 4250 1301 3770 \nQ 1056 3291 1056 2328 \nQ 1056 1369 1301 889 \nQ 1547 409 2034 409 \nQ 2525 409 2770 889 \nQ 3016 1369 3016 2328 \nQ 3016 3291 2770 3770 \nQ 2525 4250 2034 4250 \nz\nM 2034 4750 \nQ 2819 4750 3233 4129 \nQ 3647 3509 3647 2328 \nQ 3647 1150 3233 529 \nQ 2819 -91 2034 -91 \nQ 1250 -91 836 529 \nQ 422 1150 422 2328 \nQ 422 3509 836 4129 \nQ 1250 4750 2034 4750 \nz\n\" id=\"DejaVuSans-30\" transform=\"scale(0.015625)\"/>\n       </defs>\n       <use xlink:href=\"#DejaVuSans-30\"/>\n      </g>\n     </g>\n    </g>\n    <g id=\"ytick_4\">\n     <g id=\"line2d_9\">\n      <g>\n       <use style=\"fill:#333333;stroke:#333333;stroke-width:0.8;\" x=\"61.916688\" xlink:href=\"#m89f5bcd200\" y=\"102.730678\"/>\n      </g>\n     </g>\n     <g id=\"text_10\">\n      <!-- 1 -->\n      <g style=\"fill:#333333;\" transform=\"translate(47.917938 106.909819)scale(0.11 -0.11)\">\n       <use xlink:href=\"#DejaVuSans-31\"/>\n      </g>\n     </g>\n    </g>\n    <g id=\"ytick_5\">\n     <g id=\"line2d_10\">\n      <g>\n       <use style=\"fill:#333333;stroke:#333333;stroke-width:0.8;\" x=\"61.916688\" xlink:href=\"#m89f5bcd200\" y=\"48.227435\"/>\n      </g>\n     </g>\n     <g id=\"text_11\">\n      <!-- 2 -->\n      <g style=\"fill:#333333;\" transform=\"translate(47.917938 52.406576)scale(0.11 -0.11)\">\n       <use xlink:href=\"#DejaVuSans-32\"/>\n      </g>\n     </g>\n    </g>\n    <g id=\"text_12\">\n     <!-- SHAP value for -->\n     <g style=\"fill:#333333;\" transform=\"translate(17.077969 191.304609)rotate(-90)scale(0.13 -0.13)\">\n      <defs>\n       <path d=\"M 3425 4513 \nL 3425 3897 \nQ 3066 4069 2747 4153 \nQ 2428 4238 2131 4238 \nQ 1616 4238 1336 4038 \nQ 1056 3838 1056 3469 \nQ 1056 3159 1242 3001 \nQ 1428 2844 1947 2747 \nL 2328 2669 \nQ 3034 2534 3370 2195 \nQ 3706 1856 3706 1288 \nQ 3706 609 3251 259 \nQ 2797 -91 1919 -91 \nQ 1588 -91 1214 -16 \nQ 841 59 441 206 \nL 441 856 \nQ 825 641 1194 531 \nQ 1563 422 1919 422 \nQ 2459 422 2753 634 \nQ 3047 847 3047 1241 \nQ 3047 1584 2836 1778 \nQ 2625 1972 2144 2069 \nL 1759 2144 \nQ 1053 2284 737 2584 \nQ 422 2884 422 3419 \nQ 422 4038 858 4394 \nQ 1294 4750 2059 4750 \nQ 2388 4750 2728 4690 \nQ 3069 4631 3425 4513 \nz\n\" id=\"DejaVuSans-53\" transform=\"scale(0.015625)\"/>\n       <path d=\"M 628 4666 \nL 1259 4666 \nL 1259 2753 \nL 3553 2753 \nL 3553 4666 \nL 4184 4666 \nL 4184 0 \nL 3553 0 \nL 3553 2222 \nL 1259 2222 \nL 1259 0 \nL 628 0 \nL 628 4666 \nz\n\" id=\"DejaVuSans-48\" transform=\"scale(0.015625)\"/>\n       <path d=\"M 2188 4044 \nL 1331 1722 \nL 3047 1722 \nL 2188 4044 \nz\nM 1831 4666 \nL 2547 4666 \nL 4325 0 \nL 3669 0 \nL 3244 1197 \nL 1141 1197 \nL 716 0 \nL 50 0 \nL 1831 4666 \nz\n\" id=\"DejaVuSans-41\" transform=\"scale(0.015625)\"/>\n       <path d=\"M 1259 4147 \nL 1259 2394 \nL 2053 2394 \nQ 2494 2394 2734 2622 \nQ 2975 2850 2975 3272 \nQ 2975 3691 2734 3919 \nQ 2494 4147 2053 4147 \nL 1259 4147 \nz\nM 628 4666 \nL 2053 4666 \nQ 2838 4666 3239 4311 \nQ 3641 3956 3641 3272 \nQ 3641 2581 3239 2228 \nQ 2838 1875 2053 1875 \nL 1259 1875 \nL 1259 0 \nL 628 0 \nL 628 4666 \nz\n\" id=\"DejaVuSans-50\" transform=\"scale(0.015625)\"/>\n       <path id=\"DejaVuSans-20\" transform=\"scale(0.015625)\"/>\n       <path d=\"M 191 3500 \nL 800 3500 \nL 1894 563 \nL 2988 3500 \nL 3597 3500 \nL 2284 0 \nL 1503 0 \nL 191 3500 \nz\n\" id=\"DejaVuSans-76\" transform=\"scale(0.015625)\"/>\n       <path d=\"M 2375 4863 \nL 2375 4384 \nL 1825 4384 \nQ 1516 4384 1395 4259 \nQ 1275 4134 1275 3809 \nL 1275 3500 \nL 2222 3500 \nL 2222 3053 \nL 1275 3053 \nL 1275 0 \nL 697 0 \nL 697 3053 \nL 147 3053 \nL 147 3500 \nL 697 3500 \nL 697 3744 \nQ 697 4328 969 4595 \nQ 1241 4863 1831 4863 \nL 2375 4863 \nz\n\" id=\"DejaVuSans-66\" transform=\"scale(0.015625)\"/>\n      </defs>\n      <use xlink:href=\"#DejaVuSans-53\"/>\n      <use x=\"63.476562\" xlink:href=\"#DejaVuSans-48\"/>\n      <use x=\"138.671875\" xlink:href=\"#DejaVuSans-41\"/>\n      <use x=\"207.080078\" xlink:href=\"#DejaVuSans-50\"/>\n      <use x=\"267.382812\" xlink:href=\"#DejaVuSans-20\"/>\n      <use x=\"299.169922\" xlink:href=\"#DejaVuSans-76\"/>\n      <use x=\"358.349609\" xlink:href=\"#DejaVuSans-61\"/>\n      <use x=\"419.628906\" xlink:href=\"#DejaVuSans-6c\"/>\n      <use x=\"447.412109\" xlink:href=\"#DejaVuSans-75\"/>\n      <use x=\"510.791016\" xlink:href=\"#DejaVuSans-65\"/>\n      <use x=\"572.314453\" xlink:href=\"#DejaVuSans-20\"/>\n      <use x=\"604.101562\" xlink:href=\"#DejaVuSans-66\"/>\n      <use x=\"639.306641\" xlink:href=\"#DejaVuSans-6f\"/>\n      <use x=\"700.488281\" xlink:href=\"#DejaVuSans-72\"/>\n     </g>\n     <!-- last_1_months_user_rating -->\n     <g style=\"fill:#333333;\" transform=\"translate(31.635125 229.872969)rotate(-90)scale(0.13 -0.13)\">\n      <use xlink:href=\"#DejaVuSans-6c\"/>\n      <use x=\"27.783203\" xlink:href=\"#DejaVuSans-61\"/>\n      <use x=\"89.0625\" xlink:href=\"#DejaVuSans-73\"/>\n      <use x=\"141.162109\" xlink:href=\"#DejaVuSans-74\"/>\n      <use x=\"180.371094\" xlink:href=\"#DejaVuSans-5f\"/>\n      <use x=\"230.371094\" xlink:href=\"#DejaVuSans-31\"/>\n      <use x=\"293.994141\" xlink:href=\"#DejaVuSans-5f\"/>\n      <use x=\"343.994141\" xlink:href=\"#DejaVuSans-6d\"/>\n      <use x=\"441.40625\" xlink:href=\"#DejaVuSans-6f\"/>\n      <use x=\"502.587891\" xlink:href=\"#DejaVuSans-6e\"/>\n      <use x=\"565.966797\" xlink:href=\"#DejaVuSans-74\"/>\n      <use x=\"605.175781\" xlink:href=\"#DejaVuSans-68\"/>\n      <use x=\"668.554688\" xlink:href=\"#DejaVuSans-73\"/>\n      <use x=\"720.654297\" xlink:href=\"#DejaVuSans-5f\"/>\n      <use x=\"770.654297\" xlink:href=\"#DejaVuSans-75\"/>\n      <use x=\"834.033203\" xlink:href=\"#DejaVuSans-73\"/>\n      <use x=\"886.132812\" xlink:href=\"#DejaVuSans-65\"/>\n      <use x=\"947.65625\" xlink:href=\"#DejaVuSans-72\"/>\n      <use x=\"988.769531\" xlink:href=\"#DejaVuSans-5f\"/>\n      <use x=\"1038.769531\" xlink:href=\"#DejaVuSans-72\"/>\n      <use x=\"1079.882812\" xlink:href=\"#DejaVuSans-61\"/>\n      <use x=\"1141.162109\" xlink:href=\"#DejaVuSans-74\"/>\n      <use x=\"1180.371094\" xlink:href=\"#DejaVuSans-69\"/>\n      <use x=\"1208.154297\" xlink:href=\"#DejaVuSans-6e\"/>\n      <use x=\"1271.533203\" xlink:href=\"#DejaVuSans-67\"/>\n     </g>\n    </g>\n   </g>\n   <g id=\"patch_3\">\n    <path d=\"M 61.916688 279 \nL 61.916688 7.2 \n\" style=\"fill:none;stroke:#333333;stroke-linecap:square;stroke-linejoin:miter;stroke-width:0.8;\"/>\n   </g>\n   <g id=\"patch_4\">\n    <path d=\"M 61.916688 279 \nL 396.716687 279 \n\" style=\"fill:none;stroke:#333333;stroke-linecap:square;stroke-linejoin:miter;stroke-width:0.8;\"/>\n   </g>\n  </g>\n </g>\n</svg>\n",
      "image/png": "[encoded data removed]"
     },
     "metadata": {
      "needs_background": "light"
     }
    }
   ],
   "source": [
    "shap.dependence_plot(\"last_1_months_user_rating\", shap_values[1], X_test,interaction_index=None)"
   ]
  },
  {
   "source": [
    "For high values in the mean of the last month of the user, higher is the chance of having a high rate. For values under 3, it is not clearly the trend, because, for rates less than or equal than 1, it not gives a less importance as ratings near 3. \n",
    "An hypothesis can be that users that rate 3 in there movies are more confidence on giving rates less than 4, but for 1, could be atypical users that only rate in one month "
   ],
   "cell_type": "markdown",
   "metadata": {}
  },
  {
   "cell_type": "code",
   "execution_count": 84,
   "metadata": {},
   "outputs": [
    {
     "output_type": "display_data",
     "data": {
      "text/plain": "<Figure size 432x360 with 1 Axes>",
      "image/svg+xml": "<?xml version=\"1.0\" encoding=\"utf-8\" standalone=\"no\"?>\n<!DOCTYPE svg PUBLIC \"-//W3C//DTD SVG 1.1//EN\"\n  \"http://www.w3.org/Graphics/SVG/1.1/DTD/svg11.dtd\">\n<svg height=\"323.510888pt\" version=\"1.1\" viewBox=\"0 0 421.410125 323.510888\" width=\"421.410125pt\" xmlns=\"http://www.w3.org/2000/svg\" xmlns:xlink=\"http://www.w3.org/1999/xlink\">\n <metadata>\n  <rdf:RDF xmlns:cc=\"http://creativecommons.org/ns#\" xmlns:dc=\"http://purl.org/dc/elements/1.1/\" xmlns:rdf=\"http://www.w3.org/1999/02/22-rdf-syntax-ns#\">\n   <cc:Work>\n    <dc:type rdf:resource=\"http://purl.org/dc/dcmitype/StillImage\"/>\n    <dc:date>2021-04-11T14:48:57.541416</dc:date>\n    <dc:format>image/svg+xml</dc:format>\n    <dc:creator>\n     <cc:Agent>\n      <dc:title>Matplotlib v3.4.1, https://matplotlib.org/</dc:title>\n     </cc:Agent>\n    </dc:creator>\n   </cc:Work>\n  </rdf:RDF>\n </metadata>\n <defs>\n  <style type=\"text/css\">*{stroke-linecap:butt;stroke-linejoin:round;}</style>\n </defs>\n <g id=\"figure_1\">\n  <g id=\"patch_1\">\n   <path d=\"M 0 323.510888 \nL 421.410125 323.510888 \nL 421.410125 0 \nL 0 0 \nz\n\" style=\"fill:none;\"/>\n  </g>\n  <g id=\"axes_1\">\n   <g id=\"patch_2\">\n    <path d=\"M 79.410125 281.721826 \nL 414.210125 281.721826 \nL 414.210125 9.921826 \nL 79.410125 9.921826 \nz\n\" style=\"fill:#ffffff;\"/>\n   </g>\n   <image height=\"252\" id=\"imageb57ebffa89\" transform=\"scale(1 -1)translate(0 -252)\" width=\"309\" x=\"93\" xlink:href=\"data:image/png;base64,\niVBORw0KGgoAAAANSUhEUgAAATUAAAD8CAYAAAAWjzPMAAA/FUlEQVR4nO292W9k+ZXn9wmSwT25ZCZziVyi9ipVSaUara3plqY1W7sbPeOZsQd+6JexHwzYgB8N2s9egAAMA3b/CwPDGMAGxkDDDbemZ6ZbGrW6Wy2pqlSqKlVmFXMJZjKZySW5Bjc/fM/J32UwSAbJCDIYcT5AgIyIG/feZCa/efaT29nZIWh9iqVyL9ALVKYmC5Wzvp8gaFVyIWqtQbFUHgKGgaWpycJy1Xu9wOXMS7MhbEFQm66zvoHghaB9HfgG8HV7nqX3kOdBEBg9Z30Drc4puX0F4J3M82ng15nn1dfdKZbKw02+pyA4l3S0+3mYYNXr9h3kOtZ5H+8A37On3cBfAO9nr5W51x27pzywAUyHsAVBomPdz4xgjQCX7Xk1h7p9JmhvIGvrjRquYz08BB4A88AysA1cz96TCVcFGAeuABeAi8BYsVQe3uf+g6DjaFn38xTcvlqCVX2dw56DLLTq58tQ/59harIwXyyV/xx4CYnVDhKsRb+mieV1YBAJ25x9/BL291gslSOBEHQ8LWmp1WlFnZQKcuEG7eseMTCBmEXisgD01riXpernxVK5t1gqjyMR2vVnsPf2WFZTk4V5YKrG+fzncR0JXh/wHFi3Y1cyh4a1FnQ8LSlqtFC2L+P2XQauUeUWGnPIdfwUxbkuIwvqIhJMSIJYU6wz3z+3xzOgYgmBITsvwKZd6z5wL/M61LYkg6CjaFX3sx6376T0IkHYyDzf7zpDSKCcRSQ4Y8Dbdo5NYIYkwH5eD+hX2MflzVhiV5EYfoYsxNHMOUBCl7f3Nu28s0RRbhC8oCUttSq3r1lxohMJpwnRbRRDG0f/QQxnzrOBROgp6c+w3zXHUEnH3we+CnwfKJLEbANYBdbQz2UQs/YApiYLSyFoQSDaoqTDBMazjsv1/oJnA/n2Uk2LJ2NJvSijsGOvAa/YYWvAx8g1POxcL96z568Cvwm8jMRrBXgfCeIz+2gexdSuIWGbsXtZnJos7InDBUGncmai1qjsZkZw3D18xhFrtw6qR6uqD8uREgzjQL8dP4oynqsk93DIHjOWBNjv2sPI5XwD+I69vAH80M75DIncm8C7dq014K9RKcgzjiDkQdDunElMrVpETliK0Ety07DvD4qP7XeO6ueVWmJn53/DnvegjOUiEqYr9vorwASwBSwUS+UfI2GqttB67Rx54HMkVi/Z576Mate6gTJyN/3PWUGC2QsMAANRzhEEoqGidgTr6yAROar1VmF3BtCD8kdhT6zL7mWc5HKCYl8TyEJbQ8H6XiQ84yimtkmy4pbt81fIlGoUS+UVZF322HFec3bfjpsgCfMmshDvATeRmHXZebNm9lGFPAjakoYlCo5YW7afiBy5Ns3Ebxr4wh7HcT17UR3aIrLGsHvpJ5VlFFAA/zYK4rvr6ddaQuIzgCwtL8XYwYpxjTyKod1CMTRveVqxRw8ps7lon5kDPgH+FPiJff+E3SUjIWhBQGMttXoq9AEJUbFU3lWKYLGluj5f63yHHVvLCsxU6Xtpx6zdyxUkNhVkkY0C3ySVWPwCCc4X9vwG+lkOksRxxc55H4nabZLV55bfhr02QIrFraM2qSdIzOa8n7RYKk8hkZywa80gIXXLLYQt6Hgalig46cyvZs4M2yc2BhKaC/a9l1/soNqzy8gSeoQEw+vIQPGvf4synb0onjbK3paph/b1ErLusGs8sWNd5C4iEfT2py1Szdsl5Hp6xnUEjSjaQN0FK/aZTeDT4zTUB0E70TD386S1ZU2uTatlRXrxreOWjgtTFxKNbjuuCwXsF5DIjCCh27H3F+zrkj0e2/NBZFn12QOUJZ1GSYZtO8e4Xeu63cNvAv8V8DvAHwDfRgmIm0gUl5Eg3wJet89Ui2oQdBwNTRTU4wY28/MHsF/RqxfI5rFYXLFUXkcC04tEaA21LU3Z83UkJhfQz28LWUrZLKxX+ueQBTVGSiS8iURsFglj1hXtR2I3goZGFpDFWAZ+A7m7Q8jaW7fjriGR7Ed1ckHQ0bRkR0GjqWUFZl57CtzLuG2bKA42QyqmfUayrBaRmF1AgnOBFGvzYP8GkLOi2HkkSmVSG9T3gd9CWdGbyMV9iGrTPNa4iiy3fiSKGyjBULDPdSPRXLSvT+mQv88gOIhW7f1sOLWswH0swx0kJCv2/XPkWrpwDdj7F5CI7CAXc9Pez9tjxafTIqF6xc7TReoMWEK1aM9J8bcR5JKuAj+15//ePnMbWXzr9rkZO+8qyYoMgo6mbUTtpNNnM+SQZTaIfj7dyCLzrGWvHfMcCd0V+97jareR8E0g6wzSz3nEzgcSLq+Fu2uvjaEyj25kvc2i+N2nwJeQC3oTxd227f1pJJzTdl9B0NG0hahlps/685NkAb2Y1ydvZKdtgMRuA8XaQAH75/b+BLLA+u24ZWTxDSI39MdIIJ/be4PI0vNBj68ht/QJEtZZu5/37JwuqP3IFQXF2D7N3E8QdDRtIWocMH32qGRq6HyGmYvaAhKkBWRdeQJhB1lgkLoLqscOLdsx8yheh51jkJQVfRf4XXv9NVRkWwH+ll3rBik5MWbnHbav43YvHx3nzxwE7US7iNqe6bPHPVGmSHfZHj79I0cq0VgnFb16gS72tQ9ZeAtIwObtvRdTROwco3afLog37bwL9trLSLxuoQSFJwWWSOUjnqGdQ7Vuft9B0LG0hahNTRaWi6Xyp5wwplZVpJtHAfgBkphdJ5V7jCAxySF30YX0V0jsqu8jO/XjMoqJVZDorQO/RBaaN6kv2bXG7Nr3UJzNSzkqwFeQiLl1mG3sD4KOpC1EDSRsnNxKGSLFuUZQDVo3qZZtwI4btce2PX+G3D+Q5eRtTbV2c2aLfjeReD1ConUNeAvFyAaQcD1G4rplx3oXwbB9bguVnjxgdzFxEHQk507UmrVlys47Qlo914MyipAsILfGlpGouYh49tNHD2W5VCyVfzU1WZiy5xUkWJ5wmLHzjyGRcqtwG7me7qL6xA6vV8shEX5ox64RrmcQnJ2oHUecGjyHrZohJC5bSERyyHK6jwpbPSvqFtMd5GYuIDHy+rFuJFpXUVfAFvCNYqn8f05NFj5DguVtTf32tQ/9LK6ijOcK8DNUn/YKEtAbJDEctWtfsmtusXujexB0LGdSgX6CFXj7bpkqlspDxVL56nGWCVdZaRPI6plG4vV8arLg884GkAB5j+dDJGhuWfWh/yh2UInJBBr6OAJ82+7tCmnA4yhpam/BzuPW18LUZKGMYm130TKWOdKE3QF7XLRzvoWsvSDoaM7KUqt7TFEVNXs4D6tTq8Mq9DjXM2T1jJEymku2w/MaEr1+O3aCNNZ7E1lXM/Z5H7k9ioRnGVl72VKTHfSfipdmDNvxvsx4rVgq+17SW3b9q3bd66Qm+RE7/pa9NnPAzy8I2p6zmnx7rE1Oteaw2VuHbUk/zGXNNrgvIAHKIWts0B7D6Oc1hITHY1xjdpzv6pyx4x8Df4m2RH2KLLl1ZG19jOJi0/aZMfvMNXus2+MWssQGSf8RTNhrfUhUt0lTds//Fp0gOCFnMvn2uGOGDhDN/bak+/TZLHvuK3M/q/bSDhILbzvaIK3A8/8I+u3hy4XXkJWWJ3USPAB+BPwVciGHUJHta6TM54JdewmJ5RByWS+jWrVrSAC9nMQ3s+dJo4w2SYMlg6CjOZPJt3D0MUMHWVzVdWqkLemwexwQ+10zswzFs4+DpKGRfp4c6We2aa/5lFt3G99EVtu0PV+384wCX0MDKC8hC+1jZHV1I+FyV9VdUp/QMWjnGyDNeetCP+NH9t6nJFEOgo6lkaJ2LJfyCBwomtk6tarR4L4IeAOJTG+xVGYf67CCBORLSECmUf1YIXPNq3aee6hh/THJoruNYnvuPn6ARG8TCdGgHbeNBPE2EqU3kIiNoFanefvcCBK2PGlfgsfULiLL8BYSx2eE+xkErTP5tg72SxL0Fkvl4Sp3t/rYZXttlAPcY7vnHBKxS2hN3fdRWcXXkGv4GInZUySW86RtUG4VukXnz0dIrVVbSOR80OQ7yBrLo3jcEirPuI+Eag0J2FW7Dx9MuWPvrdq9eCtVEHQ0DS3psOGLS83YP1lLNDMu6SXgtpdzVB9rp/AG8kHSbtBaeEZzFMW2BpGILKKf12M0gfYJuzdXLSJRmkbu6CKKl3lT+wJaQPxD+7qKxOoWKsnYQFbbT4C/QSLoOwqWSUI2btfbREK9QKpRa8bU4CA4V/RA86r0G02NOJyP0Pbt7BRL5XuZybZZ4RtAbt4SEpRZarOKLDHfx+kFtX2kqbTzwJQJa3Yj1SLJYlohFe2O2n1eIDWsr9h58yihsIhq0b6w649mjn+ZtEbvMUoefIHc2L9BdW2brfx3FwSnRU+Tq/SPxDHEtcLuJm6fXFEtfP51h9Sovt9Eixlk+QwiEZlCltQomqSxhWJuT4qlMqSsZB4lCNbYPbIoh4SpYJ/3+Noy+k9lHVl3j0iZUJCgLaG/m2VS0e8F+8wze30Aua+FYqk8H9ukgk6nh+MXwjaU44irWUren+lCkp2G4ULmuBu5yT5YJvV9UibVLaTL9nlIW9j9PO4SDtj1fEzRQySgvqV9InO+ByjZsIOE05MZObvvFVLJRg5N/xix82wjcRuzP+9bSBCPPUcuCNqFHpqftayXY4mridA9MhZejT2fKygedo/UFL7vL79nUoul8hjwLXt5lGR1bSLX1O/vOcmyu27v95D2cY6yO9M8SIrLeeC/2x4jyFrbRGUavcgyu4REds6u47G2i/Y9wM8P+lkFQSfQc0CV/mlzbHHdJ9bm5JHArSBraBFYrvPPOZ75fgHFs3xQo1tps8h6WkQC45bhJhKvflLP6DQSsXlSG5YL5AipRi2HBPg6apy/Yed5ioRv2+7Fkwzr9mcsFEvlBXb/h3DWf69BcKo0bEN7I2hUwqLKUvMRPx7jWrTVdfWcYwJN2sA+/2OSK+qsIkHyPs237PU15DJOkDoStknFugukDVCjpGTHM9IO0htoP8E4qmlbQWLlNXLfRtva/Zw/QJ0LHmd8sdkKrQE88s+0nr+T85JoCjqDlpqn1qhlxlXWZ3a9HfWcPyOK7kLuICtphWQFumBUx+cekZIRXviLHffQzvHilz9TKOyW22JGGJ4An6Cs7XUUQ3O39zEqDbmKLME5e83FcZw0msgzs0dqdq8nztlKiaYggBYTtUaSFchiqfwiK1rnL1xWuLxZ3QXNM64uHp4YcDZJcbsVUsZ1A5ivcf0d0lDKAWCxWCove1mKxQu3SMMrV5AA9iKR+hFyQT9HrvANO9c4EptVkit8KFmri1Qy4/dfK87ZEommIHDaVtSyHMMC9AXF7pu/6Bs1ofHx2sskQXMBGyMlCkBCk6NKUDPi4f2jN1DHQhGV2nhWtxdZYWUkelt2P3PIeltGCQW3wlwAvWxl3e7r0FHfNRIsG3Zfvi5wturY6uxyHsgXS+XesNaCs6IjRO0o2C+rj+rOIwtok92Z1QFSpjJbIpJD4pMn9XL2UNU2Zue4zu7Y1yZJsPJI4HwnwqCd1zsUfDabL0b2c/gD5Ir22z3NINE9jFoJFr8fXzJTS/w8OeF7HAbCDQ3OihC1vfgv9ouFxlWJBZ/k4ctYniErcBhZMt6KlV2EXO2SDZHcV8+G+nSR7OccF5ZZFCd7047rJpWpeO1cFxKzJWRFeW3dTq1FMFXupr+eR8JesWu4aGczqlm8Li97371WnBwJhOBUCVHby2GlJf48W+zriQivVetit8u33y+0x758rponF7yGbiBz7CISm4J9xtfiVVDz+wqpBMVjbj2kQZav2DkolspPM9fIWlyzdh/u1o6QtmTNkoSqnvKbHSKBEJwBZ7KjoJU5bNpIjWb5bJLAXbZtJCartc6BBOMZaRKuz3B7MdCyanDlIOr3vElyI3tQgmDQvlaQALkre4m0/X2YVNP2ip3rMrUHaPaSlrus2Z+vjzRS/Lodu+tnVHW/Hs+rPncQNJ2WqlM7jxy3Js4+N4TExzOVIGGYIdWqXUG1cnn0n9AiEo3bSDwX7HMfIbF8GYlXL6l+ros0Fdfbt1ZIM9tGkBD67tH37FiP8+VQ6ciHyKr8YmqyMGfN/C8WSNdYBu0MojhgrexvEDSUthC1RhR/nuQcVZnAbE3coS6XLXW5hVxEj4XNAI+mJgtLxVL5JeA3Mh95HwmETx1xfm7X/4d2roukvQWLpIRHD7Lo3JK8YsdvoOSCb6jyZMcGstiukYp+v0CW4dt2fB4NqgRZkzvIEl1Eoj1s13tRWHzQzyQITsK5j6k1ovjzpOeotyZuH+GskBIEkOra/H8b7z7wWrHZqcnCjJ2rhxTHW0bTQ3zb1Qay2p4jUZlDjfML9plldmdY86TuB8/abtn7a8hVfkKaDuJTR0ZIi2kuIPd2G41Rep/dcUGfYxeiFjSNcy9qNKb4s2EFpPvVxNUSTvt2lBQn81q0FWDUBHKe3aOQ5v06mUb+HRTruoXExqd5DNn38ySx82SCZzU9hjaIJodMk3pJnyCxGkKW2HNSrdoIyW1et8+/hiw6SF0V/rOYtevXzMIGQaNoh0RBI6aMnMakklrCmS0f8eznAplSEPvFv4d6Onf1b2YE1GviPPFwBVlNw0gkXdx8+5V3SfhC5lnkeq6RNmZ51vRlJLyX7bnHArHPL5G6HPrtutk/6zppKKdnVi9xtCXWQVA3595Sq2fKyGHxsqNOKjlm/K36OF+510fqD12iRp9qHdafL2bpt8/7JqoJ0tapl1DA/2MkkJ419aSCu8AFkjv5Mqlk5S6pLq6HFIf7DMX4+u1zfXadR0jgLiGhXczcl+9jCFc0aDhtkSg4iBrV7yeqlzrJ+TJi2IMEA/t+CssMHkUwzY0bsad5JDS/C3yVJChLKAb2ENWz/TUSojeRWE0gwXG3193JUbS2z0chzQM/QztMt5H4TdjrT1DG9LukGNxfkiw/TxKsImHcsvv6RUzqDRrNubfU6qDRDdfHPl9mb8LVzMse18qu7qsnwUCN6+6gzORtdo8uH0GW0RZyAW+QliX3YY30dtyQvf46EiQfN/45qfyjggTriZ1zBAmfu7e+6WoNiesoEtZsScoMsf0qaAKdIGqNjpc14nzZ2rUeJCwjsCuBkBXL/ZY4Z93mPLLMelDN2nXk9o0i4VlBlpqL0JdR7dkVZLltI2vKXctuZIW5O3nbXnsFDa70VX/u+nonxGWUcOi210Hid9++9yLdF6PXg6CRtEOi4EAavY+0Eeczl+tTlO0sI9HwYtUhJAwj7F/1X30/FRTPehXVrr2GLKx5ZBE9QIuVF+xaF0iCtIbcSG/ZGkGiu22Pbjv+MhK2QWTZ+ZjyW2jk+Xt2/V5U5+Yb6+fRz2vZvr+DYnDRNhU0hbaPqbUymWkd2am37i56rdkqu2u9ak38uGyP3yR1H3hGdQkJzTNS1rOAEgcXkTDNIfHymBdIgHyF33Nkva2h+N8HyCr8EhLRCSRy3q61ghIS76OEwRRpe9cayuJGLC1oCp3gfrYynnX0xS2bSMAu2PvPSFbOfskDt9x2UKzsIhJFL5hdQK7idWS1XUPW36J9vUOKv7ml5tf4mX2uYOdaQjG7HLIGb9k1h5FV50kGF+k+5HoO2Z/Tn1Msle+EpRY0gxC1s6VCWnIMacmxjzXKjvbeTwCy44CyO0p9LZ+PIhqyr9tIXHx5jFtQF+x1t9R60MDKC5nzeyzMOxEuIDHO2efWSW70OGkvaTcpcdCHRHyrWCo/dIst9hwEjSLczzPGej8vkQpufVEK1Bl3ssbyV5H19DXgK0jsfFJuBQnmPWQpZad3PCVlLq+QXN8KckFHkHtZQRbdj+wz43bNt9hd4+ZJi22UNfUFNN1ISJ8ii/G+3cuv7frXMn/2Yy2JCQIIS60VcGvGqTn++xB8H+kj5B5eQX+3F5Gl5g3s7pauohjZOrLGhpD4bSEh6rPXxpBQ9ZMsrDeBPyNti98hjQ3vsuPy9txdWbfiFjNf3dW+bX+Gt0mu8pGXxASBE6J2xjRo72oFxbMmkGjNIsvHC2FvkTZr3UYtUS5C10jZ1xVSsa2PKx8hbZ7vQ8L5JWTlvY4Er5fUHuWN+av2mUt2/cdoM5avC3Q3d4XURZFHohbtU8GxCVFrARqwGnAQidV7yCUECdayndc3TFXHzwZIzexbdsyiPb+OxGYAuZI7JAEaRRaet0YN2Lm95Wvb7sFr5F6x4x6j8pI55IZ+bsf0kzoNntv7QXAsQtTagxtoDNA7SNx8dwKk6R7DSOjGkPU2gCwyL8foRzG0gr3eY1/dvdy2zwygot0RJI7dVce7q+l1bj459yKK9Q0i4VpFLq73nw7ZffmuhiA4FiFq5xxLElxCojaBxCuH3NFfI0HzyRzjyAryLoZekrh4S5OPA99BAuVu4hYpuzlOmuYByZ30Y7tIhbueNFgjTf2osLuoeIhk1d0CnhdL5XIkC4Lj0PYdBR3AMLJ87pMmYHjJxRASlCdI3J4iIesiCVAfKVPaa+fzkhDfa+rW2iapUyFrTfnWqh1S+cgl+97/jfUiMRxDru2QPa4jV/YVlCz4hn29HqOJguMQltr5ZwlZad8kdQR4w/koqR/Um83dRXRrapXUgeB1bC5S3Uj0tu14j9P5vLVudk/qzVpqXaSatXX72keau+bZ1oq9v0mK9b2BEhJPif7Q4IiEpXb+8WLYChIGTw74QhYf3DhGGvB4DVlN1+w9FyD/97Bu53VLyV93N9OFxgUQ0sQNTxJk6SYlFDx+NmHvefHuACnxcA25qYNhrQVHJUTt/NOLWp0WkWWziEonfo2yiysk1/ACKbjvAxt9x0CeZJl5zG24xrXyKOg/mDkuS3aBsuNi6Oe+hITsBmmwZBdKQBSR5XmFmJAbHINwP88/FTQA8l8DfweJma/EewL8fRS3ukEq8vW4GiQryTfDdyGhuUQSpy17vQcV366RlqiQOU+t76vxQuErpP2kg6jB3q24cSTO79uxMSE3qJuw1M45liH0boKfohjZ6yguNQ78CWpMn0LitE1qa3JX0cXLY2U5dsfEvGzD+zi9vi3LdubY/f5d+QRcP8c4stLGkZU2RpotN2yv5wlBC45AWGrnnMzooQvIdfsOKot4GVlBf456Pt8ltTFVUOxtkBTcryBBXCPFwGrhLVHdVa9XP6/Gt9b3kJrkx0mZWM++ehmIz3qLf6PBkYh/MOefIRTj6kXum8eu8silm0UlGL7FCTt2HsXbXEC8DWrBzuGdBdX/RpaRqOXsPO5qHiRq3v/pU3X9M14A7Ato3DIcJG2Yv4FKVqIXNKiLcD/bhxxKDDxFIrBN2gtwCwnKDslN9CZ1L7/wtqkxJJKbpEXLbmWtkuJrnnyoB7fAeuzhe0mvsLvNyu/FY3ffRhbntUgWBPUSltr5ZxnFqQZJUznmkYW2hKyqdSR2F0nZyi5SzdqOPbyNapsUf8uRYlpuBXazt5Vpg2RpHYQf426nb9fKCqR3J3iBrvetRmwtOJSw1M45liiYRhbNf4aa2l9HAvAZShJ8jpaxfI7cuDlSv2fW7dtCIubFtjt2nkrmNW8+7yEtX4E0fry6nKMaF0+3vPqrnkOaGjJhxw9Tv1UYdDgham2ACdtXSJnHHtSYPoAEbAWJx2Nk2c0g620ZuZSrpNHfqyQ30LOeLnpu2bvg7ZDaqECC5uLmWdZqsh0NuczXbBlID7vnua1ycJlIELwgRK19+IDUpJ5HAtWHrJ08STiW0QarO0jsluxxF02ofYCSBPPs7lCo/reSnXDr1lyPvdZDEsaDcGGsLuAFCfJ1NLvtXSJUEtRJ/ENpH94H/hXwPSQmd1BcLTulYwjF33xU0MeorOI+KtrtRm7qd0jdBOt27CpqX3J8/prvFPXeUXcj3Uo7KCt6UAzOR4xfRhbbMBLaIDiQELX2YQcJ2QxaVDxN2gWwRJpj9mVU2jFin3mOra1D8bcu+9xXUXbSG+aHSTVsbvlB2mXQhawrn6tWT9LgIPKkmjq3Bl9g2VAfX7QcY4oCJ0StfVhBXQODaE/BHBK2eSRIfwp8F1lbXSgTepm0WeoNJGofI7EYsc8OogTD23aeEbteDllxc0gEh+3hjfE+5eOwotz9yNm1R5HgzvsbtfalFkvl6RC2AELU2gmPlfkYoRe/5MVSeQOJy8/QuO9LKG7WRXJR1+z128jt89fH7LyLpDlokNqofADkBWRN9ZPGC8HJdg54t8RNdrdL9ZLq23aQ8C0SJR8BsSKvrThod2bGXXsbNb6/gqy0AuobfQT8EXJHX0IC5jVkMyjx8E+A3yO1UG3bex/YazdJmdDLJEst664ehz8D/ke7jrdavW7XGEUWapmMkAedS1hqbUQdC1xGkMjcJS0+/gSJ1wNSzdlDUu3YErLYRlCywNunnHU0DWQJWWU+3XbDjmtEhv0q6oqoIPH1HQzeNTFv1xsy8Y6FyB1MiFrn4CUYLkzrSLy8VcqD+0+QQJSRFQey3L6D4m6DJGtpi5TxfIBE5lXSfLZGuQF9qA7vCRLlObvHWbum97C62G5EjK1zCVHrHHzsNiTLapbkxrmQPULWj39mFLmtvp/AX/evXp/mvaITpKZ17zU9ibW2RZrddpnkxn5Eqr0bIiUW3NqMGFuHEqLWAZhLNoosGlAf6Lx9790FGyhbugkvlixPI3EYAt4iFeN6p4H3hq7ZcW8hN9UXIvv2ed8Jehy8P/QCiustoc6IXpTJfYk0knzV/jyrx7xW0AaEqHUG2YLYBWDFRGsYCZ27b5fte4ql8qzH6Iql8k+RxfTP7Zgt0hKVD+2xjqy8h2iu25Zdax3F7q6ztx2qXjZQH6sLGigp4XPj+kgtW972FVZahxKi1hlU/4LvmKBlY15eCuJkp2LkkUvZg4TqAko2fAL8OyQ4PUjAysDXkfj122MdWVC+jd13gtbDJhLaVSSW75EKht+w+7qKLM+npJhb9Ip2KCFqHYBZZbNIqDxO5iyQ9gZkX88K4TCKlfk+z20Uv3ofFfWu2LnvouznHdSR8DYqHZmzz26QRoLXiy+M+QdIKL0PdQb9+31u59xAwjdm9zh9hGsEbUSIWoeQcSWrN0TlpiYLS/CiSLdWScQSEiafrLuFkgz99vlsKcl8sVSeQ0JzG8XaLqCugFv2/VGsqLyd61UkWj7B4wa7l8W4Nbdjrz0tlsr3IgPaeYSodR7Vv+Qvnu9X5zY1WVgulsofAT8mTcXdQPGzPUxNFuaLpfJP7BgvBRlBLuNRXE9nGNWljdq1Pa6XdZFHSOOOtlAd3qNiqQz7FCQH7UmIWodR5YrW9Ytu2dMRlAj4U+SK/g3qE13e52PzyD19jlzb15DVdZU0nqhefGnyXeRe5klLW3y9n48Df92OeYBifZewqbzFUnmRaH5ve6JNKjgUc1lvIWG6hFy9O8DHU5OF/UTNxXACjUN6HQX5X0Vu7DB7hc33H1S7p24VziGBe4ndsbkN0sjvLSS0PwX+EFl4c8jtfW73PhvC1r7EkMigHiqYGKAA/GccImiwayfpFIq/zdt57pEWwGTZIRXPZnHLbATF03zpi2+I9+1T3mTvAya/wu4tWp7djSUubUyIWnAoJk6+am+aoxW3VpAIfYEspjvIepqvcawve6lFPxK2AhIl31AFe6fs+t7Sicwxz0miFlZaGxOiFtRLDllZ3ch1fLVYKg8d/JEXgngXCeFT0sjvsSNeP48stQG7/kH/drPrAC+SJvcuInGmWCoPx9q99iRiakFdmADcRtbPBOoffQLUVTZRLJULwH+C6ta+hfZ6VouiW4AD+5zG3VOfrnsQD4EfIkG9B3xK6hf1Vi4wkSPV8OWITOm5Jiy1oC4y8bEJ5AqOIRGoy9qZmiyUgX+D3NeP2Otm+q6DFfbHJ4nUU+c2hEpALqMkwQQS0mvIehtALuqYHXMJlZ5cAi6HFXd+iZKOoC7sl/yyPR1EVtVRFwx/BvwAxda+jLKpfUikFlGLVT8psH8SBlCW1EcSXUOWmy9H9mxontT7CqldLJYnn1NC1IJ6cctljTTZ4+kx3LSnSEzKqCvAxxbdR72kl1CP50ktJd/wPkYq5bhF2jB/HyUrvJF/wT4XyYRzTohaUC9e1jGHhOAxR19Z14tE4wmylIZJlpqXZ0zbtU4qav5vuw+J1gQKt3j2tGCvL9lxvsV+k4ipnWtC1IK6qJqvBserzH/RH2pfPT7Whyy0Mir3eELaO3oSPCFQQQW/V0idDY/t/S673kvI+rxLWGnnmsh+BqeKxebGgP8d+IekerOHwF8hS/A/QkWzJ+U5ElAv7/AdDT32+l3SxN5l4K9R3G2GfZa4HLTcJmgNIvsZnCpTk4XK1GRhBvg/kIW0aI9PSav2xhp0OW+7GkDuZ7bzwLe/X0QCehUlEy6TxofvIrNv9BpwPTKkrUm4n8FZ8T7wr1AW9ClafzcD/A6N+892g5T99DIQL8z1liofA+5z215C3Q+1rLAh0gJliD0ILUlYasGpYxZOAQnMXRTf+gmqY/sFB9eqHYWLKDaXHXXkDfN9yIKrIAtxAcX07gLP93Etva80jIEWJv5ygrPA41IryEV8jtzBHuCXKAPqjeonwXtAQcLVw+4Fyz4tdw6J2wxpqscuTIh9wm7ejjmwoT84G8JSC86CCnLdnqE2pWekrGoXKq3w3Z6Noo+9/4n3k7oKBtBUj+19po94OcqMPY5ToxecAiFqwaljYvAJmqT7V8BfoLgayHKaQgMpG0mt1iofDX4V7VP4CvDtfRr1XcA2kIUZVlqLEqIWnAlmDX2IYmifIJdz0Z7PIxex2cLRjay1iyg7ehPtLi1UH5gZv+Qr+IIWJWJqwZlRYydCpVgqfw/4j9HstENHGzWA7MSPHtIwyhdkatN2SBNEBjK7UYMWIiy1oNX4FklAtk7het2k34M+JKSDXoOWaeQfQaOXRknN71Gn1oKEpRa0GndR8P60/216/doF5IZ+iKzIAtqvsI6sNB8n/jlpFlvQQoSoBa3Gh8D/jRa0vIyKc90y2sx832hyqKbtBvBbwEfFUnkA+G27jwmUpZ2w436Ohk+G+9lihKgFrcYMyob+Avh9NCm3397zybTN+ne7gwTrdeBLSMAGkOs5bq/dJI0x+gj4oybdS3BMIqYWtBRTk4V51Fh+D1lDj1EWdBEV0HpzeoXUjO5jkU5KL3I/X7FHF4qhXUEidh25n76e72YDrhk0mLDUgpbCAvN5VNZxBY0k6rO3F5HV5pvYvWZs247p5eT/pr3r4BqyzhbsHrz8w2vbZoGfnfBaQRMIUQtaDRe1QSRqW6RlKz5QchvVii2g+rY5ZDUNIEvrJPQgEbsFvIPiacsoYdCPxG3Drrl+wmsFTSDcz6DV2EHFsH1oKm124N+mvbZCcjt9Nto9FMhvBDkkZl9FYvYKEtoeUutWDnivnjWBwekSllrQauSQOOXR1I43UUbSkwS9pKm4XhR7FcXbGmU5ubW2gsS1gqzATbvemh331O4lWqZaiBC1oNWokOJlj4D/F/gaqYbMlxpv2/Mu0mZ3b2Hab2/oUehBFuMCiqGt2PU8OTGHBG+7WCoPEztDW4YY5x20HJm2pBE02vsiEpZNFNfqte/fJA14XEMlF+/SmEr/VeTWLiCBG0adBV127bvA/4zW/j1HgvcMiXG0T50hYakFLYf3hFq86gESkmfIGvMRRb3I/cuh0UGrKLHQKPqQmHof6A7p96UXxdz+NhK9q+weNhk7Q8+QELWgldlGwrKKLLUHyEoCuX8eexux12+yO7FwErqQsPUdcMwbqFjYFyT/EI0lD0E7Q0LUglamC43YvoCWD99H7l12WkYezV/zQtl/zMFC1ChyKDHxuj2e2fOPw/U8W6KkI2hl1pEV5NvW56YmCw+Qi7dCmkL7EPgY+BHwaxpnrR3EMjIKvoM2yn8Jub9jp3Dt4ABC1IJWJoeC9cv21eeeHTSF9lN7bZ3mji4aQIkD72QYRxbbUNSunS0hakGrs4ZcO68Ny06hXSRlGodQ8H4AZSO9lWq7SfeVR+5uPxK2btQA/w3gy9XCViyVe4ul8nDsCm0+EVMLWpllUjJgg4xFVmNqLsiSW7PHNhKcLlKJxw5p5+dJ6Uai5s3tG/b1TdTdsFEslT+ZmiwsZwZNAhATc5tL1KkFLU2mZu3AolY77k2UKPht5A56WYbv6swhl7SbxvyHvk0SyA1kOf4JWob8EZoNd4dUc+es2vFRqNsEQtSCtqFYKl9BgvZdVDs2gTauDyFrz5vhvVyj0SygYtzHKAb4x8APkIXplpoPufQe0rDaGkzE1IJ2YgMJi6/Y+zXwK+AJKtRdISUXnpNq3hrFKJq5dgv1jn4HuGSitYCsRN9ENYgELmJsDSZiakE7sYzKO64hwfAm9Byy2JZQVrQPxdv6a57lZIyhuN1jJGSjmZha3h4+xug5seeg4YSoBe3GGrLMupD7OYHcz2VSu9UwsqTWafzOA4/fPUF1a33APwL+DrIc76DSjzwSvTvElI+GEqIWtBO9pJ0COyghMIwstS52dyKA4mtuuTUKH4/0GrIM/zkStEHgd4A/t+MWUDLjGrIugwYRoha0ExVSjGqTVITrO0R7kKXWh+JfqzRvO9UwmhhyEbmkLpzfRNbZOEoqnMZu044isp9BW1EslceQmIDiWK+iIZNXkbDMI8HpRy5o0b42C6+z60XW4kNU8rGBGvT/0I5ZmposhBvaAELUgrbDqvmHkav5FRTbGkBCtoUspy4kaF9HLuBgk25nA1mE7hJXUGP+U9TS9QMUawP4NITt5IT7GbQdJgxeyd+DJn14N4G/dg25qBdI26OaUbuWIxXe5uwaN5Ho9qKNVC5qMRq8AYSoBW3L1GShUiyV75E2VGXHFa0igZlA7mc/suhyNU51Emr9jvUjEe1C5R0DyKJbavC1O5Iovg3amqnJQmVqsrDEXgtoE8XXptDAyQ1OP2jvS5J9mcvGwYcH9RCiFnQEVZM9VkkZyS6UJX3C2WQi30Li9hIxi60hhKgFHUPGagMV5I6imFoFWW2r+3y0mVxD7u9Nu5/ghISoBZ3IBrLayiiO5TPR5s7gXq4A/8DuqdG9qB1JJAqCTmQZjQHPISHxsotle36avxc5tAn+VzRuGXNHE5Za0HFYfG2aNCp8DbmgPUjcTtti6kLr9t4+5eu2JSFqQUdiwjaDJmWA+kCXULLgNBMGO8j9fR2NAg9OSLifQSezCXyO4lqjSMwuoRKLDZrXF5rFlzGvEYmChhCiFnQyFeRuriJLLbsPoRmz1g6iH8XWghMSvZ9BR5LZfTCKdhsMAL8F/D3gFc5mKu1TVLcWuwtOQMTUgo4jM4l2BHkrU8AnwM9J1hvIPd1EVtwaaWFKs7gI/PfA5Vild3xC1IJOJCsYG8jtfAT8JfDvUXeBt07tkNbzLbN3LV8jyQH/JfAfgP+tiddpa0LUgk6kWpiWrdOgGwneYyR0C6jsY4m0tKXZ8ZphNPvtXxRL5T+EWIR8VCKmFnQk1ftEbQbb7wDfQ61L48hF7bOHr9YbRy1Wp8FTFN+7TkpgTEe87WAi+xl0JDU2vA+TVtg9Ra6gb6PqJVlrPaRRRs1mG5V73CC1US3SXBf43BOiFgRiCRXjet3aU+SCXkftSxX7+gVyUy/T+Nlrte7pFhK2Tc6mN/XcEaIWBGhabrFU/hWyji6gCv+ryEKaAz4kFeT2IBfUp+g2iwkkqoPIiqzQ/JjeuScSBUGQ2ETTO3aQlXQPlXv8Co3c/pG99hi5oltIBJtFN2qdukiau/a6xf+CfQhRC4LEDrLOeknjiBaRiD1CQraCYm2eDW1m8/sA8AeoOLgfuaK3gUJkQ/cn3M8gSORQXM2/ryBLbBlZTf64j1zDbmQYXECJhmZwE/h9FMtbQ27wOPARMFcsle/FBqrdhKgFQaKCLLCHyP2cQ5bYCCrI7bPXl5BbuoKsu2s0T9RASYlelKjot2sVgA8AiqXynSjzSISoBYFh9WqzKAmwiASrD4nJIEoSdCErbhEF8X0b1RrNa4LvJ+0sHUD9qh/aNaewersmXfvcEaIWBHsZyHw/a19zpIkeQ6jbYBRZc/dRvKvZeClJL8ky/Ay4ewrXPjdEoiAIdlMdfB9CQjJgj2wP6HNksa1zujs7R1BB7tdRzO16JA0SIWpBsJvD3LgcmugxhWJvz1AWdJvTrSHrRZnQtzibMUktS4haEGSo2g86y94lyJWpycI8mqTxEaphm0HxrbXTu1NAcbbbKIwUMTUjYmpBUEV1X6glD140v9sx88VS+eeohuxj4EsoqQCpfeo0pufeJpYg7yJELQgOoUbzu7++XCyVP0GxtksoefAainlhrzW78b2AXNCf1brHTiRGDwXBCbG2pa8C30eidhOVgFy3R7P5Y+C/QKI2DCx1ckFuiFoQNIBiqTwOvAt8C4naOJqF9i7Nt9amkaBmRxR92qnCFu5nEDSGZdTKtIO6D8aQuLxO80WtGy1C7kGu8DQwXiyVc3TgEpfIfgZBA8hsff8A+BPg36GJHs8P+Fij8Gb3d+3xNWQpjtCBS1xC1IKgQZiwLSNrbQ5N95iluRuoQOL1e8jtvYrieOOZ90PUgiA4Ni4gG8AvgfdJrVbN5F3k8vai0pJR5PYO0mGDJUPUgqCxZONXT1BmcmafYxvJdeA9FMN7CYnbCBLX0U5yQUPUgqCBVHUk3ENdB+undPkxZKUNAC/ToS5olHQEQZMw6+g68N8C/znNNyLW0Yy3BeBfA3+GFsks2KMjsqFhqQVB8+hF7t9LnM7vWh+yzq6iGNs7wKv23mU0zLLtJ3pEnVoQNA+3iN445esOAF9Gs98uofFJ06huboM23x0alloQNIlMfO3XVW81u8QDNJH3m6jh/hZp5d9lTmcR85kRMbUgaDLFUvmfAv8rCuT7ar0xmi8u20hU/w0a/+0Lmv8GxdjaMr4WlloQNJ8Z0uy1z9G6vQWaP3+tC9WrvYlibXkkqCO0cbdBxNSCoPkMoBjWon3fi+JdXeh3sJm/h33I7XwDZT8HkMgu2Pttt7QlLLUgaD5byCrbQNX9ORS03+J04mtjSNReRomDbyELDtpM0CBELQhOg0UkZB7AzqF4l2+oqmTe2zrkXIe9X4tB4AopSTCHfvdn2zGmFu5nEDSfPArYX0BiViElCfw1kGDl9nx6N93HuH4OuZlX0ESPdeBhOwoahKgFwWngbucyErMKyUK7QhKqTTtukN3itU3yqtx9PSrDqMyjCPx/KAvbloSoBUHzeYoynxNord4yEqmPUcX/26jafwtZVDnSsuJte30HCd1xBM3xeNoHqMTj4QnO1bKEqAVB8/EFyO5eziNLadDe70LZyB0kajeRm+gCtoPEzd3Ubo4fDx9H+xRuFkvlFWC53dzQELUgaD5dqKtgwJ4vIfcToJz5mkfW1AXklnYhQavYZ7fQ7+wmx5+60YP6Qr+KEhgLxVK5rRIGIWpB0HxcxFbR79wcstTyKN72Q2SdLSN39CKqLetFwrZoXzftfF3IajvuXtEx4LfRToUKMGRFuG3RYRBtUkFwCtgavWEkcBukotdBtJC4QrLA/hnw95C4bSGxu42stjUUn3sDBf2Pkw0F+Cvg/0EW4seoywGszMNE7lwKXYhaEJwRmXlrHlu7hwTvG8Dvokb0AWTVfcPeWwJ+gtzT3yMlFI7KIyRmvwTuoEUxC6QJHpczx54r9zTczyA4O4aQNeb02tb3XyCLrIBibNdRr2YFWWZjdvwzji9qF+28XgT8BepPrbA3XneuWqlC1IKgxTBh+xA1v3t8bQhZasOkYH8Xck+P44Lm7Zw99jXrslUL2LkRNAhRC4KzZBlZW54wqLVR/bkd8xDVuXUD/9iO9eTDcay1HPr9H0FxtbLdQ+/UZGGpWCrPck5jaiFqQXBGWEB+mirxyMTa3DV9BkxPTRamiqXyOPBTVKw7QcqIHodx0rjxC9iMNb83zpmF5oSoBcEZso949LJ7gGSeFNdaRtnPCyiYf5G0Qeqo9CFx/CrqNFgAFoslL517cc08lrmdmizUsiZbipjSEQStR4XdI4k22G1B3UPW2z3knr54/xjkUbnIP7HH6/b8lj2+jOJ3BeANK01paULUgqDFMOGaRhnJL5DrWcm8v4w2vz9HfaVzqPXquPtFh4G3UH3c95CwvYnc0jeB15BF2MPxs62nRrifQdCC1BHTWkQFtAVUljGIinGvcrym9140OPJ10sy2YZSI8Gb6x+xdItNyhKgFwfllEfgRsrKGkfgMkKbaHoV+VNoxhISxgEQ1Z9eYtsdmq3cbhKgFwTmghpAsozKMIeSGvoYKdrfRKKPjJA9G7bMX7Tx3kdV2E7m3PhfuRbdBsVTes/n9rEUv2qSCoMUxkdjTtmSvv4biXgPAe8AraDP7gH3mqIW5a8DPkDv7GRLNBSRqf4pieTtI4AbtsWDPZ+0cZ9piFZZaELQ++7UtDSJRG0HtVE+RGzkI3EDW2tgRr9WPRGkWubQ+CukmEkjfijWH6uSw68yhurda5Sl7RK2Z1lxkP4Og9dmvbcmLZ30MeLa+7SmyrlY5Ot5v+mVk9fkmqteBryMRu2TXdBEsIBG8RnJ780C+erdoprj4GnC90btHw1ILghbHXM1abUtzKOb1DMW11kju4goSlytHvJwnG/rsXJB2hXqf6AjqSx2zaw6guN5I5jzPkagNACPFUnmRNGW3upHfJ4McSL3WXcTUguAcUyyVx5DF1oOsqfeQW7iN4mtfRUW0R6V6wcsqmuLxY+BPkBV4EwnXIhLRPjQaaQaJ7TYSutsoc/oIubVDqAbO+WJqsjB3yJ+zZlyx1rFhqQXBOWZqsjAPzFul/3XU+D6Pasr+DPjvkKs4uM8p9qO61i2H4nTPUIztBqqL20ACNoNE7TmKvU0jMX2NFNtbQQJYTyN/NXWPQ4qYWhC0AZkug4+Bv0DDH+8D/xbF144TW4O08MW7Fd5BYvYlVM82yO6Zb1ftq4udF/L2oJIRdx1nkQDWmx31HtRB5NLuidU5IWpB0CaY1fYBqi97ioRlyp5v7P/JA+myRx5ZYB7kH0OJgXVkgV1BbuZF5LrmSWORupGL/ChTijJqr48eMVGQt2uMAJdrfTbczyBoI7y9yn7ZV+zhy5NHDvrsIeSQ1XUZZS0fIxfyEySY30Ui5av9upAl9gFyV58DuWKpfBVZWpfscwvUN1m31473bK+7rns+G5ZaELQh1S4esqi2DvzQwQygAL+v7vP9pc+QcK6h2NgGsuKGkAD22Hs9yMJ7Bfi7qDTkK6gU5MBspQl0niRkZL7uEcOw1IKgfckBT9BilRvIbTvJlI0LSExWUexsAVltS8jd9TV+s5nPDJDKPtxavEQSRl/wXLNko0bWc9HOv6s1K0uIWhC0LxUkNo9QdnIWictx1+qBYmGLyLq6CPwGynTOo7q5u8gFLdh1niBR806HbiSEHviH5C5ne0o9geAxM7fUOGxQZbifQdCmZFzQWTQyaJ7jJwycbVSiMYLcx2+i3tOLyP3sRYI2Ysf1IyHdRNnZZ0hkF5BL7AW5Y0jUvJ/0hpWpuPhdRJbiyGGJhbDUgqC96UPTPHrR9vfryFrKH/ShA/DR3nkkcJfQ6KMnwP+CSj2GUNb1EdKYFeSiLthr03ZfICttyO7NF8ts2nFjwKfIMvR4Ws3kQJaw1IKgvVkiicQdVLt23Am5oBhYLxIrt8TyyDr7b1CXwTUkdFfs2kOo3GMCid89ZNV5oe4VJGDdyL3dts/12HsVJIz7JgeyhKgFQRtj8adPgQdos/tnyPI5Lt0onubTcLNcs9ce2TXKyKp7E2U937Tj7iBxe4Bc0wukQt4dkqCN2/ku22ur1FGsG6IWBG2OCdtDJCQzyHo7SWytH1ls1V0Kj+wac2i3whSpRm4RCdMwKYO6gcSrH8X7upDQfYjigF407MW2dQ29DFELgg7ArJvHSCjuc/KdnjkkVI/tXA+Afwl8H5gE/gAJ1RRKDjxDQraOxGkDua3rpCkdPmxyHonwCin25yJ8aPdBJAqCoHNYIW2oeh25dn0cb1HLNhKpOeA/oLKN3wf+lr3/XeAHwN9GgtZrx+aQQM2QJnyMIAsvb6/nMuOWhkgJAqhDjEPUgqBzWEbi8RBZa75spZ+j167lkJV1B2UzF4F/VHXMy8C/nJos/L6/kCnHcKGaJ03p8Nd2bYkvlspeKlLXlNyYpxYEHUSxVH4J+D3gt1D5xRiKc/VRf5nHGoqPfYxqzxZQMP8bds4sS1OThYnsC9WdA/bcB1IuH3W8d/X5QtSCoEOwX/63UBfAb6ByiXH7ehlZbPWyBPwUzWxbRZnLFeC/RmUdWf5oarLwnx5wT8de1FLr85EoCILOYYg0yHEBxcV8UsZREwc+hugB8HPk0j4A/gckeFm+fcB5ag1/PAp7Ph8xtSDoLLwQdw4J0bY9H0duaL2GTjcaGHkD+GM0gsjP8SvUPuX85IDz7LdUpl72fD4stSDoHHyMtmdB50n9oNP2uo8n2kDC9wxZcrMoybCKYmo+ysh3jubt9VeA/wvF2pZQBvRf7NevmelPXeQYO0JrfT5iakHQQZi4jKGg/juosDWHKvq/gboCfCBjBZVYzCALbMFO42UbG8D/hIQLFFd7FS1V2UETQv4687lTWWwc7mcQdBAmKjPFUvnnSNDWkMh1ISFaQS5pDxI1b1fqQs3w99EG9z7gR6hGzVubfKLGQ7vcF+zuXKhnwu2JCVELgs5kEVlR7yChGUHu6SjSBR+bvYmyottIlAZQDO59ZIn12DELSNA+QlbfjL2epemCBiFqQdCpuFW1jSytDSR0o0i8cvbwRvLezPHrKN7mwrWBLDffibCKMq0rdq1VjlF/dlxC1IKgc/Fx2k+QKE0hMXLraw1N9aigWrBllFBYQwLom6Ty7F6GkiP1cQJsnJagQYhaEHQqvUh4ppFLmUPzzm4ggVtDlpjPX5shuaXzdswDJG4D9hhELuk0svicUxM0CFELgk6lQmosv4RmmmXX6a2ggP9DVKzruzp9mcsWShzskGJy2Nd5VGZRd79mI4mSjiDoUDI9k6NomsY3Ue+mz0r7SyRgF5Dr2YXErtu+v4sEzBcdg+rank5NFqq7Ck6NELUg6HCKpfI4qj37OiqmrSDr7GNkzfnG9U+RmI3aV99S5Q3tHkNb5BQTA9VER0EQBMtob8Av0dTZn6PN6ndRPG2QtLhlCwnZFIqdTU9NFubt8z4mfAC4fNjWp2YRohYEHY5ZVNPA52jqxkeohs1LNrx1ahvFzDwWP+fWmH3NDnOEozenN4QQtSAIIJVhPEIZT5+Gu4ziZk/stR2UJd0ARqussZM2pzeEELUgCGCvALnVdR/Vqk2hKbdesrFnZ8BJm9MbRSQKgiAAdmVD8+ze3ORbo66R4mtlJGxnJl77EaIWBMEuak2TRUL3Nmnk92fAfKsJGoT7GQRBFfu4kcOkPtBVbOPT2d3l/kRHQRAEe/BNTpmXqotpz6y49jDC/QyCoC6KpfIQstiWbOt7S/L/A8QsdxoiitNLAAAAAElFTkSuQmCC\" y=\"-20\"/>\n   <g id=\"PathCollection_1\"/>\n   <g id=\"matplotlib.axis_1\">\n    <g id=\"xtick_1\">\n     <g id=\"line2d_1\">\n      <defs>\n       <path d=\"M 0 0 \nL 0 3.5 \n\" id=\"mee33403819\" style=\"stroke:#333333;stroke-width:0.8;\"/>\n      </defs>\n      <g>\n       <use style=\"fill:#333333;stroke:#333333;stroke-width:0.8;\" x=\"82.205301\" xlink:href=\"#mee33403819\" y=\"281.721826\"/>\n      </g>\n     </g>\n     <g id=\"text_1\">\n      <!-- 0.5 -->\n      <g style=\"fill:#333333;\" transform=\"translate(73.458583 297.080107)scale(0.11 -0.11)\">\n       <defs>\n        <path d=\"M 2034 4250 \nQ 1547 4250 1301 3770 \nQ 1056 3291 1056 2328 \nQ 1056 1369 1301 889 \nQ 1547 409 2034 409 \nQ 2525 409 2770 889 \nQ 3016 1369 3016 2328 \nQ 3016 3291 2770 3770 \nQ 2525 4250 2034 4250 \nz\nM 2034 4750 \nQ 2819 4750 3233 4129 \nQ 3647 3509 3647 2328 \nQ 3647 1150 3233 529 \nQ 2819 -91 2034 -91 \nQ 1250 -91 836 529 \nQ 422 1150 422 2328 \nQ 422 3509 836 4129 \nQ 1250 4750 2034 4750 \nz\n\" id=\"DejaVuSans-30\" transform=\"scale(0.015625)\"/>\n        <path d=\"M 684 794 \nL 1344 794 \nL 1344 0 \nL 684 0 \nL 684 794 \nz\n\" id=\"DejaVuSans-2e\" transform=\"scale(0.015625)\"/>\n        <path d=\"M 691 4666 \nL 3169 4666 \nL 3169 4134 \nL 1269 4134 \nL 1269 2991 \nQ 1406 3038 1543 3061 \nQ 1681 3084 1819 3084 \nQ 2600 3084 3056 2656 \nQ 3513 2228 3513 1497 \nQ 3513 744 3044 326 \nQ 2575 -91 1722 -91 \nQ 1428 -91 1123 -41 \nQ 819 9 494 109 \nL 494 744 \nQ 775 591 1075 516 \nQ 1375 441 1709 441 \nQ 2250 441 2565 725 \nQ 2881 1009 2881 1497 \nQ 2881 1984 2565 2268 \nQ 2250 2553 1709 2553 \nQ 1456 2553 1204 2497 \nQ 953 2441 691 2322 \nL 691 4666 \nz\n\" id=\"DejaVuSans-35\" transform=\"scale(0.015625)\"/>\n       </defs>\n       <use xlink:href=\"#DejaVuSans-30\"/>\n       <use x=\"63.623047\" xlink:href=\"#DejaVuSans-2e\"/>\n       <use x=\"95.410156\" xlink:href=\"#DejaVuSans-35\"/>\n      </g>\n     </g>\n    </g>\n    <g id=\"xtick_2\">\n     <g id=\"line2d_2\">\n      <g>\n       <use style=\"fill:#333333;stroke:#333333;stroke-width:0.8;\" x=\"119.474318\" xlink:href=\"#mee33403819\" y=\"281.721826\"/>\n      </g>\n     </g>\n     <g id=\"text_2\">\n      <!-- 1.0 -->\n      <g style=\"fill:#333333;\" transform=\"translate(110.727599 297.080107)scale(0.11 -0.11)\">\n       <defs>\n        <path d=\"M 794 531 \nL 1825 531 \nL 1825 4091 \nL 703 3866 \nL 703 4441 \nL 1819 4666 \nL 2450 4666 \nL 2450 531 \nL 3481 531 \nL 3481 0 \nL 794 0 \nL 794 531 \nz\n\" id=\"DejaVuSans-31\" transform=\"scale(0.015625)\"/>\n       </defs>\n       <use xlink:href=\"#DejaVuSans-31\"/>\n       <use x=\"63.623047\" xlink:href=\"#DejaVuSans-2e\"/>\n       <use x=\"95.410156\" xlink:href=\"#DejaVuSans-30\"/>\n      </g>\n     </g>\n    </g>\n    <g id=\"xtick_3\">\n     <g id=\"line2d_3\">\n      <g>\n       <use style=\"fill:#333333;stroke:#333333;stroke-width:0.8;\" x=\"156.743335\" xlink:href=\"#mee33403819\" y=\"281.721826\"/>\n      </g>\n     </g>\n     <g id=\"text_3\">\n      <!-- 1.5 -->\n      <g style=\"fill:#333333;\" transform=\"translate(147.996616 297.080107)scale(0.11 -0.11)\">\n       <use xlink:href=\"#DejaVuSans-31\"/>\n       <use x=\"63.623047\" xlink:href=\"#DejaVuSans-2e\"/>\n       <use x=\"95.410156\" xlink:href=\"#DejaVuSans-35\"/>\n      </g>\n     </g>\n    </g>\n    <g id=\"xtick_4\">\n     <g id=\"line2d_4\">\n      <g>\n       <use style=\"fill:#333333;stroke:#333333;stroke-width:0.8;\" x=\"194.012351\" xlink:href=\"#mee33403819\" y=\"281.721826\"/>\n      </g>\n     </g>\n     <g id=\"text_4\">\n      <!-- 2.0 -->\n      <g style=\"fill:#333333;\" transform=\"translate(185.265633 297.080107)scale(0.11 -0.11)\">\n       <defs>\n        <path d=\"M 1228 531 \nL 3431 531 \nL 3431 0 \nL 469 0 \nL 469 531 \nQ 828 903 1448 1529 \nQ 2069 2156 2228 2338 \nQ 2531 2678 2651 2914 \nQ 2772 3150 2772 3378 \nQ 2772 3750 2511 3984 \nQ 2250 4219 1831 4219 \nQ 1534 4219 1204 4116 \nQ 875 4013 500 3803 \nL 500 4441 \nQ 881 4594 1212 4672 \nQ 1544 4750 1819 4750 \nQ 2544 4750 2975 4387 \nQ 3406 4025 3406 3419 \nQ 3406 3131 3298 2873 \nQ 3191 2616 2906 2266 \nQ 2828 2175 2409 1742 \nQ 1991 1309 1228 531 \nz\n\" id=\"DejaVuSans-32\" transform=\"scale(0.015625)\"/>\n       </defs>\n       <use xlink:href=\"#DejaVuSans-32\"/>\n       <use x=\"63.623047\" xlink:href=\"#DejaVuSans-2e\"/>\n       <use x=\"95.410156\" xlink:href=\"#DejaVuSans-30\"/>\n      </g>\n     </g>\n    </g>\n    <g id=\"xtick_5\">\n     <g id=\"line2d_5\">\n      <g>\n       <use style=\"fill:#333333;stroke:#333333;stroke-width:0.8;\" x=\"231.281368\" xlink:href=\"#mee33403819\" y=\"281.721826\"/>\n      </g>\n     </g>\n     <g id=\"text_5\">\n      <!-- 2.5 -->\n      <g style=\"fill:#333333;\" transform=\"translate(222.534649 297.080107)scale(0.11 -0.11)\">\n       <use xlink:href=\"#DejaVuSans-32\"/>\n       <use x=\"63.623047\" xlink:href=\"#DejaVuSans-2e\"/>\n       <use x=\"95.410156\" xlink:href=\"#DejaVuSans-35\"/>\n      </g>\n     </g>\n    </g>\n    <g id=\"xtick_6\">\n     <g id=\"line2d_6\">\n      <g>\n       <use style=\"fill:#333333;stroke:#333333;stroke-width:0.8;\" x=\"268.550385\" xlink:href=\"#mee33403819\" y=\"281.721826\"/>\n      </g>\n     </g>\n     <g id=\"text_6\">\n      <!-- 3.0 -->\n      <g style=\"fill:#333333;\" transform=\"translate(259.803666 297.080107)scale(0.11 -0.11)\">\n       <defs>\n        <path d=\"M 2597 2516 \nQ 3050 2419 3304 2112 \nQ 3559 1806 3559 1356 \nQ 3559 666 3084 287 \nQ 2609 -91 1734 -91 \nQ 1441 -91 1130 -33 \nQ 819 25 488 141 \nL 488 750 \nQ 750 597 1062 519 \nQ 1375 441 1716 441 \nQ 2309 441 2620 675 \nQ 2931 909 2931 1356 \nQ 2931 1769 2642 2001 \nQ 2353 2234 1838 2234 \nL 1294 2234 \nL 1294 2753 \nL 1863 2753 \nQ 2328 2753 2575 2939 \nQ 2822 3125 2822 3475 \nQ 2822 3834 2567 4026 \nQ 2313 4219 1838 4219 \nQ 1578 4219 1281 4162 \nQ 984 4106 628 3988 \nL 628 4550 \nQ 988 4650 1302 4700 \nQ 1616 4750 1894 4750 \nQ 2613 4750 3031 4423 \nQ 3450 4097 3450 3541 \nQ 3450 3153 3228 2886 \nQ 3006 2619 2597 2516 \nz\n\" id=\"DejaVuSans-33\" transform=\"scale(0.015625)\"/>\n       </defs>\n       <use xlink:href=\"#DejaVuSans-33\"/>\n       <use x=\"63.623047\" xlink:href=\"#DejaVuSans-2e\"/>\n       <use x=\"95.410156\" xlink:href=\"#DejaVuSans-30\"/>\n      </g>\n     </g>\n    </g>\n    <g id=\"xtick_7\">\n     <g id=\"line2d_7\">\n      <g>\n       <use style=\"fill:#333333;stroke:#333333;stroke-width:0.8;\" x=\"305.819401\" xlink:href=\"#mee33403819\" y=\"281.721826\"/>\n      </g>\n     </g>\n     <g id=\"text_7\">\n      <!-- 3.5 -->\n      <g style=\"fill:#333333;\" transform=\"translate(297.072683 297.080107)scale(0.11 -0.11)\">\n       <use xlink:href=\"#DejaVuSans-33\"/>\n       <use x=\"63.623047\" xlink:href=\"#DejaVuSans-2e\"/>\n       <use x=\"95.410156\" xlink:href=\"#DejaVuSans-35\"/>\n      </g>\n     </g>\n    </g>\n    <g id=\"xtick_8\">\n     <g id=\"line2d_8\">\n      <g>\n       <use style=\"fill:#333333;stroke:#333333;stroke-width:0.8;\" x=\"343.088418\" xlink:href=\"#mee33403819\" y=\"281.721826\"/>\n      </g>\n     </g>\n     <g id=\"text_8\">\n      <!-- 4.0 -->\n      <g style=\"fill:#333333;\" transform=\"translate(334.341699 297.080107)scale(0.11 -0.11)\">\n       <defs>\n        <path d=\"M 2419 4116 \nL 825 1625 \nL 2419 1625 \nL 2419 4116 \nz\nM 2253 4666 \nL 3047 4666 \nL 3047 1625 \nL 3713 1625 \nL 3713 1100 \nL 3047 1100 \nL 3047 0 \nL 2419 0 \nL 2419 1100 \nL 313 1100 \nL 313 1709 \nL 2253 4666 \nz\n\" id=\"DejaVuSans-34\" transform=\"scale(0.015625)\"/>\n       </defs>\n       <use xlink:href=\"#DejaVuSans-34\"/>\n       <use x=\"63.623047\" xlink:href=\"#DejaVuSans-2e\"/>\n       <use x=\"95.410156\" xlink:href=\"#DejaVuSans-30\"/>\n      </g>\n     </g>\n    </g>\n    <g id=\"xtick_9\">\n     <g id=\"line2d_9\">\n      <g>\n       <use style=\"fill:#333333;stroke:#333333;stroke-width:0.8;\" x=\"380.357435\" xlink:href=\"#mee33403819\" y=\"281.721826\"/>\n      </g>\n     </g>\n     <g id=\"text_9\">\n      <!-- 4.5 -->\n      <g style=\"fill:#333333;\" transform=\"translate(371.610716 297.080107)scale(0.11 -0.11)\">\n       <use xlink:href=\"#DejaVuSans-34\"/>\n       <use x=\"63.623047\" xlink:href=\"#DejaVuSans-2e\"/>\n       <use x=\"95.410156\" xlink:href=\"#DejaVuSans-35\"/>\n      </g>\n     </g>\n    </g>\n    <g id=\"text_10\">\n     <!-- mean_6_months_movie_rating -->\n     <g style=\"fill:#333333;\" transform=\"translate(147.542938 313.245732)scale(0.13 -0.13)\">\n      <defs>\n       <path d=\"M 3328 2828 \nQ 3544 3216 3844 3400 \nQ 4144 3584 4550 3584 \nQ 5097 3584 5394 3201 \nQ 5691 2819 5691 2113 \nL 5691 0 \nL 5113 0 \nL 5113 2094 \nQ 5113 2597 4934 2840 \nQ 4756 3084 4391 3084 \nQ 3944 3084 3684 2787 \nQ 3425 2491 3425 1978 \nL 3425 0 \nL 2847 0 \nL 2847 2094 \nQ 2847 2600 2669 2842 \nQ 2491 3084 2119 3084 \nQ 1678 3084 1418 2786 \nQ 1159 2488 1159 1978 \nL 1159 0 \nL 581 0 \nL 581 3500 \nL 1159 3500 \nL 1159 2956 \nQ 1356 3278 1631 3431 \nQ 1906 3584 2284 3584 \nQ 2666 3584 2933 3390 \nQ 3200 3197 3328 2828 \nz\n\" id=\"DejaVuSans-6d\" transform=\"scale(0.015625)\"/>\n       <path d=\"M 3597 1894 \nL 3597 1613 \nL 953 1613 \nQ 991 1019 1311 708 \nQ 1631 397 2203 397 \nQ 2534 397 2845 478 \nQ 3156 559 3463 722 \nL 3463 178 \nQ 3153 47 2828 -22 \nQ 2503 -91 2169 -91 \nQ 1331 -91 842 396 \nQ 353 884 353 1716 \nQ 353 2575 817 3079 \nQ 1281 3584 2069 3584 \nQ 2775 3584 3186 3129 \nQ 3597 2675 3597 1894 \nz\nM 3022 2063 \nQ 3016 2534 2758 2815 \nQ 2500 3097 2075 3097 \nQ 1594 3097 1305 2825 \nQ 1016 2553 972 2059 \nL 3022 2063 \nz\n\" id=\"DejaVuSans-65\" transform=\"scale(0.015625)\"/>\n       <path d=\"M 2194 1759 \nQ 1497 1759 1228 1600 \nQ 959 1441 959 1056 \nQ 959 750 1161 570 \nQ 1363 391 1709 391 \nQ 2188 391 2477 730 \nQ 2766 1069 2766 1631 \nL 2766 1759 \nL 2194 1759 \nz\nM 3341 1997 \nL 3341 0 \nL 2766 0 \nL 2766 531 \nQ 2569 213 2275 61 \nQ 1981 -91 1556 -91 \nQ 1019 -91 701 211 \nQ 384 513 384 1019 \nQ 384 1609 779 1909 \nQ 1175 2209 1959 2209 \nL 2766 2209 \nL 2766 2266 \nQ 2766 2663 2505 2880 \nQ 2244 3097 1772 3097 \nQ 1472 3097 1187 3025 \nQ 903 2953 641 2809 \nL 641 3341 \nQ 956 3463 1253 3523 \nQ 1550 3584 1831 3584 \nQ 2591 3584 2966 3190 \nQ 3341 2797 3341 1997 \nz\n\" id=\"DejaVuSans-61\" transform=\"scale(0.015625)\"/>\n       <path d=\"M 3513 2113 \nL 3513 0 \nL 2938 0 \nL 2938 2094 \nQ 2938 2591 2744 2837 \nQ 2550 3084 2163 3084 \nQ 1697 3084 1428 2787 \nQ 1159 2491 1159 1978 \nL 1159 0 \nL 581 0 \nL 581 3500 \nL 1159 3500 \nL 1159 2956 \nQ 1366 3272 1645 3428 \nQ 1925 3584 2291 3584 \nQ 2894 3584 3203 3211 \nQ 3513 2838 3513 2113 \nz\n\" id=\"DejaVuSans-6e\" transform=\"scale(0.015625)\"/>\n       <path d=\"M 3263 -1063 \nL 3263 -1509 \nL -63 -1509 \nL -63 -1063 \nL 3263 -1063 \nz\n\" id=\"DejaVuSans-5f\" transform=\"scale(0.015625)\"/>\n       <path d=\"M 2113 2584 \nQ 1688 2584 1439 2293 \nQ 1191 2003 1191 1497 \nQ 1191 994 1439 701 \nQ 1688 409 2113 409 \nQ 2538 409 2786 701 \nQ 3034 994 3034 1497 \nQ 3034 2003 2786 2293 \nQ 2538 2584 2113 2584 \nz\nM 3366 4563 \nL 3366 3988 \nQ 3128 4100 2886 4159 \nQ 2644 4219 2406 4219 \nQ 1781 4219 1451 3797 \nQ 1122 3375 1075 2522 \nQ 1259 2794 1537 2939 \nQ 1816 3084 2150 3084 \nQ 2853 3084 3261 2657 \nQ 3669 2231 3669 1497 \nQ 3669 778 3244 343 \nQ 2819 -91 2113 -91 \nQ 1303 -91 875 529 \nQ 447 1150 447 2328 \nQ 447 3434 972 4092 \nQ 1497 4750 2381 4750 \nQ 2619 4750 2861 4703 \nQ 3103 4656 3366 4563 \nz\n\" id=\"DejaVuSans-36\" transform=\"scale(0.015625)\"/>\n       <path d=\"M 1959 3097 \nQ 1497 3097 1228 2736 \nQ 959 2375 959 1747 \nQ 959 1119 1226 758 \nQ 1494 397 1959 397 \nQ 2419 397 2687 759 \nQ 2956 1122 2956 1747 \nQ 2956 2369 2687 2733 \nQ 2419 3097 1959 3097 \nz\nM 1959 3584 \nQ 2709 3584 3137 3096 \nQ 3566 2609 3566 1747 \nQ 3566 888 3137 398 \nQ 2709 -91 1959 -91 \nQ 1206 -91 779 398 \nQ 353 888 353 1747 \nQ 353 2609 779 3096 \nQ 1206 3584 1959 3584 \nz\n\" id=\"DejaVuSans-6f\" transform=\"scale(0.015625)\"/>\n       <path d=\"M 1172 4494 \nL 1172 3500 \nL 2356 3500 \nL 2356 3053 \nL 1172 3053 \nL 1172 1153 \nQ 1172 725 1289 603 \nQ 1406 481 1766 481 \nL 2356 481 \nL 2356 0 \nL 1766 0 \nQ 1100 0 847 248 \nQ 594 497 594 1153 \nL 594 3053 \nL 172 3053 \nL 172 3500 \nL 594 3500 \nL 594 4494 \nL 1172 4494 \nz\n\" id=\"DejaVuSans-74\" transform=\"scale(0.015625)\"/>\n       <path d=\"M 3513 2113 \nL 3513 0 \nL 2938 0 \nL 2938 2094 \nQ 2938 2591 2744 2837 \nQ 2550 3084 2163 3084 \nQ 1697 3084 1428 2787 \nQ 1159 2491 1159 1978 \nL 1159 0 \nL 581 0 \nL 581 4863 \nL 1159 4863 \nL 1159 2956 \nQ 1366 3272 1645 3428 \nQ 1925 3584 2291 3584 \nQ 2894 3584 3203 3211 \nQ 3513 2838 3513 2113 \nz\n\" id=\"DejaVuSans-68\" transform=\"scale(0.015625)\"/>\n       <path d=\"M 2834 3397 \nL 2834 2853 \nQ 2591 2978 2328 3040 \nQ 2066 3103 1784 3103 \nQ 1356 3103 1142 2972 \nQ 928 2841 928 2578 \nQ 928 2378 1081 2264 \nQ 1234 2150 1697 2047 \nL 1894 2003 \nQ 2506 1872 2764 1633 \nQ 3022 1394 3022 966 \nQ 3022 478 2636 193 \nQ 2250 -91 1575 -91 \nQ 1294 -91 989 -36 \nQ 684 19 347 128 \nL 347 722 \nQ 666 556 975 473 \nQ 1284 391 1588 391 \nQ 1994 391 2212 530 \nQ 2431 669 2431 922 \nQ 2431 1156 2273 1281 \nQ 2116 1406 1581 1522 \nL 1381 1569 \nQ 847 1681 609 1914 \nQ 372 2147 372 2553 \nQ 372 3047 722 3315 \nQ 1072 3584 1716 3584 \nQ 2034 3584 2315 3537 \nQ 2597 3491 2834 3397 \nz\n\" id=\"DejaVuSans-73\" transform=\"scale(0.015625)\"/>\n       <path d=\"M 191 3500 \nL 800 3500 \nL 1894 563 \nL 2988 3500 \nL 3597 3500 \nL 2284 0 \nL 1503 0 \nL 191 3500 \nz\n\" id=\"DejaVuSans-76\" transform=\"scale(0.015625)\"/>\n       <path d=\"M 603 3500 \nL 1178 3500 \nL 1178 0 \nL 603 0 \nL 603 3500 \nz\nM 603 4863 \nL 1178 4863 \nL 1178 4134 \nL 603 4134 \nL 603 4863 \nz\n\" id=\"DejaVuSans-69\" transform=\"scale(0.015625)\"/>\n       <path d=\"M 2631 2963 \nQ 2534 3019 2420 3045 \nQ 2306 3072 2169 3072 \nQ 1681 3072 1420 2755 \nQ 1159 2438 1159 1844 \nL 1159 0 \nL 581 0 \nL 581 3500 \nL 1159 3500 \nL 1159 2956 \nQ 1341 3275 1631 3429 \nQ 1922 3584 2338 3584 \nQ 2397 3584 2469 3576 \nQ 2541 3569 2628 3553 \nL 2631 2963 \nz\n\" id=\"DejaVuSans-72\" transform=\"scale(0.015625)\"/>\n       <path d=\"M 2906 1791 \nQ 2906 2416 2648 2759 \nQ 2391 3103 1925 3103 \nQ 1463 3103 1205 2759 \nQ 947 2416 947 1791 \nQ 947 1169 1205 825 \nQ 1463 481 1925 481 \nQ 2391 481 2648 825 \nQ 2906 1169 2906 1791 \nz\nM 3481 434 \nQ 3481 -459 3084 -895 \nQ 2688 -1331 1869 -1331 \nQ 1566 -1331 1297 -1286 \nQ 1028 -1241 775 -1147 \nL 775 -588 \nQ 1028 -725 1275 -790 \nQ 1522 -856 1778 -856 \nQ 2344 -856 2625 -561 \nQ 2906 -266 2906 331 \nL 2906 616 \nQ 2728 306 2450 153 \nQ 2172 0 1784 0 \nQ 1141 0 747 490 \nQ 353 981 353 1791 \nQ 353 2603 747 3093 \nQ 1141 3584 1784 3584 \nQ 2172 3584 2450 3431 \nQ 2728 3278 2906 2969 \nL 2906 3500 \nL 3481 3500 \nL 3481 434 \nz\n\" id=\"DejaVuSans-67\" transform=\"scale(0.015625)\"/>\n      </defs>\n      <use xlink:href=\"#DejaVuSans-6d\"/>\n      <use x=\"97.412109\" xlink:href=\"#DejaVuSans-65\"/>\n      <use x=\"158.935547\" xlink:href=\"#DejaVuSans-61\"/>\n      <use x=\"220.214844\" xlink:href=\"#DejaVuSans-6e\"/>\n      <use x=\"283.59375\" xlink:href=\"#DejaVuSans-5f\"/>\n      <use x=\"333.59375\" xlink:href=\"#DejaVuSans-36\"/>\n      <use x=\"397.216797\" xlink:href=\"#DejaVuSans-5f\"/>\n      <use x=\"447.216797\" xlink:href=\"#DejaVuSans-6d\"/>\n      <use x=\"544.628906\" xlink:href=\"#DejaVuSans-6f\"/>\n      <use x=\"605.810547\" xlink:href=\"#DejaVuSans-6e\"/>\n      <use x=\"669.189453\" xlink:href=\"#DejaVuSans-74\"/>\n      <use x=\"708.398438\" xlink:href=\"#DejaVuSans-68\"/>\n      <use x=\"771.777344\" xlink:href=\"#DejaVuSans-73\"/>\n      <use x=\"823.876953\" xlink:href=\"#DejaVuSans-5f\"/>\n      <use x=\"873.876953\" xlink:href=\"#DejaVuSans-6d\"/>\n      <use x=\"971.289062\" xlink:href=\"#DejaVuSans-6f\"/>\n      <use x=\"1032.470703\" xlink:href=\"#DejaVuSans-76\"/>\n      <use x=\"1091.650391\" xlink:href=\"#DejaVuSans-69\"/>\n      <use x=\"1119.433594\" xlink:href=\"#DejaVuSans-65\"/>\n      <use x=\"1180.957031\" xlink:href=\"#DejaVuSans-5f\"/>\n      <use x=\"1230.957031\" xlink:href=\"#DejaVuSans-72\"/>\n      <use x=\"1272.070312\" xlink:href=\"#DejaVuSans-61\"/>\n      <use x=\"1333.349609\" xlink:href=\"#DejaVuSans-74\"/>\n      <use x=\"1372.558594\" xlink:href=\"#DejaVuSans-69\"/>\n      <use x=\"1400.341797\" xlink:href=\"#DejaVuSans-6e\"/>\n      <use x=\"1463.720703\" xlink:href=\"#DejaVuSans-67\"/>\n     </g>\n    </g>\n   </g>\n   <g id=\"matplotlib.axis_2\">\n    <g id=\"ytick_1\">\n     <g id=\"line2d_10\">\n      <defs>\n       <path d=\"M 0 0 \nL -3.5 0 \n\" id=\"md4b8d5b141\" style=\"stroke:#333333;stroke-width:0.8;\"/>\n      </defs>\n      <g>\n       <use style=\"fill:#333333;stroke:#333333;stroke-width:0.8;\" x=\"79.410125\" xlink:href=\"#md4b8d5b141\" y=\"261.645769\"/>\n      </g>\n     </g>\n     <g id=\"text_11\">\n      <!-- −1.25 -->\n      <g style=\"fill:#333333;\" transform=\"translate(38.700281 265.824909)scale(0.11 -0.11)\">\n       <defs>\n        <path d=\"M 678 2272 \nL 4684 2272 \nL 4684 1741 \nL 678 1741 \nL 678 2272 \nz\n\" id=\"DejaVuSans-2212\" transform=\"scale(0.015625)\"/>\n       </defs>\n       <use xlink:href=\"#DejaVuSans-2212\"/>\n       <use x=\"83.789062\" xlink:href=\"#DejaVuSans-31\"/>\n       <use x=\"147.412109\" xlink:href=\"#DejaVuSans-2e\"/>\n       <use x=\"179.199219\" xlink:href=\"#DejaVuSans-32\"/>\n       <use x=\"242.822266\" xlink:href=\"#DejaVuSans-35\"/>\n      </g>\n     </g>\n    </g>\n    <g id=\"ytick_2\">\n     <g id=\"line2d_11\">\n      <g>\n       <use style=\"fill:#333333;stroke:#333333;stroke-width:0.8;\" x=\"79.410125\" xlink:href=\"#md4b8d5b141\" y=\"230.36244\"/>\n      </g>\n     </g>\n     <g id=\"text_12\">\n      <!-- −1.00 -->\n      <g style=\"fill:#333333;\" transform=\"translate(38.700281 234.541581)scale(0.11 -0.11)\">\n       <use xlink:href=\"#DejaVuSans-2212\"/>\n       <use x=\"83.789062\" xlink:href=\"#DejaVuSans-31\"/>\n       <use x=\"147.412109\" xlink:href=\"#DejaVuSans-2e\"/>\n       <use x=\"179.199219\" xlink:href=\"#DejaVuSans-30\"/>\n       <use x=\"242.822266\" xlink:href=\"#DejaVuSans-30\"/>\n      </g>\n     </g>\n    </g>\n    <g id=\"ytick_3\">\n     <g id=\"line2d_12\">\n      <g>\n       <use style=\"fill:#333333;stroke:#333333;stroke-width:0.8;\" x=\"79.410125\" xlink:href=\"#md4b8d5b141\" y=\"199.079112\"/>\n      </g>\n     </g>\n     <g id=\"text_13\">\n      <!-- −0.75 -->\n      <g style=\"fill:#333333;\" transform=\"translate(38.700281 203.258252)scale(0.11 -0.11)\">\n       <defs>\n        <path d=\"M 525 4666 \nL 3525 4666 \nL 3525 4397 \nL 1831 0 \nL 1172 0 \nL 2766 4134 \nL 525 4134 \nL 525 4666 \nz\n\" id=\"DejaVuSans-37\" transform=\"scale(0.015625)\"/>\n       </defs>\n       <use xlink:href=\"#DejaVuSans-2212\"/>\n       <use x=\"83.789062\" xlink:href=\"#DejaVuSans-30\"/>\n       <use x=\"147.412109\" xlink:href=\"#DejaVuSans-2e\"/>\n       <use x=\"179.199219\" xlink:href=\"#DejaVuSans-37\"/>\n       <use x=\"242.822266\" xlink:href=\"#DejaVuSans-35\"/>\n      </g>\n     </g>\n    </g>\n    <g id=\"ytick_4\">\n     <g id=\"line2d_13\">\n      <g>\n       <use style=\"fill:#333333;stroke:#333333;stroke-width:0.8;\" x=\"79.410125\" xlink:href=\"#md4b8d5b141\" y=\"167.795783\"/>\n      </g>\n     </g>\n     <g id=\"text_14\">\n      <!-- −0.50 -->\n      <g style=\"fill:#333333;\" transform=\"translate(38.700281 171.974924)scale(0.11 -0.11)\">\n       <use xlink:href=\"#DejaVuSans-2212\"/>\n       <use x=\"83.789062\" xlink:href=\"#DejaVuSans-30\"/>\n       <use x=\"147.412109\" xlink:href=\"#DejaVuSans-2e\"/>\n       <use x=\"179.199219\" xlink:href=\"#DejaVuSans-35\"/>\n       <use x=\"242.822266\" xlink:href=\"#DejaVuSans-30\"/>\n      </g>\n     </g>\n    </g>\n    <g id=\"ytick_5\">\n     <g id=\"line2d_14\">\n      <g>\n       <use style=\"fill:#333333;stroke:#333333;stroke-width:0.8;\" x=\"79.410125\" xlink:href=\"#md4b8d5b141\" y=\"136.512455\"/>\n      </g>\n     </g>\n     <g id=\"text_15\">\n      <!-- −0.25 -->\n      <g style=\"fill:#333333;\" transform=\"translate(38.700281 140.691595)scale(0.11 -0.11)\">\n       <use xlink:href=\"#DejaVuSans-2212\"/>\n       <use x=\"83.789062\" xlink:href=\"#DejaVuSans-30\"/>\n       <use x=\"147.412109\" xlink:href=\"#DejaVuSans-2e\"/>\n       <use x=\"179.199219\" xlink:href=\"#DejaVuSans-32\"/>\n       <use x=\"242.822266\" xlink:href=\"#DejaVuSans-35\"/>\n      </g>\n     </g>\n    </g>\n    <g id=\"ytick_6\">\n     <g id=\"line2d_15\">\n      <g>\n       <use style=\"fill:#333333;stroke:#333333;stroke-width:0.8;\" x=\"79.410125\" xlink:href=\"#md4b8d5b141\" y=\"105.229126\"/>\n      </g>\n     </g>\n     <g id=\"text_16\">\n      <!-- 0.00 -->\n      <g style=\"fill:#333333;\" transform=\"translate(47.917938 109.408267)scale(0.11 -0.11)\">\n       <use xlink:href=\"#DejaVuSans-30\"/>\n       <use x=\"63.623047\" xlink:href=\"#DejaVuSans-2e\"/>\n       <use x=\"95.410156\" xlink:href=\"#DejaVuSans-30\"/>\n       <use x=\"159.033203\" xlink:href=\"#DejaVuSans-30\"/>\n      </g>\n     </g>\n    </g>\n    <g id=\"ytick_7\">\n     <g id=\"line2d_16\">\n      <g>\n       <use style=\"fill:#333333;stroke:#333333;stroke-width:0.8;\" x=\"79.410125\" xlink:href=\"#md4b8d5b141\" y=\"73.945798\"/>\n      </g>\n     </g>\n     <g id=\"text_17\">\n      <!-- 0.25 -->\n      <g style=\"fill:#333333;\" transform=\"translate(47.917938 78.124938)scale(0.11 -0.11)\">\n       <use xlink:href=\"#DejaVuSans-30\"/>\n       <use x=\"63.623047\" xlink:href=\"#DejaVuSans-2e\"/>\n       <use x=\"95.410156\" xlink:href=\"#DejaVuSans-32\"/>\n       <use x=\"159.033203\" xlink:href=\"#DejaVuSans-35\"/>\n      </g>\n     </g>\n    </g>\n    <g id=\"ytick_8\">\n     <g id=\"line2d_17\">\n      <g>\n       <use style=\"fill:#333333;stroke:#333333;stroke-width:0.8;\" x=\"79.410125\" xlink:href=\"#md4b8d5b141\" y=\"42.662469\"/>\n      </g>\n     </g>\n     <g id=\"text_18\">\n      <!-- 0.50 -->\n      <g style=\"fill:#333333;\" transform=\"translate(47.917938 46.84161)scale(0.11 -0.11)\">\n       <use xlink:href=\"#DejaVuSans-30\"/>\n       <use x=\"63.623047\" xlink:href=\"#DejaVuSans-2e\"/>\n       <use x=\"95.410156\" xlink:href=\"#DejaVuSans-35\"/>\n       <use x=\"159.033203\" xlink:href=\"#DejaVuSans-30\"/>\n      </g>\n     </g>\n    </g>\n    <g id=\"ytick_9\">\n     <g id=\"line2d_18\">\n      <g>\n       <use style=\"fill:#333333;stroke:#333333;stroke-width:0.8;\" x=\"79.410125\" xlink:href=\"#md4b8d5b141\" y=\"11.379141\"/>\n      </g>\n     </g>\n     <g id=\"text_19\">\n      <!-- 0.75 -->\n      <g style=\"fill:#333333;\" transform=\"translate(47.917938 15.558281)scale(0.11 -0.11)\">\n       <use xlink:href=\"#DejaVuSans-30\"/>\n       <use x=\"63.623047\" xlink:href=\"#DejaVuSans-2e\"/>\n       <use x=\"95.410156\" xlink:href=\"#DejaVuSans-37\"/>\n       <use x=\"159.033203\" xlink:href=\"#DejaVuSans-35\"/>\n      </g>\n     </g>\n    </g>\n    <g id=\"text_20\">\n     <!-- SHAP value for -->\n     <g style=\"fill:#333333;\" transform=\"translate(17.077969 194.026435)rotate(-90)scale(0.13 -0.13)\">\n      <defs>\n       <path d=\"M 3425 4513 \nL 3425 3897 \nQ 3066 4069 2747 4153 \nQ 2428 4238 2131 4238 \nQ 1616 4238 1336 4038 \nQ 1056 3838 1056 3469 \nQ 1056 3159 1242 3001 \nQ 1428 2844 1947 2747 \nL 2328 2669 \nQ 3034 2534 3370 2195 \nQ 3706 1856 3706 1288 \nQ 3706 609 3251 259 \nQ 2797 -91 1919 -91 \nQ 1588 -91 1214 -16 \nQ 841 59 441 206 \nL 441 856 \nQ 825 641 1194 531 \nQ 1563 422 1919 422 \nQ 2459 422 2753 634 \nQ 3047 847 3047 1241 \nQ 3047 1584 2836 1778 \nQ 2625 1972 2144 2069 \nL 1759 2144 \nQ 1053 2284 737 2584 \nQ 422 2884 422 3419 \nQ 422 4038 858 4394 \nQ 1294 4750 2059 4750 \nQ 2388 4750 2728 4690 \nQ 3069 4631 3425 4513 \nz\n\" id=\"DejaVuSans-53\" transform=\"scale(0.015625)\"/>\n       <path d=\"M 628 4666 \nL 1259 4666 \nL 1259 2753 \nL 3553 2753 \nL 3553 4666 \nL 4184 4666 \nL 4184 0 \nL 3553 0 \nL 3553 2222 \nL 1259 2222 \nL 1259 0 \nL 628 0 \nL 628 4666 \nz\n\" id=\"DejaVuSans-48\" transform=\"scale(0.015625)\"/>\n       <path d=\"M 2188 4044 \nL 1331 1722 \nL 3047 1722 \nL 2188 4044 \nz\nM 1831 4666 \nL 2547 4666 \nL 4325 0 \nL 3669 0 \nL 3244 1197 \nL 1141 1197 \nL 716 0 \nL 50 0 \nL 1831 4666 \nz\n\" id=\"DejaVuSans-41\" transform=\"scale(0.015625)\"/>\n       <path d=\"M 1259 4147 \nL 1259 2394 \nL 2053 2394 \nQ 2494 2394 2734 2622 \nQ 2975 2850 2975 3272 \nQ 2975 3691 2734 3919 \nQ 2494 4147 2053 4147 \nL 1259 4147 \nz\nM 628 4666 \nL 2053 4666 \nQ 2838 4666 3239 4311 \nQ 3641 3956 3641 3272 \nQ 3641 2581 3239 2228 \nQ 2838 1875 2053 1875 \nL 1259 1875 \nL 1259 0 \nL 628 0 \nL 628 4666 \nz\n\" id=\"DejaVuSans-50\" transform=\"scale(0.015625)\"/>\n       <path id=\"DejaVuSans-20\" transform=\"scale(0.015625)\"/>\n       <path d=\"M 603 4863 \nL 1178 4863 \nL 1178 0 \nL 603 0 \nL 603 4863 \nz\n\" id=\"DejaVuSans-6c\" transform=\"scale(0.015625)\"/>\n       <path d=\"M 544 1381 \nL 544 3500 \nL 1119 3500 \nL 1119 1403 \nQ 1119 906 1312 657 \nQ 1506 409 1894 409 \nQ 2359 409 2629 706 \nQ 2900 1003 2900 1516 \nL 2900 3500 \nL 3475 3500 \nL 3475 0 \nL 2900 0 \nL 2900 538 \nQ 2691 219 2414 64 \nQ 2138 -91 1772 -91 \nQ 1169 -91 856 284 \nQ 544 659 544 1381 \nz\nM 1991 3584 \nL 1991 3584 \nz\n\" id=\"DejaVuSans-75\" transform=\"scale(0.015625)\"/>\n       <path d=\"M 2375 4863 \nL 2375 4384 \nL 1825 4384 \nQ 1516 4384 1395 4259 \nQ 1275 4134 1275 3809 \nL 1275 3500 \nL 2222 3500 \nL 2222 3053 \nL 1275 3053 \nL 1275 0 \nL 697 0 \nL 697 3053 \nL 147 3053 \nL 147 3500 \nL 697 3500 \nL 697 3744 \nQ 697 4328 969 4595 \nQ 1241 4863 1831 4863 \nL 2375 4863 \nz\n\" id=\"DejaVuSans-66\" transform=\"scale(0.015625)\"/>\n      </defs>\n      <use xlink:href=\"#DejaVuSans-53\"/>\n      <use x=\"63.476562\" xlink:href=\"#DejaVuSans-48\"/>\n      <use x=\"138.671875\" xlink:href=\"#DejaVuSans-41\"/>\n      <use x=\"207.080078\" xlink:href=\"#DejaVuSans-50\"/>\n      <use x=\"267.382812\" xlink:href=\"#DejaVuSans-20\"/>\n      <use x=\"299.169922\" xlink:href=\"#DejaVuSans-76\"/>\n      <use x=\"358.349609\" xlink:href=\"#DejaVuSans-61\"/>\n      <use x=\"419.628906\" xlink:href=\"#DejaVuSans-6c\"/>\n      <use x=\"447.412109\" xlink:href=\"#DejaVuSans-75\"/>\n      <use x=\"510.791016\" xlink:href=\"#DejaVuSans-65\"/>\n      <use x=\"572.314453\" xlink:href=\"#DejaVuSans-20\"/>\n      <use x=\"604.101562\" xlink:href=\"#DejaVuSans-66\"/>\n      <use x=\"639.306641\" xlink:href=\"#DejaVuSans-6f\"/>\n      <use x=\"700.488281\" xlink:href=\"#DejaVuSans-72\"/>\n     </g>\n     <!-- mean_6_months_movie_rating -->\n     <g style=\"fill:#333333;\" transform=\"translate(31.635125 245.089013)rotate(-90)scale(0.13 -0.13)\">\n      <use xlink:href=\"#DejaVuSans-6d\"/>\n      <use x=\"97.412109\" xlink:href=\"#DejaVuSans-65\"/>\n      <use x=\"158.935547\" xlink:href=\"#DejaVuSans-61\"/>\n      <use x=\"220.214844\" xlink:href=\"#DejaVuSans-6e\"/>\n      <use x=\"283.59375\" xlink:href=\"#DejaVuSans-5f\"/>\n      <use x=\"333.59375\" xlink:href=\"#DejaVuSans-36\"/>\n      <use x=\"397.216797\" xlink:href=\"#DejaVuSans-5f\"/>\n      <use x=\"447.216797\" xlink:href=\"#DejaVuSans-6d\"/>\n      <use x=\"544.628906\" xlink:href=\"#DejaVuSans-6f\"/>\n      <use x=\"605.810547\" xlink:href=\"#DejaVuSans-6e\"/>\n      <use x=\"669.189453\" xlink:href=\"#DejaVuSans-74\"/>\n      <use x=\"708.398438\" xlink:href=\"#DejaVuSans-68\"/>\n      <use x=\"771.777344\" xlink:href=\"#DejaVuSans-73\"/>\n      <use x=\"823.876953\" xlink:href=\"#DejaVuSans-5f\"/>\n      <use x=\"873.876953\" xlink:href=\"#DejaVuSans-6d\"/>\n      <use x=\"971.289062\" xlink:href=\"#DejaVuSans-6f\"/>\n      <use x=\"1032.470703\" xlink:href=\"#DejaVuSans-76\"/>\n      <use x=\"1091.650391\" xlink:href=\"#DejaVuSans-69\"/>\n      <use x=\"1119.433594\" xlink:href=\"#DejaVuSans-65\"/>\n      <use x=\"1180.957031\" xlink:href=\"#DejaVuSans-5f\"/>\n      <use x=\"1230.957031\" xlink:href=\"#DejaVuSans-72\"/>\n      <use x=\"1272.070312\" xlink:href=\"#DejaVuSans-61\"/>\n      <use x=\"1333.349609\" xlink:href=\"#DejaVuSans-74\"/>\n      <use x=\"1372.558594\" xlink:href=\"#DejaVuSans-69\"/>\n      <use x=\"1400.341797\" xlink:href=\"#DejaVuSans-6e\"/>\n      <use x=\"1463.720703\" xlink:href=\"#DejaVuSans-67\"/>\n     </g>\n    </g>\n   </g>\n   <g id=\"patch_3\">\n    <path d=\"M 79.410125 281.721826 \nL 79.410125 9.921826 \n\" style=\"fill:none;stroke:#333333;stroke-linecap:square;stroke-linejoin:miter;stroke-width:0.8;\"/>\n   </g>\n   <g id=\"patch_4\">\n    <path d=\"M 79.410125 281.721826 \nL 414.210125 281.721826 \n\" style=\"fill:none;stroke:#333333;stroke-linecap:square;stroke-linejoin:miter;stroke-width:0.8;\"/>\n   </g>\n  </g>\n </g>\n</svg>\n",
      "image/png": "[encoded data removed]"
     },
     "metadata": {
      "needs_background": "light"
     }
    }
   ],
   "source": [
    "shap.dependence_plot(\"mean_6_months_movie_rating\", shap_values[1], X_test,interaction_index=None,alpha=0.1)"
   ]
  },
  {
   "source": [
    "Unlike the preview plot, there exist a direct relation between the mean of the rates in the last 6 months of a movie and the impact in the trend of having a high score"
   ],
   "cell_type": "markdown",
   "metadata": {}
  },
  {
   "cell_type": "code",
   "execution_count": 83,
   "metadata": {},
   "outputs": [
    {
     "output_type": "display_data",
     "data": {
      "text/plain": "<Figure size 432x360 with 1 Axes>",
      "image/svg+xml": "<?xml version=\"1.0\" encoding=\"utf-8\" standalone=\"no\"?>\n<!DOCTYPE svg PUBLIC \"-//W3C//DTD SVG 1.1//EN\"\n  \"http://www.w3.org/Graphics/SVG/1.1/DTD/svg11.dtd\">\n<svg height=\"320.789062pt\" version=\"1.1\" viewBox=\"0 0 414.411375 320.789062\" width=\"414.411375pt\" xmlns=\"http://www.w3.org/2000/svg\" xmlns:xlink=\"http://www.w3.org/1999/xlink\">\n <metadata>\n  <rdf:RDF xmlns:cc=\"http://creativecommons.org/ns#\" xmlns:dc=\"http://purl.org/dc/elements/1.1/\" xmlns:rdf=\"http://www.w3.org/1999/02/22-rdf-syntax-ns#\">\n   <cc:Work>\n    <dc:type rdf:resource=\"http://purl.org/dc/dcmitype/StillImage\"/>\n    <dc:date>2021-04-11T14:48:47.819002</dc:date>\n    <dc:format>image/svg+xml</dc:format>\n    <dc:creator>\n     <cc:Agent>\n      <dc:title>Matplotlib v3.4.1, https://matplotlib.org/</dc:title>\n     </cc:Agent>\n    </dc:creator>\n   </cc:Work>\n  </rdf:RDF>\n </metadata>\n <defs>\n  <style type=\"text/css\">*{stroke-linecap:butt;stroke-linejoin:round;}</style>\n </defs>\n <g id=\"figure_1\">\n  <g id=\"patch_1\">\n   <path d=\"M 0 320.789062 \nL 414.411375 320.789062 \nL 414.411375 0 \nL 0 0 \nz\n\" style=\"fill:none;\"/>\n  </g>\n  <g id=\"axes_1\">\n   <g id=\"patch_2\">\n    <path d=\"M 72.411375 279 \nL 407.211375 279 \nL 407.211375 7.2 \nL 72.411375 7.2 \nz\n\" style=\"fill:#ffffff;\"/>\n   </g>\n   <image height=\"252\" id=\"image7db10e784c\" transform=\"scale(1 -1)translate(0 -252)\" width=\"309\" x=\"86\" xlink:href=\"data:image/png;base64,\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\" y=\"-17\"/>\n   <g id=\"PathCollection_1\"/>\n   <g id=\"matplotlib.axis_1\">\n    <g id=\"xtick_1\">\n     <g id=\"line2d_1\">\n      <defs>\n       <path d=\"M 0 0 \nL 0 3.5 \n\" id=\"mfff74af1f2\" style=\"stroke:#333333;stroke-width:0.8;\"/>\n      </defs>\n      <g>\n       <use style=\"fill:#333333;stroke:#333333;stroke-width:0.8;\" x=\"111.042144\" xlink:href=\"#mfff74af1f2\" y=\"279\"/>\n      </g>\n     </g>\n     <g id=\"text_1\">\n      <!-- 1 -->\n      <g style=\"fill:#333333;\" transform=\"translate(107.542769 294.358281)scale(0.11 -0.11)\">\n       <defs>\n        <path d=\"M 794 531 \nL 1825 531 \nL 1825 4091 \nL 703 3866 \nL 703 4441 \nL 1819 4666 \nL 2450 4666 \nL 2450 531 \nL 3481 531 \nL 3481 0 \nL 794 0 \nL 794 531 \nz\n\" id=\"DejaVuSans-31\" transform=\"scale(0.015625)\"/>\n       </defs>\n       <use xlink:href=\"#DejaVuSans-31\"/>\n      </g>\n     </g>\n    </g>\n    <g id=\"xtick_2\">\n     <g id=\"line2d_2\">\n      <g>\n       <use style=\"fill:#333333;stroke:#333333;stroke-width:0.8;\" x=\"181.279906\" xlink:href=\"#mfff74af1f2\" y=\"279\"/>\n      </g>\n     </g>\n     <g id=\"text_2\">\n      <!-- 2 -->\n      <g style=\"fill:#333333;\" transform=\"translate(177.780531 294.358281)scale(0.11 -0.11)\">\n       <defs>\n        <path d=\"M 1228 531 \nL 3431 531 \nL 3431 0 \nL 469 0 \nL 469 531 \nQ 828 903 1448 1529 \nQ 2069 2156 2228 2338 \nQ 2531 2678 2651 2914 \nQ 2772 3150 2772 3378 \nQ 2772 3750 2511 3984 \nQ 2250 4219 1831 4219 \nQ 1534 4219 1204 4116 \nQ 875 4013 500 3803 \nL 500 4441 \nQ 881 4594 1212 4672 \nQ 1544 4750 1819 4750 \nQ 2544 4750 2975 4387 \nQ 3406 4025 3406 3419 \nQ 3406 3131 3298 2873 \nQ 3191 2616 2906 2266 \nQ 2828 2175 2409 1742 \nQ 1991 1309 1228 531 \nz\n\" id=\"DejaVuSans-32\" transform=\"scale(0.015625)\"/>\n       </defs>\n       <use xlink:href=\"#DejaVuSans-32\"/>\n      </g>\n     </g>\n    </g>\n    <g id=\"xtick_3\">\n     <g id=\"line2d_3\">\n      <g>\n       <use style=\"fill:#333333;stroke:#333333;stroke-width:0.8;\" x=\"251.517669\" xlink:href=\"#mfff74af1f2\" y=\"279\"/>\n      </g>\n     </g>\n     <g id=\"text_3\">\n      <!-- 3 -->\n      <g style=\"fill:#333333;\" transform=\"translate(248.018294 294.358281)scale(0.11 -0.11)\">\n       <defs>\n        <path d=\"M 2597 2516 \nQ 3050 2419 3304 2112 \nQ 3559 1806 3559 1356 \nQ 3559 666 3084 287 \nQ 2609 -91 1734 -91 \nQ 1441 -91 1130 -33 \nQ 819 25 488 141 \nL 488 750 \nQ 750 597 1062 519 \nQ 1375 441 1716 441 \nQ 2309 441 2620 675 \nQ 2931 909 2931 1356 \nQ 2931 1769 2642 2001 \nQ 2353 2234 1838 2234 \nL 1294 2234 \nL 1294 2753 \nL 1863 2753 \nQ 2328 2753 2575 2939 \nQ 2822 3125 2822 3475 \nQ 2822 3834 2567 4026 \nQ 2313 4219 1838 4219 \nQ 1578 4219 1281 4162 \nQ 984 4106 628 3988 \nL 628 4550 \nQ 988 4650 1302 4700 \nQ 1616 4750 1894 4750 \nQ 2613 4750 3031 4423 \nQ 3450 4097 3450 3541 \nQ 3450 3153 3228 2886 \nQ 3006 2619 2597 2516 \nz\n\" id=\"DejaVuSans-33\" transform=\"scale(0.015625)\"/>\n       </defs>\n       <use xlink:href=\"#DejaVuSans-33\"/>\n      </g>\n     </g>\n    </g>\n    <g id=\"xtick_4\">\n     <g id=\"line2d_4\">\n      <g>\n       <use style=\"fill:#333333;stroke:#333333;stroke-width:0.8;\" x=\"321.755431\" xlink:href=\"#mfff74af1f2\" y=\"279\"/>\n      </g>\n     </g>\n     <g id=\"text_4\">\n      <!-- 4 -->\n      <g style=\"fill:#333333;\" transform=\"translate(318.256056 294.358281)scale(0.11 -0.11)\">\n       <defs>\n        <path d=\"M 2419 4116 \nL 825 1625 \nL 2419 1625 \nL 2419 4116 \nz\nM 2253 4666 \nL 3047 4666 \nL 3047 1625 \nL 3713 1625 \nL 3713 1100 \nL 3047 1100 \nL 3047 0 \nL 2419 0 \nL 2419 1100 \nL 313 1100 \nL 313 1709 \nL 2253 4666 \nz\n\" id=\"DejaVuSans-34\" transform=\"scale(0.015625)\"/>\n       </defs>\n       <use xlink:href=\"#DejaVuSans-34\"/>\n      </g>\n     </g>\n    </g>\n    <g id=\"xtick_5\">\n     <g id=\"line2d_5\">\n      <g>\n       <use style=\"fill:#333333;stroke:#333333;stroke-width:0.8;\" x=\"391.993193\" xlink:href=\"#mfff74af1f2\" y=\"279\"/>\n      </g>\n     </g>\n     <g id=\"text_5\">\n      <!-- 5 -->\n      <g style=\"fill:#333333;\" transform=\"translate(388.493818 294.358281)scale(0.11 -0.11)\">\n       <defs>\n        <path d=\"M 691 4666 \nL 3169 4666 \nL 3169 4134 \nL 1269 4134 \nL 1269 2991 \nQ 1406 3038 1543 3061 \nQ 1681 3084 1819 3084 \nQ 2600 3084 3056 2656 \nQ 3513 2228 3513 1497 \nQ 3513 744 3044 326 \nQ 2575 -91 1722 -91 \nQ 1428 -91 1123 -41 \nQ 819 9 494 109 \nL 494 744 \nQ 775 591 1075 516 \nQ 1375 441 1709 441 \nQ 2250 441 2565 725 \nQ 2881 1009 2881 1497 \nQ 2881 1984 2565 2268 \nQ 2250 2553 1709 2553 \nQ 1456 2553 1204 2497 \nQ 953 2441 691 2322 \nL 691 4666 \nz\n\" id=\"DejaVuSans-35\" transform=\"scale(0.015625)\"/>\n       </defs>\n       <use xlink:href=\"#DejaVuSans-35\"/>\n      </g>\n     </g>\n    </g>\n    <g id=\"text_6\">\n     <!-- mean_3_months_movie_rating -->\n     <g style=\"fill:#333333;\" transform=\"translate(140.544187 310.523906)scale(0.13 -0.13)\">\n      <defs>\n       <path d=\"M 3328 2828 \nQ 3544 3216 3844 3400 \nQ 4144 3584 4550 3584 \nQ 5097 3584 5394 3201 \nQ 5691 2819 5691 2113 \nL 5691 0 \nL 5113 0 \nL 5113 2094 \nQ 5113 2597 4934 2840 \nQ 4756 3084 4391 3084 \nQ 3944 3084 3684 2787 \nQ 3425 2491 3425 1978 \nL 3425 0 \nL 2847 0 \nL 2847 2094 \nQ 2847 2600 2669 2842 \nQ 2491 3084 2119 3084 \nQ 1678 3084 1418 2786 \nQ 1159 2488 1159 1978 \nL 1159 0 \nL 581 0 \nL 581 3500 \nL 1159 3500 \nL 1159 2956 \nQ 1356 3278 1631 3431 \nQ 1906 3584 2284 3584 \nQ 2666 3584 2933 3390 \nQ 3200 3197 3328 2828 \nz\n\" id=\"DejaVuSans-6d\" transform=\"scale(0.015625)\"/>\n       <path d=\"M 3597 1894 \nL 3597 1613 \nL 953 1613 \nQ 991 1019 1311 708 \nQ 1631 397 2203 397 \nQ 2534 397 2845 478 \nQ 3156 559 3463 722 \nL 3463 178 \nQ 3153 47 2828 -22 \nQ 2503 -91 2169 -91 \nQ 1331 -91 842 396 \nQ 353 884 353 1716 \nQ 353 2575 817 3079 \nQ 1281 3584 2069 3584 \nQ 2775 3584 3186 3129 \nQ 3597 2675 3597 1894 \nz\nM 3022 2063 \nQ 3016 2534 2758 2815 \nQ 2500 3097 2075 3097 \nQ 1594 3097 1305 2825 \nQ 1016 2553 972 2059 \nL 3022 2063 \nz\n\" id=\"DejaVuSans-65\" transform=\"scale(0.015625)\"/>\n       <path d=\"M 2194 1759 \nQ 1497 1759 1228 1600 \nQ 959 1441 959 1056 \nQ 959 750 1161 570 \nQ 1363 391 1709 391 \nQ 2188 391 2477 730 \nQ 2766 1069 2766 1631 \nL 2766 1759 \nL 2194 1759 \nz\nM 3341 1997 \nL 3341 0 \nL 2766 0 \nL 2766 531 \nQ 2569 213 2275 61 \nQ 1981 -91 1556 -91 \nQ 1019 -91 701 211 \nQ 384 513 384 1019 \nQ 384 1609 779 1909 \nQ 1175 2209 1959 2209 \nL 2766 2209 \nL 2766 2266 \nQ 2766 2663 2505 2880 \nQ 2244 3097 1772 3097 \nQ 1472 3097 1187 3025 \nQ 903 2953 641 2809 \nL 641 3341 \nQ 956 3463 1253 3523 \nQ 1550 3584 1831 3584 \nQ 2591 3584 2966 3190 \nQ 3341 2797 3341 1997 \nz\n\" id=\"DejaVuSans-61\" transform=\"scale(0.015625)\"/>\n       <path d=\"M 3513 2113 \nL 3513 0 \nL 2938 0 \nL 2938 2094 \nQ 2938 2591 2744 2837 \nQ 2550 3084 2163 3084 \nQ 1697 3084 1428 2787 \nQ 1159 2491 1159 1978 \nL 1159 0 \nL 581 0 \nL 581 3500 \nL 1159 3500 \nL 1159 2956 \nQ 1366 3272 1645 3428 \nQ 1925 3584 2291 3584 \nQ 2894 3584 3203 3211 \nQ 3513 2838 3513 2113 \nz\n\" id=\"DejaVuSans-6e\" transform=\"scale(0.015625)\"/>\n       <path d=\"M 3263 -1063 \nL 3263 -1509 \nL -63 -1509 \nL -63 -1063 \nL 3263 -1063 \nz\n\" id=\"DejaVuSans-5f\" transform=\"scale(0.015625)\"/>\n       <path d=\"M 1959 3097 \nQ 1497 3097 1228 2736 \nQ 959 2375 959 1747 \nQ 959 1119 1226 758 \nQ 1494 397 1959 397 \nQ 2419 397 2687 759 \nQ 2956 1122 2956 1747 \nQ 2956 2369 2687 2733 \nQ 2419 3097 1959 3097 \nz\nM 1959 3584 \nQ 2709 3584 3137 3096 \nQ 3566 2609 3566 1747 \nQ 3566 888 3137 398 \nQ 2709 -91 1959 -91 \nQ 1206 -91 779 398 \nQ 353 888 353 1747 \nQ 353 2609 779 3096 \nQ 1206 3584 1959 3584 \nz\n\" id=\"DejaVuSans-6f\" transform=\"scale(0.015625)\"/>\n       <path d=\"M 1172 4494 \nL 1172 3500 \nL 2356 3500 \nL 2356 3053 \nL 1172 3053 \nL 1172 1153 \nQ 1172 725 1289 603 \nQ 1406 481 1766 481 \nL 2356 481 \nL 2356 0 \nL 1766 0 \nQ 1100 0 847 248 \nQ 594 497 594 1153 \nL 594 3053 \nL 172 3053 \nL 172 3500 \nL 594 3500 \nL 594 4494 \nL 1172 4494 \nz\n\" id=\"DejaVuSans-74\" transform=\"scale(0.015625)\"/>\n       <path d=\"M 3513 2113 \nL 3513 0 \nL 2938 0 \nL 2938 2094 \nQ 2938 2591 2744 2837 \nQ 2550 3084 2163 3084 \nQ 1697 3084 1428 2787 \nQ 1159 2491 1159 1978 \nL 1159 0 \nL 581 0 \nL 581 4863 \nL 1159 4863 \nL 1159 2956 \nQ 1366 3272 1645 3428 \nQ 1925 3584 2291 3584 \nQ 2894 3584 3203 3211 \nQ 3513 2838 3513 2113 \nz\n\" id=\"DejaVuSans-68\" transform=\"scale(0.015625)\"/>\n       <path d=\"M 2834 3397 \nL 2834 2853 \nQ 2591 2978 2328 3040 \nQ 2066 3103 1784 3103 \nQ 1356 3103 1142 2972 \nQ 928 2841 928 2578 \nQ 928 2378 1081 2264 \nQ 1234 2150 1697 2047 \nL 1894 2003 \nQ 2506 1872 2764 1633 \nQ 3022 1394 3022 966 \nQ 3022 478 2636 193 \nQ 2250 -91 1575 -91 \nQ 1294 -91 989 -36 \nQ 684 19 347 128 \nL 347 722 \nQ 666 556 975 473 \nQ 1284 391 1588 391 \nQ 1994 391 2212 530 \nQ 2431 669 2431 922 \nQ 2431 1156 2273 1281 \nQ 2116 1406 1581 1522 \nL 1381 1569 \nQ 847 1681 609 1914 \nQ 372 2147 372 2553 \nQ 372 3047 722 3315 \nQ 1072 3584 1716 3584 \nQ 2034 3584 2315 3537 \nQ 2597 3491 2834 3397 \nz\n\" id=\"DejaVuSans-73\" transform=\"scale(0.015625)\"/>\n       <path d=\"M 191 3500 \nL 800 3500 \nL 1894 563 \nL 2988 3500 \nL 3597 3500 \nL 2284 0 \nL 1503 0 \nL 191 3500 \nz\n\" id=\"DejaVuSans-76\" transform=\"scale(0.015625)\"/>\n       <path d=\"M 603 3500 \nL 1178 3500 \nL 1178 0 \nL 603 0 \nL 603 3500 \nz\nM 603 4863 \nL 1178 4863 \nL 1178 4134 \nL 603 4134 \nL 603 4863 \nz\n\" id=\"DejaVuSans-69\" transform=\"scale(0.015625)\"/>\n       <path d=\"M 2631 2963 \nQ 2534 3019 2420 3045 \nQ 2306 3072 2169 3072 \nQ 1681 3072 1420 2755 \nQ 1159 2438 1159 1844 \nL 1159 0 \nL 581 0 \nL 581 3500 \nL 1159 3500 \nL 1159 2956 \nQ 1341 3275 1631 3429 \nQ 1922 3584 2338 3584 \nQ 2397 3584 2469 3576 \nQ 2541 3569 2628 3553 \nL 2631 2963 \nz\n\" id=\"DejaVuSans-72\" transform=\"scale(0.015625)\"/>\n       <path d=\"M 2906 1791 \nQ 2906 2416 2648 2759 \nQ 2391 3103 1925 3103 \nQ 1463 3103 1205 2759 \nQ 947 2416 947 1791 \nQ 947 1169 1205 825 \nQ 1463 481 1925 481 \nQ 2391 481 2648 825 \nQ 2906 1169 2906 1791 \nz\nM 3481 434 \nQ 3481 -459 3084 -895 \nQ 2688 -1331 1869 -1331 \nQ 1566 -1331 1297 -1286 \nQ 1028 -1241 775 -1147 \nL 775 -588 \nQ 1028 -725 1275 -790 \nQ 1522 -856 1778 -856 \nQ 2344 -856 2625 -561 \nQ 2906 -266 2906 331 \nL 2906 616 \nQ 2728 306 2450 153 \nQ 2172 0 1784 0 \nQ 1141 0 747 490 \nQ 353 981 353 1791 \nQ 353 2603 747 3093 \nQ 1141 3584 1784 3584 \nQ 2172 3584 2450 3431 \nQ 2728 3278 2906 2969 \nL 2906 3500 \nL 3481 3500 \nL 3481 434 \nz\n\" id=\"DejaVuSans-67\" transform=\"scale(0.015625)\"/>\n      </defs>\n      <use xlink:href=\"#DejaVuSans-6d\"/>\n      <use x=\"97.412109\" xlink:href=\"#DejaVuSans-65\"/>\n      <use x=\"158.935547\" xlink:href=\"#DejaVuSans-61\"/>\n      <use x=\"220.214844\" xlink:href=\"#DejaVuSans-6e\"/>\n      <use x=\"283.59375\" xlink:href=\"#DejaVuSans-5f\"/>\n      <use x=\"333.59375\" xlink:href=\"#DejaVuSans-33\"/>\n      <use x=\"397.216797\" xlink:href=\"#DejaVuSans-5f\"/>\n      <use x=\"447.216797\" xlink:href=\"#DejaVuSans-6d\"/>\n      <use x=\"544.628906\" xlink:href=\"#DejaVuSans-6f\"/>\n      <use x=\"605.810547\" xlink:href=\"#DejaVuSans-6e\"/>\n      <use x=\"669.189453\" xlink:href=\"#DejaVuSans-74\"/>\n      <use x=\"708.398438\" xlink:href=\"#DejaVuSans-68\"/>\n      <use x=\"771.777344\" xlink:href=\"#DejaVuSans-73\"/>\n      <use x=\"823.876953\" xlink:href=\"#DejaVuSans-5f\"/>\n      <use x=\"873.876953\" xlink:href=\"#DejaVuSans-6d\"/>\n      <use x=\"971.289062\" xlink:href=\"#DejaVuSans-6f\"/>\n      <use x=\"1032.470703\" xlink:href=\"#DejaVuSans-76\"/>\n      <use x=\"1091.650391\" xlink:href=\"#DejaVuSans-69\"/>\n      <use x=\"1119.433594\" xlink:href=\"#DejaVuSans-65\"/>\n      <use x=\"1180.957031\" xlink:href=\"#DejaVuSans-5f\"/>\n      <use x=\"1230.957031\" xlink:href=\"#DejaVuSans-72\"/>\n      <use x=\"1272.070312\" xlink:href=\"#DejaVuSans-61\"/>\n      <use x=\"1333.349609\" xlink:href=\"#DejaVuSans-74\"/>\n      <use x=\"1372.558594\" xlink:href=\"#DejaVuSans-69\"/>\n      <use x=\"1400.341797\" xlink:href=\"#DejaVuSans-6e\"/>\n      <use x=\"1463.720703\" xlink:href=\"#DejaVuSans-67\"/>\n     </g>\n    </g>\n   </g>\n   <g id=\"matplotlib.axis_2\">\n    <g id=\"ytick_1\">\n     <g id=\"line2d_6\">\n      <defs>\n       <path d=\"M 0 0 \nL -3.5 0 \n\" id=\"m8820414175\" style=\"stroke:#333333;stroke-width:0.8;\"/>\n      </defs>\n      <g>\n       <use style=\"fill:#333333;stroke:#333333;stroke-width:0.8;\" x=\"72.411375\" xlink:href=\"#m8820414175\" y=\"274.642413\"/>\n      </g>\n     </g>\n     <g id=\"text_7\">\n      <!-- −1.0 -->\n      <g style=\"fill:#333333;\" transform=\"translate(38.700281 278.821554)scale(0.11 -0.11)\">\n       <defs>\n        <path d=\"M 678 2272 \nL 4684 2272 \nL 4684 1741 \nL 678 1741 \nL 678 2272 \nz\n\" id=\"DejaVuSans-2212\" transform=\"scale(0.015625)\"/>\n        <path d=\"M 684 794 \nL 1344 794 \nL 1344 0 \nL 684 0 \nL 684 794 \nz\n\" id=\"DejaVuSans-2e\" transform=\"scale(0.015625)\"/>\n        <path d=\"M 2034 4250 \nQ 1547 4250 1301 3770 \nQ 1056 3291 1056 2328 \nQ 1056 1369 1301 889 \nQ 1547 409 2034 409 \nQ 2525 409 2770 889 \nQ 3016 1369 3016 2328 \nQ 3016 3291 2770 3770 \nQ 2525 4250 2034 4250 \nz\nM 2034 4750 \nQ 2819 4750 3233 4129 \nQ 3647 3509 3647 2328 \nQ 3647 1150 3233 529 \nQ 2819 -91 2034 -91 \nQ 1250 -91 836 529 \nQ 422 1150 422 2328 \nQ 422 3509 836 4129 \nQ 1250 4750 2034 4750 \nz\n\" id=\"DejaVuSans-30\" transform=\"scale(0.015625)\"/>\n       </defs>\n       <use xlink:href=\"#DejaVuSans-2212\"/>\n       <use x=\"83.789062\" xlink:href=\"#DejaVuSans-31\"/>\n       <use x=\"147.412109\" xlink:href=\"#DejaVuSans-2e\"/>\n       <use x=\"179.199219\" xlink:href=\"#DejaVuSans-30\"/>\n      </g>\n     </g>\n    </g>\n    <g id=\"ytick_2\">\n     <g id=\"line2d_7\">\n      <g>\n       <use style=\"fill:#333333;stroke:#333333;stroke-width:0.8;\" x=\"72.411375\" xlink:href=\"#m8820414175\" y=\"240.651976\"/>\n      </g>\n     </g>\n     <g id=\"text_8\">\n      <!-- −0.8 -->\n      <g style=\"fill:#333333;\" transform=\"translate(38.700281 244.831117)scale(0.11 -0.11)\">\n       <defs>\n        <path d=\"M 2034 2216 \nQ 1584 2216 1326 1975 \nQ 1069 1734 1069 1313 \nQ 1069 891 1326 650 \nQ 1584 409 2034 409 \nQ 2484 409 2743 651 \nQ 3003 894 3003 1313 \nQ 3003 1734 2745 1975 \nQ 2488 2216 2034 2216 \nz\nM 1403 2484 \nQ 997 2584 770 2862 \nQ 544 3141 544 3541 \nQ 544 4100 942 4425 \nQ 1341 4750 2034 4750 \nQ 2731 4750 3128 4425 \nQ 3525 4100 3525 3541 \nQ 3525 3141 3298 2862 \nQ 3072 2584 2669 2484 \nQ 3125 2378 3379 2068 \nQ 3634 1759 3634 1313 \nQ 3634 634 3220 271 \nQ 2806 -91 2034 -91 \nQ 1263 -91 848 271 \nQ 434 634 434 1313 \nQ 434 1759 690 2068 \nQ 947 2378 1403 2484 \nz\nM 1172 3481 \nQ 1172 3119 1398 2916 \nQ 1625 2713 2034 2713 \nQ 2441 2713 2670 2916 \nQ 2900 3119 2900 3481 \nQ 2900 3844 2670 4047 \nQ 2441 4250 2034 4250 \nQ 1625 4250 1398 4047 \nQ 1172 3844 1172 3481 \nz\n\" id=\"DejaVuSans-38\" transform=\"scale(0.015625)\"/>\n       </defs>\n       <use xlink:href=\"#DejaVuSans-2212\"/>\n       <use x=\"83.789062\" xlink:href=\"#DejaVuSans-30\"/>\n       <use x=\"147.412109\" xlink:href=\"#DejaVuSans-2e\"/>\n       <use x=\"179.199219\" xlink:href=\"#DejaVuSans-38\"/>\n      </g>\n     </g>\n    </g>\n    <g id=\"ytick_3\">\n     <g id=\"line2d_8\">\n      <g>\n       <use style=\"fill:#333333;stroke:#333333;stroke-width:0.8;\" x=\"72.411375\" xlink:href=\"#m8820414175\" y=\"206.661539\"/>\n      </g>\n     </g>\n     <g id=\"text_9\">\n      <!-- −0.6 -->\n      <g style=\"fill:#333333;\" transform=\"translate(38.700281 210.84068)scale(0.11 -0.11)\">\n       <defs>\n        <path d=\"M 2113 2584 \nQ 1688 2584 1439 2293 \nQ 1191 2003 1191 1497 \nQ 1191 994 1439 701 \nQ 1688 409 2113 409 \nQ 2538 409 2786 701 \nQ 3034 994 3034 1497 \nQ 3034 2003 2786 2293 \nQ 2538 2584 2113 2584 \nz\nM 3366 4563 \nL 3366 3988 \nQ 3128 4100 2886 4159 \nQ 2644 4219 2406 4219 \nQ 1781 4219 1451 3797 \nQ 1122 3375 1075 2522 \nQ 1259 2794 1537 2939 \nQ 1816 3084 2150 3084 \nQ 2853 3084 3261 2657 \nQ 3669 2231 3669 1497 \nQ 3669 778 3244 343 \nQ 2819 -91 2113 -91 \nQ 1303 -91 875 529 \nQ 447 1150 447 2328 \nQ 447 3434 972 4092 \nQ 1497 4750 2381 4750 \nQ 2619 4750 2861 4703 \nQ 3103 4656 3366 4563 \nz\n\" id=\"DejaVuSans-36\" transform=\"scale(0.015625)\"/>\n       </defs>\n       <use xlink:href=\"#DejaVuSans-2212\"/>\n       <use x=\"83.789062\" xlink:href=\"#DejaVuSans-30\"/>\n       <use x=\"147.412109\" xlink:href=\"#DejaVuSans-2e\"/>\n       <use x=\"179.199219\" xlink:href=\"#DejaVuSans-36\"/>\n      </g>\n     </g>\n    </g>\n    <g id=\"ytick_4\">\n     <g id=\"line2d_9\">\n      <g>\n       <use style=\"fill:#333333;stroke:#333333;stroke-width:0.8;\" x=\"72.411375\" xlink:href=\"#m8820414175\" y=\"172.671102\"/>\n      </g>\n     </g>\n     <g id=\"text_10\">\n      <!-- −0.4 -->\n      <g style=\"fill:#333333;\" transform=\"translate(38.700281 176.850243)scale(0.11 -0.11)\">\n       <use xlink:href=\"#DejaVuSans-2212\"/>\n       <use x=\"83.789062\" xlink:href=\"#DejaVuSans-30\"/>\n       <use x=\"147.412109\" xlink:href=\"#DejaVuSans-2e\"/>\n       <use x=\"179.199219\" xlink:href=\"#DejaVuSans-34\"/>\n      </g>\n     </g>\n    </g>\n    <g id=\"ytick_5\">\n     <g id=\"line2d_10\">\n      <g>\n       <use style=\"fill:#333333;stroke:#333333;stroke-width:0.8;\" x=\"72.411375\" xlink:href=\"#m8820414175\" y=\"138.680665\"/>\n      </g>\n     </g>\n     <g id=\"text_11\">\n      <!-- −0.2 -->\n      <g style=\"fill:#333333;\" transform=\"translate(38.700281 142.859806)scale(0.11 -0.11)\">\n       <use xlink:href=\"#DejaVuSans-2212\"/>\n       <use x=\"83.789062\" xlink:href=\"#DejaVuSans-30\"/>\n       <use x=\"147.412109\" xlink:href=\"#DejaVuSans-2e\"/>\n       <use x=\"179.199219\" xlink:href=\"#DejaVuSans-32\"/>\n      </g>\n     </g>\n    </g>\n    <g id=\"ytick_6\">\n     <g id=\"line2d_11\">\n      <g>\n       <use style=\"fill:#333333;stroke:#333333;stroke-width:0.8;\" x=\"72.411375\" xlink:href=\"#m8820414175\" y=\"104.690228\"/>\n      </g>\n     </g>\n     <g id=\"text_12\">\n      <!-- 0.0 -->\n      <g style=\"fill:#333333;\" transform=\"translate(47.917938 108.869369)scale(0.11 -0.11)\">\n       <use xlink:href=\"#DejaVuSans-30\"/>\n       <use x=\"63.623047\" xlink:href=\"#DejaVuSans-2e\"/>\n       <use x=\"95.410156\" xlink:href=\"#DejaVuSans-30\"/>\n      </g>\n     </g>\n    </g>\n    <g id=\"ytick_7\">\n     <g id=\"line2d_12\">\n      <g>\n       <use style=\"fill:#333333;stroke:#333333;stroke-width:0.8;\" x=\"72.411375\" xlink:href=\"#m8820414175\" y=\"70.699791\"/>\n      </g>\n     </g>\n     <g id=\"text_13\">\n      <!-- 0.2 -->\n      <g style=\"fill:#333333;\" transform=\"translate(47.917938 74.878932)scale(0.11 -0.11)\">\n       <use xlink:href=\"#DejaVuSans-30\"/>\n       <use x=\"63.623047\" xlink:href=\"#DejaVuSans-2e\"/>\n       <use x=\"95.410156\" xlink:href=\"#DejaVuSans-32\"/>\n      </g>\n     </g>\n    </g>\n    <g id=\"ytick_8\">\n     <g id=\"line2d_13\">\n      <g>\n       <use style=\"fill:#333333;stroke:#333333;stroke-width:0.8;\" x=\"72.411375\" xlink:href=\"#m8820414175\" y=\"36.709354\"/>\n      </g>\n     </g>\n     <g id=\"text_14\">\n      <!-- 0.4 -->\n      <g style=\"fill:#333333;\" transform=\"translate(47.917938 40.888495)scale(0.11 -0.11)\">\n       <use xlink:href=\"#DejaVuSans-30\"/>\n       <use x=\"63.623047\" xlink:href=\"#DejaVuSans-2e\"/>\n       <use x=\"95.410156\" xlink:href=\"#DejaVuSans-34\"/>\n      </g>\n     </g>\n    </g>\n    <g id=\"text_15\">\n     <!-- SHAP value for -->\n     <g style=\"fill:#333333;\" transform=\"translate(17.077969 191.304609)rotate(-90)scale(0.13 -0.13)\">\n      <defs>\n       <path d=\"M 3425 4513 \nL 3425 3897 \nQ 3066 4069 2747 4153 \nQ 2428 4238 2131 4238 \nQ 1616 4238 1336 4038 \nQ 1056 3838 1056 3469 \nQ 1056 3159 1242 3001 \nQ 1428 2844 1947 2747 \nL 2328 2669 \nQ 3034 2534 3370 2195 \nQ 3706 1856 3706 1288 \nQ 3706 609 3251 259 \nQ 2797 -91 1919 -91 \nQ 1588 -91 1214 -16 \nQ 841 59 441 206 \nL 441 856 \nQ 825 641 1194 531 \nQ 1563 422 1919 422 \nQ 2459 422 2753 634 \nQ 3047 847 3047 1241 \nQ 3047 1584 2836 1778 \nQ 2625 1972 2144 2069 \nL 1759 2144 \nQ 1053 2284 737 2584 \nQ 422 2884 422 3419 \nQ 422 4038 858 4394 \nQ 1294 4750 2059 4750 \nQ 2388 4750 2728 4690 \nQ 3069 4631 3425 4513 \nz\n\" id=\"DejaVuSans-53\" transform=\"scale(0.015625)\"/>\n       <path d=\"M 628 4666 \nL 1259 4666 \nL 1259 2753 \nL 3553 2753 \nL 3553 4666 \nL 4184 4666 \nL 4184 0 \nL 3553 0 \nL 3553 2222 \nL 1259 2222 \nL 1259 0 \nL 628 0 \nL 628 4666 \nz\n\" id=\"DejaVuSans-48\" transform=\"scale(0.015625)\"/>\n       <path d=\"M 2188 4044 \nL 1331 1722 \nL 3047 1722 \nL 2188 4044 \nz\nM 1831 4666 \nL 2547 4666 \nL 4325 0 \nL 3669 0 \nL 3244 1197 \nL 1141 1197 \nL 716 0 \nL 50 0 \nL 1831 4666 \nz\n\" id=\"DejaVuSans-41\" transform=\"scale(0.015625)\"/>\n       <path d=\"M 1259 4147 \nL 1259 2394 \nL 2053 2394 \nQ 2494 2394 2734 2622 \nQ 2975 2850 2975 3272 \nQ 2975 3691 2734 3919 \nQ 2494 4147 2053 4147 \nL 1259 4147 \nz\nM 628 4666 \nL 2053 4666 \nQ 2838 4666 3239 4311 \nQ 3641 3956 3641 3272 \nQ 3641 2581 3239 2228 \nQ 2838 1875 2053 1875 \nL 1259 1875 \nL 1259 0 \nL 628 0 \nL 628 4666 \nz\n\" id=\"DejaVuSans-50\" transform=\"scale(0.015625)\"/>\n       <path id=\"DejaVuSans-20\" transform=\"scale(0.015625)\"/>\n       <path d=\"M 603 4863 \nL 1178 4863 \nL 1178 0 \nL 603 0 \nL 603 4863 \nz\n\" id=\"DejaVuSans-6c\" transform=\"scale(0.015625)\"/>\n       <path d=\"M 544 1381 \nL 544 3500 \nL 1119 3500 \nL 1119 1403 \nQ 1119 906 1312 657 \nQ 1506 409 1894 409 \nQ 2359 409 2629 706 \nQ 2900 1003 2900 1516 \nL 2900 3500 \nL 3475 3500 \nL 3475 0 \nL 2900 0 \nL 2900 538 \nQ 2691 219 2414 64 \nQ 2138 -91 1772 -91 \nQ 1169 -91 856 284 \nQ 544 659 544 1381 \nz\nM 1991 3584 \nL 1991 3584 \nz\n\" id=\"DejaVuSans-75\" transform=\"scale(0.015625)\"/>\n       <path d=\"M 2375 4863 \nL 2375 4384 \nL 1825 4384 \nQ 1516 4384 1395 4259 \nQ 1275 4134 1275 3809 \nL 1275 3500 \nL 2222 3500 \nL 2222 3053 \nL 1275 3053 \nL 1275 0 \nL 697 0 \nL 697 3053 \nL 147 3053 \nL 147 3500 \nL 697 3500 \nL 697 3744 \nQ 697 4328 969 4595 \nQ 1241 4863 1831 4863 \nL 2375 4863 \nz\n\" id=\"DejaVuSans-66\" transform=\"scale(0.015625)\"/>\n      </defs>\n      <use xlink:href=\"#DejaVuSans-53\"/>\n      <use x=\"63.476562\" xlink:href=\"#DejaVuSans-48\"/>\n      <use x=\"138.671875\" xlink:href=\"#DejaVuSans-41\"/>\n      <use x=\"207.080078\" xlink:href=\"#DejaVuSans-50\"/>\n      <use x=\"267.382812\" xlink:href=\"#DejaVuSans-20\"/>\n      <use x=\"299.169922\" xlink:href=\"#DejaVuSans-76\"/>\n      <use x=\"358.349609\" xlink:href=\"#DejaVuSans-61\"/>\n      <use x=\"419.628906\" xlink:href=\"#DejaVuSans-6c\"/>\n      <use x=\"447.412109\" xlink:href=\"#DejaVuSans-75\"/>\n      <use x=\"510.791016\" xlink:href=\"#DejaVuSans-65\"/>\n      <use x=\"572.314453\" xlink:href=\"#DejaVuSans-20\"/>\n      <use x=\"604.101562\" xlink:href=\"#DejaVuSans-66\"/>\n      <use x=\"639.306641\" xlink:href=\"#DejaVuSans-6f\"/>\n      <use x=\"700.488281\" xlink:href=\"#DejaVuSans-72\"/>\n     </g>\n     <!-- mean_3_months_movie_rating -->\n     <g style=\"fill:#333333;\" transform=\"translate(31.635125 242.367188)rotate(-90)scale(0.13 -0.13)\">\n      <use xlink:href=\"#DejaVuSans-6d\"/>\n      <use x=\"97.412109\" xlink:href=\"#DejaVuSans-65\"/>\n      <use x=\"158.935547\" xlink:href=\"#DejaVuSans-61\"/>\n      <use x=\"220.214844\" xlink:href=\"#DejaVuSans-6e\"/>\n      <use x=\"283.59375\" xlink:href=\"#DejaVuSans-5f\"/>\n      <use x=\"333.59375\" xlink:href=\"#DejaVuSans-33\"/>\n      <use x=\"397.216797\" xlink:href=\"#DejaVuSans-5f\"/>\n      <use x=\"447.216797\" xlink:href=\"#DejaVuSans-6d\"/>\n      <use x=\"544.628906\" xlink:href=\"#DejaVuSans-6f\"/>\n      <use x=\"605.810547\" xlink:href=\"#DejaVuSans-6e\"/>\n      <use x=\"669.189453\" xlink:href=\"#DejaVuSans-74\"/>\n      <use x=\"708.398438\" xlink:href=\"#DejaVuSans-68\"/>\n      <use x=\"771.777344\" xlink:href=\"#DejaVuSans-73\"/>\n      <use x=\"823.876953\" xlink:href=\"#DejaVuSans-5f\"/>\n      <use x=\"873.876953\" xlink:href=\"#DejaVuSans-6d\"/>\n      <use x=\"971.289062\" xlink:href=\"#DejaVuSans-6f\"/>\n      <use x=\"1032.470703\" xlink:href=\"#DejaVuSans-76\"/>\n      <use x=\"1091.650391\" xlink:href=\"#DejaVuSans-69\"/>\n      <use x=\"1119.433594\" xlink:href=\"#DejaVuSans-65\"/>\n      <use x=\"1180.957031\" xlink:href=\"#DejaVuSans-5f\"/>\n      <use x=\"1230.957031\" xlink:href=\"#DejaVuSans-72\"/>\n      <use x=\"1272.070312\" xlink:href=\"#DejaVuSans-61\"/>\n      <use x=\"1333.349609\" xlink:href=\"#DejaVuSans-74\"/>\n      <use x=\"1372.558594\" xlink:href=\"#DejaVuSans-69\"/>\n      <use x=\"1400.341797\" xlink:href=\"#DejaVuSans-6e\"/>\n      <use x=\"1463.720703\" xlink:href=\"#DejaVuSans-67\"/>\n     </g>\n    </g>\n   </g>\n   <g id=\"patch_3\">\n    <path d=\"M 72.411375 279 \nL 72.411375 7.2 \n\" style=\"fill:none;stroke:#333333;stroke-linecap:square;stroke-linejoin:miter;stroke-width:0.8;\"/>\n   </g>\n   <g id=\"patch_4\">\n    <path d=\"M 72.411375 279 \nL 407.211375 279 \n\" style=\"fill:none;stroke:#333333;stroke-linecap:square;stroke-linejoin:miter;stroke-width:0.8;\"/>\n   </g>\n  </g>\n </g>\n</svg>\n",
      "image/png": "[encoded data removed]"
     },
     "metadata": {
      "needs_background": "light"
     }
    }
   ],
   "source": [
    "shap.dependence_plot(\"mean_3_months_movie_rating\", shap_values[1], X_test,interaction_index=None,alpha=0.1)"
   ]
  },
  {
   "source": [
    "\n",
    "There exist a direct relation between the mean of the rates in the last 3 months of a movie and the impact in the trend of having a high score, but for lesser scores, the impact stops to meaningful for the prediction."
   ],
   "cell_type": "markdown",
   "metadata": {}
  },
  {
   "cell_type": "code",
   "execution_count": 88,
   "metadata": {},
   "outputs": [
    {
     "output_type": "display_data",
     "data": {
      "text/plain": "<Figure size 432x360 with 1 Axes>",
      "image/svg+xml": "<?xml version=\"1.0\" encoding=\"utf-8\" standalone=\"no\"?>\n<!DOCTYPE svg PUBLIC \"-//W3C//DTD SVG 1.1//EN\"\n  \"http://www.w3.org/Graphics/SVG/1.1/DTD/svg11.dtd\">\n<svg height=\"320.789062pt\" version=\"1.1\" viewBox=\"0 0 421.410125 320.789062\" width=\"421.410125pt\" xmlns=\"http://www.w3.org/2000/svg\" xmlns:xlink=\"http://www.w3.org/1999/xlink\">\n <metadata>\n  <rdf:RDF xmlns:cc=\"http://creativecommons.org/ns#\" xmlns:dc=\"http://purl.org/dc/elements/1.1/\" xmlns:rdf=\"http://www.w3.org/1999/02/22-rdf-syntax-ns#\">\n   <cc:Work>\n    <dc:type rdf:resource=\"http://purl.org/dc/dcmitype/StillImage\"/>\n    <dc:date>2021-04-11T14:50:24.713894</dc:date>\n    <dc:format>image/svg+xml</dc:format>\n    <dc:creator>\n     <cc:Agent>\n      <dc:title>Matplotlib v3.4.1, https://matplotlib.org/</dc:title>\n     </cc:Agent>\n    </dc:creator>\n   </cc:Work>\n  </rdf:RDF>\n </metadata>\n <defs>\n  <style type=\"text/css\">*{stroke-linecap:butt;stroke-linejoin:round;}</style>\n </defs>\n <g id=\"figure_1\">\n  <g id=\"patch_1\">\n   <path d=\"M 0 320.789062 \nL 421.410125 320.789062 \nL 421.410125 0 \nL 0 0 \nz\n\" style=\"fill:none;\"/>\n  </g>\n  <g id=\"axes_1\">\n   <g id=\"patch_2\">\n    <path d=\"M 79.410125 279 \nL 414.210125 279 \nL 414.210125 7.2 \nL 79.410125 7.2 \nz\n\" style=\"fill:#ffffff;\"/>\n   </g>\n   <image height=\"252\" id=\"imagef4f2378c57\" transform=\"scale(1 -1)translate(0 -252)\" width=\"309\" x=\"93\" xlink:href=\"data:image/png;base64,\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\" y=\"-17\"/>\n   <g id=\"PathCollection_1\"/>\n   <g id=\"matplotlib.axis_1\">\n    <g id=\"xtick_1\">\n     <g id=\"line2d_1\">\n      <defs>\n       <path d=\"M 0 0 \nL 0 3.5 \n\" id=\"mef537ac9c1\" style=\"stroke:#333333;stroke-width:0.8;\"/>\n      </defs>\n      <g>\n       <use style=\"fill:#333333;stroke:#333333;stroke-width:0.8;\" x=\"128.446489\" xlink:href=\"#mef537ac9c1\" y=\"279\"/>\n      </g>\n     </g>\n     <g id=\"text_1\">\n      <!-- 1 -->\n      <g style=\"fill:#333333;\" transform=\"translate(124.947114 294.358281)scale(0.11 -0.11)\">\n       <defs>\n        <path d=\"M 794 531 \nL 1825 531 \nL 1825 4091 \nL 703 3866 \nL 703 4441 \nL 1819 4666 \nL 2450 4666 \nL 2450 531 \nL 3481 531 \nL 3481 0 \nL 794 0 \nL 794 531 \nz\n\" id=\"DejaVuSans-31\" transform=\"scale(0.015625)\"/>\n       </defs>\n       <use xlink:href=\"#DejaVuSans-31\"/>\n      </g>\n     </g>\n    </g>\n    <g id=\"xtick_2\">\n     <g id=\"line2d_2\">\n      <g>\n       <use style=\"fill:#333333;stroke:#333333;stroke-width:0.8;\" x=\"196.082852\" xlink:href=\"#mef537ac9c1\" y=\"279\"/>\n      </g>\n     </g>\n     <g id=\"text_2\">\n      <!-- 2 -->\n      <g style=\"fill:#333333;\" transform=\"translate(192.583477 294.358281)scale(0.11 -0.11)\">\n       <defs>\n        <path d=\"M 1228 531 \nL 3431 531 \nL 3431 0 \nL 469 0 \nL 469 531 \nQ 828 903 1448 1529 \nQ 2069 2156 2228 2338 \nQ 2531 2678 2651 2914 \nQ 2772 3150 2772 3378 \nQ 2772 3750 2511 3984 \nQ 2250 4219 1831 4219 \nQ 1534 4219 1204 4116 \nQ 875 4013 500 3803 \nL 500 4441 \nQ 881 4594 1212 4672 \nQ 1544 4750 1819 4750 \nQ 2544 4750 2975 4387 \nQ 3406 4025 3406 3419 \nQ 3406 3131 3298 2873 \nQ 3191 2616 2906 2266 \nQ 2828 2175 2409 1742 \nQ 1991 1309 1228 531 \nz\n\" id=\"DejaVuSans-32\" transform=\"scale(0.015625)\"/>\n       </defs>\n       <use xlink:href=\"#DejaVuSans-32\"/>\n      </g>\n     </g>\n    </g>\n    <g id=\"xtick_3\">\n     <g id=\"line2d_3\">\n      <g>\n       <use style=\"fill:#333333;stroke:#333333;stroke-width:0.8;\" x=\"263.719216\" xlink:href=\"#mef537ac9c1\" y=\"279\"/>\n      </g>\n     </g>\n     <g id=\"text_3\">\n      <!-- 3 -->\n      <g style=\"fill:#333333;\" transform=\"translate(260.219841 294.358281)scale(0.11 -0.11)\">\n       <defs>\n        <path d=\"M 2597 2516 \nQ 3050 2419 3304 2112 \nQ 3559 1806 3559 1356 \nQ 3559 666 3084 287 \nQ 2609 -91 1734 -91 \nQ 1441 -91 1130 -33 \nQ 819 25 488 141 \nL 488 750 \nQ 750 597 1062 519 \nQ 1375 441 1716 441 \nQ 2309 441 2620 675 \nQ 2931 909 2931 1356 \nQ 2931 1769 2642 2001 \nQ 2353 2234 1838 2234 \nL 1294 2234 \nL 1294 2753 \nL 1863 2753 \nQ 2328 2753 2575 2939 \nQ 2822 3125 2822 3475 \nQ 2822 3834 2567 4026 \nQ 2313 4219 1838 4219 \nQ 1578 4219 1281 4162 \nQ 984 4106 628 3988 \nL 628 4550 \nQ 988 4650 1302 4700 \nQ 1616 4750 1894 4750 \nQ 2613 4750 3031 4423 \nQ 3450 4097 3450 3541 \nQ 3450 3153 3228 2886 \nQ 3006 2619 2597 2516 \nz\n\" id=\"DejaVuSans-33\" transform=\"scale(0.015625)\"/>\n       </defs>\n       <use xlink:href=\"#DejaVuSans-33\"/>\n      </g>\n     </g>\n    </g>\n    <g id=\"xtick_4\">\n     <g id=\"line2d_4\">\n      <g>\n       <use style=\"fill:#333333;stroke:#333333;stroke-width:0.8;\" x=\"331.35558\" xlink:href=\"#mef537ac9c1\" y=\"279\"/>\n      </g>\n     </g>\n     <g id=\"text_4\">\n      <!-- 4 -->\n      <g style=\"fill:#333333;\" transform=\"translate(327.856205 294.358281)scale(0.11 -0.11)\">\n       <defs>\n        <path d=\"M 2419 4116 \nL 825 1625 \nL 2419 1625 \nL 2419 4116 \nz\nM 2253 4666 \nL 3047 4666 \nL 3047 1625 \nL 3713 1625 \nL 3713 1100 \nL 3047 1100 \nL 3047 0 \nL 2419 0 \nL 2419 1100 \nL 313 1100 \nL 313 1709 \nL 2253 4666 \nz\n\" id=\"DejaVuSans-34\" transform=\"scale(0.015625)\"/>\n       </defs>\n       <use xlink:href=\"#DejaVuSans-34\"/>\n      </g>\n     </g>\n    </g>\n    <g id=\"xtick_5\">\n     <g id=\"line2d_5\">\n      <g>\n       <use style=\"fill:#333333;stroke:#333333;stroke-width:0.8;\" x=\"398.991943\" xlink:href=\"#mef537ac9c1\" y=\"279\"/>\n      </g>\n     </g>\n     <g id=\"text_5\">\n      <!-- 5 -->\n      <g style=\"fill:#333333;\" transform=\"translate(395.492568 294.358281)scale(0.11 -0.11)\">\n       <defs>\n        <path d=\"M 691 4666 \nL 3169 4666 \nL 3169 4134 \nL 1269 4134 \nL 1269 2991 \nQ 1406 3038 1543 3061 \nQ 1681 3084 1819 3084 \nQ 2600 3084 3056 2656 \nQ 3513 2228 3513 1497 \nQ 3513 744 3044 326 \nQ 2575 -91 1722 -91 \nQ 1428 -91 1123 -41 \nQ 819 9 494 109 \nL 494 744 \nQ 775 591 1075 516 \nQ 1375 441 1709 441 \nQ 2250 441 2565 725 \nQ 2881 1009 2881 1497 \nQ 2881 1984 2565 2268 \nQ 2250 2553 1709 2553 \nQ 1456 2553 1204 2497 \nQ 953 2441 691 2322 \nL 691 4666 \nz\n\" id=\"DejaVuSans-35\" transform=\"scale(0.015625)\"/>\n       </defs>\n       <use xlink:href=\"#DejaVuSans-35\"/>\n      </g>\n     </g>\n    </g>\n    <g id=\"text_6\">\n     <!-- last_1_months_movie_rating -->\n     <g style=\"fill:#333333;\" transform=\"translate(154.253172 310.523906)scale(0.13 -0.13)\">\n      <defs>\n       <path d=\"M 603 4863 \nL 1178 4863 \nL 1178 0 \nL 603 0 \nL 603 4863 \nz\n\" id=\"DejaVuSans-6c\" transform=\"scale(0.015625)\"/>\n       <path d=\"M 2194 1759 \nQ 1497 1759 1228 1600 \nQ 959 1441 959 1056 \nQ 959 750 1161 570 \nQ 1363 391 1709 391 \nQ 2188 391 2477 730 \nQ 2766 1069 2766 1631 \nL 2766 1759 \nL 2194 1759 \nz\nM 3341 1997 \nL 3341 0 \nL 2766 0 \nL 2766 531 \nQ 2569 213 2275 61 \nQ 1981 -91 1556 -91 \nQ 1019 -91 701 211 \nQ 384 513 384 1019 \nQ 384 1609 779 1909 \nQ 1175 2209 1959 2209 \nL 2766 2209 \nL 2766 2266 \nQ 2766 2663 2505 2880 \nQ 2244 3097 1772 3097 \nQ 1472 3097 1187 3025 \nQ 903 2953 641 2809 \nL 641 3341 \nQ 956 3463 1253 3523 \nQ 1550 3584 1831 3584 \nQ 2591 3584 2966 3190 \nQ 3341 2797 3341 1997 \nz\n\" id=\"DejaVuSans-61\" transform=\"scale(0.015625)\"/>\n       <path d=\"M 2834 3397 \nL 2834 2853 \nQ 2591 2978 2328 3040 \nQ 2066 3103 1784 3103 \nQ 1356 3103 1142 2972 \nQ 928 2841 928 2578 \nQ 928 2378 1081 2264 \nQ 1234 2150 1697 2047 \nL 1894 2003 \nQ 2506 1872 2764 1633 \nQ 3022 1394 3022 966 \nQ 3022 478 2636 193 \nQ 2250 -91 1575 -91 \nQ 1294 -91 989 -36 \nQ 684 19 347 128 \nL 347 722 \nQ 666 556 975 473 \nQ 1284 391 1588 391 \nQ 1994 391 2212 530 \nQ 2431 669 2431 922 \nQ 2431 1156 2273 1281 \nQ 2116 1406 1581 1522 \nL 1381 1569 \nQ 847 1681 609 1914 \nQ 372 2147 372 2553 \nQ 372 3047 722 3315 \nQ 1072 3584 1716 3584 \nQ 2034 3584 2315 3537 \nQ 2597 3491 2834 3397 \nz\n\" id=\"DejaVuSans-73\" transform=\"scale(0.015625)\"/>\n       <path d=\"M 1172 4494 \nL 1172 3500 \nL 2356 3500 \nL 2356 3053 \nL 1172 3053 \nL 1172 1153 \nQ 1172 725 1289 603 \nQ 1406 481 1766 481 \nL 2356 481 \nL 2356 0 \nL 1766 0 \nQ 1100 0 847 248 \nQ 594 497 594 1153 \nL 594 3053 \nL 172 3053 \nL 172 3500 \nL 594 3500 \nL 594 4494 \nL 1172 4494 \nz\n\" id=\"DejaVuSans-74\" transform=\"scale(0.015625)\"/>\n       <path d=\"M 3263 -1063 \nL 3263 -1509 \nL -63 -1509 \nL -63 -1063 \nL 3263 -1063 \nz\n\" id=\"DejaVuSans-5f\" transform=\"scale(0.015625)\"/>\n       <path d=\"M 3328 2828 \nQ 3544 3216 3844 3400 \nQ 4144 3584 4550 3584 \nQ 5097 3584 5394 3201 \nQ 5691 2819 5691 2113 \nL 5691 0 \nL 5113 0 \nL 5113 2094 \nQ 5113 2597 4934 2840 \nQ 4756 3084 4391 3084 \nQ 3944 3084 3684 2787 \nQ 3425 2491 3425 1978 \nL 3425 0 \nL 2847 0 \nL 2847 2094 \nQ 2847 2600 2669 2842 \nQ 2491 3084 2119 3084 \nQ 1678 3084 1418 2786 \nQ 1159 2488 1159 1978 \nL 1159 0 \nL 581 0 \nL 581 3500 \nL 1159 3500 \nL 1159 2956 \nQ 1356 3278 1631 3431 \nQ 1906 3584 2284 3584 \nQ 2666 3584 2933 3390 \nQ 3200 3197 3328 2828 \nz\n\" id=\"DejaVuSans-6d\" transform=\"scale(0.015625)\"/>\n       <path d=\"M 1959 3097 \nQ 1497 3097 1228 2736 \nQ 959 2375 959 1747 \nQ 959 1119 1226 758 \nQ 1494 397 1959 397 \nQ 2419 397 2687 759 \nQ 2956 1122 2956 1747 \nQ 2956 2369 2687 2733 \nQ 2419 3097 1959 3097 \nz\nM 1959 3584 \nQ 2709 3584 3137 3096 \nQ 3566 2609 3566 1747 \nQ 3566 888 3137 398 \nQ 2709 -91 1959 -91 \nQ 1206 -91 779 398 \nQ 353 888 353 1747 \nQ 353 2609 779 3096 \nQ 1206 3584 1959 3584 \nz\n\" id=\"DejaVuSans-6f\" transform=\"scale(0.015625)\"/>\n       <path d=\"M 3513 2113 \nL 3513 0 \nL 2938 0 \nL 2938 2094 \nQ 2938 2591 2744 2837 \nQ 2550 3084 2163 3084 \nQ 1697 3084 1428 2787 \nQ 1159 2491 1159 1978 \nL 1159 0 \nL 581 0 \nL 581 3500 \nL 1159 3500 \nL 1159 2956 \nQ 1366 3272 1645 3428 \nQ 1925 3584 2291 3584 \nQ 2894 3584 3203 3211 \nQ 3513 2838 3513 2113 \nz\n\" id=\"DejaVuSans-6e\" transform=\"scale(0.015625)\"/>\n       <path d=\"M 3513 2113 \nL 3513 0 \nL 2938 0 \nL 2938 2094 \nQ 2938 2591 2744 2837 \nQ 2550 3084 2163 3084 \nQ 1697 3084 1428 2787 \nQ 1159 2491 1159 1978 \nL 1159 0 \nL 581 0 \nL 581 4863 \nL 1159 4863 \nL 1159 2956 \nQ 1366 3272 1645 3428 \nQ 1925 3584 2291 3584 \nQ 2894 3584 3203 3211 \nQ 3513 2838 3513 2113 \nz\n\" id=\"DejaVuSans-68\" transform=\"scale(0.015625)\"/>\n       <path d=\"M 191 3500 \nL 800 3500 \nL 1894 563 \nL 2988 3500 \nL 3597 3500 \nL 2284 0 \nL 1503 0 \nL 191 3500 \nz\n\" id=\"DejaVuSans-76\" transform=\"scale(0.015625)\"/>\n       <path d=\"M 603 3500 \nL 1178 3500 \nL 1178 0 \nL 603 0 \nL 603 3500 \nz\nM 603 4863 \nL 1178 4863 \nL 1178 4134 \nL 603 4134 \nL 603 4863 \nz\n\" id=\"DejaVuSans-69\" transform=\"scale(0.015625)\"/>\n       <path d=\"M 3597 1894 \nL 3597 1613 \nL 953 1613 \nQ 991 1019 1311 708 \nQ 1631 397 2203 397 \nQ 2534 397 2845 478 \nQ 3156 559 3463 722 \nL 3463 178 \nQ 3153 47 2828 -22 \nQ 2503 -91 2169 -91 \nQ 1331 -91 842 396 \nQ 353 884 353 1716 \nQ 353 2575 817 3079 \nQ 1281 3584 2069 3584 \nQ 2775 3584 3186 3129 \nQ 3597 2675 3597 1894 \nz\nM 3022 2063 \nQ 3016 2534 2758 2815 \nQ 2500 3097 2075 3097 \nQ 1594 3097 1305 2825 \nQ 1016 2553 972 2059 \nL 3022 2063 \nz\n\" id=\"DejaVuSans-65\" transform=\"scale(0.015625)\"/>\n       <path d=\"M 2631 2963 \nQ 2534 3019 2420 3045 \nQ 2306 3072 2169 3072 \nQ 1681 3072 1420 2755 \nQ 1159 2438 1159 1844 \nL 1159 0 \nL 581 0 \nL 581 3500 \nL 1159 3500 \nL 1159 2956 \nQ 1341 3275 1631 3429 \nQ 1922 3584 2338 3584 \nQ 2397 3584 2469 3576 \nQ 2541 3569 2628 3553 \nL 2631 2963 \nz\n\" id=\"DejaVuSans-72\" transform=\"scale(0.015625)\"/>\n       <path d=\"M 2906 1791 \nQ 2906 2416 2648 2759 \nQ 2391 3103 1925 3103 \nQ 1463 3103 1205 2759 \nQ 947 2416 947 1791 \nQ 947 1169 1205 825 \nQ 1463 481 1925 481 \nQ 2391 481 2648 825 \nQ 2906 1169 2906 1791 \nz\nM 3481 434 \nQ 3481 -459 3084 -895 \nQ 2688 -1331 1869 -1331 \nQ 1566 -1331 1297 -1286 \nQ 1028 -1241 775 -1147 \nL 775 -588 \nQ 1028 -725 1275 -790 \nQ 1522 -856 1778 -856 \nQ 2344 -856 2625 -561 \nQ 2906 -266 2906 331 \nL 2906 616 \nQ 2728 306 2450 153 \nQ 2172 0 1784 0 \nQ 1141 0 747 490 \nQ 353 981 353 1791 \nQ 353 2603 747 3093 \nQ 1141 3584 1784 3584 \nQ 2172 3584 2450 3431 \nQ 2728 3278 2906 2969 \nL 2906 3500 \nL 3481 3500 \nL 3481 434 \nz\n\" id=\"DejaVuSans-67\" transform=\"scale(0.015625)\"/>\n      </defs>\n      <use xlink:href=\"#DejaVuSans-6c\"/>\n      <use x=\"27.783203\" xlink:href=\"#DejaVuSans-61\"/>\n      <use x=\"89.0625\" xlink:href=\"#DejaVuSans-73\"/>\n      <use x=\"141.162109\" xlink:href=\"#DejaVuSans-74\"/>\n      <use x=\"180.371094\" xlink:href=\"#DejaVuSans-5f\"/>\n      <use x=\"230.371094\" xlink:href=\"#DejaVuSans-31\"/>\n      <use x=\"293.994141\" xlink:href=\"#DejaVuSans-5f\"/>\n      <use x=\"343.994141\" xlink:href=\"#DejaVuSans-6d\"/>\n      <use x=\"441.40625\" xlink:href=\"#DejaVuSans-6f\"/>\n      <use x=\"502.587891\" xlink:href=\"#DejaVuSans-6e\"/>\n      <use x=\"565.966797\" xlink:href=\"#DejaVuSans-74\"/>\n      <use x=\"605.175781\" xlink:href=\"#DejaVuSans-68\"/>\n      <use x=\"668.554688\" xlink:href=\"#DejaVuSans-73\"/>\n      <use x=\"720.654297\" xlink:href=\"#DejaVuSans-5f\"/>\n      <use x=\"770.654297\" xlink:href=\"#DejaVuSans-6d\"/>\n      <use x=\"868.066406\" xlink:href=\"#DejaVuSans-6f\"/>\n      <use x=\"929.248047\" xlink:href=\"#DejaVuSans-76\"/>\n      <use x=\"988.427734\" xlink:href=\"#DejaVuSans-69\"/>\n      <use x=\"1016.210938\" xlink:href=\"#DejaVuSans-65\"/>\n      <use x=\"1077.734375\" xlink:href=\"#DejaVuSans-5f\"/>\n      <use x=\"1127.734375\" xlink:href=\"#DejaVuSans-72\"/>\n      <use x=\"1168.847656\" xlink:href=\"#DejaVuSans-61\"/>\n      <use x=\"1230.126953\" xlink:href=\"#DejaVuSans-74\"/>\n      <use x=\"1269.335938\" xlink:href=\"#DejaVuSans-69\"/>\n      <use x=\"1297.119141\" xlink:href=\"#DejaVuSans-6e\"/>\n      <use x=\"1360.498047\" xlink:href=\"#DejaVuSans-67\"/>\n     </g>\n    </g>\n   </g>\n   <g id=\"matplotlib.axis_2\">\n    <g id=\"ytick_1\">\n     <g id=\"line2d_6\">\n      <defs>\n       <path d=\"M 0 0 \nL -3.5 0 \n\" id=\"m5124b6f877\" style=\"stroke:#333333;stroke-width:0.8;\"/>\n      </defs>\n      <g>\n       <use style=\"fill:#333333;stroke:#333333;stroke-width:0.8;\" x=\"79.410125\" xlink:href=\"#m5124b6f877\" y=\"255.958262\"/>\n      </g>\n     </g>\n     <g id=\"text_7\">\n      <!-- −1.00 -->\n      <g style=\"fill:#333333;\" transform=\"translate(38.700281 260.137402)scale(0.11 -0.11)\">\n       <defs>\n        <path d=\"M 678 2272 \nL 4684 2272 \nL 4684 1741 \nL 678 1741 \nL 678 2272 \nz\n\" id=\"DejaVuSans-2212\" transform=\"scale(0.015625)\"/>\n        <path d=\"M 684 794 \nL 1344 794 \nL 1344 0 \nL 684 0 \nL 684 794 \nz\n\" id=\"DejaVuSans-2e\" transform=\"scale(0.015625)\"/>\n        <path d=\"M 2034 4250 \nQ 1547 4250 1301 3770 \nQ 1056 3291 1056 2328 \nQ 1056 1369 1301 889 \nQ 1547 409 2034 409 \nQ 2525 409 2770 889 \nQ 3016 1369 3016 2328 \nQ 3016 3291 2770 3770 \nQ 2525 4250 2034 4250 \nz\nM 2034 4750 \nQ 2819 4750 3233 4129 \nQ 3647 3509 3647 2328 \nQ 3647 1150 3233 529 \nQ 2819 -91 2034 -91 \nQ 1250 -91 836 529 \nQ 422 1150 422 2328 \nQ 422 3509 836 4129 \nQ 1250 4750 2034 4750 \nz\n\" id=\"DejaVuSans-30\" transform=\"scale(0.015625)\"/>\n       </defs>\n       <use xlink:href=\"#DejaVuSans-2212\"/>\n       <use x=\"83.789062\" xlink:href=\"#DejaVuSans-31\"/>\n       <use x=\"147.412109\" xlink:href=\"#DejaVuSans-2e\"/>\n       <use x=\"179.199219\" xlink:href=\"#DejaVuSans-30\"/>\n       <use x=\"242.822266\" xlink:href=\"#DejaVuSans-30\"/>\n      </g>\n     </g>\n    </g>\n    <g id=\"ytick_2\">\n     <g id=\"line2d_7\">\n      <g>\n       <use style=\"fill:#333333;stroke:#333333;stroke-width:0.8;\" x=\"79.410125\" xlink:href=\"#m5124b6f877\" y=\"221.290009\"/>\n      </g>\n     </g>\n     <g id=\"text_8\">\n      <!-- −0.75 -->\n      <g style=\"fill:#333333;\" transform=\"translate(38.700281 225.46915)scale(0.11 -0.11)\">\n       <defs>\n        <path d=\"M 525 4666 \nL 3525 4666 \nL 3525 4397 \nL 1831 0 \nL 1172 0 \nL 2766 4134 \nL 525 4134 \nL 525 4666 \nz\n\" id=\"DejaVuSans-37\" transform=\"scale(0.015625)\"/>\n       </defs>\n       <use xlink:href=\"#DejaVuSans-2212\"/>\n       <use x=\"83.789062\" xlink:href=\"#DejaVuSans-30\"/>\n       <use x=\"147.412109\" xlink:href=\"#DejaVuSans-2e\"/>\n       <use x=\"179.199219\" xlink:href=\"#DejaVuSans-37\"/>\n       <use x=\"242.822266\" xlink:href=\"#DejaVuSans-35\"/>\n      </g>\n     </g>\n    </g>\n    <g id=\"ytick_3\">\n     <g id=\"line2d_8\">\n      <g>\n       <use style=\"fill:#333333;stroke:#333333;stroke-width:0.8;\" x=\"79.410125\" xlink:href=\"#m5124b6f877\" y=\"186.621757\"/>\n      </g>\n     </g>\n     <g id=\"text_9\">\n      <!-- −0.50 -->\n      <g style=\"fill:#333333;\" transform=\"translate(38.700281 190.800897)scale(0.11 -0.11)\">\n       <use xlink:href=\"#DejaVuSans-2212\"/>\n       <use x=\"83.789062\" xlink:href=\"#DejaVuSans-30\"/>\n       <use x=\"147.412109\" xlink:href=\"#DejaVuSans-2e\"/>\n       <use x=\"179.199219\" xlink:href=\"#DejaVuSans-35\"/>\n       <use x=\"242.822266\" xlink:href=\"#DejaVuSans-30\"/>\n      </g>\n     </g>\n    </g>\n    <g id=\"ytick_4\">\n     <g id=\"line2d_9\">\n      <g>\n       <use style=\"fill:#333333;stroke:#333333;stroke-width:0.8;\" x=\"79.410125\" xlink:href=\"#m5124b6f877\" y=\"151.953504\"/>\n      </g>\n     </g>\n     <g id=\"text_10\">\n      <!-- −0.25 -->\n      <g style=\"fill:#333333;\" transform=\"translate(38.700281 156.132645)scale(0.11 -0.11)\">\n       <use xlink:href=\"#DejaVuSans-2212\"/>\n       <use x=\"83.789062\" xlink:href=\"#DejaVuSans-30\"/>\n       <use x=\"147.412109\" xlink:href=\"#DejaVuSans-2e\"/>\n       <use x=\"179.199219\" xlink:href=\"#DejaVuSans-32\"/>\n       <use x=\"242.822266\" xlink:href=\"#DejaVuSans-35\"/>\n      </g>\n     </g>\n    </g>\n    <g id=\"ytick_5\">\n     <g id=\"line2d_10\">\n      <g>\n       <use style=\"fill:#333333;stroke:#333333;stroke-width:0.8;\" x=\"79.410125\" xlink:href=\"#m5124b6f877\" y=\"117.285252\"/>\n      </g>\n     </g>\n     <g id=\"text_11\">\n      <!-- 0.00 -->\n      <g style=\"fill:#333333;\" transform=\"translate(47.917938 121.464393)scale(0.11 -0.11)\">\n       <use xlink:href=\"#DejaVuSans-30\"/>\n       <use x=\"63.623047\" xlink:href=\"#DejaVuSans-2e\"/>\n       <use x=\"95.410156\" xlink:href=\"#DejaVuSans-30\"/>\n       <use x=\"159.033203\" xlink:href=\"#DejaVuSans-30\"/>\n      </g>\n     </g>\n    </g>\n    <g id=\"ytick_6\">\n     <g id=\"line2d_11\">\n      <g>\n       <use style=\"fill:#333333;stroke:#333333;stroke-width:0.8;\" x=\"79.410125\" xlink:href=\"#m5124b6f877\" y=\"82.617\"/>\n      </g>\n     </g>\n     <g id=\"text_12\">\n      <!-- 0.25 -->\n      <g style=\"fill:#333333;\" transform=\"translate(47.917938 86.79614)scale(0.11 -0.11)\">\n       <use xlink:href=\"#DejaVuSans-30\"/>\n       <use x=\"63.623047\" xlink:href=\"#DejaVuSans-2e\"/>\n       <use x=\"95.410156\" xlink:href=\"#DejaVuSans-32\"/>\n       <use x=\"159.033203\" xlink:href=\"#DejaVuSans-35\"/>\n      </g>\n     </g>\n    </g>\n    <g id=\"ytick_7\">\n     <g id=\"line2d_12\">\n      <g>\n       <use style=\"fill:#333333;stroke:#333333;stroke-width:0.8;\" x=\"79.410125\" xlink:href=\"#m5124b6f877\" y=\"47.948747\"/>\n      </g>\n     </g>\n     <g id=\"text_13\">\n      <!-- 0.50 -->\n      <g style=\"fill:#333333;\" transform=\"translate(47.917938 52.127888)scale(0.11 -0.11)\">\n       <use xlink:href=\"#DejaVuSans-30\"/>\n       <use x=\"63.623047\" xlink:href=\"#DejaVuSans-2e\"/>\n       <use x=\"95.410156\" xlink:href=\"#DejaVuSans-35\"/>\n       <use x=\"159.033203\" xlink:href=\"#DejaVuSans-30\"/>\n      </g>\n     </g>\n    </g>\n    <g id=\"ytick_8\">\n     <g id=\"line2d_13\">\n      <g>\n       <use style=\"fill:#333333;stroke:#333333;stroke-width:0.8;\" x=\"79.410125\" xlink:href=\"#m5124b6f877\" y=\"13.280495\"/>\n      </g>\n     </g>\n     <g id=\"text_14\">\n      <!-- 0.75 -->\n      <g style=\"fill:#333333;\" transform=\"translate(47.917938 17.459635)scale(0.11 -0.11)\">\n       <use xlink:href=\"#DejaVuSans-30\"/>\n       <use x=\"63.623047\" xlink:href=\"#DejaVuSans-2e\"/>\n       <use x=\"95.410156\" xlink:href=\"#DejaVuSans-37\"/>\n       <use x=\"159.033203\" xlink:href=\"#DejaVuSans-35\"/>\n      </g>\n     </g>\n    </g>\n    <g id=\"text_15\">\n     <!-- SHAP value for -->\n     <g style=\"fill:#333333;\" transform=\"translate(17.077969 191.304609)rotate(-90)scale(0.13 -0.13)\">\n      <defs>\n       <path d=\"M 3425 4513 \nL 3425 3897 \nQ 3066 4069 2747 4153 \nQ 2428 4238 2131 4238 \nQ 1616 4238 1336 4038 \nQ 1056 3838 1056 3469 \nQ 1056 3159 1242 3001 \nQ 1428 2844 1947 2747 \nL 2328 2669 \nQ 3034 2534 3370 2195 \nQ 3706 1856 3706 1288 \nQ 3706 609 3251 259 \nQ 2797 -91 1919 -91 \nQ 1588 -91 1214 -16 \nQ 841 59 441 206 \nL 441 856 \nQ 825 641 1194 531 \nQ 1563 422 1919 422 \nQ 2459 422 2753 634 \nQ 3047 847 3047 1241 \nQ 3047 1584 2836 1778 \nQ 2625 1972 2144 2069 \nL 1759 2144 \nQ 1053 2284 737 2584 \nQ 422 2884 422 3419 \nQ 422 4038 858 4394 \nQ 1294 4750 2059 4750 \nQ 2388 4750 2728 4690 \nQ 3069 4631 3425 4513 \nz\n\" id=\"DejaVuSans-53\" transform=\"scale(0.015625)\"/>\n       <path d=\"M 628 4666 \nL 1259 4666 \nL 1259 2753 \nL 3553 2753 \nL 3553 4666 \nL 4184 4666 \nL 4184 0 \nL 3553 0 \nL 3553 2222 \nL 1259 2222 \nL 1259 0 \nL 628 0 \nL 628 4666 \nz\n\" id=\"DejaVuSans-48\" transform=\"scale(0.015625)\"/>\n       <path d=\"M 2188 4044 \nL 1331 1722 \nL 3047 1722 \nL 2188 4044 \nz\nM 1831 4666 \nL 2547 4666 \nL 4325 0 \nL 3669 0 \nL 3244 1197 \nL 1141 1197 \nL 716 0 \nL 50 0 \nL 1831 4666 \nz\n\" id=\"DejaVuSans-41\" transform=\"scale(0.015625)\"/>\n       <path d=\"M 1259 4147 \nL 1259 2394 \nL 2053 2394 \nQ 2494 2394 2734 2622 \nQ 2975 2850 2975 3272 \nQ 2975 3691 2734 3919 \nQ 2494 4147 2053 4147 \nL 1259 4147 \nz\nM 628 4666 \nL 2053 4666 \nQ 2838 4666 3239 4311 \nQ 3641 3956 3641 3272 \nQ 3641 2581 3239 2228 \nQ 2838 1875 2053 1875 \nL 1259 1875 \nL 1259 0 \nL 628 0 \nL 628 4666 \nz\n\" id=\"DejaVuSans-50\" transform=\"scale(0.015625)\"/>\n       <path id=\"DejaVuSans-20\" transform=\"scale(0.015625)\"/>\n       <path d=\"M 544 1381 \nL 544 3500 \nL 1119 3500 \nL 1119 1403 \nQ 1119 906 1312 657 \nQ 1506 409 1894 409 \nQ 2359 409 2629 706 \nQ 2900 1003 2900 1516 \nL 2900 3500 \nL 3475 3500 \nL 3475 0 \nL 2900 0 \nL 2900 538 \nQ 2691 219 2414 64 \nQ 2138 -91 1772 -91 \nQ 1169 -91 856 284 \nQ 544 659 544 1381 \nz\nM 1991 3584 \nL 1991 3584 \nz\n\" id=\"DejaVuSans-75\" transform=\"scale(0.015625)\"/>\n       <path d=\"M 2375 4863 \nL 2375 4384 \nL 1825 4384 \nQ 1516 4384 1395 4259 \nQ 1275 4134 1275 3809 \nL 1275 3500 \nL 2222 3500 \nL 2222 3053 \nL 1275 3053 \nL 1275 0 \nL 697 0 \nL 697 3053 \nL 147 3053 \nL 147 3500 \nL 697 3500 \nL 697 3744 \nQ 697 4328 969 4595 \nQ 1241 4863 1831 4863 \nL 2375 4863 \nz\n\" id=\"DejaVuSans-66\" transform=\"scale(0.015625)\"/>\n      </defs>\n      <use xlink:href=\"#DejaVuSans-53\"/>\n      <use x=\"63.476562\" xlink:href=\"#DejaVuSans-48\"/>\n      <use x=\"138.671875\" xlink:href=\"#DejaVuSans-41\"/>\n      <use x=\"207.080078\" xlink:href=\"#DejaVuSans-50\"/>\n      <use x=\"267.382812\" xlink:href=\"#DejaVuSans-20\"/>\n      <use x=\"299.169922\" xlink:href=\"#DejaVuSans-76\"/>\n      <use x=\"358.349609\" xlink:href=\"#DejaVuSans-61\"/>\n      <use x=\"419.628906\" xlink:href=\"#DejaVuSans-6c\"/>\n      <use x=\"447.412109\" xlink:href=\"#DejaVuSans-75\"/>\n      <use x=\"510.791016\" xlink:href=\"#DejaVuSans-65\"/>\n      <use x=\"572.314453\" xlink:href=\"#DejaVuSans-20\"/>\n      <use x=\"604.101562\" xlink:href=\"#DejaVuSans-66\"/>\n      <use x=\"639.306641\" xlink:href=\"#DejaVuSans-6f\"/>\n      <use x=\"700.488281\" xlink:href=\"#DejaVuSans-72\"/>\n     </g>\n     <!-- last_1_months_movie_rating -->\n     <g style=\"fill:#333333;\" transform=\"translate(31.635125 235.656953)rotate(-90)scale(0.13 -0.13)\">\n      <use xlink:href=\"#DejaVuSans-6c\"/>\n      <use x=\"27.783203\" xlink:href=\"#DejaVuSans-61\"/>\n      <use x=\"89.0625\" xlink:href=\"#DejaVuSans-73\"/>\n      <use x=\"141.162109\" xlink:href=\"#DejaVuSans-74\"/>\n      <use x=\"180.371094\" xlink:href=\"#DejaVuSans-5f\"/>\n      <use x=\"230.371094\" xlink:href=\"#DejaVuSans-31\"/>\n      <use x=\"293.994141\" xlink:href=\"#DejaVuSans-5f\"/>\n      <use x=\"343.994141\" xlink:href=\"#DejaVuSans-6d\"/>\n      <use x=\"441.40625\" xlink:href=\"#DejaVuSans-6f\"/>\n      <use x=\"502.587891\" xlink:href=\"#DejaVuSans-6e\"/>\n      <use x=\"565.966797\" xlink:href=\"#DejaVuSans-74\"/>\n      <use x=\"605.175781\" xlink:href=\"#DejaVuSans-68\"/>\n      <use x=\"668.554688\" xlink:href=\"#DejaVuSans-73\"/>\n      <use x=\"720.654297\" xlink:href=\"#DejaVuSans-5f\"/>\n      <use x=\"770.654297\" xlink:href=\"#DejaVuSans-6d\"/>\n      <use x=\"868.066406\" xlink:href=\"#DejaVuSans-6f\"/>\n      <use x=\"929.248047\" xlink:href=\"#DejaVuSans-76\"/>\n      <use x=\"988.427734\" xlink:href=\"#DejaVuSans-69\"/>\n      <use x=\"1016.210938\" xlink:href=\"#DejaVuSans-65\"/>\n      <use x=\"1077.734375\" xlink:href=\"#DejaVuSans-5f\"/>\n      <use x=\"1127.734375\" xlink:href=\"#DejaVuSans-72\"/>\n      <use x=\"1168.847656\" xlink:href=\"#DejaVuSans-61\"/>\n      <use x=\"1230.126953\" xlink:href=\"#DejaVuSans-74\"/>\n      <use x=\"1269.335938\" xlink:href=\"#DejaVuSans-69\"/>\n      <use x=\"1297.119141\" xlink:href=\"#DejaVuSans-6e\"/>\n      <use x=\"1360.498047\" xlink:href=\"#DejaVuSans-67\"/>\n     </g>\n    </g>\n   </g>\n   <g id=\"patch_3\">\n    <path d=\"M 79.410125 279 \nL 79.410125 7.2 \n\" style=\"fill:none;stroke:#333333;stroke-linecap:square;stroke-linejoin:miter;stroke-width:0.8;\"/>\n   </g>\n   <g id=\"patch_4\">\n    <path d=\"M 79.410125 279 \nL 414.210125 279 \n\" style=\"fill:none;stroke:#333333;stroke-linecap:square;stroke-linejoin:miter;stroke-width:0.8;\"/>\n   </g>\n  </g>\n </g>\n</svg>\n",
      "image/png": "[encoded data removed]"
     },
     "metadata": {
      "needs_background": "light"
     }
    }
   ],
   "source": [
    "shap.dependence_plot(\"last_1_months_movie_rating\", shap_values[1], X_test,interaction_index=None,alpha=0.1)"
   ]
  },
  {
   "source": [
    "The impact that has the mean rating of a movie in the last month has a positive impact on having a high score but if there are unique rates like exactly 1 or 5, there is some variance in the impact of the variable "
   ],
   "cell_type": "markdown",
   "metadata": {}
  },
  {
   "cell_type": "code",
   "execution_count": 127,
   "metadata": {},
   "outputs": [
    {
     "output_type": "display_data",
     "data": {
      "text/plain": "<Figure size 432x360 with 1 Axes>",
      "image/svg+xml": "<?xml version=\"1.0\" encoding=\"utf-8\" standalone=\"no\"?>\n<!DOCTYPE svg PUBLIC \"-//W3C//DTD SVG 1.1//EN\"\n  \"http://www.w3.org/Graphics/SVG/1.1/DTD/svg11.dtd\">\n<svg height=\"320.789062pt\" version=\"1.1\" viewBox=\"0 0 421.410125 320.789062\" width=\"421.410125pt\" xmlns=\"http://www.w3.org/2000/svg\" xmlns:xlink=\"http://www.w3.org/1999/xlink\">\n <metadata>\n  <rdf:RDF xmlns:cc=\"http://creativecommons.org/ns#\" xmlns:dc=\"http://purl.org/dc/elements/1.1/\" xmlns:rdf=\"http://www.w3.org/1999/02/22-rdf-syntax-ns#\">\n   <cc:Work>\n    <dc:type rdf:resource=\"http://purl.org/dc/dcmitype/StillImage\"/>\n    <dc:date>2021-04-11T16:03:00.757207</dc:date>\n    <dc:format>image/svg+xml</dc:format>\n    <dc:creator>\n     <cc:Agent>\n      <dc:title>Matplotlib v3.4.1, https://matplotlib.org/</dc:title>\n     </cc:Agent>\n    </dc:creator>\n   </cc:Work>\n  </rdf:RDF>\n </metadata>\n <defs>\n  <style type=\"text/css\">*{stroke-linecap:butt;stroke-linejoin:round;}</style>\n </defs>\n <g id=\"figure_1\">\n  <g id=\"patch_1\">\n   <path d=\"M 0 320.789062 \nL 421.410125 320.789062 \nL 421.410125 0 \nL 0 0 \nz\n\" style=\"fill:none;\"/>\n  </g>\n  <g id=\"axes_1\">\n   <g id=\"patch_2\">\n    <path d=\"M 79.410125 279 \nL 414.210125 279 \nL 414.210125 7.2 \nL 79.410125 7.2 \nz\n\" style=\"fill:#ffffff;\"/>\n   </g>\n   <image height=\"252\" id=\"imagef430864080\" transform=\"scale(1 -1)translate(0 -252)\" width=\"309\" x=\"93\" xlink:href=\"data:image/png;base64,\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\" y=\"-17\"/>\n   <g id=\"PathCollection_1\"/>\n   <g id=\"matplotlib.axis_1\">\n    <g id=\"xtick_1\">\n     <g id=\"line2d_1\">\n      <defs>\n       <path d=\"M 0 0 \nL 0 3.5 \n\" id=\"m7046686848\" style=\"stroke:#333333;stroke-width:0.8;\"/>\n      </defs>\n      <g>\n       <use style=\"fill:#333333;stroke:#333333;stroke-width:0.8;\" x=\"94.4682\" xlink:href=\"#m7046686848\" y=\"279\"/>\n      </g>\n     </g>\n     <g id=\"text_1\">\n      <!-- 0 -->\n      <g style=\"fill:#333333;\" transform=\"translate(90.968825 294.358281)scale(0.11 -0.11)\">\n       <defs>\n        <path d=\"M 2034 4250 \nQ 1547 4250 1301 3770 \nQ 1056 3291 1056 2328 \nQ 1056 1369 1301 889 \nQ 1547 409 2034 409 \nQ 2525 409 2770 889 \nQ 3016 1369 3016 2328 \nQ 3016 3291 2770 3770 \nQ 2525 4250 2034 4250 \nz\nM 2034 4750 \nQ 2819 4750 3233 4129 \nQ 3647 3509 3647 2328 \nQ 3647 1150 3233 529 \nQ 2819 -91 2034 -91 \nQ 1250 -91 836 529 \nQ 422 1150 422 2328 \nQ 422 3509 836 4129 \nQ 1250 4750 2034 4750 \nz\n\" id=\"DejaVuSans-30\" transform=\"scale(0.015625)\"/>\n       </defs>\n       <use xlink:href=\"#DejaVuSans-30\"/>\n      </g>\n     </g>\n    </g>\n    <g id=\"xtick_2\">\n     <g id=\"line2d_2\">\n      <g>\n       <use style=\"fill:#333333;stroke:#333333;stroke-width:0.8;\" x=\"134.49498\" xlink:href=\"#m7046686848\" y=\"279\"/>\n      </g>\n     </g>\n     <g id=\"text_2\">\n      <!-- 250 -->\n      <g style=\"fill:#333333;\" transform=\"translate(123.996855 294.358281)scale(0.11 -0.11)\">\n       <defs>\n        <path d=\"M 1228 531 \nL 3431 531 \nL 3431 0 \nL 469 0 \nL 469 531 \nQ 828 903 1448 1529 \nQ 2069 2156 2228 2338 \nQ 2531 2678 2651 2914 \nQ 2772 3150 2772 3378 \nQ 2772 3750 2511 3984 \nQ 2250 4219 1831 4219 \nQ 1534 4219 1204 4116 \nQ 875 4013 500 3803 \nL 500 4441 \nQ 881 4594 1212 4672 \nQ 1544 4750 1819 4750 \nQ 2544 4750 2975 4387 \nQ 3406 4025 3406 3419 \nQ 3406 3131 3298 2873 \nQ 3191 2616 2906 2266 \nQ 2828 2175 2409 1742 \nQ 1991 1309 1228 531 \nz\n\" id=\"DejaVuSans-32\" transform=\"scale(0.015625)\"/>\n        <path d=\"M 691 4666 \nL 3169 4666 \nL 3169 4134 \nL 1269 4134 \nL 1269 2991 \nQ 1406 3038 1543 3061 \nQ 1681 3084 1819 3084 \nQ 2600 3084 3056 2656 \nQ 3513 2228 3513 1497 \nQ 3513 744 3044 326 \nQ 2575 -91 1722 -91 \nQ 1428 -91 1123 -41 \nQ 819 9 494 109 \nL 494 744 \nQ 775 591 1075 516 \nQ 1375 441 1709 441 \nQ 2250 441 2565 725 \nQ 2881 1009 2881 1497 \nQ 2881 1984 2565 2268 \nQ 2250 2553 1709 2553 \nQ 1456 2553 1204 2497 \nQ 953 2441 691 2322 \nL 691 4666 \nz\n\" id=\"DejaVuSans-35\" transform=\"scale(0.015625)\"/>\n       </defs>\n       <use xlink:href=\"#DejaVuSans-32\"/>\n       <use x=\"63.623047\" xlink:href=\"#DejaVuSans-35\"/>\n       <use x=\"127.246094\" xlink:href=\"#DejaVuSans-30\"/>\n      </g>\n     </g>\n    </g>\n    <g id=\"xtick_3\">\n     <g id=\"line2d_3\">\n      <g>\n       <use style=\"fill:#333333;stroke:#333333;stroke-width:0.8;\" x=\"174.52176\" xlink:href=\"#m7046686848\" y=\"279\"/>\n      </g>\n     </g>\n     <g id=\"text_3\">\n      <!-- 500 -->\n      <g style=\"fill:#333333;\" transform=\"translate(164.023635 294.358281)scale(0.11 -0.11)\">\n       <use xlink:href=\"#DejaVuSans-35\"/>\n       <use x=\"63.623047\" xlink:href=\"#DejaVuSans-30\"/>\n       <use x=\"127.246094\" xlink:href=\"#DejaVuSans-30\"/>\n      </g>\n     </g>\n    </g>\n    <g id=\"xtick_4\">\n     <g id=\"line2d_4\">\n      <g>\n       <use style=\"fill:#333333;stroke:#333333;stroke-width:0.8;\" x=\"214.54854\" xlink:href=\"#m7046686848\" y=\"279\"/>\n      </g>\n     </g>\n     <g id=\"text_4\">\n      <!-- 750 -->\n      <g style=\"fill:#333333;\" transform=\"translate(204.050415 294.358281)scale(0.11 -0.11)\">\n       <defs>\n        <path d=\"M 525 4666 \nL 3525 4666 \nL 3525 4397 \nL 1831 0 \nL 1172 0 \nL 2766 4134 \nL 525 4134 \nL 525 4666 \nz\n\" id=\"DejaVuSans-37\" transform=\"scale(0.015625)\"/>\n       </defs>\n       <use xlink:href=\"#DejaVuSans-37\"/>\n       <use x=\"63.623047\" xlink:href=\"#DejaVuSans-35\"/>\n       <use x=\"127.246094\" xlink:href=\"#DejaVuSans-30\"/>\n      </g>\n     </g>\n    </g>\n    <g id=\"xtick_5\">\n     <g id=\"line2d_5\">\n      <g>\n       <use style=\"fill:#333333;stroke:#333333;stroke-width:0.8;\" x=\"254.57532\" xlink:href=\"#m7046686848\" y=\"279\"/>\n      </g>\n     </g>\n     <g id=\"text_5\">\n      <!-- 1000 -->\n      <g style=\"fill:#333333;\" transform=\"translate(240.57782 294.358281)scale(0.11 -0.11)\">\n       <defs>\n        <path d=\"M 794 531 \nL 1825 531 \nL 1825 4091 \nL 703 3866 \nL 703 4441 \nL 1819 4666 \nL 2450 4666 \nL 2450 531 \nL 3481 531 \nL 3481 0 \nL 794 0 \nL 794 531 \nz\n\" id=\"DejaVuSans-31\" transform=\"scale(0.015625)\"/>\n       </defs>\n       <use xlink:href=\"#DejaVuSans-31\"/>\n       <use x=\"63.623047\" xlink:href=\"#DejaVuSans-30\"/>\n       <use x=\"127.246094\" xlink:href=\"#DejaVuSans-30\"/>\n       <use x=\"190.869141\" xlink:href=\"#DejaVuSans-30\"/>\n      </g>\n     </g>\n    </g>\n    <g id=\"xtick_6\">\n     <g id=\"line2d_6\">\n      <g>\n       <use style=\"fill:#333333;stroke:#333333;stroke-width:0.8;\" x=\"294.602101\" xlink:href=\"#m7046686848\" y=\"279\"/>\n      </g>\n     </g>\n     <g id=\"text_6\">\n      <!-- 1250 -->\n      <g style=\"fill:#333333;\" transform=\"translate(280.604601 294.358281)scale(0.11 -0.11)\">\n       <use xlink:href=\"#DejaVuSans-31\"/>\n       <use x=\"63.623047\" xlink:href=\"#DejaVuSans-32\"/>\n       <use x=\"127.246094\" xlink:href=\"#DejaVuSans-35\"/>\n       <use x=\"190.869141\" xlink:href=\"#DejaVuSans-30\"/>\n      </g>\n     </g>\n    </g>\n    <g id=\"xtick_7\">\n     <g id=\"line2d_7\">\n      <g>\n       <use style=\"fill:#333333;stroke:#333333;stroke-width:0.8;\" x=\"334.628881\" xlink:href=\"#m7046686848\" y=\"279\"/>\n      </g>\n     </g>\n     <g id=\"text_7\">\n      <!-- 1500 -->\n      <g style=\"fill:#333333;\" transform=\"translate(320.631381 294.358281)scale(0.11 -0.11)\">\n       <use xlink:href=\"#DejaVuSans-31\"/>\n       <use x=\"63.623047\" xlink:href=\"#DejaVuSans-35\"/>\n       <use x=\"127.246094\" xlink:href=\"#DejaVuSans-30\"/>\n       <use x=\"190.869141\" xlink:href=\"#DejaVuSans-30\"/>\n      </g>\n     </g>\n    </g>\n    <g id=\"xtick_8\">\n     <g id=\"line2d_8\">\n      <g>\n       <use style=\"fill:#333333;stroke:#333333;stroke-width:0.8;\" x=\"374.655661\" xlink:href=\"#m7046686848\" y=\"279\"/>\n      </g>\n     </g>\n     <g id=\"text_8\">\n      <!-- 1750 -->\n      <g style=\"fill:#333333;\" transform=\"translate(360.658161 294.358281)scale(0.11 -0.11)\">\n       <use xlink:href=\"#DejaVuSans-31\"/>\n       <use x=\"63.623047\" xlink:href=\"#DejaVuSans-37\"/>\n       <use x=\"127.246094\" xlink:href=\"#DejaVuSans-35\"/>\n       <use x=\"190.869141\" xlink:href=\"#DejaVuSans-30\"/>\n      </g>\n     </g>\n    </g>\n    <g id=\"text_9\">\n     <!-- last_1_months_user_rating_counts -->\n     <g style=\"fill:#333333;\" transform=\"translate(135.062938 310.523906)scale(0.13 -0.13)\">\n      <defs>\n       <path d=\"M 603 4863 \nL 1178 4863 \nL 1178 0 \nL 603 0 \nL 603 4863 \nz\n\" id=\"DejaVuSans-6c\" transform=\"scale(0.015625)\"/>\n       <path d=\"M 2194 1759 \nQ 1497 1759 1228 1600 \nQ 959 1441 959 1056 \nQ 959 750 1161 570 \nQ 1363 391 1709 391 \nQ 2188 391 2477 730 \nQ 2766 1069 2766 1631 \nL 2766 1759 \nL 2194 1759 \nz\nM 3341 1997 \nL 3341 0 \nL 2766 0 \nL 2766 531 \nQ 2569 213 2275 61 \nQ 1981 -91 1556 -91 \nQ 1019 -91 701 211 \nQ 384 513 384 1019 \nQ 384 1609 779 1909 \nQ 1175 2209 1959 2209 \nL 2766 2209 \nL 2766 2266 \nQ 2766 2663 2505 2880 \nQ 2244 3097 1772 3097 \nQ 1472 3097 1187 3025 \nQ 903 2953 641 2809 \nL 641 3341 \nQ 956 3463 1253 3523 \nQ 1550 3584 1831 3584 \nQ 2591 3584 2966 3190 \nQ 3341 2797 3341 1997 \nz\n\" id=\"DejaVuSans-61\" transform=\"scale(0.015625)\"/>\n       <path d=\"M 2834 3397 \nL 2834 2853 \nQ 2591 2978 2328 3040 \nQ 2066 3103 1784 3103 \nQ 1356 3103 1142 2972 \nQ 928 2841 928 2578 \nQ 928 2378 1081 2264 \nQ 1234 2150 1697 2047 \nL 1894 2003 \nQ 2506 1872 2764 1633 \nQ 3022 1394 3022 966 \nQ 3022 478 2636 193 \nQ 2250 -91 1575 -91 \nQ 1294 -91 989 -36 \nQ 684 19 347 128 \nL 347 722 \nQ 666 556 975 473 \nQ 1284 391 1588 391 \nQ 1994 391 2212 530 \nQ 2431 669 2431 922 \nQ 2431 1156 2273 1281 \nQ 2116 1406 1581 1522 \nL 1381 1569 \nQ 847 1681 609 1914 \nQ 372 2147 372 2553 \nQ 372 3047 722 3315 \nQ 1072 3584 1716 3584 \nQ 2034 3584 2315 3537 \nQ 2597 3491 2834 3397 \nz\n\" id=\"DejaVuSans-73\" transform=\"scale(0.015625)\"/>\n       <path d=\"M 1172 4494 \nL 1172 3500 \nL 2356 3500 \nL 2356 3053 \nL 1172 3053 \nL 1172 1153 \nQ 1172 725 1289 603 \nQ 1406 481 1766 481 \nL 2356 481 \nL 2356 0 \nL 1766 0 \nQ 1100 0 847 248 \nQ 594 497 594 1153 \nL 594 3053 \nL 172 3053 \nL 172 3500 \nL 594 3500 \nL 594 4494 \nL 1172 4494 \nz\n\" id=\"DejaVuSans-74\" transform=\"scale(0.015625)\"/>\n       <path d=\"M 3263 -1063 \nL 3263 -1509 \nL -63 -1509 \nL -63 -1063 \nL 3263 -1063 \nz\n\" id=\"DejaVuSans-5f\" transform=\"scale(0.015625)\"/>\n       <path d=\"M 3328 2828 \nQ 3544 3216 3844 3400 \nQ 4144 3584 4550 3584 \nQ 5097 3584 5394 3201 \nQ 5691 2819 5691 2113 \nL 5691 0 \nL 5113 0 \nL 5113 2094 \nQ 5113 2597 4934 2840 \nQ 4756 3084 4391 3084 \nQ 3944 3084 3684 2787 \nQ 3425 2491 3425 1978 \nL 3425 0 \nL 2847 0 \nL 2847 2094 \nQ 2847 2600 2669 2842 \nQ 2491 3084 2119 3084 \nQ 1678 3084 1418 2786 \nQ 1159 2488 1159 1978 \nL 1159 0 \nL 581 0 \nL 581 3500 \nL 1159 3500 \nL 1159 2956 \nQ 1356 3278 1631 3431 \nQ 1906 3584 2284 3584 \nQ 2666 3584 2933 3390 \nQ 3200 3197 3328 2828 \nz\n\" id=\"DejaVuSans-6d\" transform=\"scale(0.015625)\"/>\n       <path d=\"M 1959 3097 \nQ 1497 3097 1228 2736 \nQ 959 2375 959 1747 \nQ 959 1119 1226 758 \nQ 1494 397 1959 397 \nQ 2419 397 2687 759 \nQ 2956 1122 2956 1747 \nQ 2956 2369 2687 2733 \nQ 2419 3097 1959 3097 \nz\nM 1959 3584 \nQ 2709 3584 3137 3096 \nQ 3566 2609 3566 1747 \nQ 3566 888 3137 398 \nQ 2709 -91 1959 -91 \nQ 1206 -91 779 398 \nQ 353 888 353 1747 \nQ 353 2609 779 3096 \nQ 1206 3584 1959 3584 \nz\n\" id=\"DejaVuSans-6f\" transform=\"scale(0.015625)\"/>\n       <path d=\"M 3513 2113 \nL 3513 0 \nL 2938 0 \nL 2938 2094 \nQ 2938 2591 2744 2837 \nQ 2550 3084 2163 3084 \nQ 1697 3084 1428 2787 \nQ 1159 2491 1159 1978 \nL 1159 0 \nL 581 0 \nL 581 3500 \nL 1159 3500 \nL 1159 2956 \nQ 1366 3272 1645 3428 \nQ 1925 3584 2291 3584 \nQ 2894 3584 3203 3211 \nQ 3513 2838 3513 2113 \nz\n\" id=\"DejaVuSans-6e\" transform=\"scale(0.015625)\"/>\n       <path d=\"M 3513 2113 \nL 3513 0 \nL 2938 0 \nL 2938 2094 \nQ 2938 2591 2744 2837 \nQ 2550 3084 2163 3084 \nQ 1697 3084 1428 2787 \nQ 1159 2491 1159 1978 \nL 1159 0 \nL 581 0 \nL 581 4863 \nL 1159 4863 \nL 1159 2956 \nQ 1366 3272 1645 3428 \nQ 1925 3584 2291 3584 \nQ 2894 3584 3203 3211 \nQ 3513 2838 3513 2113 \nz\n\" id=\"DejaVuSans-68\" transform=\"scale(0.015625)\"/>\n       <path d=\"M 544 1381 \nL 544 3500 \nL 1119 3500 \nL 1119 1403 \nQ 1119 906 1312 657 \nQ 1506 409 1894 409 \nQ 2359 409 2629 706 \nQ 2900 1003 2900 1516 \nL 2900 3500 \nL 3475 3500 \nL 3475 0 \nL 2900 0 \nL 2900 538 \nQ 2691 219 2414 64 \nQ 2138 -91 1772 -91 \nQ 1169 -91 856 284 \nQ 544 659 544 1381 \nz\nM 1991 3584 \nL 1991 3584 \nz\n\" id=\"DejaVuSans-75\" transform=\"scale(0.015625)\"/>\n       <path d=\"M 3597 1894 \nL 3597 1613 \nL 953 1613 \nQ 991 1019 1311 708 \nQ 1631 397 2203 397 \nQ 2534 397 2845 478 \nQ 3156 559 3463 722 \nL 3463 178 \nQ 3153 47 2828 -22 \nQ 2503 -91 2169 -91 \nQ 1331 -91 842 396 \nQ 353 884 353 1716 \nQ 353 2575 817 3079 \nQ 1281 3584 2069 3584 \nQ 2775 3584 3186 3129 \nQ 3597 2675 3597 1894 \nz\nM 3022 2063 \nQ 3016 2534 2758 2815 \nQ 2500 3097 2075 3097 \nQ 1594 3097 1305 2825 \nQ 1016 2553 972 2059 \nL 3022 2063 \nz\n\" id=\"DejaVuSans-65\" transform=\"scale(0.015625)\"/>\n       <path d=\"M 2631 2963 \nQ 2534 3019 2420 3045 \nQ 2306 3072 2169 3072 \nQ 1681 3072 1420 2755 \nQ 1159 2438 1159 1844 \nL 1159 0 \nL 581 0 \nL 581 3500 \nL 1159 3500 \nL 1159 2956 \nQ 1341 3275 1631 3429 \nQ 1922 3584 2338 3584 \nQ 2397 3584 2469 3576 \nQ 2541 3569 2628 3553 \nL 2631 2963 \nz\n\" id=\"DejaVuSans-72\" transform=\"scale(0.015625)\"/>\n       <path d=\"M 603 3500 \nL 1178 3500 \nL 1178 0 \nL 603 0 \nL 603 3500 \nz\nM 603 4863 \nL 1178 4863 \nL 1178 4134 \nL 603 4134 \nL 603 4863 \nz\n\" id=\"DejaVuSans-69\" transform=\"scale(0.015625)\"/>\n       <path d=\"M 2906 1791 \nQ 2906 2416 2648 2759 \nQ 2391 3103 1925 3103 \nQ 1463 3103 1205 2759 \nQ 947 2416 947 1791 \nQ 947 1169 1205 825 \nQ 1463 481 1925 481 \nQ 2391 481 2648 825 \nQ 2906 1169 2906 1791 \nz\nM 3481 434 \nQ 3481 -459 3084 -895 \nQ 2688 -1331 1869 -1331 \nQ 1566 -1331 1297 -1286 \nQ 1028 -1241 775 -1147 \nL 775 -588 \nQ 1028 -725 1275 -790 \nQ 1522 -856 1778 -856 \nQ 2344 -856 2625 -561 \nQ 2906 -266 2906 331 \nL 2906 616 \nQ 2728 306 2450 153 \nQ 2172 0 1784 0 \nQ 1141 0 747 490 \nQ 353 981 353 1791 \nQ 353 2603 747 3093 \nQ 1141 3584 1784 3584 \nQ 2172 3584 2450 3431 \nQ 2728 3278 2906 2969 \nL 2906 3500 \nL 3481 3500 \nL 3481 434 \nz\n\" id=\"DejaVuSans-67\" transform=\"scale(0.015625)\"/>\n       <path d=\"M 3122 3366 \nL 3122 2828 \nQ 2878 2963 2633 3030 \nQ 2388 3097 2138 3097 \nQ 1578 3097 1268 2742 \nQ 959 2388 959 1747 \nQ 959 1106 1268 751 \nQ 1578 397 2138 397 \nQ 2388 397 2633 464 \nQ 2878 531 3122 666 \nL 3122 134 \nQ 2881 22 2623 -34 \nQ 2366 -91 2075 -91 \nQ 1284 -91 818 406 \nQ 353 903 353 1747 \nQ 353 2603 823 3093 \nQ 1294 3584 2113 3584 \nQ 2378 3584 2631 3529 \nQ 2884 3475 3122 3366 \nz\n\" id=\"DejaVuSans-63\" transform=\"scale(0.015625)\"/>\n      </defs>\n      <use xlink:href=\"#DejaVuSans-6c\"/>\n      <use x=\"27.783203\" xlink:href=\"#DejaVuSans-61\"/>\n      <use x=\"89.0625\" xlink:href=\"#DejaVuSans-73\"/>\n      <use x=\"141.162109\" xlink:href=\"#DejaVuSans-74\"/>\n      <use x=\"180.371094\" xlink:href=\"#DejaVuSans-5f\"/>\n      <use x=\"230.371094\" xlink:href=\"#DejaVuSans-31\"/>\n      <use x=\"293.994141\" xlink:href=\"#DejaVuSans-5f\"/>\n      <use x=\"343.994141\" xlink:href=\"#DejaVuSans-6d\"/>\n      <use x=\"441.40625\" xlink:href=\"#DejaVuSans-6f\"/>\n      <use x=\"502.587891\" xlink:href=\"#DejaVuSans-6e\"/>\n      <use x=\"565.966797\" xlink:href=\"#DejaVuSans-74\"/>\n      <use x=\"605.175781\" xlink:href=\"#DejaVuSans-68\"/>\n      <use x=\"668.554688\" xlink:href=\"#DejaVuSans-73\"/>\n      <use x=\"720.654297\" xlink:href=\"#DejaVuSans-5f\"/>\n      <use x=\"770.654297\" xlink:href=\"#DejaVuSans-75\"/>\n      <use x=\"834.033203\" xlink:href=\"#DejaVuSans-73\"/>\n      <use x=\"886.132812\" xlink:href=\"#DejaVuSans-65\"/>\n      <use x=\"947.65625\" xlink:href=\"#DejaVuSans-72\"/>\n      <use x=\"988.769531\" xlink:href=\"#DejaVuSans-5f\"/>\n      <use x=\"1038.769531\" xlink:href=\"#DejaVuSans-72\"/>\n      <use x=\"1079.882812\" xlink:href=\"#DejaVuSans-61\"/>\n      <use x=\"1141.162109\" xlink:href=\"#DejaVuSans-74\"/>\n      <use x=\"1180.371094\" xlink:href=\"#DejaVuSans-69\"/>\n      <use x=\"1208.154297\" xlink:href=\"#DejaVuSans-6e\"/>\n      <use x=\"1271.533203\" xlink:href=\"#DejaVuSans-67\"/>\n      <use x=\"1335.009766\" xlink:href=\"#DejaVuSans-5f\"/>\n      <use x=\"1385.009766\" xlink:href=\"#DejaVuSans-63\"/>\n      <use x=\"1439.990234\" xlink:href=\"#DejaVuSans-6f\"/>\n      <use x=\"1501.171875\" xlink:href=\"#DejaVuSans-75\"/>\n      <use x=\"1564.550781\" xlink:href=\"#DejaVuSans-6e\"/>\n      <use x=\"1627.929688\" xlink:href=\"#DejaVuSans-74\"/>\n      <use x=\"1667.138672\" xlink:href=\"#DejaVuSans-73\"/>\n     </g>\n    </g>\n   </g>\n   <g id=\"matplotlib.axis_2\">\n    <g id=\"ytick_1\">\n     <g id=\"line2d_9\">\n      <defs>\n       <path d=\"M 0 0 \nL -3.5 0 \n\" id=\"m4bbe63aec6\" style=\"stroke:#333333;stroke-width:0.8;\"/>\n      </defs>\n      <g>\n       <use style=\"fill:#333333;stroke:#333333;stroke-width:0.8;\" x=\"79.410125\" xlink:href=\"#m4bbe63aec6\" y=\"252.565828\"/>\n      </g>\n     </g>\n     <g id=\"text_10\">\n      <!-- −1.00 -->\n      <g style=\"fill:#333333;\" transform=\"translate(38.700281 256.744969)scale(0.11 -0.11)\">\n       <defs>\n        <path d=\"M 678 2272 \nL 4684 2272 \nL 4684 1741 \nL 678 1741 \nL 678 2272 \nz\n\" id=\"DejaVuSans-2212\" transform=\"scale(0.015625)\"/>\n        <path d=\"M 684 794 \nL 1344 794 \nL 1344 0 \nL 684 0 \nL 684 794 \nz\n\" id=\"DejaVuSans-2e\" transform=\"scale(0.015625)\"/>\n       </defs>\n       <use xlink:href=\"#DejaVuSans-2212\"/>\n       <use x=\"83.789062\" xlink:href=\"#DejaVuSans-31\"/>\n       <use x=\"147.412109\" xlink:href=\"#DejaVuSans-2e\"/>\n       <use x=\"179.199219\" xlink:href=\"#DejaVuSans-30\"/>\n       <use x=\"242.822266\" xlink:href=\"#DejaVuSans-30\"/>\n      </g>\n     </g>\n    </g>\n    <g id=\"ytick_2\">\n     <g id=\"line2d_10\">\n      <g>\n       <use style=\"fill:#333333;stroke:#333333;stroke-width:0.8;\" x=\"79.410125\" xlink:href=\"#m4bbe63aec6\" y=\"219.045792\"/>\n      </g>\n     </g>\n     <g id=\"text_11\">\n      <!-- −0.75 -->\n      <g style=\"fill:#333333;\" transform=\"translate(38.700281 223.224933)scale(0.11 -0.11)\">\n       <use xlink:href=\"#DejaVuSans-2212\"/>\n       <use x=\"83.789062\" xlink:href=\"#DejaVuSans-30\"/>\n       <use x=\"147.412109\" xlink:href=\"#DejaVuSans-2e\"/>\n       <use x=\"179.199219\" xlink:href=\"#DejaVuSans-37\"/>\n       <use x=\"242.822266\" xlink:href=\"#DejaVuSans-35\"/>\n      </g>\n     </g>\n    </g>\n    <g id=\"ytick_3\">\n     <g id=\"line2d_11\">\n      <g>\n       <use style=\"fill:#333333;stroke:#333333;stroke-width:0.8;\" x=\"79.410125\" xlink:href=\"#m4bbe63aec6\" y=\"185.525756\"/>\n      </g>\n     </g>\n     <g id=\"text_12\">\n      <!-- −0.50 -->\n      <g style=\"fill:#333333;\" transform=\"translate(38.700281 189.704896)scale(0.11 -0.11)\">\n       <use xlink:href=\"#DejaVuSans-2212\"/>\n       <use x=\"83.789062\" xlink:href=\"#DejaVuSans-30\"/>\n       <use x=\"147.412109\" xlink:href=\"#DejaVuSans-2e\"/>\n       <use x=\"179.199219\" xlink:href=\"#DejaVuSans-35\"/>\n       <use x=\"242.822266\" xlink:href=\"#DejaVuSans-30\"/>\n      </g>\n     </g>\n    </g>\n    <g id=\"ytick_4\">\n     <g id=\"line2d_12\">\n      <g>\n       <use style=\"fill:#333333;stroke:#333333;stroke-width:0.8;\" x=\"79.410125\" xlink:href=\"#m4bbe63aec6\" y=\"152.00572\"/>\n      </g>\n     </g>\n     <g id=\"text_13\">\n      <!-- −0.25 -->\n      <g style=\"fill:#333333;\" transform=\"translate(38.700281 156.18486)scale(0.11 -0.11)\">\n       <use xlink:href=\"#DejaVuSans-2212\"/>\n       <use x=\"83.789062\" xlink:href=\"#DejaVuSans-30\"/>\n       <use x=\"147.412109\" xlink:href=\"#DejaVuSans-2e\"/>\n       <use x=\"179.199219\" xlink:href=\"#DejaVuSans-32\"/>\n       <use x=\"242.822266\" xlink:href=\"#DejaVuSans-35\"/>\n      </g>\n     </g>\n    </g>\n    <g id=\"ytick_5\">\n     <g id=\"line2d_13\">\n      <g>\n       <use style=\"fill:#333333;stroke:#333333;stroke-width:0.8;\" x=\"79.410125\" xlink:href=\"#m4bbe63aec6\" y=\"118.485683\"/>\n      </g>\n     </g>\n     <g id=\"text_14\">\n      <!-- 0.00 -->\n      <g style=\"fill:#333333;\" transform=\"translate(47.917938 122.664824)scale(0.11 -0.11)\">\n       <use xlink:href=\"#DejaVuSans-30\"/>\n       <use x=\"63.623047\" xlink:href=\"#DejaVuSans-2e\"/>\n       <use x=\"95.410156\" xlink:href=\"#DejaVuSans-30\"/>\n       <use x=\"159.033203\" xlink:href=\"#DejaVuSans-30\"/>\n      </g>\n     </g>\n    </g>\n    <g id=\"ytick_6\">\n     <g id=\"line2d_14\">\n      <g>\n       <use style=\"fill:#333333;stroke:#333333;stroke-width:0.8;\" x=\"79.410125\" xlink:href=\"#m4bbe63aec6\" y=\"84.965647\"/>\n      </g>\n     </g>\n     <g id=\"text_15\">\n      <!-- 0.25 -->\n      <g style=\"fill:#333333;\" transform=\"translate(47.917938 89.144788)scale(0.11 -0.11)\">\n       <use xlink:href=\"#DejaVuSans-30\"/>\n       <use x=\"63.623047\" xlink:href=\"#DejaVuSans-2e\"/>\n       <use x=\"95.410156\" xlink:href=\"#DejaVuSans-32\"/>\n       <use x=\"159.033203\" xlink:href=\"#DejaVuSans-35\"/>\n      </g>\n     </g>\n    </g>\n    <g id=\"ytick_7\">\n     <g id=\"line2d_15\">\n      <g>\n       <use style=\"fill:#333333;stroke:#333333;stroke-width:0.8;\" x=\"79.410125\" xlink:href=\"#m4bbe63aec6\" y=\"51.445611\"/>\n      </g>\n     </g>\n     <g id=\"text_16\">\n      <!-- 0.50 -->\n      <g style=\"fill:#333333;\" transform=\"translate(47.917938 55.624752)scale(0.11 -0.11)\">\n       <use xlink:href=\"#DejaVuSans-30\"/>\n       <use x=\"63.623047\" xlink:href=\"#DejaVuSans-2e\"/>\n       <use x=\"95.410156\" xlink:href=\"#DejaVuSans-35\"/>\n       <use x=\"159.033203\" xlink:href=\"#DejaVuSans-30\"/>\n      </g>\n     </g>\n    </g>\n    <g id=\"ytick_8\">\n     <g id=\"line2d_16\">\n      <g>\n       <use style=\"fill:#333333;stroke:#333333;stroke-width:0.8;\" x=\"79.410125\" xlink:href=\"#m4bbe63aec6\" y=\"17.925575\"/>\n      </g>\n     </g>\n     <g id=\"text_17\">\n      <!-- 0.75 -->\n      <g style=\"fill:#333333;\" transform=\"translate(47.917938 22.104715)scale(0.11 -0.11)\">\n       <use xlink:href=\"#DejaVuSans-30\"/>\n       <use x=\"63.623047\" xlink:href=\"#DejaVuSans-2e\"/>\n       <use x=\"95.410156\" xlink:href=\"#DejaVuSans-37\"/>\n       <use x=\"159.033203\" xlink:href=\"#DejaVuSans-35\"/>\n      </g>\n     </g>\n    </g>\n    <g id=\"text_18\">\n     <!-- SHAP value for -->\n     <g style=\"fill:#333333;\" transform=\"translate(17.077969 191.304609)rotate(-90)scale(0.13 -0.13)\">\n      <defs>\n       <path d=\"M 3425 4513 \nL 3425 3897 \nQ 3066 4069 2747 4153 \nQ 2428 4238 2131 4238 \nQ 1616 4238 1336 4038 \nQ 1056 3838 1056 3469 \nQ 1056 3159 1242 3001 \nQ 1428 2844 1947 2747 \nL 2328 2669 \nQ 3034 2534 3370 2195 \nQ 3706 1856 3706 1288 \nQ 3706 609 3251 259 \nQ 2797 -91 1919 -91 \nQ 1588 -91 1214 -16 \nQ 841 59 441 206 \nL 441 856 \nQ 825 641 1194 531 \nQ 1563 422 1919 422 \nQ 2459 422 2753 634 \nQ 3047 847 3047 1241 \nQ 3047 1584 2836 1778 \nQ 2625 1972 2144 2069 \nL 1759 2144 \nQ 1053 2284 737 2584 \nQ 422 2884 422 3419 \nQ 422 4038 858 4394 \nQ 1294 4750 2059 4750 \nQ 2388 4750 2728 4690 \nQ 3069 4631 3425 4513 \nz\n\" id=\"DejaVuSans-53\" transform=\"scale(0.015625)\"/>\n       <path d=\"M 628 4666 \nL 1259 4666 \nL 1259 2753 \nL 3553 2753 \nL 3553 4666 \nL 4184 4666 \nL 4184 0 \nL 3553 0 \nL 3553 2222 \nL 1259 2222 \nL 1259 0 \nL 628 0 \nL 628 4666 \nz\n\" id=\"DejaVuSans-48\" transform=\"scale(0.015625)\"/>\n       <path d=\"M 2188 4044 \nL 1331 1722 \nL 3047 1722 \nL 2188 4044 \nz\nM 1831 4666 \nL 2547 4666 \nL 4325 0 \nL 3669 0 \nL 3244 1197 \nL 1141 1197 \nL 716 0 \nL 50 0 \nL 1831 4666 \nz\n\" id=\"DejaVuSans-41\" transform=\"scale(0.015625)\"/>\n       <path d=\"M 1259 4147 \nL 1259 2394 \nL 2053 2394 \nQ 2494 2394 2734 2622 \nQ 2975 2850 2975 3272 \nQ 2975 3691 2734 3919 \nQ 2494 4147 2053 4147 \nL 1259 4147 \nz\nM 628 4666 \nL 2053 4666 \nQ 2838 4666 3239 4311 \nQ 3641 3956 3641 3272 \nQ 3641 2581 3239 2228 \nQ 2838 1875 2053 1875 \nL 1259 1875 \nL 1259 0 \nL 628 0 \nL 628 4666 \nz\n\" id=\"DejaVuSans-50\" transform=\"scale(0.015625)\"/>\n       <path id=\"DejaVuSans-20\" transform=\"scale(0.015625)\"/>\n       <path d=\"M 191 3500 \nL 800 3500 \nL 1894 563 \nL 2988 3500 \nL 3597 3500 \nL 2284 0 \nL 1503 0 \nL 191 3500 \nz\n\" id=\"DejaVuSans-76\" transform=\"scale(0.015625)\"/>\n       <path d=\"M 2375 4863 \nL 2375 4384 \nL 1825 4384 \nQ 1516 4384 1395 4259 \nQ 1275 4134 1275 3809 \nL 1275 3500 \nL 2222 3500 \nL 2222 3053 \nL 1275 3053 \nL 1275 0 \nL 697 0 \nL 697 3053 \nL 147 3053 \nL 147 3500 \nL 697 3500 \nL 697 3744 \nQ 697 4328 969 4595 \nQ 1241 4863 1831 4863 \nL 2375 4863 \nz\n\" id=\"DejaVuSans-66\" transform=\"scale(0.015625)\"/>\n      </defs>\n      <use xlink:href=\"#DejaVuSans-53\"/>\n      <use x=\"63.476562\" xlink:href=\"#DejaVuSans-48\"/>\n      <use x=\"138.671875\" xlink:href=\"#DejaVuSans-41\"/>\n      <use x=\"207.080078\" xlink:href=\"#DejaVuSans-50\"/>\n      <use x=\"267.382812\" xlink:href=\"#DejaVuSans-20\"/>\n      <use x=\"299.169922\" xlink:href=\"#DejaVuSans-76\"/>\n      <use x=\"358.349609\" xlink:href=\"#DejaVuSans-61\"/>\n      <use x=\"419.628906\" xlink:href=\"#DejaVuSans-6c\"/>\n      <use x=\"447.412109\" xlink:href=\"#DejaVuSans-75\"/>\n      <use x=\"510.791016\" xlink:href=\"#DejaVuSans-65\"/>\n      <use x=\"572.314453\" xlink:href=\"#DejaVuSans-20\"/>\n      <use x=\"604.101562\" xlink:href=\"#DejaVuSans-66\"/>\n      <use x=\"639.306641\" xlink:href=\"#DejaVuSans-6f\"/>\n      <use x=\"700.488281\" xlink:href=\"#DejaVuSans-72\"/>\n     </g>\n     <!-- last_1_months_user_rating_counts -->\n     <g style=\"fill:#333333;\" transform=\"translate(31.635125 254.847188)rotate(-90)scale(0.13 -0.13)\">\n      <use xlink:href=\"#DejaVuSans-6c\"/>\n      <use x=\"27.783203\" xlink:href=\"#DejaVuSans-61\"/>\n      <use x=\"89.0625\" xlink:href=\"#DejaVuSans-73\"/>\n      <use x=\"141.162109\" xlink:href=\"#DejaVuSans-74\"/>\n      <use x=\"180.371094\" xlink:href=\"#DejaVuSans-5f\"/>\n      <use x=\"230.371094\" xlink:href=\"#DejaVuSans-31\"/>\n      <use x=\"293.994141\" xlink:href=\"#DejaVuSans-5f\"/>\n      <use x=\"343.994141\" xlink:href=\"#DejaVuSans-6d\"/>\n      <use x=\"441.40625\" xlink:href=\"#DejaVuSans-6f\"/>\n      <use x=\"502.587891\" xlink:href=\"#DejaVuSans-6e\"/>\n      <use x=\"565.966797\" xlink:href=\"#DejaVuSans-74\"/>\n      <use x=\"605.175781\" xlink:href=\"#DejaVuSans-68\"/>\n      <use x=\"668.554688\" xlink:href=\"#DejaVuSans-73\"/>\n      <use x=\"720.654297\" xlink:href=\"#DejaVuSans-5f\"/>\n      <use x=\"770.654297\" xlink:href=\"#DejaVuSans-75\"/>\n      <use x=\"834.033203\" xlink:href=\"#DejaVuSans-73\"/>\n      <use x=\"886.132812\" xlink:href=\"#DejaVuSans-65\"/>\n      <use x=\"947.65625\" xlink:href=\"#DejaVuSans-72\"/>\n      <use x=\"988.769531\" xlink:href=\"#DejaVuSans-5f\"/>\n      <use x=\"1038.769531\" xlink:href=\"#DejaVuSans-72\"/>\n      <use x=\"1079.882812\" xlink:href=\"#DejaVuSans-61\"/>\n      <use x=\"1141.162109\" xlink:href=\"#DejaVuSans-74\"/>\n      <use x=\"1180.371094\" xlink:href=\"#DejaVuSans-69\"/>\n      <use x=\"1208.154297\" xlink:href=\"#DejaVuSans-6e\"/>\n      <use x=\"1271.533203\" xlink:href=\"#DejaVuSans-67\"/>\n      <use x=\"1335.009766\" xlink:href=\"#DejaVuSans-5f\"/>\n      <use x=\"1385.009766\" xlink:href=\"#DejaVuSans-63\"/>\n      <use x=\"1439.990234\" xlink:href=\"#DejaVuSans-6f\"/>\n      <use x=\"1501.171875\" xlink:href=\"#DejaVuSans-75\"/>\n      <use x=\"1564.550781\" xlink:href=\"#DejaVuSans-6e\"/>\n      <use x=\"1627.929688\" xlink:href=\"#DejaVuSans-74\"/>\n      <use x=\"1667.138672\" xlink:href=\"#DejaVuSans-73\"/>\n     </g>\n    </g>\n   </g>\n   <g id=\"patch_3\">\n    <path d=\"M 79.410125 279 \nL 79.410125 7.2 \n\" style=\"fill:none;stroke:#333333;stroke-linecap:square;stroke-linejoin:miter;stroke-width:0.8;\"/>\n   </g>\n   <g id=\"patch_4\">\n    <path d=\"M 79.410125 279 \nL 414.210125 279 \n\" style=\"fill:none;stroke:#333333;stroke-linecap:square;stroke-linejoin:miter;stroke-width:0.8;\"/>\n   </g>\n  </g>\n </g>\n</svg>\n",
      "image/png": "[encoded data removed]"
     },
     "metadata": {
      "needs_background": "light"
     }
    }
   ],
   "source": [
    "shap.dependence_plot(\"last_1_months_user_rating_counts\", shap_values[1], X_test,interaction_index=None,alpha=0.1)"
   ]
  },
  {
   "source": [
    "For fifth important variable we have the counts of times a user has rate movies in the last month. There outliers that could be errors and can be checked because it seems difficult to a user to rate so much movies. Lets see the plot excluding values higher than the percentile 95"
   ],
   "cell_type": "markdown",
   "metadata": {}
  },
  {
   "cell_type": "code",
   "execution_count": 132,
   "metadata": {},
   "outputs": [
    {
     "output_type": "display_data",
     "data": {
      "text/plain": "<Figure size 432x360 with 1 Axes>",
      "image/svg+xml": "<?xml version=\"1.0\" encoding=\"utf-8\" standalone=\"no\"?>\n<!DOCTYPE svg PUBLIC \"-//W3C//DTD SVG 1.1//EN\"\n  \"http://www.w3.org/Graphics/SVG/1.1/DTD/svg11.dtd\">\n<svg height=\"320.789062pt\" version=\"1.1\" viewBox=\"0 0 421.410125 320.789062\" width=\"421.410125pt\" xmlns=\"http://www.w3.org/2000/svg\" xmlns:xlink=\"http://www.w3.org/1999/xlink\">\n <metadata>\n  <rdf:RDF xmlns:cc=\"http://creativecommons.org/ns#\" xmlns:dc=\"http://purl.org/dc/elements/1.1/\" xmlns:rdf=\"http://www.w3.org/1999/02/22-rdf-syntax-ns#\">\n   <cc:Work>\n    <dc:type rdf:resource=\"http://purl.org/dc/dcmitype/StillImage\"/>\n    <dc:date>2021-04-11T16:08:23.011145</dc:date>\n    <dc:format>image/svg+xml</dc:format>\n    <dc:creator>\n     <cc:Agent>\n      <dc:title>Matplotlib v3.4.1, https://matplotlib.org/</dc:title>\n     </cc:Agent>\n    </dc:creator>\n   </cc:Work>\n  </rdf:RDF>\n </metadata>\n <defs>\n  <style type=\"text/css\">*{stroke-linecap:butt;stroke-linejoin:round;}</style>\n </defs>\n <g id=\"figure_1\">\n  <g id=\"patch_1\">\n   <path d=\"M 0 320.789062 \nL 421.410125 320.789062 \nL 421.410125 0 \nL 0 0 \nz\n\" style=\"fill:none;\"/>\n  </g>\n  <g id=\"axes_1\">\n   <g id=\"patch_2\">\n    <path d=\"M 79.410125 279 \nL 414.210125 279 \nL 414.210125 7.2 \nL 79.410125 7.2 \nz\n\" style=\"fill:#ffffff;\"/>\n   </g>\n   <image height=\"178\" id=\"image97d9ffb0d9\" transform=\"scale(1 -1)translate(0 -178)\" width=\"322\" x=\"93\" xlink:href=\"data:image/png;base64,\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\" y=\"-52\"/>\n   <g id=\"PathCollection_1\"/>\n   <g id=\"matplotlib.axis_1\">\n    <g id=\"xtick_1\">\n     <g id=\"line2d_1\">\n      <defs>\n       <path d=\"M 0 0 \nL 0 3.5 \n\" id=\"m13c2648611\" style=\"stroke:#333333;stroke-width:0.8;\"/>\n      </defs>\n      <g>\n       <use style=\"fill:#333333;stroke:#333333;stroke-width:0.8;\" x=\"93.62943\" xlink:href=\"#m13c2648611\" y=\"279\"/>\n      </g>\n     </g>\n     <g id=\"text_1\">\n      <!-- 0 -->\n      <g style=\"fill:#333333;\" transform=\"translate(90.130055 294.358281)scale(0.11 -0.11)\">\n       <defs>\n        <path d=\"M 2034 4250 \nQ 1547 4250 1301 3770 \nQ 1056 3291 1056 2328 \nQ 1056 1369 1301 889 \nQ 1547 409 2034 409 \nQ 2525 409 2770 889 \nQ 3016 1369 3016 2328 \nQ 3016 3291 2770 3770 \nQ 2525 4250 2034 4250 \nz\nM 2034 4750 \nQ 2819 4750 3233 4129 \nQ 3647 3509 3647 2328 \nQ 3647 1150 3233 529 \nQ 2819 -91 2034 -91 \nQ 1250 -91 836 529 \nQ 422 1150 422 2328 \nQ 422 3509 836 4129 \nQ 1250 4750 2034 4750 \nz\n\" id=\"DejaVuSans-30\" transform=\"scale(0.015625)\"/>\n       </defs>\n       <use xlink:href=\"#DejaVuSans-30\"/>\n      </g>\n     </g>\n    </g>\n    <g id=\"xtick_2\">\n     <g id=\"line2d_2\">\n      <g>\n       <use style=\"fill:#333333;stroke:#333333;stroke-width:0.8;\" x=\"136.718233\" xlink:href=\"#m13c2648611\" y=\"279\"/>\n      </g>\n     </g>\n     <g id=\"text_2\">\n      <!-- 25 -->\n      <g style=\"fill:#333333;\" transform=\"translate(129.719483 294.358281)scale(0.11 -0.11)\">\n       <defs>\n        <path d=\"M 1228 531 \nL 3431 531 \nL 3431 0 \nL 469 0 \nL 469 531 \nQ 828 903 1448 1529 \nQ 2069 2156 2228 2338 \nQ 2531 2678 2651 2914 \nQ 2772 3150 2772 3378 \nQ 2772 3750 2511 3984 \nQ 2250 4219 1831 4219 \nQ 1534 4219 1204 4116 \nQ 875 4013 500 3803 \nL 500 4441 \nQ 881 4594 1212 4672 \nQ 1544 4750 1819 4750 \nQ 2544 4750 2975 4387 \nQ 3406 4025 3406 3419 \nQ 3406 3131 3298 2873 \nQ 3191 2616 2906 2266 \nQ 2828 2175 2409 1742 \nQ 1991 1309 1228 531 \nz\n\" id=\"DejaVuSans-32\" transform=\"scale(0.015625)\"/>\n        <path d=\"M 691 4666 \nL 3169 4666 \nL 3169 4134 \nL 1269 4134 \nL 1269 2991 \nQ 1406 3038 1543 3061 \nQ 1681 3084 1819 3084 \nQ 2600 3084 3056 2656 \nQ 3513 2228 3513 1497 \nQ 3513 744 3044 326 \nQ 2575 -91 1722 -91 \nQ 1428 -91 1123 -41 \nQ 819 9 494 109 \nL 494 744 \nQ 775 591 1075 516 \nQ 1375 441 1709 441 \nQ 2250 441 2565 725 \nQ 2881 1009 2881 1497 \nQ 2881 1984 2565 2268 \nQ 2250 2553 1709 2553 \nQ 1456 2553 1204 2497 \nQ 953 2441 691 2322 \nL 691 4666 \nz\n\" id=\"DejaVuSans-35\" transform=\"scale(0.015625)\"/>\n       </defs>\n       <use xlink:href=\"#DejaVuSans-32\"/>\n       <use x=\"63.623047\" xlink:href=\"#DejaVuSans-35\"/>\n      </g>\n     </g>\n    </g>\n    <g id=\"xtick_3\">\n     <g id=\"line2d_3\">\n      <g>\n       <use style=\"fill:#333333;stroke:#333333;stroke-width:0.8;\" x=\"179.807036\" xlink:href=\"#m13c2648611\" y=\"279\"/>\n      </g>\n     </g>\n     <g id=\"text_3\">\n      <!-- 50 -->\n      <g style=\"fill:#333333;\" transform=\"translate(172.808286 294.358281)scale(0.11 -0.11)\">\n       <use xlink:href=\"#DejaVuSans-35\"/>\n       <use x=\"63.623047\" xlink:href=\"#DejaVuSans-30\"/>\n      </g>\n     </g>\n    </g>\n    <g id=\"xtick_4\">\n     <g id=\"line2d_4\">\n      <g>\n       <use style=\"fill:#333333;stroke:#333333;stroke-width:0.8;\" x=\"222.895839\" xlink:href=\"#m13c2648611\" y=\"279\"/>\n      </g>\n     </g>\n     <g id=\"text_4\">\n      <!-- 75 -->\n      <g style=\"fill:#333333;\" transform=\"translate(215.897089 294.358281)scale(0.11 -0.11)\">\n       <defs>\n        <path d=\"M 525 4666 \nL 3525 4666 \nL 3525 4397 \nL 1831 0 \nL 1172 0 \nL 2766 4134 \nL 525 4134 \nL 525 4666 \nz\n\" id=\"DejaVuSans-37\" transform=\"scale(0.015625)\"/>\n       </defs>\n       <use xlink:href=\"#DejaVuSans-37\"/>\n       <use x=\"63.623047\" xlink:href=\"#DejaVuSans-35\"/>\n      </g>\n     </g>\n    </g>\n    <g id=\"xtick_5\">\n     <g id=\"line2d_5\">\n      <g>\n       <use style=\"fill:#333333;stroke:#333333;stroke-width:0.8;\" x=\"265.984642\" xlink:href=\"#m13c2648611\" y=\"279\"/>\n      </g>\n     </g>\n     <g id=\"text_5\">\n      <!-- 100 -->\n      <g style=\"fill:#333333;\" transform=\"translate(255.486517 294.358281)scale(0.11 -0.11)\">\n       <defs>\n        <path d=\"M 794 531 \nL 1825 531 \nL 1825 4091 \nL 703 3866 \nL 703 4441 \nL 1819 4666 \nL 2450 4666 \nL 2450 531 \nL 3481 531 \nL 3481 0 \nL 794 0 \nL 794 531 \nz\n\" id=\"DejaVuSans-31\" transform=\"scale(0.015625)\"/>\n       </defs>\n       <use xlink:href=\"#DejaVuSans-31\"/>\n       <use x=\"63.623047\" xlink:href=\"#DejaVuSans-30\"/>\n       <use x=\"127.246094\" xlink:href=\"#DejaVuSans-30\"/>\n      </g>\n     </g>\n    </g>\n    <g id=\"xtick_6\">\n     <g id=\"line2d_6\">\n      <g>\n       <use style=\"fill:#333333;stroke:#333333;stroke-width:0.8;\" x=\"309.073445\" xlink:href=\"#m13c2648611\" y=\"279\"/>\n      </g>\n     </g>\n     <g id=\"text_6\">\n      <!-- 125 -->\n      <g style=\"fill:#333333;\" transform=\"translate(298.57532 294.358281)scale(0.11 -0.11)\">\n       <use xlink:href=\"#DejaVuSans-31\"/>\n       <use x=\"63.623047\" xlink:href=\"#DejaVuSans-32\"/>\n       <use x=\"127.246094\" xlink:href=\"#DejaVuSans-35\"/>\n      </g>\n     </g>\n    </g>\n    <g id=\"xtick_7\">\n     <g id=\"line2d_7\">\n      <g>\n       <use style=\"fill:#333333;stroke:#333333;stroke-width:0.8;\" x=\"352.162249\" xlink:href=\"#m13c2648611\" y=\"279\"/>\n      </g>\n     </g>\n     <g id=\"text_7\">\n      <!-- 150 -->\n      <g style=\"fill:#333333;\" transform=\"translate(341.664124 294.358281)scale(0.11 -0.11)\">\n       <use xlink:href=\"#DejaVuSans-31\"/>\n       <use x=\"63.623047\" xlink:href=\"#DejaVuSans-35\"/>\n       <use x=\"127.246094\" xlink:href=\"#DejaVuSans-30\"/>\n      </g>\n     </g>\n    </g>\n    <g id=\"xtick_8\">\n     <g id=\"line2d_8\">\n      <g>\n       <use style=\"fill:#333333;stroke:#333333;stroke-width:0.8;\" x=\"395.251052\" xlink:href=\"#m13c2648611\" y=\"279\"/>\n      </g>\n     </g>\n     <g id=\"text_8\">\n      <!-- 175 -->\n      <g style=\"fill:#333333;\" transform=\"translate(384.752927 294.358281)scale(0.11 -0.11)\">\n       <use xlink:href=\"#DejaVuSans-31\"/>\n       <use x=\"63.623047\" xlink:href=\"#DejaVuSans-37\"/>\n       <use x=\"127.246094\" xlink:href=\"#DejaVuSans-35\"/>\n      </g>\n     </g>\n    </g>\n    <g id=\"text_9\">\n     <!-- last_1_months_user_rating_counts -->\n     <g style=\"fill:#333333;\" transform=\"translate(135.062938 310.523906)scale(0.13 -0.13)\">\n      <defs>\n       <path d=\"M 603 4863 \nL 1178 4863 \nL 1178 0 \nL 603 0 \nL 603 4863 \nz\n\" id=\"DejaVuSans-6c\" transform=\"scale(0.015625)\"/>\n       <path d=\"M 2194 1759 \nQ 1497 1759 1228 1600 \nQ 959 1441 959 1056 \nQ 959 750 1161 570 \nQ 1363 391 1709 391 \nQ 2188 391 2477 730 \nQ 2766 1069 2766 1631 \nL 2766 1759 \nL 2194 1759 \nz\nM 3341 1997 \nL 3341 0 \nL 2766 0 \nL 2766 531 \nQ 2569 213 2275 61 \nQ 1981 -91 1556 -91 \nQ 1019 -91 701 211 \nQ 384 513 384 1019 \nQ 384 1609 779 1909 \nQ 1175 2209 1959 2209 \nL 2766 2209 \nL 2766 2266 \nQ 2766 2663 2505 2880 \nQ 2244 3097 1772 3097 \nQ 1472 3097 1187 3025 \nQ 903 2953 641 2809 \nL 641 3341 \nQ 956 3463 1253 3523 \nQ 1550 3584 1831 3584 \nQ 2591 3584 2966 3190 \nQ 3341 2797 3341 1997 \nz\n\" id=\"DejaVuSans-61\" transform=\"scale(0.015625)\"/>\n       <path d=\"M 2834 3397 \nL 2834 2853 \nQ 2591 2978 2328 3040 \nQ 2066 3103 1784 3103 \nQ 1356 3103 1142 2972 \nQ 928 2841 928 2578 \nQ 928 2378 1081 2264 \nQ 1234 2150 1697 2047 \nL 1894 2003 \nQ 2506 1872 2764 1633 \nQ 3022 1394 3022 966 \nQ 3022 478 2636 193 \nQ 2250 -91 1575 -91 \nQ 1294 -91 989 -36 \nQ 684 19 347 128 \nL 347 722 \nQ 666 556 975 473 \nQ 1284 391 1588 391 \nQ 1994 391 2212 530 \nQ 2431 669 2431 922 \nQ 2431 1156 2273 1281 \nQ 2116 1406 1581 1522 \nL 1381 1569 \nQ 847 1681 609 1914 \nQ 372 2147 372 2553 \nQ 372 3047 722 3315 \nQ 1072 3584 1716 3584 \nQ 2034 3584 2315 3537 \nQ 2597 3491 2834 3397 \nz\n\" id=\"DejaVuSans-73\" transform=\"scale(0.015625)\"/>\n       <path d=\"M 1172 4494 \nL 1172 3500 \nL 2356 3500 \nL 2356 3053 \nL 1172 3053 \nL 1172 1153 \nQ 1172 725 1289 603 \nQ 1406 481 1766 481 \nL 2356 481 \nL 2356 0 \nL 1766 0 \nQ 1100 0 847 248 \nQ 594 497 594 1153 \nL 594 3053 \nL 172 3053 \nL 172 3500 \nL 594 3500 \nL 594 4494 \nL 1172 4494 \nz\n\" id=\"DejaVuSans-74\" transform=\"scale(0.015625)\"/>\n       <path d=\"M 3263 -1063 \nL 3263 -1509 \nL -63 -1509 \nL -63 -1063 \nL 3263 -1063 \nz\n\" id=\"DejaVuSans-5f\" transform=\"scale(0.015625)\"/>\n       <path d=\"M 3328 2828 \nQ 3544 3216 3844 3400 \nQ 4144 3584 4550 3584 \nQ 5097 3584 5394 3201 \nQ 5691 2819 5691 2113 \nL 5691 0 \nL 5113 0 \nL 5113 2094 \nQ 5113 2597 4934 2840 \nQ 4756 3084 4391 3084 \nQ 3944 3084 3684 2787 \nQ 3425 2491 3425 1978 \nL 3425 0 \nL 2847 0 \nL 2847 2094 \nQ 2847 2600 2669 2842 \nQ 2491 3084 2119 3084 \nQ 1678 3084 1418 2786 \nQ 1159 2488 1159 1978 \nL 1159 0 \nL 581 0 \nL 581 3500 \nL 1159 3500 \nL 1159 2956 \nQ 1356 3278 1631 3431 \nQ 1906 3584 2284 3584 \nQ 2666 3584 2933 3390 \nQ 3200 3197 3328 2828 \nz\n\" id=\"DejaVuSans-6d\" transform=\"scale(0.015625)\"/>\n       <path d=\"M 1959 3097 \nQ 1497 3097 1228 2736 \nQ 959 2375 959 1747 \nQ 959 1119 1226 758 \nQ 1494 397 1959 397 \nQ 2419 397 2687 759 \nQ 2956 1122 2956 1747 \nQ 2956 2369 2687 2733 \nQ 2419 3097 1959 3097 \nz\nM 1959 3584 \nQ 2709 3584 3137 3096 \nQ 3566 2609 3566 1747 \nQ 3566 888 3137 398 \nQ 2709 -91 1959 -91 \nQ 1206 -91 779 398 \nQ 353 888 353 1747 \nQ 353 2609 779 3096 \nQ 1206 3584 1959 3584 \nz\n\" id=\"DejaVuSans-6f\" transform=\"scale(0.015625)\"/>\n       <path d=\"M 3513 2113 \nL 3513 0 \nL 2938 0 \nL 2938 2094 \nQ 2938 2591 2744 2837 \nQ 2550 3084 2163 3084 \nQ 1697 3084 1428 2787 \nQ 1159 2491 1159 1978 \nL 1159 0 \nL 581 0 \nL 581 3500 \nL 1159 3500 \nL 1159 2956 \nQ 1366 3272 1645 3428 \nQ 1925 3584 2291 3584 \nQ 2894 3584 3203 3211 \nQ 3513 2838 3513 2113 \nz\n\" id=\"DejaVuSans-6e\" transform=\"scale(0.015625)\"/>\n       <path d=\"M 3513 2113 \nL 3513 0 \nL 2938 0 \nL 2938 2094 \nQ 2938 2591 2744 2837 \nQ 2550 3084 2163 3084 \nQ 1697 3084 1428 2787 \nQ 1159 2491 1159 1978 \nL 1159 0 \nL 581 0 \nL 581 4863 \nL 1159 4863 \nL 1159 2956 \nQ 1366 3272 1645 3428 \nQ 1925 3584 2291 3584 \nQ 2894 3584 3203 3211 \nQ 3513 2838 3513 2113 \nz\n\" id=\"DejaVuSans-68\" transform=\"scale(0.015625)\"/>\n       <path d=\"M 544 1381 \nL 544 3500 \nL 1119 3500 \nL 1119 1403 \nQ 1119 906 1312 657 \nQ 1506 409 1894 409 \nQ 2359 409 2629 706 \nQ 2900 1003 2900 1516 \nL 2900 3500 \nL 3475 3500 \nL 3475 0 \nL 2900 0 \nL 2900 538 \nQ 2691 219 2414 64 \nQ 2138 -91 1772 -91 \nQ 1169 -91 856 284 \nQ 544 659 544 1381 \nz\nM 1991 3584 \nL 1991 3584 \nz\n\" id=\"DejaVuSans-75\" transform=\"scale(0.015625)\"/>\n       <path d=\"M 3597 1894 \nL 3597 1613 \nL 953 1613 \nQ 991 1019 1311 708 \nQ 1631 397 2203 397 \nQ 2534 397 2845 478 \nQ 3156 559 3463 722 \nL 3463 178 \nQ 3153 47 2828 -22 \nQ 2503 -91 2169 -91 \nQ 1331 -91 842 396 \nQ 353 884 353 1716 \nQ 353 2575 817 3079 \nQ 1281 3584 2069 3584 \nQ 2775 3584 3186 3129 \nQ 3597 2675 3597 1894 \nz\nM 3022 2063 \nQ 3016 2534 2758 2815 \nQ 2500 3097 2075 3097 \nQ 1594 3097 1305 2825 \nQ 1016 2553 972 2059 \nL 3022 2063 \nz\n\" id=\"DejaVuSans-65\" transform=\"scale(0.015625)\"/>\n       <path d=\"M 2631 2963 \nQ 2534 3019 2420 3045 \nQ 2306 3072 2169 3072 \nQ 1681 3072 1420 2755 \nQ 1159 2438 1159 1844 \nL 1159 0 \nL 581 0 \nL 581 3500 \nL 1159 3500 \nL 1159 2956 \nQ 1341 3275 1631 3429 \nQ 1922 3584 2338 3584 \nQ 2397 3584 2469 3576 \nQ 2541 3569 2628 3553 \nL 2631 2963 \nz\n\" id=\"DejaVuSans-72\" transform=\"scale(0.015625)\"/>\n       <path d=\"M 603 3500 \nL 1178 3500 \nL 1178 0 \nL 603 0 \nL 603 3500 \nz\nM 603 4863 \nL 1178 4863 \nL 1178 4134 \nL 603 4134 \nL 603 4863 \nz\n\" id=\"DejaVuSans-69\" transform=\"scale(0.015625)\"/>\n       <path d=\"M 2906 1791 \nQ 2906 2416 2648 2759 \nQ 2391 3103 1925 3103 \nQ 1463 3103 1205 2759 \nQ 947 2416 947 1791 \nQ 947 1169 1205 825 \nQ 1463 481 1925 481 \nQ 2391 481 2648 825 \nQ 2906 1169 2906 1791 \nz\nM 3481 434 \nQ 3481 -459 3084 -895 \nQ 2688 -1331 1869 -1331 \nQ 1566 -1331 1297 -1286 \nQ 1028 -1241 775 -1147 \nL 775 -588 \nQ 1028 -725 1275 -790 \nQ 1522 -856 1778 -856 \nQ 2344 -856 2625 -561 \nQ 2906 -266 2906 331 \nL 2906 616 \nQ 2728 306 2450 153 \nQ 2172 0 1784 0 \nQ 1141 0 747 490 \nQ 353 981 353 1791 \nQ 353 2603 747 3093 \nQ 1141 3584 1784 3584 \nQ 2172 3584 2450 3431 \nQ 2728 3278 2906 2969 \nL 2906 3500 \nL 3481 3500 \nL 3481 434 \nz\n\" id=\"DejaVuSans-67\" transform=\"scale(0.015625)\"/>\n       <path d=\"M 3122 3366 \nL 3122 2828 \nQ 2878 2963 2633 3030 \nQ 2388 3097 2138 3097 \nQ 1578 3097 1268 2742 \nQ 959 2388 959 1747 \nQ 959 1106 1268 751 \nQ 1578 397 2138 397 \nQ 2388 397 2633 464 \nQ 2878 531 3122 666 \nL 3122 134 \nQ 2881 22 2623 -34 \nQ 2366 -91 2075 -91 \nQ 1284 -91 818 406 \nQ 353 903 353 1747 \nQ 353 2603 823 3093 \nQ 1294 3584 2113 3584 \nQ 2378 3584 2631 3529 \nQ 2884 3475 3122 3366 \nz\n\" id=\"DejaVuSans-63\" transform=\"scale(0.015625)\"/>\n      </defs>\n      <use xlink:href=\"#DejaVuSans-6c\"/>\n      <use x=\"27.783203\" xlink:href=\"#DejaVuSans-61\"/>\n      <use x=\"89.0625\" xlink:href=\"#DejaVuSans-73\"/>\n      <use x=\"141.162109\" xlink:href=\"#DejaVuSans-74\"/>\n      <use x=\"180.371094\" xlink:href=\"#DejaVuSans-5f\"/>\n      <use x=\"230.371094\" xlink:href=\"#DejaVuSans-31\"/>\n      <use x=\"293.994141\" xlink:href=\"#DejaVuSans-5f\"/>\n      <use x=\"343.994141\" xlink:href=\"#DejaVuSans-6d\"/>\n      <use x=\"441.40625\" xlink:href=\"#DejaVuSans-6f\"/>\n      <use x=\"502.587891\" xlink:href=\"#DejaVuSans-6e\"/>\n      <use x=\"565.966797\" xlink:href=\"#DejaVuSans-74\"/>\n      <use x=\"605.175781\" xlink:href=\"#DejaVuSans-68\"/>\n      <use x=\"668.554688\" xlink:href=\"#DejaVuSans-73\"/>\n      <use x=\"720.654297\" xlink:href=\"#DejaVuSans-5f\"/>\n      <use x=\"770.654297\" xlink:href=\"#DejaVuSans-75\"/>\n      <use x=\"834.033203\" xlink:href=\"#DejaVuSans-73\"/>\n      <use x=\"886.132812\" xlink:href=\"#DejaVuSans-65\"/>\n      <use x=\"947.65625\" xlink:href=\"#DejaVuSans-72\"/>\n      <use x=\"988.769531\" xlink:href=\"#DejaVuSans-5f\"/>\n      <use x=\"1038.769531\" xlink:href=\"#DejaVuSans-72\"/>\n      <use x=\"1079.882812\" xlink:href=\"#DejaVuSans-61\"/>\n      <use x=\"1141.162109\" xlink:href=\"#DejaVuSans-74\"/>\n      <use x=\"1180.371094\" xlink:href=\"#DejaVuSans-69\"/>\n      <use x=\"1208.154297\" xlink:href=\"#DejaVuSans-6e\"/>\n      <use x=\"1271.533203\" xlink:href=\"#DejaVuSans-67\"/>\n      <use x=\"1335.009766\" xlink:href=\"#DejaVuSans-5f\"/>\n      <use x=\"1385.009766\" xlink:href=\"#DejaVuSans-63\"/>\n      <use x=\"1439.990234\" xlink:href=\"#DejaVuSans-6f\"/>\n      <use x=\"1501.171875\" xlink:href=\"#DejaVuSans-75\"/>\n      <use x=\"1564.550781\" xlink:href=\"#DejaVuSans-6e\"/>\n      <use x=\"1627.929688\" xlink:href=\"#DejaVuSans-74\"/>\n      <use x=\"1667.138672\" xlink:href=\"#DejaVuSans-73\"/>\n     </g>\n    </g>\n   </g>\n   <g id=\"matplotlib.axis_2\">\n    <g id=\"ytick_1\">\n     <g id=\"line2d_9\">\n      <defs>\n       <path d=\"M 0 0 \nL -3.5 0 \n\" id=\"m73e9956b7a\" style=\"stroke:#333333;stroke-width:0.8;\"/>\n      </defs>\n      <g>\n       <use style=\"fill:#333333;stroke:#333333;stroke-width:0.8;\" x=\"79.410125\" xlink:href=\"#m73e9956b7a\" y=\"252.565828\"/>\n      </g>\n     </g>\n     <g id=\"text_10\">\n      <!-- −1.00 -->\n      <g style=\"fill:#333333;\" transform=\"translate(38.700281 256.744969)scale(0.11 -0.11)\">\n       <defs>\n        <path d=\"M 678 2272 \nL 4684 2272 \nL 4684 1741 \nL 678 1741 \nL 678 2272 \nz\n\" id=\"DejaVuSans-2212\" transform=\"scale(0.015625)\"/>\n        <path d=\"M 684 794 \nL 1344 794 \nL 1344 0 \nL 684 0 \nL 684 794 \nz\n\" id=\"DejaVuSans-2e\" transform=\"scale(0.015625)\"/>\n       </defs>\n       <use xlink:href=\"#DejaVuSans-2212\"/>\n       <use x=\"83.789062\" xlink:href=\"#DejaVuSans-31\"/>\n       <use x=\"147.412109\" xlink:href=\"#DejaVuSans-2e\"/>\n       <use x=\"179.199219\" xlink:href=\"#DejaVuSans-30\"/>\n       <use x=\"242.822266\" xlink:href=\"#DejaVuSans-30\"/>\n      </g>\n     </g>\n    </g>\n    <g id=\"ytick_2\">\n     <g id=\"line2d_10\">\n      <g>\n       <use style=\"fill:#333333;stroke:#333333;stroke-width:0.8;\" x=\"79.410125\" xlink:href=\"#m73e9956b7a\" y=\"219.045792\"/>\n      </g>\n     </g>\n     <g id=\"text_11\">\n      <!-- −0.75 -->\n      <g style=\"fill:#333333;\" transform=\"translate(38.700281 223.224933)scale(0.11 -0.11)\">\n       <use xlink:href=\"#DejaVuSans-2212\"/>\n       <use x=\"83.789062\" xlink:href=\"#DejaVuSans-30\"/>\n       <use x=\"147.412109\" xlink:href=\"#DejaVuSans-2e\"/>\n       <use x=\"179.199219\" xlink:href=\"#DejaVuSans-37\"/>\n       <use x=\"242.822266\" xlink:href=\"#DejaVuSans-35\"/>\n      </g>\n     </g>\n    </g>\n    <g id=\"ytick_3\">\n     <g id=\"line2d_11\">\n      <g>\n       <use style=\"fill:#333333;stroke:#333333;stroke-width:0.8;\" x=\"79.410125\" xlink:href=\"#m73e9956b7a\" y=\"185.525756\"/>\n      </g>\n     </g>\n     <g id=\"text_12\">\n      <!-- −0.50 -->\n      <g style=\"fill:#333333;\" transform=\"translate(38.700281 189.704896)scale(0.11 -0.11)\">\n       <use xlink:href=\"#DejaVuSans-2212\"/>\n       <use x=\"83.789062\" xlink:href=\"#DejaVuSans-30\"/>\n       <use x=\"147.412109\" xlink:href=\"#DejaVuSans-2e\"/>\n       <use x=\"179.199219\" xlink:href=\"#DejaVuSans-35\"/>\n       <use x=\"242.822266\" xlink:href=\"#DejaVuSans-30\"/>\n      </g>\n     </g>\n    </g>\n    <g id=\"ytick_4\">\n     <g id=\"line2d_12\">\n      <g>\n       <use style=\"fill:#333333;stroke:#333333;stroke-width:0.8;\" x=\"79.410125\" xlink:href=\"#m73e9956b7a\" y=\"152.00572\"/>\n      </g>\n     </g>\n     <g id=\"text_13\">\n      <!-- −0.25 -->\n      <g style=\"fill:#333333;\" transform=\"translate(38.700281 156.18486)scale(0.11 -0.11)\">\n       <use xlink:href=\"#DejaVuSans-2212\"/>\n       <use x=\"83.789062\" xlink:href=\"#DejaVuSans-30\"/>\n       <use x=\"147.412109\" xlink:href=\"#DejaVuSans-2e\"/>\n       <use x=\"179.199219\" xlink:href=\"#DejaVuSans-32\"/>\n       <use x=\"242.822266\" xlink:href=\"#DejaVuSans-35\"/>\n      </g>\n     </g>\n    </g>\n    <g id=\"ytick_5\">\n     <g id=\"line2d_13\">\n      <g>\n       <use style=\"fill:#333333;stroke:#333333;stroke-width:0.8;\" x=\"79.410125\" xlink:href=\"#m73e9956b7a\" y=\"118.485683\"/>\n      </g>\n     </g>\n     <g id=\"text_14\">\n      <!-- 0.00 -->\n      <g style=\"fill:#333333;\" transform=\"translate(47.917938 122.664824)scale(0.11 -0.11)\">\n       <use xlink:href=\"#DejaVuSans-30\"/>\n       <use x=\"63.623047\" xlink:href=\"#DejaVuSans-2e\"/>\n       <use x=\"95.410156\" xlink:href=\"#DejaVuSans-30\"/>\n       <use x=\"159.033203\" xlink:href=\"#DejaVuSans-30\"/>\n      </g>\n     </g>\n    </g>\n    <g id=\"ytick_6\">\n     <g id=\"line2d_14\">\n      <g>\n       <use style=\"fill:#333333;stroke:#333333;stroke-width:0.8;\" x=\"79.410125\" xlink:href=\"#m73e9956b7a\" y=\"84.965647\"/>\n      </g>\n     </g>\n     <g id=\"text_15\">\n      <!-- 0.25 -->\n      <g style=\"fill:#333333;\" transform=\"translate(47.917938 89.144788)scale(0.11 -0.11)\">\n       <use xlink:href=\"#DejaVuSans-30\"/>\n       <use x=\"63.623047\" xlink:href=\"#DejaVuSans-2e\"/>\n       <use x=\"95.410156\" xlink:href=\"#DejaVuSans-32\"/>\n       <use x=\"159.033203\" xlink:href=\"#DejaVuSans-35\"/>\n      </g>\n     </g>\n    </g>\n    <g id=\"ytick_7\">\n     <g id=\"line2d_15\">\n      <g>\n       <use style=\"fill:#333333;stroke:#333333;stroke-width:0.8;\" x=\"79.410125\" xlink:href=\"#m73e9956b7a\" y=\"51.445611\"/>\n      </g>\n     </g>\n     <g id=\"text_16\">\n      <!-- 0.50 -->\n      <g style=\"fill:#333333;\" transform=\"translate(47.917938 55.624752)scale(0.11 -0.11)\">\n       <use xlink:href=\"#DejaVuSans-30\"/>\n       <use x=\"63.623047\" xlink:href=\"#DejaVuSans-2e\"/>\n       <use x=\"95.410156\" xlink:href=\"#DejaVuSans-35\"/>\n       <use x=\"159.033203\" xlink:href=\"#DejaVuSans-30\"/>\n      </g>\n     </g>\n    </g>\n    <g id=\"ytick_8\">\n     <g id=\"line2d_16\">\n      <g>\n       <use style=\"fill:#333333;stroke:#333333;stroke-width:0.8;\" x=\"79.410125\" xlink:href=\"#m73e9956b7a\" y=\"17.925575\"/>\n      </g>\n     </g>\n     <g id=\"text_17\">\n      <!-- 0.75 -->\n      <g style=\"fill:#333333;\" transform=\"translate(47.917938 22.104715)scale(0.11 -0.11)\">\n       <use xlink:href=\"#DejaVuSans-30\"/>\n       <use x=\"63.623047\" xlink:href=\"#DejaVuSans-2e\"/>\n       <use x=\"95.410156\" xlink:href=\"#DejaVuSans-37\"/>\n       <use x=\"159.033203\" xlink:href=\"#DejaVuSans-35\"/>\n      </g>\n     </g>\n    </g>\n    <g id=\"text_18\">\n     <!-- SHAP value for -->\n     <g style=\"fill:#333333;\" transform=\"translate(17.077969 191.304609)rotate(-90)scale(0.13 -0.13)\">\n      <defs>\n       <path d=\"M 3425 4513 \nL 3425 3897 \nQ 3066 4069 2747 4153 \nQ 2428 4238 2131 4238 \nQ 1616 4238 1336 4038 \nQ 1056 3838 1056 3469 \nQ 1056 3159 1242 3001 \nQ 1428 2844 1947 2747 \nL 2328 2669 \nQ 3034 2534 3370 2195 \nQ 3706 1856 3706 1288 \nQ 3706 609 3251 259 \nQ 2797 -91 1919 -91 \nQ 1588 -91 1214 -16 \nQ 841 59 441 206 \nL 441 856 \nQ 825 641 1194 531 \nQ 1563 422 1919 422 \nQ 2459 422 2753 634 \nQ 3047 847 3047 1241 \nQ 3047 1584 2836 1778 \nQ 2625 1972 2144 2069 \nL 1759 2144 \nQ 1053 2284 737 2584 \nQ 422 2884 422 3419 \nQ 422 4038 858 4394 \nQ 1294 4750 2059 4750 \nQ 2388 4750 2728 4690 \nQ 3069 4631 3425 4513 \nz\n\" id=\"DejaVuSans-53\" transform=\"scale(0.015625)\"/>\n       <path d=\"M 628 4666 \nL 1259 4666 \nL 1259 2753 \nL 3553 2753 \nL 3553 4666 \nL 4184 4666 \nL 4184 0 \nL 3553 0 \nL 3553 2222 \nL 1259 2222 \nL 1259 0 \nL 628 0 \nL 628 4666 \nz\n\" id=\"DejaVuSans-48\" transform=\"scale(0.015625)\"/>\n       <path d=\"M 2188 4044 \nL 1331 1722 \nL 3047 1722 \nL 2188 4044 \nz\nM 1831 4666 \nL 2547 4666 \nL 4325 0 \nL 3669 0 \nL 3244 1197 \nL 1141 1197 \nL 716 0 \nL 50 0 \nL 1831 4666 \nz\n\" id=\"DejaVuSans-41\" transform=\"scale(0.015625)\"/>\n       <path d=\"M 1259 4147 \nL 1259 2394 \nL 2053 2394 \nQ 2494 2394 2734 2622 \nQ 2975 2850 2975 3272 \nQ 2975 3691 2734 3919 \nQ 2494 4147 2053 4147 \nL 1259 4147 \nz\nM 628 4666 \nL 2053 4666 \nQ 2838 4666 3239 4311 \nQ 3641 3956 3641 3272 \nQ 3641 2581 3239 2228 \nQ 2838 1875 2053 1875 \nL 1259 1875 \nL 1259 0 \nL 628 0 \nL 628 4666 \nz\n\" id=\"DejaVuSans-50\" transform=\"scale(0.015625)\"/>\n       <path id=\"DejaVuSans-20\" transform=\"scale(0.015625)\"/>\n       <path d=\"M 191 3500 \nL 800 3500 \nL 1894 563 \nL 2988 3500 \nL 3597 3500 \nL 2284 0 \nL 1503 0 \nL 191 3500 \nz\n\" id=\"DejaVuSans-76\" transform=\"scale(0.015625)\"/>\n       <path d=\"M 2375 4863 \nL 2375 4384 \nL 1825 4384 \nQ 1516 4384 1395 4259 \nQ 1275 4134 1275 3809 \nL 1275 3500 \nL 2222 3500 \nL 2222 3053 \nL 1275 3053 \nL 1275 0 \nL 697 0 \nL 697 3053 \nL 147 3053 \nL 147 3500 \nL 697 3500 \nL 697 3744 \nQ 697 4328 969 4595 \nQ 1241 4863 1831 4863 \nL 2375 4863 \nz\n\" id=\"DejaVuSans-66\" transform=\"scale(0.015625)\"/>\n      </defs>\n      <use xlink:href=\"#DejaVuSans-53\"/>\n      <use x=\"63.476562\" xlink:href=\"#DejaVuSans-48\"/>\n      <use x=\"138.671875\" xlink:href=\"#DejaVuSans-41\"/>\n      <use x=\"207.080078\" xlink:href=\"#DejaVuSans-50\"/>\n      <use x=\"267.382812\" xlink:href=\"#DejaVuSans-20\"/>\n      <use x=\"299.169922\" xlink:href=\"#DejaVuSans-76\"/>\n      <use x=\"358.349609\" xlink:href=\"#DejaVuSans-61\"/>\n      <use x=\"419.628906\" xlink:href=\"#DejaVuSans-6c\"/>\n      <use x=\"447.412109\" xlink:href=\"#DejaVuSans-75\"/>\n      <use x=\"510.791016\" xlink:href=\"#DejaVuSans-65\"/>\n      <use x=\"572.314453\" xlink:href=\"#DejaVuSans-20\"/>\n      <use x=\"604.101562\" xlink:href=\"#DejaVuSans-66\"/>\n      <use x=\"639.306641\" xlink:href=\"#DejaVuSans-6f\"/>\n      <use x=\"700.488281\" xlink:href=\"#DejaVuSans-72\"/>\n     </g>\n     <!-- last_1_months_user_rating_counts -->\n     <g style=\"fill:#333333;\" transform=\"translate(31.635125 254.847188)rotate(-90)scale(0.13 -0.13)\">\n      <use xlink:href=\"#DejaVuSans-6c\"/>\n      <use x=\"27.783203\" xlink:href=\"#DejaVuSans-61\"/>\n      <use x=\"89.0625\" xlink:href=\"#DejaVuSans-73\"/>\n      <use x=\"141.162109\" xlink:href=\"#DejaVuSans-74\"/>\n      <use x=\"180.371094\" xlink:href=\"#DejaVuSans-5f\"/>\n      <use x=\"230.371094\" xlink:href=\"#DejaVuSans-31\"/>\n      <use x=\"293.994141\" xlink:href=\"#DejaVuSans-5f\"/>\n      <use x=\"343.994141\" xlink:href=\"#DejaVuSans-6d\"/>\n      <use x=\"441.40625\" xlink:href=\"#DejaVuSans-6f\"/>\n      <use x=\"502.587891\" xlink:href=\"#DejaVuSans-6e\"/>\n      <use x=\"565.966797\" xlink:href=\"#DejaVuSans-74\"/>\n      <use x=\"605.175781\" xlink:href=\"#DejaVuSans-68\"/>\n      <use x=\"668.554688\" xlink:href=\"#DejaVuSans-73\"/>\n      <use x=\"720.654297\" xlink:href=\"#DejaVuSans-5f\"/>\n      <use x=\"770.654297\" xlink:href=\"#DejaVuSans-75\"/>\n      <use x=\"834.033203\" xlink:href=\"#DejaVuSans-73\"/>\n      <use x=\"886.132812\" xlink:href=\"#DejaVuSans-65\"/>\n      <use x=\"947.65625\" xlink:href=\"#DejaVuSans-72\"/>\n      <use x=\"988.769531\" xlink:href=\"#DejaVuSans-5f\"/>\n      <use x=\"1038.769531\" xlink:href=\"#DejaVuSans-72\"/>\n      <use x=\"1079.882812\" xlink:href=\"#DejaVuSans-61\"/>\n      <use x=\"1141.162109\" xlink:href=\"#DejaVuSans-74\"/>\n      <use x=\"1180.371094\" xlink:href=\"#DejaVuSans-69\"/>\n      <use x=\"1208.154297\" xlink:href=\"#DejaVuSans-6e\"/>\n      <use x=\"1271.533203\" xlink:href=\"#DejaVuSans-67\"/>\n      <use x=\"1335.009766\" xlink:href=\"#DejaVuSans-5f\"/>\n      <use x=\"1385.009766\" xlink:href=\"#DejaVuSans-63\"/>\n      <use x=\"1439.990234\" xlink:href=\"#DejaVuSans-6f\"/>\n      <use x=\"1501.171875\" xlink:href=\"#DejaVuSans-75\"/>\n      <use x=\"1564.550781\" xlink:href=\"#DejaVuSans-6e\"/>\n      <use x=\"1627.929688\" xlink:href=\"#DejaVuSans-74\"/>\n      <use x=\"1667.138672\" xlink:href=\"#DejaVuSans-73\"/>\n     </g>\n    </g>\n   </g>\n   <g id=\"patch_3\">\n    <path d=\"M 79.410125 279 \nL 79.410125 7.2 \n\" style=\"fill:none;stroke:#333333;stroke-linecap:square;stroke-linejoin:miter;stroke-width:0.8;\"/>\n   </g>\n   <g id=\"patch_4\">\n    <path d=\"M 79.410125 279 \nL 414.210125 279 \n\" style=\"fill:none;stroke:#333333;stroke-linecap:square;stroke-linejoin:miter;stroke-width:0.8;\"/>\n   </g>\n  </g>\n </g>\n</svg>\n",
      "image/png": "[encoded data removed]"
     },
     "metadata": {
      "needs_background": "light"
     }
    }
   ],
   "source": [
    "shap.dependence_plot(\"last_1_months_user_rating_counts\", shap_values[1], X_test,interaction_index=None,alpha=0.1, xmax=\"percentile(95)\")"
   ]
  },
  {
   "source": [
    "There is not clear trend on this varible and surely there are interactions with other variables that impact on output of the model"
   ],
   "cell_type": "markdown",
   "metadata": {}
  },
  {
   "source": [
    "## Conclusions"
   ],
   "cell_type": "markdown",
   "metadata": {}
  },
  {
   "source": [
    "This is a good challenge to incorporate what I have learn on data exploration, cleaning, modeling and interpreting. The model didn't had good results as other datasets that I have work, and in this kind of data is when we can incorporate creative variables, transformations on the response variable or modify some parameters in model so the prediction can improve.\n",
    "\n",
    "\n",
    "First, as we could visualize in the the EDA, there are a lot of users that only exist in some months and this can incorporate noise to the model. Maybe creating some more variables that can differentiate users with some counts and the ones that usually rate, can have an impact on the rate a user gives to a movie.\n",
    "\n",
    "Having more time, I could implement variables that can help in having some community indicators of the movies or users: Users that utilize some kind of tag, view the relation between that users and other users that have used the tag, not only the weighted tag for the movie. For a period of time before the training, making k-means to find clusters of users and view the difference between the rating of that users and the cluster. For movies, there could exist a graph of importance of tags where for some movie, it could have the mean of rating on all it neighbors of similar movies with relevant tags. \n",
    "\n",
    "Another thing we can do to improve the accuracy of the model, is incorporate months and not only the 4 months that I used. This can be seen in the validation dataset, the metrics weren't as good as the ones in training and test.\n",
    "\n",
    "And finally, use other models and compare them between them."
   ],
   "cell_type": "markdown",
   "metadata": {}
  },
  {
   "cell_type": "code",
   "execution_count": null,
   "metadata": {},
   "outputs": [],
   "source": []
  }
 ]
}